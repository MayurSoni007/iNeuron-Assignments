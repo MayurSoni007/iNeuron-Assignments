{
  "nbformat": 4,
  "nbformat_minor": 0,
  "metadata": {
    "colab": {
      "provenance": []
    },
    "kernelspec": {
      "name": "python3",
      "display_name": "Python 3"
    },
    "language_info": {
      "name": "python"
    }
  },
  "cells": [
    {
      "cell_type": "markdown",
      "source": [
        "#**iNeuron**\n",
        "## Python (Basics) Assignment No. 15\n",
        "\n",
        "- Batch - Full Stack Data Science Bootcamp 2.0\n",
        "- Name - **Mayur Soni**\n",
        "- email id - **mayurssoni007@gmail.com**"
      ],
      "metadata": {
        "id": "ZughrFJ0OEh9"
      }
    },
    {
      "cell_type": "markdown",
      "source": [
        "-----------------------------------------------------------------------"
      ],
      "metadata": {
        "id": "fLow-5L_OH59"
      }
    },
    {
      "cell_type": "markdown",
      "source": [
        "##Q.1) How many seconds are in an hour? Use the interactive interpreter as a calculator and multiply the number of seconds in a minute (60) by the number of minutes in an hour (also 60). (sol. 60)\n"
      ],
      "metadata": {
        "id": "vD4OumZ7OLM8"
      }
    },
    {
      "cell_type": "markdown",
      "source": [
        "###**Answer -**"
      ],
      "metadata": {
        "id": "T3UOO-bhOSK2"
      }
    },
    {
      "cell_type": "code",
      "source": [
        "seconds_in_an_hour = 60*60\n",
        "print(f\"Seconds in an hour : {seconds_in_an_hour}\")"
      ],
      "metadata": {
        "colab": {
          "base_uri": "https://localhost:8080/"
        },
        "id": "n3vC3nMPPoHi",
        "outputId": "be2553ca-2de1-444d-d392-323faebb88b2"
      },
      "execution_count": 6,
      "outputs": [
        {
          "output_type": "stream",
          "name": "stdout",
          "text": [
            "Seconds in an hour : 3600\n"
          ]
        }
      ]
    },
    {
      "cell_type": "markdown",
      "source": [
        "--------------------------------------------------------------------------------"
      ],
      "metadata": {
        "id": "HPEmrnKNOSFE"
      }
    },
    {
      "cell_type": "markdown",
      "source": [
        "##Q.2) Assign the result from the previous task (seconds in an hour) to a variable called seconds_per_hour ?"
      ],
      "metadata": {
        "id": "qRYivXI5OR_Q"
      }
    },
    {
      "cell_type": "markdown",
      "source": [
        "###**Answer -** "
      ],
      "metadata": {
        "id": "pOxR774vOR4k"
      }
    },
    {
      "cell_type": "code",
      "source": [
        "seconds_per_hour = seconds_in_an_hour\n",
        "print(seconds_per_hour)"
      ],
      "metadata": {
        "colab": {
          "base_uri": "https://localhost:8080/"
        },
        "id": "TmquQrgdPzBV",
        "outputId": "464b3095-c3d8-409a-cf08-41e28684af7f"
      },
      "execution_count": 7,
      "outputs": [
        {
          "output_type": "stream",
          "name": "stdout",
          "text": [
            "3600\n"
          ]
        }
      ]
    },
    {
      "cell_type": "markdown",
      "source": [
        "-----------------------------------------------------------------------------"
      ],
      "metadata": {
        "id": "QgCIKH5xORyU"
      }
    },
    {
      "cell_type": "markdown",
      "source": [
        "##Q.3) How many seconds do you think there are in a day ? Make use of the variables seconds per hour and minutes per hour ?"
      ],
      "metadata": {
        "id": "L5tRpH5kORse"
      }
    },
    {
      "cell_type": "markdown",
      "source": [
        "###**Answer -**"
      ],
      "metadata": {
        "id": "4zsCNBjlORmt"
      }
    },
    {
      "cell_type": "code",
      "source": [
        "seconds_in_a_day = seconds_per_hour*24\n",
        "print(f\"Seconds in a Day : {seconds_in_a_day}\")"
      ],
      "metadata": {
        "colab": {
          "base_uri": "https://localhost:8080/"
        },
        "id": "125l8nl6P5Ah",
        "outputId": "62cec7e9-8708-46cc-cc01-6f03857f738e"
      },
      "execution_count": 8,
      "outputs": [
        {
          "output_type": "stream",
          "name": "stdout",
          "text": [
            "Seconds in a Day : 86400\n"
          ]
        }
      ]
    },
    {
      "cell_type": "markdown",
      "source": [
        "--------------------------------------------------------------------------"
      ],
      "metadata": {
        "id": "CW0nmfZ2OQvk"
      }
    },
    {
      "cell_type": "markdown",
      "source": [
        "##Q.4) Calculate seconds per day again, but this time save the result in a variable called seconds_per_day ?"
      ],
      "metadata": {
        "id": "ZfiGO2O2OQlG"
      }
    },
    {
      "cell_type": "markdown",
      "source": [
        "###**Answer -**"
      ],
      "metadata": {
        "id": "KsNi0hmDOQeq"
      }
    },
    {
      "cell_type": "code",
      "source": [
        "seconds_per_day = 60*60*24\n",
        "print(seconds_per_day)"
      ],
      "metadata": {
        "colab": {
          "base_uri": "https://localhost:8080/"
        },
        "id": "js69MOhNRRN1",
        "outputId": "ce4a00e1-50e1-4a3a-c59d-936831ccaa00"
      },
      "execution_count": 9,
      "outputs": [
        {
          "output_type": "stream",
          "name": "stdout",
          "text": [
            "86400\n"
          ]
        }
      ]
    },
    {
      "cell_type": "markdown",
      "source": [
        "-------------------------------------------------------------------------"
      ],
      "metadata": {
        "id": "GLALaD2qOQYA"
      }
    },
    {
      "cell_type": "markdown",
      "source": [
        "##Q.5) Divide seconds_per_day by seconds_per_hour. Use floating-point (/) division ?"
      ],
      "metadata": {
        "id": "PT7heiRHOQRs"
      }
    },
    {
      "cell_type": "markdown",
      "source": [
        "###**Answer -**"
      ],
      "metadata": {
        "id": "RMEmUmALOQL2"
      }
    },
    {
      "cell_type": "code",
      "source": [
        "print(seconds_per_day / seconds_per_hour)"
      ],
      "metadata": {
        "colab": {
          "base_uri": "https://localhost:8080/"
        },
        "id": "MNecFzJwRq33",
        "outputId": "bd583880-f380-446f-e42e-2db761a4f4a8"
      },
      "execution_count": 10,
      "outputs": [
        {
          "output_type": "stream",
          "name": "stdout",
          "text": [
            "24.0\n"
          ]
        }
      ]
    },
    {
      "cell_type": "markdown",
      "source": [
        "----------------------------------------------------------------------"
      ],
      "metadata": {
        "id": "3MyvGjuNOQF8"
      }
    },
    {
      "cell_type": "markdown",
      "source": [
        "##Q.6) Divide seconds_per_day by seconds_per_hour, using integer (//) division. Did this number agree with the floating-point value from the previous question, aside from the final .0 ?"
      ],
      "metadata": {
        "id": "-szn1cTkOP_3"
      }
    },
    {
      "cell_type": "markdown",
      "source": [
        "###**Answer -**"
      ],
      "metadata": {
        "id": "ripaovnOOP5n"
      }
    },
    {
      "cell_type": "code",
      "source": [
        "print(seconds_per_day // seconds_per_hour)\n",
        "print(\"Yes, This value agree with the floating point value from the previous question.\")"
      ],
      "metadata": {
        "colab": {
          "base_uri": "https://localhost:8080/"
        },
        "id": "GGixra_CR9Ut",
        "outputId": "f487851c-7207-441e-c086-bc630d441a6c"
      },
      "execution_count": 14,
      "outputs": [
        {
          "output_type": "stream",
          "name": "stdout",
          "text": [
            "24\n",
            "Yes, This value agree with the floating point value from the previous question.\n"
          ]
        }
      ]
    },
    {
      "cell_type": "markdown",
      "source": [
        "------------------------------------------------------------------------------"
      ],
      "metadata": {
        "id": "hegkPf4FOPzO"
      }
    },
    {
      "cell_type": "markdown",
      "source": [
        "##Q.7) Write a generator, genPrimes, that returns the sequence of prime numbers on successive calls to its next() method: 2, 3, 5, 7, 11, ..."
      ],
      "metadata": {
        "id": "z0LmDY-GOPtm"
      }
    },
    {
      "cell_type": "markdown",
      "source": [
        "###**Answer -**"
      ],
      "metadata": {
        "id": "1Z-EsiL_OPoc"
      }
    },
    {
      "cell_type": "code",
      "source": [
        "def genPrimes():\n",
        "  n = 0\n",
        "  while True:\n",
        "    if n == 2 or n == 3 :\n",
        "      yield n\n",
        "    elif ((n-1)%6 == 0 or (n+1)%6 == 0) and n !=1:\n",
        "      yield n\n",
        "    n = n+1\n",
        "        \n",
        "output = genPrimes()\n",
        "\n",
        "for ele in range(5):\n",
        "    print(next(output))"
      ],
      "metadata": {
        "colab": {
          "base_uri": "https://localhost:8080/"
        },
        "id": "WmJmS53RSm-T",
        "outputId": "236b1373-0a15-4d49-c5d9-f7972310018c"
      },
      "execution_count": 16,
      "outputs": [
        {
          "output_type": "stream",
          "name": "stdout",
          "text": [
            "2\n",
            "3\n",
            "5\n",
            "7\n",
            "11\n"
          ]
        }
      ]
    },
    {
      "cell_type": "markdown",
      "source": [
        "------------------------------------------------------------End------------------------------------------------------------"
      ],
      "metadata": {
        "id": "w2bBk9DhOPik"
      }
    }
  ]
}