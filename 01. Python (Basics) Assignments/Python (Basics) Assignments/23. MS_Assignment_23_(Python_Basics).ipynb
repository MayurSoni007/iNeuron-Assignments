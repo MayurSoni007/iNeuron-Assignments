{
  "nbformat": 4,
  "nbformat_minor": 0,
  "metadata": {
    "colab": {
      "provenance": []
    },
    "kernelspec": {
      "name": "python3",
      "display_name": "Python 3"
    },
    "language_info": {
      "name": "python"
    }
  },
  "cells": [
    {
      "cell_type": "markdown",
      "source": [
        "#**iNeuron**\n",
        "## Python (Basics) Assignment No. 23\n",
        "\n",
        "- Batch - Full Stack Data Science Bootcamp 2.0\n",
        "- Name - **Mayur Soni**\n",
        "- email id - **mayurssoni007@gmail.com**"
      ],
      "metadata": {
        "id": "yc4Fx9moYFI4"
      }
    },
    {
      "cell_type": "markdown",
      "source": [
        "-------------------------------------------------------------------------------"
      ],
      "metadata": {
        "id": "IskXvSmZYIa8"
      }
    },
    {
      "cell_type": "markdown",
      "source": [
        "##Q.1) What is the result of the code, and why ?\n",
        "```\n",
        "def func(a, b=6, c=8):\n",
        "print(a, b, c)\n",
        "func(1, 2)\n",
        "```\n"
      ],
      "metadata": {
        "id": "3xmWEawcYMb0"
      }
    },
    {
      "cell_type": "markdown",
      "source": [
        "###**Answer -** \n",
        "####- Result of this code is **```1 2 8```**\n",
        "####- Because in ```func(a,b=6,c=8)```, ```print(a,b,c)``` is looking for the value of a,b,c in local scope and it gets *a as nil*, *b as 6* and *c as 8* but in next line we are calling the function ```func``` by defining values for ```a``` and ```b``` as ```1``` & ```2```. Which then replaces the original values of ```a``` and ```b``` and prints them. It keeps the original declared value of ```c``` though."
      ],
      "metadata": {
        "id": "DrMw9W3yYMYE"
      }
    },
    {
      "cell_type": "code",
      "source": [
        "def func(a, b=6, c=8):\n",
        "  print(a, b, c)\n",
        "func(1, 2)"
      ],
      "metadata": {
        "colab": {
          "base_uri": "https://localhost:8080/"
        },
        "id": "t3Fzo4QoSzmm",
        "outputId": "2fba9e4f-b85f-4c06-dcdd-09ccc536a58c"
      },
      "execution_count": 2,
      "outputs": [
        {
          "output_type": "stream",
          "name": "stdout",
          "text": [
            "1 2 8\n"
          ]
        }
      ]
    },
    {
      "cell_type": "markdown",
      "source": [
        "------------------------------------------------------------------------"
      ],
      "metadata": {
        "id": "HaGF26b9YMUE"
      }
    },
    {
      "cell_type": "markdown",
      "source": [
        "##Q.2) What is the result of this code, and why ?\n",
        "```\n",
        "def func(a, b, c=5):\n",
        "print(a, b, c)\n",
        "func(1, c=3, b=2)\n",
        "```\n"
      ],
      "metadata": {
        "id": "8Pa5pZbAYMP0"
      }
    },
    {
      "cell_type": "markdown",
      "source": [
        "###**Answer -** \n",
        "####- Result of this code is **```1 2 3```**\n",
        "####- Because the function is taking values where we are calling and defining it altogether. Reason being is, if argument name is mentioned while doing a function call, the order of arguments is also ignored by the python interpreter."
      ],
      "metadata": {
        "id": "Q8aTpKC1YMKk"
      }
    },
    {
      "cell_type": "code",
      "source": [
        "def func(a, b, c=5):\n",
        "  print(a, b, c)\n",
        "func(1, c=3, b=2)"
      ],
      "metadata": {
        "colab": {
          "base_uri": "https://localhost:8080/"
        },
        "id": "fSe1y-ttS0Ey",
        "outputId": "eadad9af-816b-412a-e98b-91e5524d7f52"
      },
      "execution_count": 3,
      "outputs": [
        {
          "output_type": "stream",
          "name": "stdout",
          "text": [
            "1 2 3\n"
          ]
        }
      ]
    },
    {
      "cell_type": "markdown",
      "source": [
        "-------------------------------------------------------------------------"
      ],
      "metadata": {
        "id": "8dHLP1SAYMGI"
      }
    },
    {
      "cell_type": "markdown",
      "source": [
        "##Q.3) How about this code: what is its result, and why ?\n",
        "```\n",
        "def func(a, *pargs):\n",
        "print(a, pargs)\n",
        "func(1, 2, 3)\n",
        "```"
      ],
      "metadata": {
        "id": "L1bbQU-CYMAl"
      }
    },
    {
      "cell_type": "markdown",
      "source": [
        "###**Answer -** \n",
        "####- Result of this code is **```1 (2, 3)```**\n",
        "####- Because **```*pargs```** stands for variable length arguments. This format is used when we are not sure about the number of arguments to be passed to a function. All the values under this argument will be stored in a **tuple** though."
      ],
      "metadata": {
        "id": "wausqo9pYL9U"
      }
    },
    {
      "cell_type": "code",
      "source": [
        "def func(a, *pargs):\n",
        "  print(a, pargs)\n",
        "func(1, 2, 3)"
      ],
      "metadata": {
        "colab": {
          "base_uri": "https://localhost:8080/"
        },
        "id": "ww67MUPQS0fU",
        "outputId": "1e844066-00a9-4e8e-abf5-a5d46c64f58b"
      },
      "execution_count": 4,
      "outputs": [
        {
          "output_type": "stream",
          "name": "stdout",
          "text": [
            "1 (2, 3)\n"
          ]
        }
      ]
    },
    {
      "cell_type": "markdown",
      "source": [
        "------------------------------------------------------------------------"
      ],
      "metadata": {
        "id": "NmV2vq1bYL4Z"
      }
    },
    {
      "cell_type": "markdown",
      "source": [
        "##Q.4) What does this code print, and why ?\n",
        "```\n",
        "def func(a, **kargs):\n",
        "print(a, kargs)\n",
        "func(a=1, c=3, b=2)\n",
        "```"
      ],
      "metadata": {
        "id": "WWObdUdLYL1E"
      }
    },
    {
      "cell_type": "markdown",
      "source": [
        "###**Answer -** \n",
        "####- This code prints ```1 {'c': 3, 'b': 2}```\n",
        "####- Because ```**kargs``` stands for variable length keyword arguments. This format is used when we want to pass key value pairs as input to a function. All these key value pairs will be stored in a **dictionary**."
      ],
      "metadata": {
        "id": "a9XnAKQWYLxD"
      }
    },
    {
      "cell_type": "code",
      "source": [
        "def func(a, **kargs):\n",
        "  print(a, kargs)\n",
        "func(a=1, c=3, b=2)"
      ],
      "metadata": {
        "colab": {
          "base_uri": "https://localhost:8080/"
        },
        "id": "plK32f5ZS05j",
        "outputId": "55f832ac-5ae7-4f53-d5ea-a54acf587efb"
      },
      "execution_count": 6,
      "outputs": [
        {
          "output_type": "stream",
          "name": "stdout",
          "text": [
            "1 {'c': 3, 'b': 2}\n"
          ]
        }
      ]
    },
    {
      "cell_type": "markdown",
      "source": [
        "--------------------------------------------------------------------------"
      ],
      "metadata": {
        "id": "joPx529vYLtX"
      }
    },
    {
      "cell_type": "markdown",
      "source": [
        "##Q.5) What gets printed by this, and explain ?\n",
        "```\n",
        "def func(a, b, c=8, d=5): \n",
        "print(a, b, c, d)\n",
        "func(1, *(5, 6))\n",
        "```"
      ],
      "metadata": {
        "id": "nMJOy5MUYLpy"
      }
    },
    {
      "cell_type": "markdown",
      "source": [
        "###**Answer -** \n",
        "####- This prints **```1 5 6 5```**\n",
        "####- The reason for why this function is not throwing an error here is because, this function expects 4 arguments. The value for ```a``` is provided explicitly whereas for arguments ```b``` and ```c```, the function will expand the ```*(5,6)``` and consider the value of **b as 5** and value of **c as 6.** Since the default value of ```d``` is provided in function declaration, d's value will be ```5```. However it is recommended to use the feature of positional arguments at the end."
      ],
      "metadata": {
        "id": "oidqLHyIYLmL"
      }
    },
    {
      "cell_type": "code",
      "source": [
        "def func(a, b, c=8, d=5):\n",
        "  print(a, b, c, d)\n",
        "func(1, *(5, 6))"
      ],
      "metadata": {
        "colab": {
          "base_uri": "https://localhost:8080/"
        },
        "id": "-3JawtigS1Jd",
        "outputId": "9985c06f-1e73-41e9-e594-9fea7e5e8d10"
      },
      "execution_count": 7,
      "outputs": [
        {
          "output_type": "stream",
          "name": "stdout",
          "text": [
            "1 5 6 5\n"
          ]
        }
      ]
    },
    {
      "cell_type": "markdown",
      "source": [
        "------------------------------------------------------------------------------"
      ],
      "metadata": {
        "id": "0QNkgZWwYLi0"
      }
    },
    {
      "cell_type": "markdown",
      "source": [
        "##Q.6) what is the result of this, and explain ?\n",
        "```\n",
        "def func(a, b, c): \n",
        "a = 2; b[0] = 'x'; c['a'] = 'y'\n",
        "l=1; m=[1]; n={'a':0}\n",
        "func(l, m, n)\n",
        "l, m, n\n",
        "```"
      ],
      "metadata": {
        "id": "56AHC5jSYLfb"
      }
    },
    {
      "cell_type": "markdown",
      "source": [
        "###**Answer -** \n",
        "####- Result of this is **```(1, ['x'], {'a': 'y'})```**\n",
        "####- Because Eventhough Python gives importance to indentation. It provides a facility to declare an entire function in one single line. Where statements in a function body are sepereated by ```;```\n",
        "####- When ```l,m,n``` are provided as inputs to the function. It modifies the values of ```l,m,n``` and sets the value of **```l=2 ,m=['x'] and n={'a':'y'}```**"
      ],
      "metadata": {
        "id": "laSwsHD5YLbV"
      }
    },
    {
      "cell_type": "code",
      "source": [
        "def func(a, b, c): a = 2; b[0] = 'x'; c['a'] = 'y'\n",
        "l=1; m=[1]; n={'a':0}\n",
        "func(l, m, n)\n",
        "l, m, n"
      ],
      "metadata": {
        "colab": {
          "base_uri": "https://localhost:8080/"
        },
        "id": "KJw1kkUgS1rb",
        "outputId": "d333f400-7188-4523-d2df-a0511a3380b6"
      },
      "execution_count": 10,
      "outputs": [
        {
          "output_type": "execute_result",
          "data": {
            "text/plain": [
              "(1, ['x'], {'a': 'y'})"
            ]
          },
          "metadata": {},
          "execution_count": 10
        }
      ]
    },
    {
      "cell_type": "markdown",
      "source": [
        "------------------------------------------------------------End------------------------------------------------------------"
      ],
      "metadata": {
        "id": "kOPymlLVZBir"
      }
    }
  ]
}