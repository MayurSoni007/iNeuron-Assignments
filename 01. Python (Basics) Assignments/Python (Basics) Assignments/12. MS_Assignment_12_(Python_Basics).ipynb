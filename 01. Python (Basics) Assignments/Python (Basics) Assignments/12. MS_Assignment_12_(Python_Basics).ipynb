{
  "nbformat": 4,
  "nbformat_minor": 0,
  "metadata": {
    "colab": {
      "provenance": []
    },
    "kernelspec": {
      "name": "python3",
      "display_name": "Python 3"
    },
    "language_info": {
      "name": "python"
    }
  },
  "cells": [
    {
      "cell_type": "markdown",
      "source": [
        "#**iNeuron**\n",
        "## Python (Basics) Assignment No. 12\n",
        "\n",
        "- Batch - Full Stack Data Science Bootcamp 2.0\n",
        "- Name - **Mayur Soni**\n",
        "- email id - **mayurssoni007@gmail.com**"
      ],
      "metadata": {
        "id": "ZfWYFpdLNqXc"
      }
    },
    {
      "cell_type": "markdown",
      "source": [
        "--------------------------------------------------------------------------------"
      ],
      "metadata": {
        "id": "Ya5hu9tzNvTQ"
      }
    },
    {
      "cell_type": "markdown",
      "source": [
        "##Q.1) In what modes should the PdfFileReader() and PdfFileWriter() File objects will be opened ?"
      ],
      "metadata": {
        "id": "Vqijfd6fNzTR"
      }
    },
    {
      "cell_type": "markdown",
      "source": [
        "###**Answer -** **```PdfFileReader()```** needs to be opened in **read-binary mode** by passing **'rb'** as the second argument to open(). **```PdfFileWriter()```** needs to be opened in **write-binary mode** with **'wb'.**"
      ],
      "metadata": {
        "id": "lIdD4M5jOVee"
      }
    },
    {
      "cell_type": "markdown",
      "source": [
        "-------------------------------------------------------------------------------"
      ],
      "metadata": {
        "id": "c2-oy4g6OZH3"
      }
    },
    {
      "cell_type": "markdown",
      "source": [
        "##Q.2) From a PdfFileReader object, how do you get a Page object for page 5 ?"
      ],
      "metadata": {
        "id": "Eudsl3VQOcMR"
      }
    },
    {
      "cell_type": "markdown",
      "source": [
        "###**Answer -** \n",
        "###- **```PdfFileReader```** class provides a method called **```getPage(page_no)```** to get a page object.\n",
        "###- We can get a Page object by calling the getPage() method on a PdfFileReader object and passing it the page number of the page we're interested in."
      ],
      "metadata": {
        "id": "tlg2mdg5Od-J"
      }
    },
    {
      "cell_type": "code",
      "source": [
        "# For Example :\n",
        "\n",
        "from PyPDF2 import PdfFileReader\n",
        "pdf_reader = PdfFileReader(file_path)\n",
        "for page in pdf_reader.getNumPages():\n",
        "    pdf_reader.getPage(page)"
      ],
      "metadata": {
        "id": "aukEl6G2iKu_"
      },
      "execution_count": null,
      "outputs": []
    },
    {
      "cell_type": "markdown",
      "source": [
        "--------------------------------------------------------------------------------"
      ],
      "metadata": {
        "id": "kIwtvyf5OfGv"
      }
    },
    {
      "cell_type": "markdown",
      "source": [
        "##Q.3) What PdfFileReader variable stores the number of pages in the PDF document ?"
      ],
      "metadata": {
        "id": "kOw0tZOLOhkg"
      }
    },
    {
      "cell_type": "markdown",
      "source": [
        "###**Answer -** **```getNumPages()```** method of **```PdfFileReader```** class stores the number of pages in a PDF document."
      ],
      "metadata": {
        "id": "kW0QEpcqOjRf"
      }
    },
    {
      "cell_type": "code",
      "source": [
        "# For Example:\n",
        "\n",
        "from PyPDF2 import PdfFileReader\n",
        "pdf_reader = PdfFileReader(file_path)\n",
        "print(pdf_reader.getNumPages()) # Prints the no of pages in a input document"
      ],
      "metadata": {
        "id": "oLiU70HpiEsv"
      },
      "execution_count": null,
      "outputs": []
    },
    {
      "cell_type": "markdown",
      "source": [
        "------------------------------------------------------------------------------"
      ],
      "metadata": {
        "id": "6Iz0rPbPOkNQ"
      }
    },
    {
      "cell_type": "markdown",
      "source": [
        "##Q.4) If a PdfFileReader object’s PDF is encrypted with the password swordfish, what must you do before you can obtain Page objects from it ?"
      ],
      "metadata": {
        "id": "DbN7ulVpOlne"
      }
    },
    {
      "cell_type": "markdown",
      "source": [
        "###**Answer -**  If a **```PdfFileReader```** object’s PDF is encrypted with the password **swordfish** and you're not aware of it. First read the Pdf using the **```PdfFileReader```** Class. ```PdfFileReader``` class provides a attribute called **```isEncrypted```** to check whether a pdf is encrypted or not. The method returns **True** if a pdf is encrypted and vice versa.\n",
        "### If pdf is encrypted use the **```decrypt()```** method provided by  ```PdfFileReader``` class. First then try to read the contents/pages of the pdf, else ```PyPDF2``` will raise the following error **```PyPDF2.utils.PdfReadError: file has not been decrypted.```**"
      ],
      "metadata": {
        "id": "-ji4TrcTOnDv"
      }
    },
    {
      "cell_type": "code",
      "source": [
        "# For Example :\n",
        "\n",
        "from PyPDF2 import PdfFileReader\n",
        "pdf_reader = PdfFileReader(file_path)\n",
        "if pdf_reader.isEncrypted: # to check whether the pdf is encrypted or not\n",
        "    pdf_reader.decrypt(\"swordfish\")\n",
        "for page in pdf_reader.pages:\n",
        "    print(page.extractText()) # to print the text data of a page from pdf"
      ],
      "metadata": {
        "id": "Z6aDDUNRmz1f"
      },
      "execution_count": null,
      "outputs": []
    },
    {
      "cell_type": "markdown",
      "source": [
        "---------------------------------------------------------------------------"
      ],
      "metadata": {
        "id": "DlIh_n0HOnxZ"
      }
    },
    {
      "cell_type": "markdown",
      "source": [
        "##Q.5) What methods do you use to rotate a page ?"
      ],
      "metadata": {
        "id": "DO9SbcA9OpGm"
      }
    },
    {
      "cell_type": "markdown",
      "source": [
        "###**Answer -**  PyPDF2 Package provides 2 methods to rotate a page :\n",
        "\n",
        "###- **```rotateClockWise()```** --> For Clockwise rotation.\n",
        "###- **```rotateCounterClockWise()```** --> For Counter Clockwise rotation.\n",
        "\n",
        "###The PyPDF2 package only allows us to rotate a page in increments of 90 degrees. We will receive an AssertionError otherwise."
      ],
      "metadata": {
        "id": "DbFMenxhOqm3"
      }
    },
    {
      "cell_type": "markdown",
      "source": [
        "------------------------------------------------------------------------------"
      ],
      "metadata": {
        "id": "4do2QTQXOroP"
      }
    },
    {
      "cell_type": "markdown",
      "source": [
        "##Q.6) What is the difference between a Run object and a Paragraph object ?"
      ],
      "metadata": {
        "id": "F4hWW8SwOs_3"
      }
    },
    {
      "cell_type": "markdown",
      "source": [
        "###**Answer -** The structure of a document is represented by three different data types in **```python-Docx.```** At the highest level, a Document object represents the entire document. The Document object contains a list of **```Paragraph```** objects for the paragraphs in the document. (A new paragraph begins whenever the user presses ```ENTER``` or ```RETURN``` while typing in a Word document.) Each of these Paragraph objects contains a list of one or more **```Run```** objects.\n",
        "\n",
        "###The text in a Word document is more than just a string. It has font, size, color, and other styling information associated with it. A style in Word is a collection of these attributes. A Run object is a contiguous run of text with the same style. A new Run object is needed whenever the text style changes."
      ],
      "metadata": {
        "id": "rJPb-5aQOvOa"
      }
    },
    {
      "cell_type": "markdown",
      "source": [
        "--------------------------------------------------------------------------"
      ],
      "metadata": {
        "id": "DUYnmxxXOwD1"
      }
    },
    {
      "cell_type": "markdown",
      "source": [
        "##Q.7) How do you obtain a list of Paragraph objects for a Document object that’s stored in a variable named doc ?"
      ],
      "metadata": {
        "id": "Wc3SiUeTOx4l"
      }
    },
    {
      "cell_type": "markdown",
      "source": [
        "###**Answer -** By using **```doc.paragraphs```**"
      ],
      "metadata": {
        "id": "ngYYvudPOz-V"
      }
    },
    {
      "cell_type": "markdown",
      "source": [
        "-------------------------------------------------------------------------------"
      ],
      "metadata": {
        "id": "PQ7P0b5VO0q9"
      }
    },
    {
      "cell_type": "markdown",
      "source": [
        "##Q.8) What type of object has bold, underline, italic, strike, and outline variables ?"
      ],
      "metadata": {
        "id": "55_RdrPFO2_C"
      }
    },
    {
      "cell_type": "markdown",
      "source": [
        "###**Answer -** **```Run```** object has bold, underline, italic, strike, and outline variables. The text in a Word document is more than just a string. It has font, size, color, and other styling information associated with it.\n",
        "\n",
        "### A style in Word is a collection of these attributes. A Run object is a contiguous run of text with the same style. A new Run object is needed whenever the text style changes."
      ],
      "metadata": {
        "id": "Z3UXifHmO4PO"
      }
    },
    {
      "cell_type": "markdown",
      "source": [
        "-------------------------------------------------------------------------------"
      ],
      "metadata": {
        "id": "aizCCjJlO40N"
      }
    },
    {
      "cell_type": "markdown",
      "source": [
        "##Q.9) What is the difference between False, True, and None for the bold variable ?"
      ],
      "metadata": {
        "id": "8XSaMDa5O6xm"
      }
    },
    {
      "cell_type": "markdown",
      "source": [
        "###**Answer -**"
      ],
      "metadata": {
        "id": "nrlclRdqO8NW"
      }
    },
    {
      "cell_type": "code",
      "source": [
        "bold = True  # Style Set to Bold\n",
        "bold = False # Style Not Set to Bold\n",
        "bold = None # Style is Not Applicable"
      ],
      "metadata": {
        "id": "l7mOG_Lwwhyp"
      },
      "execution_count": 2,
      "outputs": []
    },
    {
      "cell_type": "markdown",
      "source": [
        "-------------------------------------------------------------------------"
      ],
      "metadata": {
        "id": "c5aaH-zDO83-"
      }
    },
    {
      "cell_type": "markdown",
      "source": [
        "##Q.10) How do you create a Document object for a new Word document ?"
      ],
      "metadata": {
        "id": "y5OPo-9fO-aJ"
      }
    },
    {
      "cell_type": "markdown",
      "source": [
        "###**Answer -** By Calling ```docx.Document().```"
      ],
      "metadata": {
        "id": "z1_th_UaPA29"
      }
    },
    {
      "cell_type": "markdown",
      "source": [
        "-------------------------------------------------------------------------------"
      ],
      "metadata": {
        "id": "eJps49ezPCEO"
      }
    },
    {
      "cell_type": "markdown",
      "source": [
        "##Q.11) How do you add a paragraph with the text 'Hello, there!' to a Document object stored in a variable named doc ?"
      ],
      "metadata": {
        "id": "Q8_R8Ps5PDwn"
      }
    },
    {
      "cell_type": "markdown",
      "source": [
        "###**Answer -** ```doc.add_paragraph('Hello there!')```"
      ],
      "metadata": {
        "id": "EAjclTb-PFg2"
      }
    },
    {
      "cell_type": "code",
      "source": [
        "# Example Program\n",
        "\n",
        "from docx import Document\n",
        "doc = Document()\n",
        "doc.add_paragraph('Hello, there!')\n",
        "doc.save('hello.docx')"
      ],
      "metadata": {
        "id": "MlYJTxCCxIS5"
      },
      "execution_count": 3,
      "outputs": []
    },
    {
      "cell_type": "markdown",
      "source": [
        "-------------------------------------------------------------------------------"
      ],
      "metadata": {
        "id": "2dPZcoTxPGzM"
      }
    },
    {
      "cell_type": "markdown",
      "source": [
        "##Q.12) What integers represent the levels of headings available in Word documents ?"
      ],
      "metadata": {
        "id": "PuL9Ila9PIL1"
      }
    },
    {
      "cell_type": "markdown",
      "source": [
        "###**Answer -** The levels for a heading in a word document can be specified by using the **```level```** attribute inside the **```add_heading```** method. There are a total of 5 levels statring from 0 to 4. where level 0 makes a headline with the horizontal line below the text, whereas the heading level 1 is the main heading. Similarly, the other headings are sub-heading with their font-sizes in decreasing order."
      ],
      "metadata": {
        "id": "mg5Y0mfAPJ30"
      }
    },
    {
      "cell_type": "markdown",
      "source": [
        "------------------------------------------------------------End------------------------------------------------------------"
      ],
      "metadata": {
        "id": "i61Nm9W_POLF"
      }
    }
  ]
}