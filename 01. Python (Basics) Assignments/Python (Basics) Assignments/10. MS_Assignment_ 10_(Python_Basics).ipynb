{
  "nbformat": 4,
  "nbformat_minor": 0,
  "metadata": {
    "colab": {
      "provenance": []
    },
    "kernelspec": {
      "name": "python3",
      "display_name": "Python 3"
    },
    "language_info": {
      "name": "python"
    }
  },
  "cells": [
    {
      "cell_type": "markdown",
      "source": [
        "#**iNeuron**\n",
        "## Python (Basics) Assignment No. 10\n",
        "\n",
        "- Batch - Full Stack Data Science Bootcamp 2.0\n",
        "- Name - **Mayur Soni**\n",
        "- email id - **mayurssoni007@gmail.com**"
      ],
      "metadata": {
        "id": "fne_8sHNzmXM"
      }
    },
    {
      "cell_type": "markdown",
      "source": [
        "------------------------------------------------------------"
      ],
      "metadata": {
        "id": "X2KLBzFzzpTx"
      }
    },
    {
      "cell_type": "markdown",
      "source": [
        "##Q.1)  How do you distinguish between shutil.copy() and shutil.copytree() ?"
      ],
      "metadata": {
        "id": "jLGHMmQdzrUB"
      }
    },
    {
      "cell_type": "markdown",
      "source": [
        "###**Answer -** While **```shutil.copy()```** will **copy a single file**, **```shutil.copytree()```** will **copy an entire folder and every folder and file contained in it.**"
      ],
      "metadata": {
        "id": "8UmX7AqezucI"
      }
    },
    {
      "cell_type": "markdown",
      "source": [
        "---------------------------------------------------------------"
      ],
      "metadata": {
        "id": "Nd4yBCc4zyPQ"
      }
    },
    {
      "cell_type": "markdown",
      "source": [
        "##Q2.) What function is used to rename files ?"
      ],
      "metadata": {
        "id": "STRRkelCz0aY"
      }
    },
    {
      "cell_type": "markdown",
      "source": [
        "###**Answer -** **```os.rename()```** function is used to rename files or directories using a python program, this function takes two arguments **```src```** and **```dest```**, ```src``` represents the name file/directory which we want to rename, whereas ```dest``` represents the new name of the file/directory."
      ],
      "metadata": {
        "id": "MrFqVh95z2GJ"
      }
    },
    {
      "cell_type": "markdown",
      "source": [
        "----------------------------------------------------------------------------"
      ],
      "metadata": {
        "id": "JlijBkAaz22R"
      }
    },
    {
      "cell_type": "markdown",
      "source": [
        "##Q.3)  What is the difference between the delete functions in the send2trash and shutil modules ?"
      ],
      "metadata": {
        "id": "4QL0E5FZz4HX"
      }
    },
    {
      "cell_type": "markdown",
      "source": [
        "###**Answer -** The ```send2trash``` functions will **```move a file or folder to the recycle bin```**, while ```shutil``` functions will **```permanently delete files and folders.```**"
      ],
      "metadata": {
        "id": "fhZlc6r9z5qw"
      }
    },
    {
      "cell_type": "markdown",
      "source": [
        "-----------------------------------------------------------------"
      ],
      "metadata": {
        "id": "2YTxxRYcz6aQ"
      }
    },
    {
      "cell_type": "markdown",
      "source": [
        "##Q.4) ZipFile objects have a close() method just like File objects’ close() method. What ZipFile method is equivalent to File objects’ open() method ?"
      ],
      "metadata": {
        "id": "94kAJzdnz7jY"
      }
    },
    {
      "cell_type": "markdown",
      "source": [
        "###**Answer -** The ```zipfile.ZipFile()``` function is equivalent to the ```open()``` function, the first argument is the ```filename```, and the second argument is ```the mode to open the ZIP file``` in (read, write, or append).\n",
        "###**```zipfile.ZipFile('filename', mode = 'r')```**"
      ],
      "metadata": {
        "id": "91saO35Fz9Jg"
      }
    },
    {
      "cell_type": "markdown",
      "source": [
        "---------------------------------------------------------------------"
      ],
      "metadata": {
        "id": "UXzHUU9Hz-Ew"
      }
    },
    {
      "cell_type": "markdown",
      "source": [
        "##Q.5) Create a programme that searches a folder tree for files with a certain file extension (such as .pdf or .jpg). Copy these files from whatever location they are in to a new folder."
      ],
      "metadata": {
        "id": "E93xoP1d0APA"
      }
    },
    {
      "cell_type": "markdown",
      "source": [
        "###**Answer -**"
      ],
      "metadata": {
        "id": "TOCkzfJo0B0A"
      }
    },
    {
      "cell_type": "code",
      "source": [
        "import os\n",
        "import shutil\n",
        "\n",
        "def search_and_copy(source,destination,extensions):\n",
        "    source = os.path.abspath(source)\n",
        "    destination = os.path.abspath(destination)\n",
        "    for foldername, subfolder, filenames in os.walk(source):\n",
        "        print(f'Folder Name ➞ {foldername}',end='\\n\\n')\n",
        "        print(f'Sub Folders ➞ {subfolder}',end='\\n\\n')\n",
        "        print(f'Files ➞ {filenames}',end='\\n\\n')\n",
        "        for filename in filenames:\n",
        "            fileName,extension = os.path.splitext(filename)\n",
        "            if extension in extensions:\n",
        "                targetFile = foldername+os.path.sep+fileName+extension\n",
        "                shutil.copy(targetFile, destination)\n",
        "        print(f'Files copied successfully from {source} to {destination}')\n",
        "    \n",
        "extensions = ['.pdf','.jpg']\n",
        "source = 'Any Source'\n",
        "destination = 'Any Destination'\n",
        "search_and_copy(source, destination, extensions)"
      ],
      "metadata": {
        "id": "kSrRuenq4KRD"
      },
      "execution_count": 1,
      "outputs": []
    },
    {
      "cell_type": "markdown",
      "source": [
        "------------------------------------------------------------End------------------------------------------------------------"
      ],
      "metadata": {
        "id": "mFTNtW950D4Q"
      }
    }
  ]
}