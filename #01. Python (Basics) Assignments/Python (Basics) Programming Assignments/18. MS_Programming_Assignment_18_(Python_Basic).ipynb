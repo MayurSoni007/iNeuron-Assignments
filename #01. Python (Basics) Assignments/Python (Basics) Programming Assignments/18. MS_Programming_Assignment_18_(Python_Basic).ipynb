{
  "nbformat": 4,
  "nbformat_minor": 0,
  "metadata": {
    "colab": {
      "provenance": []
    },
    "kernelspec": {
      "name": "python3",
      "display_name": "Python 3"
    },
    "language_info": {
      "name": "python"
    }
  },
  "cells": [
    {
      "cell_type": "markdown",
      "source": [
        "#**iNeuron**\n",
        "## Programming Assignment - 18 (Python Basic)\n",
        "\n",
        "- Batch - Full Stack Data Science Bootcamp 2.0\n",
        "- Name - **Mayur Soni**\n",
        "- Email ID - **mayurssoni007@gmail.com**"
      ],
      "metadata": {
        "id": "ulhVqmo2o9UK"
      }
    },
    {
      "cell_type": "markdown",
      "source": [
        "-----------------------------------------------------------------"
      ],
      "metadata": {
        "id": "JzZoFeejpA02"
      }
    },
    {
      "cell_type": "markdown",
      "source": [
        "#Q.1) Create a function that takes a list of non-negative integers and strings and return a new list without the strings.\n",
        "## Examples :\n",
        "##```filter_list([1, 2, \"a\", \"b\"]) ➞ [1, 2]```\n",
        "\n",
        "##```filter_list([1, \"a\", \"b\", 0, 15]) ➞ [1, 0, 15]```\n",
        "\n",
        "##```filter_list([1, 2, \"aasf\", \"1\", \"123\", 123]) ➞ [1, 2, 123]```\n"
      ],
      "metadata": {
        "id": "DowYhBUxpCK-"
      }
    },
    {
      "cell_type": "code",
      "execution_count": 28,
      "metadata": {
        "id": "HzDpC_8vo15Z",
        "colab": {
          "base_uri": "https://localhost:8080/"
        },
        "outputId": "27ac0e8c-4927-4c1c-b283-6fd2e8c5bbc3"
      },
      "outputs": [
        {
          "output_type": "stream",
          "name": "stdout",
          "text": [
            "filter_list([1, 2, \"a\", \"b\"]) ➞ [1, 2]\n",
            "\n",
            "filter_list([1, \"a\", \"b\", 0, 15]) ➞ [1, 0, 15]\n",
            "\n",
            "filter_list([1, 2, \"aasf\", \"1\", \"123\", 123]) ➞ [1, 2, 123]\n",
            "\n"
          ]
        }
      ],
      "source": [
        "def filter_list(list):\n",
        "  output_list = []\n",
        "  for i in list:\n",
        "    if type(i) == int and i >= 0:\n",
        "      output_list.append(i)\n",
        "  return output_list\n",
        "\n",
        "print(f'filter_list([1, 2, \"a\", \"b\"]) ➞ {filter_list([1, 2, \"a\", \"b\"])}\\n')\n",
        "print(f'filter_list([1, \"a\", \"b\", 0, 15]) ➞ {filter_list([1, \"a\", \"b\", 0, 15])}\\n')\n",
        "print(f'filter_list([1, 2, \"aasf\", \"1\", \"123\", 123]) ➞ {filter_list([1, 2, \"aasf\", \"1\", \"123\", 123])}\\n')"
      ]
    },
    {
      "cell_type": "markdown",
      "source": [
        "-----------------------------------------------------------------"
      ],
      "metadata": {
        "id": "30yISAu_pEgN"
      }
    },
    {
      "cell_type": "markdown",
      "source": [
        "#Q.2) The \"Reverser\" takes a string as input and returns that string in reverse order, with the opposite case.\n",
        "##Examples :\n",
        "##```reverse(\"Hello World\") ➞ \"DLROwOLLEh\"```\n",
        "\n",
        "##```reverse(\"ReVeRsE\") ➞ \"eSrEvEr\"```\n",
        "\n",
        "##```reverse(\"Radar\") ➞ \"RADAr\"```\n"
      ],
      "metadata": {
        "id": "GeDYSEtspG2W"
      }
    },
    {
      "cell_type": "code",
      "source": [
        "def reverser(input_string):\n",
        "  print(f'reverse({input_string}) ➞ {input_string[::-1].swapcase()}')\n",
        "\n",
        "reverser('Hello World')\n",
        "reverser(\"ReVeRsE\")\n",
        "reverser(\"Radar\")"
      ],
      "metadata": {
        "id": "kuW3hojypGTz",
        "colab": {
          "base_uri": "https://localhost:8080/"
        },
        "outputId": "78336809-f0fe-43d9-b1d7-a42fcaddc078"
      },
      "execution_count": 58,
      "outputs": [
        {
          "output_type": "stream",
          "name": "stdout",
          "text": [
            "reverse(Hello World) ➞ DLROw OLLEh\n",
            "reverse(ReVeRsE) ➞ eSrEvEr\n",
            "reverse(Radar) ➞ RADAr\n"
          ]
        }
      ]
    },
    {
      "cell_type": "markdown",
      "source": [
        "-----------------------------------------------------------------"
      ],
      "metadata": {
        "id": "XCEwi9TqpIke"
      }
    },
    {
      "cell_type": "markdown",
      "source": [
        "#Q.3) You can assign variables from lists like this:\n",
        "###```lst = [1, 2, 3, 4, 5, 6]```\n",
        "###```first = lst[0]``` , ```middle = lst[1:-1]``` , ```last = lst[-1]```\n",
        "\n",
        "###```print(first) ➞ outputs 1```\n",
        "###```print(middle) ➞ outputs [2, 3, 4, 5]```\n",
        "###```print(last) ➞ outputs 6```\n",
        "\n",
        "##With Python 3, you can assign variables from lists in a much more succinct way.\n",
        "\n",
        "##Create variables **first**, **middle** and **last** from the given list using destructuring assignment (check the Resources tab for some examples), where:\n",
        "###```first  ➞ 1``` , ```middle➞ [2, 3, 4, 5]``` , ```last➞ 6```\n",
        "\n",
        "##Your task is to unpack the list, write you rcode here into three variables, being first, middle, and last. with middle being everything in between the first and last element. Then print all three variables."
      ],
      "metadata": {
        "id": "c1VsGqLipJSJ"
      }
    },
    {
      "cell_type": "code",
      "source": [
        "first, *middle, last = [1,2,3,4,5,6]\n",
        "print(f'first ➞ {first}')\n",
        "print(f'middle ➞ {middle}')\n",
        "print(f'last ➞ {last}')"
      ],
      "metadata": {
        "id": "5689CHlspI-b",
        "colab": {
          "base_uri": "https://localhost:8080/"
        },
        "outputId": "2dffba8d-4f84-4266-fbad-23467293d252"
      },
      "execution_count": 61,
      "outputs": [
        {
          "output_type": "stream",
          "name": "stdout",
          "text": [
            "first ➞ 1\n",
            "middle ➞ [2, 3, 4, 5]\n",
            "last ➞ 6\n"
          ]
        }
      ]
    },
    {
      "cell_type": "markdown",
      "source": [
        "-----------------------------------------------------------------"
      ],
      "metadata": {
        "id": "Bmc9NftopKrd"
      }
    },
    {
      "cell_type": "markdown",
      "source": [
        "#Q.4) Write a function that calculates the factorial of a number recursively.\n",
        "##Examples :\n",
        "##```factorial(5) ➞ 120```\n",
        "\n",
        "##```factorial(3) ➞ 6```\n",
        "\n",
        "##```factorial(1) ➞ 1```\n",
        "\n",
        "##```factorial(0) ➞ 1```\n"
      ],
      "metadata": {
        "id": "oE3d-wpCpL2N"
      }
    },
    {
      "cell_type": "code",
      "source": [
        "def factorial():\n",
        "  fact = int(input(\"Enter no : \"))\n",
        "  a = 1\n",
        "\n",
        "  for i in range(1, fact+1):\n",
        "    a = a * i\n",
        "  print(f\"factorial({fact}) ➞ {a}\\n\")\n",
        "\n",
        "for i in range(4):\n",
        "  factorial()"
      ],
      "metadata": {
        "id": "s-pra5IVpLLj",
        "colab": {
          "base_uri": "https://localhost:8080/"
        },
        "outputId": "494211ce-7560-4ef6-f548-35015c270c3c"
      },
      "execution_count": 67,
      "outputs": [
        {
          "output_type": "stream",
          "name": "stdout",
          "text": [
            "Enter no : 5\n",
            "factorial(5) ➞ 120\n",
            "\n",
            "Enter no : 3\n",
            "factorial(3) ➞ 6\n",
            "\n",
            "Enter no : 1\n",
            "factorial(1) ➞ 1\n",
            "\n",
            "Enter no : 0\n",
            "factorial(0) ➞ 1\n",
            "\n"
          ]
        }
      ]
    },
    {
      "cell_type": "markdown",
      "source": [
        "-----------------------------------------------------------------"
      ],
      "metadata": {
        "id": "wQRRY6w9pNKF"
      }
    },
    {
      "cell_type": "markdown",
      "source": [
        "#Q.5) Write a function that moves all elements of one type to the end of the list.\n",
        "##Examples :\n",
        "##```move_to_end([1, 3, 2, 4, 4, 1], 1) ➞ [3, 2, 4, 4, 1, 1]```\n",
        "\n",
        "##Move all the 1s to the end of the array.\n",
        "\n",
        "##```move_to_end([7, 8, 9, 1, 2, 3, 4], 9) ➞ [7, 8, 1, 2, 3, 4, 9]```\n",
        "\n",
        "##```move_to_end([\"a\", \"a\", \"a\", \"b\"], \"a\") ➞ [\"b\", \"a\", \"a\", \"a\"]```\n"
      ],
      "metadata": {
        "id": "VKROmqespOMN"
      }
    },
    {
      "cell_type": "code",
      "source": [
        "def move_to_end(list,num):\n",
        "  first_end = []\n",
        "  second_end = []\n",
        "\n",
        "  for i in list:\n",
        "    if i == num:\n",
        "      second_end.append(i)\n",
        "    else:\n",
        "      first_end.append(i)\n",
        "  first_end.extend(second_end)\n",
        "\n",
        "  return first_end\n",
        "\n",
        "print(f'move_to_end([1, 3, 2, 4, 4, 1], 1) ➞ {move_to_end([1, 3, 2, 4, 4, 1], 1)}')\n",
        "print(f'move_to_end([7, 8, 9, 1, 2, 3, 4], 9) ➞ {move_to_end([7, 8, 9, 1, 2, 3, 4], 9)}')\n",
        "print(f'move_to_end([\"a\", \"a\", \"a\", \"b\"], \"a\") ➞ {move_to_end([\"a\", \"a\", \"a\", \"b\"], \"a\")}')"
      ],
      "metadata": {
        "id": "8l0KGxCSpNiM",
        "colab": {
          "base_uri": "https://localhost:8080/"
        },
        "outputId": "97f063db-3e80-49a8-874e-821d3db0a31c"
      },
      "execution_count": 68,
      "outputs": [
        {
          "output_type": "stream",
          "name": "stdout",
          "text": [
            "move_to_end([1, 3, 2, 4, 4, 1], 1) ➞ [3, 2, 4, 4, 1, 1]\n",
            "move_to_end([7, 8, 9, 1, 2, 3, 4], 9) ➞ [7, 8, 1, 2, 3, 4, 9]\n",
            "move_to_end([\"a\", \"a\", \"a\", \"b\"], \"a\") ➞ ['b', 'a', 'a', 'a']\n"
          ]
        }
      ]
    },
    {
      "cell_type": "markdown",
      "source": [
        "------------------------------------------------------------End------------------------------------------------------------"
      ],
      "metadata": {
        "id": "A1SWgXuVpR1U"
      }
    }
  ]
}