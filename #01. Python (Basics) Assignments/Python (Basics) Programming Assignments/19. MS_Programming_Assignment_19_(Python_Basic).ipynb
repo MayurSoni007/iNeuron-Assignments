{
  "nbformat": 4,
  "nbformat_minor": 0,
  "metadata": {
    "colab": {
      "provenance": []
    },
    "kernelspec": {
      "name": "python3",
      "display_name": "Python 3"
    },
    "language_info": {
      "name": "python"
    }
  },
  "cells": [
    {
      "cell_type": "markdown",
      "source": [
        "#**iNeuron**\n",
        "## Programming Assignment - 19 (Python Basic)\n",
        "\n",
        "- Batch - Full Stack Data Science Bootcamp 2.0\n",
        "- Name - **Mayur Soni**\n",
        "- Email ID - **mayurssoni007@gmail.com**"
      ],
      "metadata": {
        "id": "PeaCO6daicBR"
      }
    },
    {
      "cell_type": "markdown",
      "source": [
        "--------------------------------------------------------------"
      ],
      "metadata": {
        "id": "gldKXaEVihEq"
      }
    },
    {
      "cell_type": "markdown",
      "source": [
        "#Q.1) Create a function that takes a string and returns a string in which each character is repeated once.\n",
        "##Examples :\n",
        "##```double_char(\"String\") ➞ \"SSttrriinngg\"```\n",
        "\n",
        "##```double_char(\"Hello World!\") ➞ \"HHeellllooWWoorrlldd!!\"```\n",
        "\n",
        "##```double_char(\"1234!_ \") ➞ \"11223344!!__  \"```\n"
      ],
      "metadata": {
        "id": "NNXrQfjIijE4"
      }
    },
    {
      "cell_type": "code",
      "source": [
        "def repeated_char():\n",
        "  input_str = input(\"Enter String : \")\n",
        "  output_str = \"\"\n",
        "\n",
        "  for i in input_str:\n",
        "    output_str += i * 2\n",
        "\n",
        "  print(f\"double_char({input_str}) ➞ {output_str}\\n\")\n",
        "\n",
        "for j in range(3):\n",
        "  repeated_char()"
      ],
      "metadata": {
        "colab": {
          "base_uri": "https://localhost:8080/"
        },
        "id": "UkZ0Hv2Wiio8",
        "outputId": "e4229d6e-582f-45b7-8374-8aa5ef8fb122"
      },
      "execution_count": 12,
      "outputs": [
        {
          "output_type": "stream",
          "name": "stdout",
          "text": [
            "Enter String : String\n",
            "double_char(String) ➞ SSttrriinngg\n",
            "\n",
            "Enter String : Hello World!\n",
            "double_char(Hello World!) ➞ HHeelllloo  WWoorrlldd!!\n",
            "\n",
            "Enter String : 1234!_ \n",
            "double_char(1234!_ ) ➞ 11223344!!__  \n",
            "\n"
          ]
        }
      ]
    },
    {
      "cell_type": "markdown",
      "source": [
        "--------------------------------------------------------------"
      ],
      "metadata": {
        "id": "OL_OdXZZilkg"
      }
    },
    {
      "cell_type": "markdown",
      "source": [
        "#Q.2) Create a function that reverses a boolean value and returns the string \"boolean expected\" if another variable type is given.\n",
        "##Examples :\n",
        "##```reverse(True) ➞ False```\n",
        "\n",
        "##```reverse(False) ➞ True```\n",
        "\n",
        "##```reverse(0) ➞ \"boolean expected\"```\n",
        "\n",
        "##```reverse(None) ➞ \"boolean expected\"```\n"
      ],
      "metadata": {
        "id": "hibRApEpim6Y"
      }
    },
    {
      "cell_type": "code",
      "execution_count": 26,
      "metadata": {
        "colab": {
          "base_uri": "https://localhost:8080/"
        },
        "id": "4LRDN2Keh8sa",
        "outputId": "a415dcb9-0123-4e8d-e59b-6f2b09ee1870"
      },
      "outputs": [
        {
          "output_type": "stream",
          "name": "stdout",
          "text": [
            "reverse(True) ➞ False\n",
            "reverse(False) ➞ True\n",
            "reverse(0) ➞ boolean expected\n",
            "reverse(None) ➞ boolean expected\n"
          ]
        }
      ],
      "source": [
        "def reverse(in_bool):\n",
        "  if type(in_bool) == bool:\n",
        "    return not in_bool\n",
        "  else:\n",
        "    return \"boolean expected\"\n",
        "\n",
        "print(f'reverse(True) ➞ {reverse(True)}')\n",
        "print(f'reverse(False) ➞ {reverse(False)}')\n",
        "print(f'reverse(0) ➞ {reverse(0)}')\n",
        "print(f'reverse(None) ➞ {reverse(None)}')"
      ]
    },
    {
      "cell_type": "markdown",
      "source": [
        "--------------------------------------------------------------"
      ],
      "metadata": {
        "id": "gRLsFyswioaa"
      }
    },
    {
      "cell_type": "markdown",
      "source": [
        "#Q.3) Create a function that returns the thickness (in meters) of a piece of paper after folding it n number of times. The paper starts off with a thickness of 0.5mm.\n",
        "##Examples :\n",
        "##```num_layers(1) ➞ \"0.001m\"```\n",
        "### Paper folded once is 1mm (equal to 0.001m)\n",
        "\n",
        "##```num_layers(4) ➞ \"0.008m\"```\n",
        "### Paper folded 4 times is 8mm (equal to 0.008m)\n",
        "\n",
        "##```num_layers(21) ➞ \"1048.576m\"```\n",
        "### Paper folded 21 times is 1048576mm (equal to 1048.576m)\n"
      ],
      "metadata": {
        "id": "bOdSo6K7ipR4"
      }
    },
    {
      "cell_type": "code",
      "source": [
        "def thickness_in_mtr(in_num):\n",
        "  thickness = 0.5\n",
        "  for i in range(in_num):\n",
        "    thickness *= 2\n",
        "  print(f'num_layers({in_num}) ➞ {thickness/1000}m')\n",
        "\n",
        "thickness_in_mtr(1)\n",
        "thickness_in_mtr(4)\n",
        "thickness_in_mtr(21)"
      ],
      "metadata": {
        "colab": {
          "base_uri": "https://localhost:8080/"
        },
        "id": "MYuNEUwMio12",
        "outputId": "5d38780f-769f-4441-cbc4-055de2bd1a92"
      },
      "execution_count": 28,
      "outputs": [
        {
          "output_type": "stream",
          "name": "stdout",
          "text": [
            "num_layers(1) ➞ 0.001m\n",
            "num_layers(4) ➞ 0.008m\n",
            "num_layers(21) ➞ 1048.576m\n"
          ]
        }
      ]
    },
    {
      "cell_type": "markdown",
      "source": [
        "--------------------------------------------------------------"
      ],
      "metadata": {
        "id": "xt-QtubvirFp"
      }
    },
    {
      "cell_type": "markdown",
      "source": [
        "#Q.4) Create a function that takes a single string as argument and returns an ordered list containing the indices of all capital letters in the string.\n",
        "##Examples :\n",
        "###```index_of_caps(\"eDaBiT\") ➞ [1, 3, 5]```\n",
        "\n",
        "##```index_of_caps(\"eQuINoX\") ➞ [1, 3, 4, 6]```\n",
        "\n",
        "##```index_of_caps(\"determine\") ➞ []```\n",
        "\n",
        "##```index_of_caps(\"STRIKE\") ➞ [0, 1, 2, 3, 4, 5]```\n",
        "\n",
        "##```index_of_caps(\"sUn\") ➞ [1]```\n"
      ],
      "metadata": {
        "id": "RbXGraaUir2L"
      }
    },
    {
      "cell_type": "code",
      "source": [
        "def ordered_list():\n",
        "  input_string = input(\"Enter String : \")\n",
        "  output_ordered_list = []\n",
        "\n",
        "  for i in input_string:\n",
        "    if i.isupper():\n",
        "      output_ordered_list.append(input_string.index(i))\n",
        "\n",
        "  print(f\"index_of_caps({input_string}) ➞ {output_ordered_list}\\n\")\n",
        "\n",
        "for j in range(5):\n",
        "  ordered_list()"
      ],
      "metadata": {
        "colab": {
          "base_uri": "https://localhost:8080/"
        },
        "id": "MmbV_YfOirdV",
        "outputId": "48f618ca-76c2-4801-e541-58bfe15a5ade"
      },
      "execution_count": 33,
      "outputs": [
        {
          "output_type": "stream",
          "name": "stdout",
          "text": [
            "Enter String : eDaBiT\n",
            "index_of_caps(eDaBiT) ➞ [1, 3, 5]\n",
            "\n",
            "Enter String : eQuINoX\n",
            "index_of_caps(eQuINoX) ➞ [1, 3, 4, 6]\n",
            "\n",
            "Enter String : determine\n",
            "index_of_caps(determine) ➞ []\n",
            "\n",
            "Enter String : STRIKE\n",
            "index_of_caps(STRIKE) ➞ [0, 1, 2, 3, 4, 5]\n",
            "\n",
            "Enter String : sUn\n",
            "index_of_caps(sUn) ➞ [1]\n",
            "\n"
          ]
        }
      ]
    },
    {
      "cell_type": "markdown",
      "source": [
        "--------------------------------------------------------------"
      ],
      "metadata": {
        "id": "6ogZ8HkFitvi"
      }
    },
    {
      "cell_type": "markdown",
      "source": [
        "#Q.5) Using list comprehensions, create a function that finds all even numbers from 1 to the given number.\n",
        "##Examples :\n",
        "##```find_even_nums(8) ➞ [2, 4, 6, 8]```\n",
        "\n",
        "##```find_even_nums(4) ➞ [2, 4]```\n",
        "\n",
        "##```find_even_nums(2) ➞ [2]```\n"
      ],
      "metadata": {
        "id": "I_Cj01gliuax"
      }
    },
    {
      "cell_type": "code",
      "source": [
        "def find_even():\n",
        "  no = int(input(\"Enter number : \"))\n",
        "  output = []\n",
        "\n",
        "  for i in range(1, no+1):\n",
        "    if i % 2 == 0:\n",
        "      output.append(i)\n",
        "\n",
        "  print(f\"find_even_nums({no}) ➞ {output}\\n\")\n",
        "\n",
        "for j in range(3):\n",
        "  find_even()"
      ],
      "metadata": {
        "colab": {
          "base_uri": "https://localhost:8080/"
        },
        "id": "bO5i6eM3iuGN",
        "outputId": "f1d6ef75-94b8-40c6-dbd2-6fb1fcb6d499"
      },
      "execution_count": 35,
      "outputs": [
        {
          "output_type": "stream",
          "name": "stdout",
          "text": [
            "Enter number : 8\n",
            "find_even_nums(8) ➞ [2, 4, 6, 8]\n",
            "\n",
            "Enter number : 4\n",
            "find_even_nums(4) ➞ [2, 4]\n",
            "\n",
            "Enter number : 2\n",
            "find_even_nums(2) ➞ [2]\n",
            "\n"
          ]
        }
      ]
    },
    {
      "cell_type": "markdown",
      "source": [
        "------------------------------------------------------------End------------------------------------------------------------"
      ],
      "metadata": {
        "id": "dFHC7yx5ivvw"
      }
    }
  ]
}