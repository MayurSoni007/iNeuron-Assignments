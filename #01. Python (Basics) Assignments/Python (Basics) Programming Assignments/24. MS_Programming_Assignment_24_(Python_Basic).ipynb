{
  "nbformat": 4,
  "nbformat_minor": 0,
  "metadata": {
    "colab": {
      "provenance": []
    },
    "kernelspec": {
      "name": "python3",
      "display_name": "Python 3"
    },
    "language_info": {
      "name": "python"
    }
  },
  "cells": [
    {
      "cell_type": "markdown",
      "source": [
        "#**iNeuron**\n",
        "## Programming Assignment - 24 (Python Basic)\n",
        "\n",
        "- Batch - Full Stack Data Science Bootcamp 2.0\n",
        "- Name - **Mayur Soni**\n",
        "- Email ID - **mayurssoni007@gmail.com**"
      ],
      "metadata": {
        "id": "YFpAuwFlFZvQ"
      }
    },
    {
      "cell_type": "markdown",
      "source": [
        "----------------------------------------------------------------"
      ],
      "metadata": {
        "id": "rWVJ4TvJFc2l"
      }
    },
    {
      "cell_type": "markdown",
      "source": [
        "#Q.1) Create a function that takes an integer and returns a list from 1 to the given number, where:\n",
        "###1. If the number can be divided evenly by 4, amplify it by 10 (i.e. return 10 times the number).\n",
        "###2.\tIf the number cannot be divided evenly by 4, simply return the number.\n",
        "\n",
        "##Examples :\n",
        "##```amplify(4) ➞ [1, 2, 3, 40]```\n",
        "\n",
        "##```amplify(3) ➞ [1, 2, 3]```\n",
        "\n",
        "##```amplify(25) ➞ [1, 2, 3, 40, 5, 6, 7, 80, 9, 10, 11, 120, 13, 14, 15, 160, 17, 18, 19, 200, 21, 22, 23, 240, 25]```\n",
        "\n",
        "##Notes\n",
        "###•\tThe given integer will always be equal to or greater than 1.\n",
        "###•\tInclude the number (see example above).\n",
        "###•\tTo perform this problem with its intended purpose, try doing it with list comprehensions. If that's too difficult, just solve the challenge any way you can."
      ],
      "metadata": {
        "id": "K2a4W9CCFgZ8"
      }
    },
    {
      "cell_type": "code",
      "execution_count": 7,
      "metadata": {
        "id": "ISBY4LElFOYy",
        "colab": {
          "base_uri": "https://localhost:8080/"
        },
        "outputId": "02e436f7-eb4e-4922-f100-72974dafcb27"
      },
      "outputs": [
        {
          "output_type": "stream",
          "name": "stdout",
          "text": [
            "amplify(4) ➞ [1, 2, 3, 40]\n",
            "\n",
            "amplify(3) ➞ [1, 2, 3]\n",
            "\n",
            "amplify(25) ➞ [1, 2, 3, 40, 5, 6, 7, 80, 9, 10, 11, 120, 13, 14, 15, 160, 17, 18, 19, 200, 21, 22, 23, 240, 25]\n",
            "\n"
          ]
        }
      ],
      "source": [
        "def amplify(num):\n",
        "  output_list = []\n",
        "\n",
        "  for i in range(1, num+1):\n",
        "    if i % 4 == 0:\n",
        "      output_list.append(i*10)\n",
        "    else:\n",
        "      output_list.append(i)\n",
        "\n",
        "  print(f\"amplify({num}) ➞ {output_list}\\n\")\n",
        "\n",
        "\n",
        "amplify(4)\n",
        "amplify(3)\n",
        "amplify(25)"
      ]
    },
    {
      "cell_type": "markdown",
      "source": [
        "----------------------------------------------------------------"
      ],
      "metadata": {
        "id": "80xcELMPFhzc"
      }
    },
    {
      "cell_type": "markdown",
      "source": [
        "#Q.2) Create a function that takes a list of numbers and return the number that's unique.\n",
        "##Examples :\n",
        "##```unique([3, 3, 3, 7, 3, 3]) ➞ 7```\n",
        "\n",
        "##```unique([0, 0, 0.77, 0, 0]) ➞ 0.77```\n",
        "\n",
        "##```unique([0, 1, 1, 1, 1, 1, 1, 1]) ➞ 0```\n",
        "\n",
        "##Notes\n",
        "###• Test cases will always have exactly one unique number while all others are the same.\n"
      ],
      "metadata": {
        "id": "hVekCWn8FjEM"
      }
    },
    {
      "cell_type": "code",
      "source": [
        "def unique(input_list):\n",
        "  output_num = \"\"\n",
        "\n",
        "  for i in set(input_list):\n",
        "    if input_list.count(i) == 1:\n",
        "      output_num = i\n",
        "\n",
        "  print(f\"unique({input_list}) ➞ {output_num}\\n\")\n",
        "\n",
        "unique([3, 3, 3, 7, 3, 3])\n",
        "unique([0, 0, 0.77, 0, 0])\n",
        "unique([0, 1, 1, 1, 1, 1, 1, 1])"
      ],
      "metadata": {
        "id": "GFRlQOvIFiql",
        "colab": {
          "base_uri": "https://localhost:8080/"
        },
        "outputId": "afed2640-1ea1-4565-fdf3-788487341064"
      },
      "execution_count": 16,
      "outputs": [
        {
          "output_type": "stream",
          "name": "stdout",
          "text": [
            "unique([3, 3, 3, 7, 3, 3]) ➞ 7\n",
            "\n",
            "unique([0, 0, 0.77, 0, 0]) ➞ 0.77\n",
            "\n",
            "unique([0, 1, 1, 1, 1, 1, 1, 1]) ➞ 0\n",
            "\n"
          ]
        }
      ]
    },
    {
      "cell_type": "markdown",
      "source": [
        "----------------------------------------------------------------"
      ],
      "metadata": {
        "id": "ecyN01nPFkgz"
      }
    },
    {
      "cell_type": "markdown",
      "source": [
        "#Q.3) Your task is to create a Circle constructor that creates a circle with a radius provided by an argument. The circles constructed must have two getters getArea() (PIr^2) and getPerimeter() (2PI*r) which give both respective areas and perimeter (circumference).\n",
        "##For help with this class, I have provided you with a Rectangle constructor which you can use as a base example.\n",
        "\n",
        "##Examples :\n",
        "##```circy = Circle(11)```\n",
        "##```circy.getArea()```\n",
        "\n",
        "###Should return ```380.132711084365```\n",
        "\n",
        "##```circy = Circle(4.44)```\n",
        "##```circy.getPerimeter()```\n",
        "\n",
        "###Should return ```27.897342763877365```\n",
        "\n",
        "##Notes\n",
        "###• Round results up to the nearest integer."
      ],
      "metadata": {
        "id": "w0oSWSrhFlIo"
      }
    },
    {
      "cell_type": "code",
      "source": [
        "import math\n",
        "\n",
        "class Circle():\n",
        "  def __init__(self, radius):\n",
        "    self.radius = radius\n",
        "\n",
        "  def getArea(self):\n",
        "    print(f\"Radius ➞ {round(math.pi * (self.radius**2))}\")\n",
        "\n",
        "  def getPerimeter(self):\n",
        "    print(f\"Perimeter ➞ {round(2 * math.pi * self.radius)}\")\n",
        "\n",
        "circy = Circle(11)\n",
        "circy.getArea()\n",
        "\n",
        "circy = Circle(4.44)\n",
        "circy.getPerimeter()"
      ],
      "metadata": {
        "id": "qwNkOhqVFk4C",
        "colab": {
          "base_uri": "https://localhost:8080/"
        },
        "outputId": "7b8325a7-fe50-4927-ed3f-94e0e0b7bf0a"
      },
      "execution_count": 19,
      "outputs": [
        {
          "output_type": "stream",
          "name": "stdout",
          "text": [
            "Radius ➞ 380\n",
            "Perimeter ➞ 28\n"
          ]
        }
      ]
    },
    {
      "cell_type": "markdown",
      "source": [
        "----------------------------------------------------------------"
      ],
      "metadata": {
        "id": "8kxFqTIiFmj9"
      }
    },
    {
      "cell_type": "markdown",
      "source": [
        "#Q.4) Create a function that takes a list of strings and return a list, sorted from shortest to longest.\n",
        "##Examples :\n",
        "##```sort_by_length([\"Google\", \"Apple\", \"Microsoft\"])```\n",
        "##```➞ [\"Apple\", \"Google\", \"Microsoft\"]```\n",
        "\n",
        "##```sort_by_length([\"Leonardo\", \"Michelangelo\", \"Raphael\", \"Donatello\"])```\n",
        "##```➞ [\"Raphael\", \"Leonardo\", \"Donatello\", \"Michelangelo\"]```\n",
        "\n",
        "##```sort_by_length([\"Turing\", \"Einstein\", \"Jung\"])```\n",
        "##```➞ [\"Jung\", \"Turing\", \"Einstein\"]```\n",
        "\n",
        "##Notes\n",
        "###• All test cases contain lists with strings of different lengths, so you won't have to deal with multiple strings of the same length."
      ],
      "metadata": {
        "id": "0DR1UQqUFnIj"
      }
    },
    {
      "cell_type": "code",
      "source": [
        "def sort_by_length(input_list):\n",
        "\n",
        "  output_list = sorted(input_list,key=len)\n",
        "\n",
        "  print(f\"sort_by_length({input_list}) ➞ {output_list}\\n\")\n",
        "\n",
        "sort_by_length([\"Google\", \"Apple\", \"Microsoft\"])\n",
        "sort_by_length([\"Leonardo\", \"Michelangelo\", \"Raphael\", \"Donatello\"])\n",
        "sort_by_length([\"Turing\", \"Einstein\", \"Jung\"])"
      ],
      "metadata": {
        "id": "2dg0WpDJFm6B",
        "colab": {
          "base_uri": "https://localhost:8080/"
        },
        "outputId": "90c98961-539e-4690-8887-47cbd5f76313"
      },
      "execution_count": 24,
      "outputs": [
        {
          "output_type": "stream",
          "name": "stdout",
          "text": [
            "sort_by_length(['Google', 'Apple', 'Microsoft']) ➞ ['Apple', 'Google', 'Microsoft']\n",
            "\n",
            "sort_by_length(['Leonardo', 'Michelangelo', 'Raphael', 'Donatello']) ➞ ['Raphael', 'Leonardo', 'Donatello', 'Michelangelo']\n",
            "\n",
            "sort_by_length(['Turing', 'Einstein', 'Jung']) ➞ ['Jung', 'Turing', 'Einstein']\n",
            "\n"
          ]
        }
      ]
    },
    {
      "cell_type": "markdown",
      "source": [
        "----------------------------------------------------------------"
      ],
      "metadata": {
        "id": "_x3qKUl0FovW"
      }
    },
    {
      "cell_type": "markdown",
      "source": [
        "#Q.5) Create a function that validates whether three given integers form a Pythagorean triplet. The sum of the squares of the two smallest integers must equal the square of the largest number to be validated.\n",
        "\n",
        "##Examples\n",
        "##```is_triplet(3, 4, 5) ➞ True```\n",
        "### (3² + 4² = 25)\n",
        "### (5² = 25)\n",
        "\n",
        "##```is_triplet(13, 5, 12) ➞ True```\n",
        "### (5² + 12² = 169)\n",
        "### (13² = 169)\n",
        "\n",
        "##```is_triplet(1, 2, 3) ➞ False```\n",
        "### (1² + 2² = 5)\n",
        "### (3² = 9)\n",
        "\n",
        "##Notes\n",
        "###• Numbers may not be given in a sorted order.\n"
      ],
      "metadata": {
        "id": "IyHj1FKlFpZT"
      }
    },
    {
      "cell_type": "code",
      "source": [
        "def is_triplet(a, b, c):\n",
        "  sorted_numbers = sorted([a, b, c])\n",
        "\n",
        "  a_square = sorted_numbers[0] ** 2\n",
        "  b_square = sorted_numbers[1] ** 2\n",
        "  c_square = sorted_numbers[2] ** 2\n",
        "\n",
        "  if a_square + b_square == c_square:\n",
        "    print(f\"is_triplet{a, b, c} ➞ True \\n\")\n",
        "  else:\n",
        "    print(f\"is_triplet{a, b, c} ➞ False \\n\")\n",
        "\n",
        "\n",
        "is_triplet(3, 4, 5)\n",
        "is_triplet(13, 5, 12)\n",
        "is_triplet(1, 2, 3)"
      ],
      "metadata": {
        "colab": {
          "base_uri": "https://localhost:8080/"
        },
        "id": "hDjD1TGdunAF",
        "outputId": "2e476d75-31a2-48a3-8a32-30bed91885f3"
      },
      "execution_count": 34,
      "outputs": [
        {
          "output_type": "stream",
          "name": "stdout",
          "text": [
            "is_triplet(3, 4, 5) ➞ True \n",
            "\n",
            "is_triplet(13, 5, 12) ➞ True \n",
            "\n",
            "is_triplet(1, 2, 3) ➞ False \n",
            "\n"
          ]
        }
      ]
    },
    {
      "cell_type": "markdown",
      "source": [
        "------------------------------------------------------------End------------------------------------------------------------"
      ],
      "metadata": {
        "id": "hWYEt4CEFrlr"
      }
    }
  ]
}