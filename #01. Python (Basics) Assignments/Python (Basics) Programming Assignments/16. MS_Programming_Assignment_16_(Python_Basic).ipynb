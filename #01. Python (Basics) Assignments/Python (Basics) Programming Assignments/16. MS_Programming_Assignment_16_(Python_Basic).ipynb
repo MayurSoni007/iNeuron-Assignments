{
  "nbformat": 4,
  "nbformat_minor": 0,
  "metadata": {
    "colab": {
      "provenance": []
    },
    "kernelspec": {
      "name": "python3",
      "display_name": "Python 3"
    },
    "language_info": {
      "name": "python"
    }
  },
  "cells": [
    {
      "cell_type": "markdown",
      "source": [
        "#**iNeuron**\n",
        "## Programming Assignment - 16 (Python Basic)\n",
        "\n",
        "- Batch - Full Stack Data Science Bootcamp 2.0\n",
        "- Name - **Mayur Soni**\n",
        "- Email ID - **mayurssoni007@gmail.com**"
      ],
      "metadata": {
        "id": "7izMf9NpbosJ"
      }
    },
    {
      "cell_type": "markdown",
      "source": [
        "------------------------------------------------------------------------"
      ],
      "metadata": {
        "id": "EPP6_kqZbsRf"
      }
    },
    {
      "cell_type": "markdown",
      "source": [
        "#Q.1) Write a function that stutters a word as if someone is struggling to read it. The first two letters are repeated twice with an ellipsis ... and space after each, and then the word is pronounced with a question mark ?.\n",
        "## Examples:\n",
        "## ```stutter(\"incredible\") ➞ \"in... in... incredible?\"```\n",
        "## ```stutter(\"enthusiastic\") ➞ \"en... en... enthusiastic?\"```\n",
        "## ```stutter(\"outstanding\") ➞ \"ou... ou... outstanding?\"```\n",
        "\n",
        "## Hint :-Assume all input is in lower case and at least two characters long.\n"
      ],
      "metadata": {
        "id": "zt29j5MfbuQQ"
      }
    },
    {
      "cell_type": "code",
      "execution_count": 24,
      "metadata": {
        "id": "Kk5ULwjObibv",
        "colab": {
          "base_uri": "https://localhost:8080/"
        },
        "outputId": "5904f778-709b-4b57-8cab-c97c60022848"
      },
      "outputs": [
        {
          "output_type": "stream",
          "name": "stdout",
          "text": [
            "Enter the Word : incredible\n",
            "stutter incredible ➞ in... in... incredible? \n",
            "Enter the Word : enthusiastic\n",
            "stutter enthusiastic ➞ en... en... enthusiastic? \n",
            "Enter the Word : outstanding\n",
            "stutter outstanding ➞ ou... ou... outstanding? \n"
          ]
        }
      ],
      "source": [
        "def stutter():\n",
        "    input_str = input(\"Enter the Word : \")\n",
        "    output_str = input_str.replace(input_str[0:2],((input_str[0:2]+'... ')*2)+ input_str[0:2]) + '?'\n",
        "    print(f\"stutter {input_str} ➞ {output_str} \")\n",
        "\n",
        "for i in range(3):\n",
        "    stutter()"
      ]
    },
    {
      "cell_type": "markdown",
      "source": [
        "------------------------------------------------------------------------"
      ],
      "metadata": {
        "id": "EgyzIWShbzbf"
      }
    },
    {
      "cell_type": "markdown",
      "source": [
        "#Q.2) Create a function that takes an angle in radians and returns the corresponding angle in degrees rounded to one decimal place.\n",
        "## Examples:\n",
        "## ```radians_to_degrees(1) ➞ 57.3```\n",
        "\n",
        "## ```radians_to_degrees(20) ➞ 1145.9```\n",
        "\n",
        "## ```radians_to_degrees(50) ➞ 2864.8```"
      ],
      "metadata": {
        "id": "B3jalhWSb0UV"
      }
    },
    {
      "cell_type": "code",
      "source": [
        "import math\n",
        "\n",
        "def radians_to_degrees():\n",
        "  angle_in_radians = int(input())\n",
        "\n",
        "  angle_in_degrees = math.degrees(angle_in_radians)\n",
        "  rounded_angle = round(angle_in_degrees, 1)\n",
        "  print(f\"radiance_to_degrees({angle_in_radians}) ➞ {rounded_angle}\")\n",
        "\n",
        "for j in range(3):\n",
        "  radians_to_degrees()"
      ],
      "metadata": {
        "id": "_Zw-ru8wbz5K",
        "colab": {
          "base_uri": "https://localhost:8080/"
        },
        "outputId": "f83bac1c-274d-463b-8088-c12e032b33b8"
      },
      "execution_count": 26,
      "outputs": [
        {
          "output_type": "stream",
          "name": "stdout",
          "text": [
            "1\n",
            "radiance_to_degrees(1) ➞ 57.3\n",
            "20\n",
            "radiance_to_degrees(20) ➞ 1145.9\n",
            "50\n",
            "radiance_to_degrees(50) ➞ 2864.8\n"
          ]
        }
      ]
    },
    {
      "cell_type": "markdown",
      "source": [
        "------------------------------------------------------------------------"
      ],
      "metadata": {
        "id": "0e8GYWTpb2N3"
      }
    },
    {
      "cell_type": "markdown",
      "source": [
        "#Q.3) In this challenge, establish if a given integer num is a Curzon number. If 1 plus 2 elevated to num is exactly divisible by 1 plus 2 multiplied by num, then num is a Curzon number. Given a non-negative integer num, implement a function that returns True if num is a Curzon number, or False otherwise.\n",
        "## Examples :\n",
        "```\n",
        "is_curzon(5) ➞ True\n",
        "# 2 ** 5 + 1 = 33\n",
        "# 2 * 5 + 1 = 11\n",
        "# 33 is a multiple of 11\n",
        "```\n",
        "```\n",
        "is_curzon(10) ➞ False\n",
        "# 2 ** 10 + 1 = 1025\n",
        "# 2 * 10 + 1 = 21\n",
        "# 1025 is not a multiple of 21\n",
        "```\n",
        "```\n",
        "is_curzon(14) ➞ True\n",
        "# 2 ** 14 + 1 = 16385\n",
        "# 2 * 14 + 1 = 29\n",
        "# 16385 is a multiple of 29\n",
        "```\n"
      ],
      "metadata": {
        "id": "LiuqYm2hb23w"
      }
    },
    {
      "cell_type": "code",
      "source": [
        "def curzon_no():\n",
        "  curz_input = int(input())\n",
        "\n",
        "  if (2 ** curz_input + 1) % (2 * curz_input + 1) == 0:\n",
        "    print(f\"is_curzon({curz_input}) ➞ True\")\n",
        "    print(f\"{curz_input} is a curzon number.\\n\")\n",
        "  else:\n",
        "    print(f\"is_curzon({curz_input}) ➞ False\")\n",
        "    print(f\"{curz_input} is not a curzon number.\\n\")\n",
        "\n",
        "for i in range(3):\n",
        "  curzon_no()"
      ],
      "metadata": {
        "id": "mzFlSD4Qb2gi",
        "colab": {
          "base_uri": "https://localhost:8080/"
        },
        "outputId": "9dad28c5-0159-4b48-9da7-ff5d0d66ea28"
      },
      "execution_count": 42,
      "outputs": [
        {
          "output_type": "stream",
          "name": "stdout",
          "text": [
            "5\n",
            "is_curzon(5) ➞ True\n",
            "5 is a curzon number.\n",
            "\n",
            "10\n",
            "is_curzon(10) ➞ False\n",
            "10 is not a curzon number.\n",
            "\n",
            "14\n",
            "is_curzon(14) ➞ True\n",
            "14 is a curzon number.\n",
            "\n"
          ]
        }
      ]
    },
    {
      "cell_type": "markdown",
      "source": [
        "------------------------------------------------------------------------"
      ],
      "metadata": {
        "id": "LGr4WT2tb4Me"
      }
    },
    {
      "cell_type": "markdown",
      "source": [
        "#Q.4) Given the side length x find the area of a hexagon.\n",
        "\n",
        "## Examples :\n",
        "##```area_of_hexagon(1) ➞ 2.6```\n",
        "\n",
        "##```area_of_hexagon(2) ➞ 10.4```\n",
        "\n",
        "##```area_of_hexagon(3) ➞ 23.4```\n"
      ],
      "metadata": {
        "id": "PucYTBWQb5ru"
      }
    },
    {
      "cell_type": "code",
      "source": [
        "def area_of_hex():\n",
        "  x = int(input(\"Enter side x : \"))\n",
        "\n",
        "  output_area = (3 * (3**0.5) / 2) * (x**2)\n",
        "\n",
        "  print(f\"area_of_hexagon({x}) ➞ {round(output_area,1)}\\n\")\n",
        "\n",
        "for i in range(3):\n",
        "  area_of_hex()"
      ],
      "metadata": {
        "id": "ZFoucuLhb4r6",
        "colab": {
          "base_uri": "https://localhost:8080/"
        },
        "outputId": "ddff86bd-eebc-4667-a430-d15c384ab133"
      },
      "execution_count": 48,
      "outputs": [
        {
          "output_type": "stream",
          "name": "stdout",
          "text": [
            "Enter side x : 1\n",
            "area_of_hexagon(1) ➞ 2.6\n",
            "\n",
            "Enter side x : 2\n",
            "area_of_hexagon(2) ➞ 10.4\n",
            "\n",
            "Enter side x : 3\n",
            "area_of_hexagon(3) ➞ 23.4\n",
            "\n"
          ]
        }
      ]
    },
    {
      "cell_type": "markdown",
      "source": [
        "------------------------------------------------------------------------"
      ],
      "metadata": {
        "id": "yXi93rGtb7PY"
      }
    },
    {
      "cell_type": "markdown",
      "source": [
        "#Q.5) Create a function that returns a base-2 (binary) representation of a base-10 (decimal) string number. To convert is simple: ((2) means base-2 and (10) means base-10) 010101001(2) = 1 + 8 + 32 + 128.\n",
        "# Going from right to left, the value of the most right bit is 1, now from that every bit to the left will be x2 the value, value of an 8 bit binary numbers are (256, 128, 64, 32, 16, 8, 4, 2, 1).\n",
        "## Examples\n",
        "## ```binary(1) ➞ \"1\"``` # ```1*1 = 1```\n",
        "\n",
        "## ```binary(5) ➞ \"101\"``` # ```1*1 + 1*4 = 5```\n",
        "\n",
        "## ```binary(10) ➞ \"1010\"``` ```# 1*2 + 1*8 = 10```"
      ],
      "metadata": {
        "id": "vIA3rdjIb8Ep"
      }
    },
    {
      "cell_type": "code",
      "source": [
        "def decimal_to_binary():\n",
        "  input_num = int(input(\"Enter number: \"))\n",
        "  output_num = bin(input_num).replace('0b','')\n",
        "  print(f'binary({input_num}) ➞ {output_num}\\n')\n",
        "\n",
        "for i in range(3):\n",
        "  decimal_to_binary()"
      ],
      "metadata": {
        "id": "jScwxHWtb7mK",
        "colab": {
          "base_uri": "https://localhost:8080/"
        },
        "outputId": "ef267270-e308-4a44-a0ac-e26e23475077"
      },
      "execution_count": 80,
      "outputs": [
        {
          "output_type": "stream",
          "name": "stdout",
          "text": [
            "Enter number: 1\n",
            "binary(1) ➞ 1\n",
            "\n",
            "Enter number: 5\n",
            "binary(5) ➞ 101\n",
            "\n",
            "Enter number: 10\n",
            "binary(10) ➞ 1010\n",
            "\n"
          ]
        }
      ]
    },
    {
      "cell_type": "markdown",
      "source": [
        "------------------------------------------------------------End------------------------------------------------------------"
      ],
      "metadata": {
        "id": "l7qMrLI7cQEt"
      }
    }
  ]
}