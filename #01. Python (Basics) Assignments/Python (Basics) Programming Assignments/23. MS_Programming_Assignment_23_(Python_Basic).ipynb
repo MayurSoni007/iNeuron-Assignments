{
  "nbformat": 4,
  "nbformat_minor": 0,
  "metadata": {
    "colab": {
      "provenance": []
    },
    "kernelspec": {
      "name": "python3",
      "display_name": "Python 3"
    },
    "language_info": {
      "name": "python"
    }
  },
  "cells": [
    {
      "cell_type": "markdown",
      "source": [
        "#**iNeuron**\n",
        "## Programming Assignment - 23 (Python Basic)\n",
        "\n",
        "- Batch - Full Stack Data Science Bootcamp 2.0\n",
        "- Name - **Mayur Soni**\n",
        "- Email ID - **mayurssoni007@gmail.com**"
      ],
      "metadata": {
        "id": "YYBjxxJ0yhgQ"
      }
    },
    {
      "cell_type": "markdown",
      "source": [
        "-------------------------------------------------------------------"
      ],
      "metadata": {
        "id": "DTqdnFTRym6A"
      }
    },
    {
      "cell_type": "markdown",
      "source": [
        "#Q.1) Create a function that takes a number as an argument and returns True or False depending on whether the number is symmetrical or not. A number is symmetrical when it is the same as its reverse.\n",
        "##Examples :\n",
        "##```is_symmetrical(7227) ➞ True```\n",
        "\n",
        "##```is_symmetrical(12567) ➞ False```\n",
        "\n",
        "##```is_symmetrical(44444444) ➞ True```\n",
        "\n",
        "##```is_symmetrical(9939) ➞ False```\n",
        "\n",
        "##```is_symmetrical(1112111) ➞ True```"
      ],
      "metadata": {
        "id": "gZyLstj2yoyw"
      }
    },
    {
      "cell_type": "code",
      "execution_count": 5,
      "metadata": {
        "colab": {
          "base_uri": "https://localhost:8080/"
        },
        "id": "IFIuBBfGyY0-",
        "outputId": "609ac472-4479-4709-a705-752dcc196bbe"
      },
      "outputs": [
        {
          "output_type": "stream",
          "name": "stdout",
          "text": [
            "is_symmetrical(7227) ➞ True\n",
            "\n",
            "is_symmetrical(12567) ➞ False\n",
            "\n",
            "is_symmetrical(44444444) ➞ True\n",
            "\n",
            "is_symmetrical(9939) ➞ False\n",
            "\n",
            "is_symmetrical(1112111) ➞ True\n",
            "\n"
          ]
        }
      ],
      "source": [
        "def is_symmetrical(num):\n",
        "  if str(num) == str(num)[::-1]:\n",
        "    print(f\"is_symmetrical({num}) ➞ True\\n\")\n",
        "  else:\n",
        "    print(f\"is_symmetrical({num}) ➞ False\\n\")\n",
        "\n",
        "is_symmetrical(7227)\n",
        "is_symmetrical(12567)\n",
        "is_symmetrical(44444444)\n",
        "is_symmetrical(9939)\n",
        "is_symmetrical(1112111)"
      ]
    },
    {
      "cell_type": "markdown",
      "source": [
        "-------------------------------------------------------------------"
      ],
      "metadata": {
        "id": "PL_W1oLaytKu"
      }
    },
    {
      "cell_type": "markdown",
      "source": [
        "#Q.2) Given a string of numbers separated by a comma and space, return the product of the numbers.\n",
        "##Examples :\n",
        "##```multiply_nums(\"2, 3\") ➞ 6```\n",
        "\n",
        "##```multiply_nums(\"1, 2, 3, 4\") ➞ 24```\n",
        "\n",
        "##```multiply_nums(\"54, 75, 453, 0\") ➞ 0```\n",
        "\n",
        "##```multiply_nums(\"10, -2\") ➞ -20```"
      ],
      "metadata": {
        "id": "UrVuuL81yuAg"
      }
    },
    {
      "cell_type": "code",
      "source": [
        "def multiply_nums(num):\n",
        "  output_string = num.replace(' ','').split(',')\n",
        "  output = 1\n",
        "  for i in output_string:\n",
        "    output *= int(i)\n",
        "\n",
        "  print(f\"multiply_nums({num}) ➞ {output}\\n\")\n",
        "\n",
        "\n",
        "multiply_nums(\"2, 3\")\n",
        "multiply_nums(\"1, 2, 3, 4\")\n",
        "multiply_nums(\"54, 75, 453, 0\")\n",
        "multiply_nums(\"10, -2\")"
      ],
      "metadata": {
        "colab": {
          "base_uri": "https://localhost:8080/"
        },
        "id": "ljvr_3CFyti8",
        "outputId": "24368025-8144-4b63-d580-052b516ef6db"
      },
      "execution_count": 8,
      "outputs": [
        {
          "output_type": "stream",
          "name": "stdout",
          "text": [
            "multiply_nums(2, 3) ➞ 6\n",
            "\n",
            "multiply_nums(1, 2, 3, 4) ➞ 24\n",
            "\n",
            "multiply_nums(54, 75, 453, 0) ➞ 0\n",
            "\n",
            "multiply_nums(10, -2) ➞ -20\n",
            "\n"
          ]
        }
      ]
    },
    {
      "cell_type": "markdown",
      "source": [
        "-------------------------------------------------------------------"
      ],
      "metadata": {
        "id": "gyj2PK76yve_"
      }
    },
    {
      "cell_type": "markdown",
      "source": [
        "#Q.3) Create a function that squares every digit of a number.\n",
        "##Examples :\n",
        "##```square_digits(9119) ➞ 811181```\n",
        "\n",
        "##```square_digits(2483) ➞ 416649```\n",
        "\n",
        "##```square_digits(3212) ➞ 9414```\n",
        "\n",
        "##Notes\n",
        "###• The function receives an integer and must return an integer."
      ],
      "metadata": {
        "id": "khD5w9ZYywQo"
      }
    },
    {
      "cell_type": "code",
      "source": [
        "def square_digits(num):\n",
        "  input_digits = [str(int(digit) ** 2) for digit in str(num)]\n",
        "  output_num = int(''.join(input_digits))\n",
        "\n",
        "  print(f\"square_digits({num}) ➞ {output_num}\\n\")\n",
        "\n",
        "square_digits(9119)\n",
        "square_digits(2483)\n",
        "square_digits(3212)"
      ],
      "metadata": {
        "colab": {
          "base_uri": "https://localhost:8080/"
        },
        "id": "auZrtLJjyv3s",
        "outputId": "7525ccfd-286d-4189-cb40-1321be14c139"
      },
      "execution_count": 14,
      "outputs": [
        {
          "output_type": "stream",
          "name": "stdout",
          "text": [
            "square_digits(9119) ➞ 811181\n",
            "\n",
            "square_digits(2483) ➞ 416649\n",
            "\n",
            "square_digits(3212) ➞ 9414\n",
            "\n"
          ]
        }
      ]
    },
    {
      "cell_type": "markdown",
      "source": [
        "-------------------------------------------------------------------"
      ],
      "metadata": {
        "id": "ElRIpeSjyyG_"
      }
    },
    {
      "cell_type": "markdown",
      "source": [
        "#Q.4) Create a function that sorts a list and removes all duplicate items from it.\n",
        "##Examples :\n",
        "##```setify([1, 3, 3, 5, 5]) ➞ [1, 3, 5]```\n",
        "\n",
        "##```setify([4, 4, 4, 4]) ➞ [4]```\n",
        "\n",
        "##```setify([5, 7, 8, 9, 10, 15]) ➞ [5, 7, 8, 9, 10, 15]```\n",
        "\n",
        "##```setify([3, 3, 3, 2, 1]) ➞ [1, 2, 3]```"
      ],
      "metadata": {
        "id": "nnSl_uRPyy2_"
      }
    },
    {
      "cell_type": "code",
      "source": [
        "def setify(input_list):\n",
        "  sorted_list = sorted(set(input_list))\n",
        "  print(f\"setify({input_list}) ➞ {sorted_list}\\n\")\n",
        "\n",
        "setify([1, 3, 3, 5, 5])\n",
        "setify([4, 4, 4, 4])\n",
        "setify([5, 7, 8, 9, 10, 15])\n",
        "setify([3, 3, 3, 2, 1])"
      ],
      "metadata": {
        "colab": {
          "base_uri": "https://localhost:8080/"
        },
        "id": "4jxJplBwyygc",
        "outputId": "6b7f6c18-ab63-4c99-a729-f0e2a22c8b0a"
      },
      "execution_count": 48,
      "outputs": [
        {
          "output_type": "stream",
          "name": "stdout",
          "text": [
            "setify([1, 3, 3, 5, 5]) ➞ [1, 3, 5]\n",
            "\n",
            "setify([4, 4, 4, 4]) ➞ [4]\n",
            "\n",
            "setify([5, 7, 8, 9, 10, 15]) ➞ [5, 7, 8, 9, 10, 15]\n",
            "\n",
            "setify([3, 3, 3, 2, 1]) ➞ [1, 2, 3]\n",
            "\n"
          ]
        }
      ]
    },
    {
      "cell_type": "markdown",
      "source": [
        "-------------------------------------------------------------------"
      ],
      "metadata": {
        "id": "0CCP9G2xy0Rg"
      }
    },
    {
      "cell_type": "markdown",
      "source": [
        "#Q.5) Create a function that returns the mean of all digits.\n",
        "##Examples :\n",
        "##```mean(42) ➞ 3```\n",
        "\n",
        "##```mean(12345) ➞ 3```\n",
        "\n",
        "##```mean(666) ➞ 6```\n",
        "\n",
        "##Notes\n",
        "###•\tThe mean of all digits is the sum of digits / how many digits there are (e.g. mean of digits in 512 is (5+1+2)/3(number of digits) = 8/3=2).\n",
        "###•\tThe mean will always be an integer."
      ],
      "metadata": {
        "id": "cbq0RI9xy1Im"
      }
    },
    {
      "cell_type": "code",
      "source": [
        "def mean(num):\n",
        "  num_str = str(num)\n",
        "\n",
        "  digit_sum = sum(int(digit) for digit in num_str)\n",
        "  digit_count = len(num_str)\n",
        "\n",
        "  mean = digit_sum / digit_count\n",
        "\n",
        "  print(f\"mean({num}) ➞ {int(mean)}\\n\")\n",
        "\n",
        "mean(42)\n",
        "mean(12345)\n",
        "mean(666)"
      ],
      "metadata": {
        "colab": {
          "base_uri": "https://localhost:8080/"
        },
        "id": "h-zsenMIy0xU",
        "outputId": "2ba054b8-5875-441a-d2d4-a72c42297c1f"
      },
      "execution_count": 47,
      "outputs": [
        {
          "output_type": "stream",
          "name": "stdout",
          "text": [
            "mean(42) ➞ 3\n",
            "\n",
            "mean(12345) ➞ 3\n",
            "\n",
            "mean(666) ➞ 6\n",
            "\n"
          ]
        }
      ]
    },
    {
      "cell_type": "markdown",
      "source": [
        "------------------------------------------------------------End------------------------------------------------------------"
      ],
      "metadata": {
        "id": "mzT6GPpLy2i4"
      }
    }
  ]
}