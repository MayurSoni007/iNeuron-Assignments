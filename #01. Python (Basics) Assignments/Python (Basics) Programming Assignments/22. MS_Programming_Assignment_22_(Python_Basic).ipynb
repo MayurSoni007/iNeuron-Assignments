{
  "nbformat": 4,
  "nbformat_minor": 0,
  "metadata": {
    "colab": {
      "provenance": []
    },
    "kernelspec": {
      "name": "python3",
      "display_name": "Python 3"
    },
    "language_info": {
      "name": "python"
    }
  },
  "cells": [
    {
      "cell_type": "markdown",
      "source": [
        "#**iNeuron**\n",
        "## Programming Assignment - 22 (Python Basic)\n",
        "\n",
        "- Batch - Full Stack Data Science Bootcamp 2.0\n",
        "- Name - **Mayur Soni**\n",
        "- Email ID - **mayurssoni007@gmail.com**"
      ],
      "metadata": {
        "id": "ww36GbUMamKP"
      }
    },
    {
      "cell_type": "markdown",
      "source": [
        "-------------------------------------------------------------------"
      ],
      "metadata": {
        "id": "cgbh6ypEaqr9"
      }
    },
    {
      "cell_type": "markdown",
      "source": [
        "#Q.1) Create a function that takes three parameters where:\n",
        "##• x is the start of the range (inclusive).\n",
        "##•\ty is the end of the range (inclusive).\n",
        "##•\tn is the divisor to be checked against.\n",
        "##Return an ordered list with numbers in the range that are divisible by the third parameter n. Return an empty list if there are no numbers that are divisible by n.\n",
        "##Examples :\n",
        "##```list_operation(1, 10, 3) ➞ [3, 6, 9]```\n",
        "\n",
        "##```list_operation(7, 9, 2) ➞ [8]```\n",
        "\n",
        "##```list_operation(15, 20, 7) ➞ []```\n"
      ],
      "metadata": {
        "id": "S5FaENPIasZM"
      }
    },
    {
      "cell_type": "code",
      "source": [
        "def ordered_list(x,y,n):\n",
        "  output_list = []\n",
        "  for i in range(x,y):\n",
        "    if i % n == 0:\n",
        "      output_list.append(i)\n",
        "\n",
        "  print(f\"list_operation{x, y, n} ➞ {output_list}\\n\")\n",
        "\n",
        "\n",
        "ordered_list(1, 10, 3)\n",
        "ordered_list(7, 9, 2)\n",
        "ordered_list(15, 20, 7)"
      ],
      "metadata": {
        "colab": {
          "base_uri": "https://localhost:8080/"
        },
        "id": "74vUfl8PeOnd",
        "outputId": "2a346627-eb43-4111-aadf-325b5d8882d0"
      },
      "execution_count": 3,
      "outputs": [
        {
          "output_type": "stream",
          "name": "stdout",
          "text": [
            "list_operation(1, 10, 3) ➞ [3, 6, 9]\n",
            "\n",
            "list_operation(7, 9, 2) ➞ [8]\n",
            "\n",
            "list_operation(15, 20, 7) ➞ []\n",
            "\n"
          ]
        }
      ]
    },
    {
      "cell_type": "markdown",
      "source": [
        "-------------------------------------------------------------------"
      ],
      "metadata": {
        "id": "j__mlxwTavAM"
      }
    },
    {
      "cell_type": "markdown",
      "source": [
        "#Q.2) Create a function that takes in two lists and returns True if the second list follows the first list by one element, and False otherwise. In other words, determine if the second list is the first list shifted to the right by 1.\n",
        "##Examples :\n",
        "##```simon_says([1, 2], [5, 1]) ➞ True```\n",
        "\n",
        "##```simon_says([1, 2], [5, 5]) ➞ False```\n",
        "\n",
        "##```simon_says([1, 2, 3, 4, 5], [0, 1, 2, 3, 4]) ➞ True```\n",
        "\n",
        "##```simon_says([1, 2, 3, 4, 5], [5, 5, 1, 2, 3]) ➞ False```\n",
        "\n",
        "##Notes\n",
        "###•\tBoth input lists will be of the same length, and will have a minimum length of 2.\n",
        "###•\tThe values of the 0-indexed element in the second list and the n-1th indexed element in the first list do not matter.\n"
      ],
      "metadata": {
        "id": "pygYwjsMavwL"
      }
    },
    {
      "cell_type": "code",
      "source": [
        "def simon_says(input_list_1, input_list_2):\n",
        "  if len(input_list_1) == len(input_list_2) and len(input_list_1) >=2 and len(input_list_2) >=2:\n",
        "    if(input_list_1[:-1] == input_list_2[1:]):\n",
        "      print(f\"simon_says({input_list_1,input_list_2}) ➞ {True}\\n\")\n",
        "    else:\n",
        "      print(f\"simon_says({input_list_1,input_list_2}) ➞ {False}\\n\")\n",
        "\n",
        "simon_says([1, 2], [5, 1])\n",
        "simon_says([1, 2], [5, 5])\n",
        "simon_says([1, 2, 3, 4, 5], [0, 1, 2, 3, 4])\n",
        "simon_says([1, 2, 3, 4, 5], [5, 5, 1, 2, 3])"
      ],
      "metadata": {
        "id": "VSVlbkTpavVq",
        "colab": {
          "base_uri": "https://localhost:8080/"
        },
        "outputId": "15613299-f92f-43b8-f364-e49ba3e8b651"
      },
      "execution_count": 6,
      "outputs": [
        {
          "output_type": "stream",
          "name": "stdout",
          "text": [
            "simon_says(([1, 2], [5, 1])) ➞ True\n",
            "\n",
            "simon_says(([1, 2], [5, 5])) ➞ False\n",
            "\n",
            "simon_says(([1, 2, 3, 4, 5], [0, 1, 2, 3, 4])) ➞ True\n",
            "\n",
            "simon_says(([1, 2, 3, 4, 5], [5, 5, 1, 2, 3])) ➞ False\n",
            "\n"
          ]
        }
      ]
    },
    {
      "cell_type": "markdown",
      "source": [
        "-------------------------------------------------------------------"
      ],
      "metadata": {
        "id": "PXUJSNRCayIb"
      }
    },
    {
      "cell_type": "markdown",
      "source": [
        "#Q.3) A group of friends have decided to start a secret society. The name will be the first letter of each of their names, sorted in alphabetical order.\n",
        "\n",
        "##Create a function that takes in a list of names and returns the name of the secret society.\n",
        "\n",
        "##Examples :\n",
        "##```society_name([\"Adam\", \"Sarah\", \"Malcolm\"]) ➞ \"AMS\"```\n",
        "\n",
        "##```society_name([\"Harry\", \"Newt\", \"Luna\", \"Cho\"]) ➞ \"CHLN\"```\n",
        "\n",
        "##```society_name([\"Phoebe\", \"Chandler\", \"Rachel\", \"Ross\", \"Monica\", \"Joey\"]) ➞ \"CJMPRR\"```"
      ],
      "metadata": {
        "id": "AXHkXTKeazsb"
      }
    },
    {
      "cell_type": "code",
      "source": [
        "def society_name(list_1):\n",
        "  out_list = []\n",
        "\n",
        "  for ele in list_1:\n",
        "    out_list.append(ele[0])\n",
        "\n",
        "  output = ''.join(sorted(out_list))\n",
        "  print(f\"society_name({list_1}) ➞ {output}\\n\")\n",
        "\n",
        "\n",
        "society_name([\"Adam\", \"Sarah\", \"Malcolm\"])\n",
        "society_name([\"Harry\", \"Newt\", \"Luna\", \"Cho\"])\n",
        "society_name([\"Phoebe\", \"Chandler\", \"Rachel\", \"Ross\", \"Monica\", \"Joey\"])"
      ],
      "metadata": {
        "id": "EuvYgHCgayfQ",
        "colab": {
          "base_uri": "https://localhost:8080/"
        },
        "outputId": "48cb46bb-6c22-40e9-8329-7c8410f01aa2"
      },
      "execution_count": 10,
      "outputs": [
        {
          "output_type": "stream",
          "name": "stdout",
          "text": [
            "society_name(['Adam', 'Sarah', 'Malcolm']) ➞ AMS\n",
            "\n",
            "society_name(['Harry', 'Newt', 'Luna', 'Cho']) ➞ CHLN\n",
            "\n",
            "society_name(['Phoebe', 'Chandler', 'Rachel', 'Ross', 'Monica', 'Joey']) ➞ CJMPRR\n",
            "\n"
          ]
        }
      ]
    },
    {
      "cell_type": "markdown",
      "source": [
        "-------------------------------------------------------------------"
      ],
      "metadata": {
        "id": "74O5ORPAa1Iq"
      }
    },
    {
      "cell_type": "markdown",
      "source": [
        "#Q.4) An isogram is a word that has no duplicate letters. Create a function that takes a string and returns either True or False depending on whether or not it's an \"isogram\".\n",
        "\n",
        "##Examples :\n",
        "##```is_isogram(\"Algorism\") ➞ True```\n",
        "\n",
        "##```is_isogram(\"PasSword\") ➞ False``` (Not case sensitive.)\n",
        "\n",
        "##```is_isogram(\"Consecutive\") ➞ False```\n",
        "\n",
        "##Notes\n",
        "###•\tIgnore letter case (should not be case sensitive).\n",
        "###•\tAll test cases contain valid one word strings.\n"
      ],
      "metadata": {
        "id": "LxOGslPDa188"
      }
    },
    {
      "cell_type": "code",
      "source": [
        "def is_isogram(string):\n",
        "  lower_string = string.lower()\n",
        "  if len(lower_string) == len(set(lower_string)):\n",
        "    print(f\"is_isogram({string}) ➞ True\\n\")\n",
        "  else:\n",
        "    print(f\"is_isogram({string}) ➞ False\\n\")\n",
        "\n",
        "\n",
        "is_isogram(\"Algorism\")\n",
        "is_isogram(\"PasSword\")\n",
        "is_isogram(\"Consecutive\")"
      ],
      "metadata": {
        "id": "3KpMjGp0a1gl",
        "colab": {
          "base_uri": "https://localhost:8080/"
        },
        "outputId": "2838103b-fe53-4113-a3d0-a21cf2405c1f"
      },
      "execution_count": 24,
      "outputs": [
        {
          "output_type": "stream",
          "name": "stdout",
          "text": [
            "is_isogram(Algorism) ➞ True\n",
            "\n",
            "is_isogram(PasSword) ➞ False\n",
            "\n",
            "is_isogram(Consecutive) ➞ False\n",
            "\n"
          ]
        }
      ]
    },
    {
      "cell_type": "markdown",
      "source": [
        "-------------------------------------------------------------------"
      ],
      "metadata": {
        "id": "2itFJ80da3KT"
      }
    },
    {
      "cell_type": "markdown",
      "source": [
        "#Q.5) Create a function that takes a string and returns True or False, depending on whether the characters are in order or not.\n",
        "##Examples :\n",
        "##```is_in_order(\"abc\") ➞ True```\n",
        "\n",
        "##```is_in_order(\"edabit\") ➞ False```\n",
        "\n",
        "##```is_in_order(\"123\") ➞ True```\n",
        "\n",
        "##```is_in_order(\"xyzz\") ➞ True```\n",
        "\n",
        "##Notes\n",
        "###• You don't have to handle empty strings.\n"
      ],
      "metadata": {
        "id": "x0JvLdf1a3zK"
      }
    },
    {
      "cell_type": "code",
      "source": [
        "def is_in_order(string):\n",
        "  string_sorted = ''.join(sorted(string))\n",
        "\n",
        "  if string == string_sorted:\n",
        "    print(f\"is_in_order({string}) ➞ True\\n\")\n",
        "  else:\n",
        "    print(f\"is_in_order({string}) ➞ False\\n\")\n",
        "\n",
        "\n",
        "is_in_order(\"abc\")\n",
        "is_in_order(\"edabit\")\n",
        "is_in_order(\"123\")\n",
        "is_in_order(\"xyzz\")"
      ],
      "metadata": {
        "id": "onJ8C0Kea3gg",
        "colab": {
          "base_uri": "https://localhost:8080/"
        },
        "outputId": "a4c5c712-e87d-4b3c-a91a-7d5a2db3e3c4"
      },
      "execution_count": 25,
      "outputs": [
        {
          "output_type": "stream",
          "name": "stdout",
          "text": [
            "is_in_order(abc) ➞ True\n",
            "\n",
            "is_in_order(edabit) ➞ False\n",
            "\n",
            "is_in_order(123) ➞ True\n",
            "\n",
            "is_in_order(xyzz) ➞ True\n",
            "\n"
          ]
        }
      ]
    },
    {
      "cell_type": "markdown",
      "source": [
        "------------------------------------------------------------End------------------------------------------------------------"
      ],
      "metadata": {
        "id": "6FZp0fv3a5rS"
      }
    }
  ]
}