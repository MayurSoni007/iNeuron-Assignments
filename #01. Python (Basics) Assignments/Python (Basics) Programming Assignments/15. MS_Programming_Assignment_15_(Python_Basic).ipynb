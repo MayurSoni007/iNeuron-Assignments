{
  "nbformat": 4,
  "nbformat_minor": 0,
  "metadata": {
    "colab": {
      "provenance": []
    },
    "kernelspec": {
      "name": "python3",
      "display_name": "Python 3"
    },
    "language_info": {
      "name": "python"
    }
  },
  "cells": [
    {
      "cell_type": "markdown",
      "source": [
        "#**iNeuron**\n",
        "## Programming Assignment - 15 (Python Basic)\n",
        "\n",
        "- Batch - Full Stack Data Science Bootcamp 2.0\n",
        "- Name - **Mayur Soni**\n",
        "- Email ID - **mayurssoni007@gmail.com**"
      ],
      "metadata": {
        "id": "phJUlgKF7E8y"
      }
    },
    {
      "cell_type": "markdown",
      "source": [
        "-----------------------------------------------------------------"
      ],
      "metadata": {
        "id": "0rS76tSp9wVx"
      }
    },
    {
      "cell_type": "markdown",
      "source": [
        "#Q.1) Please write a program using generator to print the numbers which can be divisible by 5 and 7 between 0 and n in comma separated form while n is input by console.\n",
        "##Example:\n",
        "##If the following n is given as input to the program: **```100```**\n",
        "##Then, the output of the program should be: **```0,35,70```**\n"
      ],
      "metadata": {
        "id": "TAsiCJkv9yLQ"
      }
    },
    {
      "cell_type": "code",
      "source": [
        "def calc(n):\n",
        "  for i in range(0,n):\n",
        "    if (i % 5 == 0) and (i % 7 == 0):\n",
        "      yield i\n",
        "\n",
        "n = int(input(\"Enter a number: \"))\n",
        "\n",
        "output = \",\".join(str(num) for num in calc(n))\n",
        "\n",
        "print(output)"
      ],
      "metadata": {
        "colab": {
          "base_uri": "https://localhost:8080/"
        },
        "id": "_PiGOdw_9oZU",
        "outputId": "466e30be-4e67-4817-b7a2-0e8d2ba60775"
      },
      "execution_count": 19,
      "outputs": [
        {
          "output_type": "stream",
          "name": "stdout",
          "text": [
            "Enter a number: 100\n",
            "0,35,70\n"
          ]
        }
      ]
    },
    {
      "cell_type": "markdown",
      "source": [
        "---------------------------------------------------------------------"
      ],
      "metadata": {
        "id": "4_N8jxol99mf"
      }
    },
    {
      "cell_type": "markdown",
      "source": [
        "#Q.2) Please write a program using generator to print the even numbers between 0 and n in comma separated form while n is input by console.\n",
        "##Example:\n",
        "##If the following n is given as input to the program: **```10```**\n",
        "##Then, the output of the program should be: **```0,2,4,6,8,10```**"
      ],
      "metadata": {
        "id": "6w8Vn5D3-AJf"
      }
    },
    {
      "cell_type": "code",
      "source": [
        "def calc(n):\n",
        "  for i in range(0,n+1):\n",
        "    if (i % 2 == 0):\n",
        "      yield i\n",
        "\n",
        "n = int(input(\"Enter a number: \"))\n",
        "\n",
        "output = \",\".join(str(num) for num in calc(n))\n",
        "\n",
        "print(output)"
      ],
      "metadata": {
        "colab": {
          "base_uri": "https://localhost:8080/"
        },
        "id": "-gOM_DUk-CYy",
        "outputId": "b043ed19-ae92-498f-8c1d-c642ac024977"
      },
      "execution_count": 27,
      "outputs": [
        {
          "output_type": "stream",
          "name": "stdout",
          "text": [
            "Enter a number: 10\n",
            "0,2,4,6,8,10\n"
          ]
        }
      ]
    },
    {
      "cell_type": "markdown",
      "source": [
        "---------------------------------------------------------------------"
      ],
      "metadata": {
        "id": "bTiNA1Je-DPH"
      }
    },
    {
      "cell_type": "markdown",
      "source": [
        "#Q.3) The Fibonacci Sequence is computed based on the following formula:\n",
        "##f(n)=0 if n=0\n",
        "##f(n)=1 if n=1\n",
        "##f(n)=f(n-1)+f(n-2) if n>1\n",
        "##Please write a program using list comprehension to print the Fibonacci Sequence in comma separated form with a given n input by console.\n",
        "##Example:\n",
        "##If the following n is given as input to the program: **```7```**\n",
        "##Then, the output of the program should be: **```0,1,1,2,3,5,8,13```**"
      ],
      "metadata": {
        "id": "5qKTiaF0-GNv"
      }
    },
    {
      "cell_type": "code",
      "source": [
        "def fibonacci(n):\n",
        "  sequence = [0,1]\n",
        "  if n <= 1:\n",
        "    return sequence[:n+1]\n",
        "  else:\n",
        "    [sequence.append(sequence[-1] + sequence[-2]) for _ in range(n-1)]\n",
        "  return sequence\n",
        "\n",
        "n = int(input(\"Enter a number : \"))\n",
        "\n",
        "output = \",\".join(str(num) for num in fibonacci(n))\n",
        "\n",
        "print(output)"
      ],
      "metadata": {
        "colab": {
          "base_uri": "https://localhost:8080/"
        },
        "id": "vykOmZcE-FQK",
        "outputId": "d4e39bf4-9513-4bcb-8ac9-c4ada2b3b55d"
      },
      "execution_count": 38,
      "outputs": [
        {
          "output_type": "stream",
          "name": "stdout",
          "text": [
            "Enter a number : 7\n",
            "0,1,1,2,3,5,8,13\n"
          ]
        }
      ]
    },
    {
      "cell_type": "markdown",
      "source": [
        "---------------------------------------------------------------------"
      ],
      "metadata": {
        "id": "kMxEkQa--InH"
      }
    },
    {
      "cell_type": "markdown",
      "source": [
        "#Q.4) Assuming that we have some email addresses in the ```\"username@companyname.com\"``` format, please write program to print the user name of a given email address. Both user names and company names are composed of letters only.\n",
        "##Example:\n",
        "##If the following email address is given as input to the program: **```john@google.com```**\n",
        "##Then, the output of the program should be: **```john```**"
      ],
      "metadata": {
        "id": "u93QkGuY-JyG"
      }
    },
    {
      "cell_type": "code",
      "source": [
        "def email():\n",
        "  inpu = input(\"Enter email address : \")\n",
        "  outpu = inpu.split(\"@\")\n",
        "  print(f\"Username is : {outpu[0]}\")\n",
        "email()"
      ],
      "metadata": {
        "colab": {
          "base_uri": "https://localhost:8080/"
        },
        "id": "fLUZkP0Z-JLb",
        "outputId": "ce92198d-6b52-44f9-831d-82c765f99514"
      },
      "execution_count": 44,
      "outputs": [
        {
          "output_type": "stream",
          "name": "stdout",
          "text": [
            "Enter email address : john@google.com\n",
            "Username is : john\n"
          ]
        }
      ]
    },
    {
      "cell_type": "markdown",
      "source": [
        "---------------------------------------------------------------------"
      ],
      "metadata": {
        "id": "lCO9trrB-MsX"
      }
    },
    {
      "cell_type": "markdown",
      "source": [
        "#Q.5) Define a class named Shape and its subclass Square. The Square class has an init function which takes a length as argument. Both classes have a area function which can print the area of the shape where Shape's area is 0 by default."
      ],
      "metadata": {
        "id": "2zLx25pH-N7P"
      }
    },
    {
      "cell_type": "code",
      "source": [
        "class Shape():\n",
        "  def area(self):\n",
        "    return 0\n",
        "\n",
        "class Square(Shape):\n",
        "  def __init__(self,length):\n",
        "    self.length = length\n",
        "  def area(self):\n",
        "    return self.length * self.length\n",
        "\n",
        "square = Square(45)\n",
        "print(square.area())"
      ],
      "metadata": {
        "colab": {
          "base_uri": "https://localhost:8080/"
        },
        "id": "tcpMvDrK-NTS",
        "outputId": "135592f8-710f-4166-ab55-64ed7f564767"
      },
      "execution_count": 49,
      "outputs": [
        {
          "output_type": "stream",
          "name": "stdout",
          "text": [
            "2025\n"
          ]
        }
      ]
    },
    {
      "cell_type": "markdown",
      "source": [
        "------------------------------------------------------------End------------------------------------------------------------"
      ],
      "metadata": {
        "id": "Ewt4ZxJXA4HX"
      }
    }
  ]
}