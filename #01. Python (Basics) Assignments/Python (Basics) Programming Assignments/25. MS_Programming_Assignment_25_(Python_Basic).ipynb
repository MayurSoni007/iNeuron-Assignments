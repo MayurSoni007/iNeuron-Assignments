{
  "nbformat": 4,
  "nbformat_minor": 0,
  "metadata": {
    "colab": {
      "provenance": []
    },
    "kernelspec": {
      "name": "python3",
      "display_name": "Python 3"
    },
    "language_info": {
      "name": "python"
    }
  },
  "cells": [
    {
      "cell_type": "markdown",
      "source": [
        "#**iNeuron**\n",
        "## Programming Assignment - 25 (Python Basic)\n",
        "\n",
        "- Batch - Full Stack Data Science Bootcamp 2.0\n",
        "- Name - **Mayur Soni**\n",
        "- Email ID - **mayurssoni007@gmail.com**"
      ],
      "metadata": {
        "id": "0GrMYJ9_IhYu"
      }
    },
    {
      "cell_type": "markdown",
      "source": [
        "----------------------------------------------------------------"
      ],
      "metadata": {
        "id": "7OMS4xVIImUG"
      }
    },
    {
      "cell_type": "markdown",
      "source": [
        "#Q.1) Create a function that takes three integer arguments (a, b, c) and returns the amount of integers which are of equal value.\n",
        "\n",
        "##Examples :\n",
        "##```equal(3, 4, 3) ➞ 2```\n",
        "\n",
        "##```equal(1, 1, 1) ➞ 3```\n",
        "\n",
        "##```equal(3, 4, 1) ➞ 0```\n",
        "\n",
        "##Notes\n",
        "###• Your function must return 0, 2 or 3.\n"
      ],
      "metadata": {
        "id": "DZrPJp2qIqT2"
      }
    },
    {
      "cell_type": "code",
      "execution_count": 19,
      "metadata": {
        "id": "WM-ckRwEIYj_",
        "colab": {
          "base_uri": "https://localhost:8080/"
        },
        "outputId": "9fbd6ac0-4ab7-424c-8da4-16bf887656df"
      },
      "outputs": [
        {
          "output_type": "stream",
          "name": "stdout",
          "text": [
            "equal(3, 4, 3) ➞ 2\n",
            "equal(1, 1, 1) ➞ 3\n",
            "equal(3, 4, 1) ➞ 0\n"
          ]
        }
      ],
      "source": [
        "def equal(a, b, c):\n",
        "  if a == b == c:\n",
        "    return 3\n",
        "  elif a == b or b == c or a == c:\n",
        "    return 2\n",
        "  else:\n",
        "    return 0\n",
        "\n",
        "print(f\"equal(3, 4, 3) ➞\" , equal(3, 4, 3))\n",
        "print(f\"equal(1, 1, 1) ➞\" , equal(1, 1, 1))\n",
        "print(f\"equal(3, 4, 1) ➞\" , equal(3, 4, 1))"
      ]
    },
    {
      "cell_type": "markdown",
      "source": [
        "----------------------------------------------------------------"
      ],
      "metadata": {
        "id": "vpdaooPQIrvV"
      }
    },
    {
      "cell_type": "markdown",
      "source": [
        "#Q.2) Write a function that converts a dictionary into a list of keys-values tuples.\n",
        "\n",
        "##Examples :\n",
        "```\n",
        "dict_to_list({\n",
        "  \"D\": 1,\n",
        "  \"B\": 2,\n",
        "  \"C\": 3\n",
        "}) ➞ [(\"B\", 2), (\"C\", 3), (\"D\", 1)]\n",
        "```\n",
        "\n",
        "```\n",
        "dict_to_list({\n",
        "  \"likes\": 2,\n",
        "  \"dislikes\": 3,\n",
        "  \"followers\": 10\n",
        "}) ➞ [(\"dislikes\", 3), (\"followers\", 10), (\"likes\", 2)]\n",
        "```\n",
        "\n",
        "##Notes\n",
        "###• Return the elements in the list in alphabetical order."
      ],
      "metadata": {
        "id": "q2xOWk6YIsc-"
      }
    },
    {
      "cell_type": "code",
      "source": [
        "def dict_to_list(input_dict):\n",
        "  output_list = []\n",
        "\n",
        "  for keys, values in sorted(input_dict.items()):\n",
        "    output_list.append((keys,values))\n",
        "\n",
        "  print(f\"{input_dict} ➞ {output_list}\\n\")\n",
        "\n",
        "dict_to_list({\"D\": 1,\"B\": 2,\"C\": 3})\n",
        "dict_to_list({\"likes\": 2,\"dislikes\": 3,\"followers\": 10})"
      ],
      "metadata": {
        "id": "5pQgZAVzIsK7",
        "colab": {
          "base_uri": "https://localhost:8080/"
        },
        "outputId": "1e770320-653b-4d1b-b248-7c41326a001f"
      },
      "execution_count": 27,
      "outputs": [
        {
          "output_type": "stream",
          "name": "stdout",
          "text": [
            "{'D': 1, 'B': 2, 'C': 3} ➞ [('B', 2), ('C', 3), ('D', 1)]\n",
            "\n",
            "{'likes': 2, 'dislikes': 3, 'followers': 10} ➞ [('dislikes', 3), ('followers', 10), ('likes', 2)]\n",
            "\n"
          ]
        }
      ]
    },
    {
      "cell_type": "markdown",
      "source": [
        "----------------------------------------------------------------"
      ],
      "metadata": {
        "id": "rjtMQNYiItuw"
      }
    },
    {
      "cell_type": "markdown",
      "source": [
        "#Q.3) Write a function that creates a dictionary with each (key, value) pair being the (lower case, upper case) versions of a letter, respectively.\n",
        "\n",
        "##Examples :\n",
        "##```mapping([\"p\", \"s\"]) ➞ { \"p\": \"P\", \"s\": \"S\" }```\n",
        "\n",
        "##```mapping([\"a\", \"b\", \"c\"]) ➞ { \"a\": \"A\", \"b\": \"B\", \"c\": \"C\" }```\n",
        "\n",
        "##```mapping([\"a\", \"v\", \"y\", \"z\"]) ➞ { \"a\": \"A\", \"v\": \"V\", \"y\": \"Y\", \"z\": \"Z\" }```\n",
        "\n",
        "##Notes\n",
        "###• All of the letters in the input list will always be lowercase."
      ],
      "metadata": {
        "id": "9SmQNbd_Iuh3"
      }
    },
    {
      "cell_type": "code",
      "source": [
        "def mapping(input_list):\n",
        "  output_dict = {}\n",
        "\n",
        "  for ele in input_list:\n",
        "    output_dict[ele] = ele.upper()\n",
        "\n",
        "  print(f\"mapping({input_list}) ➞ {output_dict} \\n\")\n",
        "\n",
        "mapping([\"p\", \"s\"])\n",
        "mapping([\"a\", \"b\", \"c\"])\n",
        "mapping([\"a\", \"v\", \"y\", \"z\"])"
      ],
      "metadata": {
        "id": "w0mLpcmNIuCk",
        "colab": {
          "base_uri": "https://localhost:8080/"
        },
        "outputId": "325dd948-4204-4fab-b9bb-447a30949f52"
      },
      "execution_count": 29,
      "outputs": [
        {
          "output_type": "stream",
          "name": "stdout",
          "text": [
            "mapping(['p', 's']) ➞ {'p': 'P', 's': 'S'} \n",
            "\n",
            "mapping(['a', 'b', 'c']) ➞ {'a': 'A', 'b': 'B', 'c': 'C'} \n",
            "\n",
            "mapping(['a', 'v', 'y', 'z']) ➞ {'a': 'A', 'v': 'V', 'y': 'Y', 'z': 'Z'} \n",
            "\n"
          ]
        }
      ]
    },
    {
      "cell_type": "markdown",
      "source": [
        "----------------------------------------------------------------"
      ],
      "metadata": {
        "id": "EQw0Ms-kIvtd"
      }
    },
    {
      "cell_type": "markdown",
      "source": [
        "#Q.4) Write a function, that replaces all vowels in a string with a specified vowel.\n",
        "\n",
        "##Examples :\n",
        "###```vow_replace(\"apples and bananas\", \"u\") ➞ \"upplus und bununus\"```\n",
        "\n",
        "##```vow_replace(\"cheese casserole\", \"o\") ➞ \"choosocossorolo\"```\n",
        "\n",
        "##```vow_replace(\"stuffed jalapeno poppers\", \"e\") ➞ \"steffedjelepene peppers\"```\n",
        "\n",
        "##Notes\n",
        "###• All words will be lowercase. Y is not considered a vowel."
      ],
      "metadata": {
        "id": "7eLd3x0vIwld"
      }
    },
    {
      "cell_type": "code",
      "source": [
        "def vow_replace(input_string, replacable_string):\n",
        "  vowels = ['a','e','i','o','u']\n",
        "  output_string = \"\"\n",
        "\n",
        "  for i in input_string:\n",
        "    if i in vowels:\n",
        "      output_string += replacable_string\n",
        "    else:\n",
        "      output_string += i\n",
        "\n",
        "  print(f\"vow_replace({input_string}, {replacable_string}) ➞ {output_string} \\n\")\n",
        "\n",
        "\n",
        "vow_replace(\"apples and bananas\", \"u\")\n",
        "vow_replace(\"cheese casserole\", \"o\")\n",
        "vow_replace(\"stuffed jalapeno poppers\", \"e\")"
      ],
      "metadata": {
        "id": "wDuzXAI0IwLL",
        "colab": {
          "base_uri": "https://localhost:8080/"
        },
        "outputId": "e1c983ec-adbb-439e-a3ba-e3325a7bbf40"
      },
      "execution_count": 41,
      "outputs": [
        {
          "output_type": "stream",
          "name": "stdout",
          "text": [
            "vow_replace(apples and bananas, u) ➞ upplus und bununus \n",
            "\n",
            "vow_replace(cheese casserole, o) ➞ chooso cossorolo \n",
            "\n",
            "vow_replace(stuffed jalapeno poppers, e) ➞ steffed jelepene peppers \n",
            "\n"
          ]
        }
      ]
    },
    {
      "cell_type": "markdown",
      "source": [
        "----------------------------------------------------------------"
      ],
      "metadata": {
        "id": "Q32Wg1PvIx1F"
      }
    },
    {
      "cell_type": "markdown",
      "source": [
        "#Q.5) Create a function that takes a string as input and capitalizes a letter if its ASCII code is even and returns its lower case version if its ASCII code is odd.\n",
        "\n",
        "##Examples :\n",
        "##```ascii_capitalize(\"to be or not to be!\") ➞ \"To Be oRNoT To Be!\"```\n",
        "\n",
        "##```ascii_capitalize(\"THE LITTLE MERMAID\") ➞ \"THeLiTTLemeRmaiD\"```\n",
        "\n",
        "##```ascii_capitalize(\"Oh what a beautiful morning.\") ➞ \"oHwHaT a BeauTiFuLmoRNiNg.\"```"
      ],
      "metadata": {
        "id": "s2BauhCOIybF"
      }
    },
    {
      "cell_type": "code",
      "source": [
        "def ascii_capitalize(inp_str):\n",
        "  out_str = \"\"\n",
        "\n",
        "  for i in inp_str.lower():\n",
        "    if (ord(i) %2 == 0):\n",
        "      out_str += i.upper()\n",
        "    else:\n",
        "      out_str += i\n",
        "\n",
        "  print(f\"ascii_capitalize({inp_str}) ➞ {out_str} \\n\")\n",
        "\n",
        "ascii_capitalize(\"to be or not to be!\")\n",
        "ascii_capitalize(\"THE LITTLE MERMAID\")\n",
        "ascii_capitalize(\"Oh what a beautiful morning.\")"
      ],
      "metadata": {
        "id": "Wgh6TLV8IyJn",
        "colab": {
          "base_uri": "https://localhost:8080/"
        },
        "outputId": "630b20e9-06e4-43bb-f869-daf701567e90"
      },
      "execution_count": 45,
      "outputs": [
        {
          "output_type": "stream",
          "name": "stdout",
          "text": [
            "ascii_capitalize(to be or not to be!) ➞ To Be oR NoT To Be! \n",
            "\n",
            "ascii_capitalize(THE LITTLE MERMAID) ➞ THe LiTTLe meRmaiD \n",
            "\n",
            "ascii_capitalize(Oh what a beautiful morning.) ➞ oH wHaT a BeauTiFuL moRNiNg. \n",
            "\n"
          ]
        }
      ]
    },
    {
      "cell_type": "markdown",
      "source": [
        "------------------------------------------------------------End------------------------------------------------------------"
      ],
      "metadata": {
        "id": "2CudlzX_IzwF"
      }
    }
  ]
}