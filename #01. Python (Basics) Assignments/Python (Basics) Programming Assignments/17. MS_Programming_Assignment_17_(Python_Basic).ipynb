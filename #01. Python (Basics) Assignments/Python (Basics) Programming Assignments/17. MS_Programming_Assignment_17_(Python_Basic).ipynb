{
  "nbformat": 4,
  "nbformat_minor": 0,
  "metadata": {
    "colab": {
      "provenance": []
    },
    "kernelspec": {
      "name": "python3",
      "display_name": "Python 3"
    },
    "language_info": {
      "name": "python"
    }
  },
  "cells": [
    {
      "cell_type": "markdown",
      "source": [
        "#**iNeuron**\n",
        "## Programming Assignment - 17 (Python Basic)\n",
        "\n",
        "- Batch - Full Stack Data Science Bootcamp 2.0\n",
        "- Name - **Mayur Soni**\n",
        "- Email ID - **mayurssoni007@gmail.com**"
      ],
      "metadata": {
        "id": "AUbFkWTtqID_"
      }
    },
    {
      "cell_type": "markdown",
      "source": [
        "----------------------------------------------------------------------"
      ],
      "metadata": {
        "id": "3qGA4k9rqJ4l"
      }
    },
    {
      "cell_type": "markdown",
      "source": [
        "#Q.1) Create a function that takes three arguments a, b, c and returns the sum of the numbers that are evenly divided by c from the range a, b inclusive.\n",
        "##Examples :\n",
        "##```evenly_divisible(1, 10, 20) ➞ 0```\n",
        "### No number between 1 and 10 can be evenly divided by 20.\n",
        "\n",
        "##```evenly_divisible(1, 10, 2) ➞ 30```\n",
        "### 2 + 4 + 6 + 8 + 10 = 30\n",
        "\n",
        "##```evenly_divisible(1, 10, 3) ➞ 18```\n",
        "### 3 + 6 + 9 = 18"
      ],
      "metadata": {
        "id": "gLn5dn7cqLWl"
      }
    },
    {
      "cell_type": "code",
      "execution_count": 31,
      "metadata": {
        "colab": {
          "base_uri": "https://localhost:8080/"
        },
        "id": "vZQws6oVqDl-",
        "outputId": "1399297c-6ddc-4b7b-86f9-63997358416b"
      },
      "outputs": [
        {
          "output_type": "stream",
          "name": "stdout",
          "text": [
            "a : 1\n",
            "b : 10\n",
            "c : 20\n",
            "divisible numbers are : []\n",
            "No number between 1 and 10 can be evenly divided by 20\n",
            "\n",
            "a : 1\n",
            "b : 10\n",
            "c : 2\n",
            "divisible numbers are : [2, 4, 6, 8, 10]\n",
            "evenly_divisible((1, 10, 2)) ➞ 30\n",
            "\n",
            "a : 1\n",
            "b : 10\n",
            "c : 3\n",
            "divisible numbers are : [3, 6, 9]\n",
            "evenly_divisible((1, 10, 3)) ➞ 18\n",
            "\n"
          ]
        }
      ],
      "source": [
        "def evenly_divisible():\n",
        "  a = int(input(\"a : \"))\n",
        "  b = int(input(\"b : \"))\n",
        "  c = int(input(\"c : \"))\n",
        "  empty_list = []\n",
        "\n",
        "  for i in range(a,b+1):\n",
        "    if i % c == 0:\n",
        "      empty_list.append(i)\n",
        "  print(f\"divisible numbers are : {empty_list}\")\n",
        "\n",
        "  list_sum = sum(empty_list)\n",
        "  if list_sum == 0:\n",
        "    print(f\"No number between {a} and {b} can be evenly divided by {c}\\n\")\n",
        "  else:\n",
        "    print(f\"evenly_divisible({a, b, c}) ➞ {list_sum}\\n\")\n",
        "\n",
        "\n",
        "for j in range(3):\n",
        "  evenly_divisible()"
      ]
    },
    {
      "cell_type": "markdown",
      "source": [
        "----------------------------------------------------------------------"
      ],
      "metadata": {
        "id": "bi6dk83sqb3N"
      }
    },
    {
      "cell_type": "markdown",
      "source": [
        "#Q.2) Create a function that returns True if a given inequality expression is correct and False otherwise.\n",
        "##Examples :\n",
        "##```correct_signs(\"3 < 7 < 11\") ➞ True```\n",
        "\n",
        "##```correct_signs(\"13 > 44 > 33 > 1\") ➞ False```\n",
        "\n",
        "##```correct_signs(\"1 < 2 < 6 < 9 > 3\") ➞ True```\n"
      ],
      "metadata": {
        "id": "Rit4PZAOqeG8"
      }
    },
    {
      "cell_type": "code",
      "source": [
        "def inequality_expression():\n",
        "  input_str = input(\"Enter the inequality : \")\n",
        "  output_str = eval(input_str)\n",
        "  print(f\"correct_sign({input_str}) ➞ {output_str}\\n\")\n",
        "\n",
        "for i in range(3):\n",
        "  inequality_expression()"
      ],
      "metadata": {
        "colab": {
          "base_uri": "https://localhost:8080/"
        },
        "id": "IUQSg8vlqdpZ",
        "outputId": "dfb3afc9-8224-4f09-d88c-a2f01d8c31e8"
      },
      "execution_count": 34,
      "outputs": [
        {
          "output_type": "stream",
          "name": "stdout",
          "text": [
            "Enter the inequality : 3<7<11\n",
            "correct_sign(3<7<11) ➞ True\n",
            "\n",
            "Enter the inequality : 13>44>33>1\n",
            "correct_sign(13>44>33>1) ➞ False\n",
            "\n",
            "Enter the inequality : 1<2<6<9>3\n",
            "correct_sign(1<2<6<9>3) ➞ True\n",
            "\n"
          ]
        }
      ]
    },
    {
      "cell_type": "markdown",
      "source": [
        "----------------------------------------------------------------------"
      ],
      "metadata": {
        "id": "My5w7kSpqf1U"
      }
    },
    {
      "cell_type": "markdown",
      "source": [
        "#Q.3) Create a function that replaces all the vowels in a string with a specified character.\n",
        "##Examples :\n",
        "##```replace_vowels(\"the aardvark\", \"#\") ➞ \"th# ##rdv#rk\"```\n",
        "\n",
        "##```replace_vowels(\"minnie mouse\", \"?\") ➞ \"m?nn?? m??s?\"```\n",
        "\n",
        "##```replace_vowels(\"shakespeare\", \"*\") ➞ \"sh*k*sp**r*\"```\n"
      ],
      "metadata": {
        "id": "Yik35l8LqggP"
      }
    },
    {
      "cell_type": "code",
      "source": [
        "def replace_vowels():\n",
        "  vowels = \"aeiouAEIOU\"\n",
        "  input_string = input(\"Enter string : \")\n",
        "  input_string_copy = input_string\n",
        "  replace_char = input(\"Enter replacement character : \")\n",
        "\n",
        "  for i in input_string:\n",
        "    if i in vowels:\n",
        "      input_string = input_string.replace(i,replace_char)\n",
        "\n",
        "  print(f\"replace_vowels({input_string}, {replace_char}) ➞ {input_string}\\n\")\n",
        "\n",
        "for i in range(3):\n",
        "  replace_vowels()"
      ],
      "metadata": {
        "colab": {
          "base_uri": "https://localhost:8080/"
        },
        "id": "XHwMZsR7qgKp",
        "outputId": "e37b6227-1921-4209-f1db-184456b9123a"
      },
      "execution_count": 45,
      "outputs": [
        {
          "output_type": "stream",
          "name": "stdout",
          "text": [
            "Enter string : the aardvark\n",
            "Enter replacement character : #\n",
            "replace_vowels(th# ##rdv#rk, #) ➞ th# ##rdv#rk\n",
            "\n",
            "Enter string : minnie mouse\n",
            "Enter replacement character : ?\n",
            "replace_vowels(m?nn?? m??s?, ?) ➞ m?nn?? m??s?\n",
            "\n",
            "Enter string : shakespeare\n",
            "Enter replacement character : *\n",
            "replace_vowels(sh*k*sp**r*, *) ➞ sh*k*sp**r*\n",
            "\n"
          ]
        }
      ]
    },
    {
      "cell_type": "markdown",
      "source": [
        "----------------------------------------------------------------------"
      ],
      "metadata": {
        "id": "yqMaUOYEqiDl"
      }
    },
    {
      "cell_type": "markdown",
      "source": [
        "#Q.4) Write a function that calculates the factorial of a number recursively.\n",
        "##Examples :\n",
        "##```factorial(5) ➞ 120```\n",
        "\n",
        "##```factorial(3) ➞ 6```\n",
        "\n",
        "##```factorial(1) ➞ 1```\n",
        "\n",
        "##```factorial(0) ➞ 1```"
      ],
      "metadata": {
        "id": "boIZmSoVqjPD"
      }
    },
    {
      "cell_type": "code",
      "source": [
        "def factorial():\n",
        "  fact = int(input(\"Enter no : \"))\n",
        "  a = 1\n",
        "\n",
        "  for i in range(1, fact+1):\n",
        "    a = a * i\n",
        "  print(f\"factorial({fact}) ➞ {a}\\n\")\n",
        "\n",
        "for i in range(4):\n",
        "  factorial()"
      ],
      "metadata": {
        "colab": {
          "base_uri": "https://localhost:8080/"
        },
        "id": "ZhuAbdqFqidx",
        "outputId": "0450b19b-2799-45e9-f850-c806d56339e4"
      },
      "execution_count": 53,
      "outputs": [
        {
          "output_type": "stream",
          "name": "stdout",
          "text": [
            "Enter no : 5\n",
            "factorial(5) ➞ 120\n",
            "\n",
            "Enter no : 3\n",
            "factorial(3) ➞ 6\n",
            "\n",
            "Enter no : 1\n",
            "factorial(1) ➞ 1\n",
            "\n",
            "Enter no : 0\n",
            "factorial(0) ➞ 1\n",
            "\n"
          ]
        }
      ]
    },
    {
      "cell_type": "markdown",
      "source": [
        "----------------------------------------------------------------------"
      ],
      "metadata": {
        "id": "kgBBtL3DqkuM"
      }
    },
    {
      "cell_type": "markdown",
      "source": [
        "#Q.5) Hamming distance is the number of characters that differ between two strings.\n",
        "##To illustrate:\n",
        "###```String1: \"abcbba\"```\n",
        "###```String2: \"abcbda\"```\n",
        "##```Hamming Distance: 1 - \"b\" vs. \"d\" is the only difference.```\n",
        "\n",
        "##Create a function that computes the hamming distance between two strings.\n",
        "##Examples :\n",
        "##```hamming_distance(\"abcde\", \"bcdef\") ➞ 5```\n",
        "\n",
        "##```hamming_distance(\"abcde\", \"abcde\") ➞ 0```\n",
        "\n",
        "##```hamming_distance(\"strong\", \"strung\") ➞ 1```"
      ],
      "metadata": {
        "id": "YfoAB-ymql_c"
      }
    },
    {
      "cell_type": "code",
      "source": [
        "def hamming_distance():\n",
        "  string_1 = input(\"Enter String 1 : \")\n",
        "  string_2 = input(\"Enter String 2 : \")\n",
        "\n",
        "  if len(string_1) == len(string_2):\n",
        "    count = 0\n",
        "\n",
        "    for i in range(len(string_1)):\n",
        "      if string_1[i] != string_2[i]:\n",
        "        count = count+1\n",
        "    print(f\"hamming_distance({string_1}, {string_2}) ➞ {count}\\n\")\n",
        "\n",
        "  else:\n",
        "    print('Both Strings should have the same length !!')\n",
        "\n",
        "for k in range(3):\n",
        "  hamming_distance()"
      ],
      "metadata": {
        "colab": {
          "base_uri": "https://localhost:8080/"
        },
        "id": "W-e01yZRqloJ",
        "outputId": "aa213640-28d8-4e4e-ea85-1a4c02d81537"
      },
      "execution_count": 68,
      "outputs": [
        {
          "output_type": "stream",
          "name": "stdout",
          "text": [
            "Enter String 1 : abcde\n",
            "Enter String 2 : bcdef\n",
            "hamming_distance(abcde, bcdef) ➞ 5\n",
            "\n",
            "Enter String 1 : abcde\n",
            "Enter String 2 : abcde\n",
            "hamming_distance(abcde, abcde) ➞ 0\n",
            "\n",
            "Enter String 1 : strong\n",
            "Enter String 2 : strung\n",
            "hamming_distance(strong, strung) ➞ 1\n",
            "\n"
          ]
        }
      ]
    },
    {
      "cell_type": "code",
      "source": [
        "a"
      ],
      "metadata": {
        "id": "-8f-M_gMjgh0"
      },
      "execution_count": null,
      "outputs": []
    },
    {
      "cell_type": "markdown",
      "source": [
        "------------------------------------------------------------End------------------------------------------------------------"
      ],
      "metadata": {
        "id": "5wqYAgDUqoIl"
      }
    }
  ]
}