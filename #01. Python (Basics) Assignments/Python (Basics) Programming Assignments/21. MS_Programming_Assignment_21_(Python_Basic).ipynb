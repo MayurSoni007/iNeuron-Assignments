{
  "nbformat": 4,
  "nbformat_minor": 0,
  "metadata": {
    "colab": {
      "provenance": []
    },
    "kernelspec": {
      "name": "python3",
      "display_name": "Python 3"
    },
    "language_info": {
      "name": "python"
    }
  },
  "cells": [
    {
      "cell_type": "markdown",
      "source": [
        "#**iNeuron**\n",
        "## Programming Assignment - 21 (Python Basic)\n",
        "\n",
        "- Batch - Full Stack Data Science Bootcamp 2.0\n",
        "- Name - **Mayur Soni**\n",
        "- Email ID - **mayurssoni007@gmail.com**"
      ],
      "metadata": {
        "id": "fwAyDNTBIq8B"
      }
    },
    {
      "cell_type": "markdown",
      "source": [
        "-----------------------------------------------------------------"
      ],
      "metadata": {
        "id": "5_Tdz4mYIw1F"
      }
    },
    {
      "cell_type": "markdown",
      "source": [
        "#Q.1) Write a function that takes a list and a number as arguments. Add the number to the end of the list, then remove the first element of the list. The function should then return the updated list.\n",
        "##Examples :\n",
        "##```next_in_line([5, 6, 7, 8, 9], 1) ➞ [6, 7, 8, 9, 1]```\n",
        "\n",
        "##```next_in_line([7, 6, 3, 23, 17], 10) ➞ [6, 3, 23, 17, 10]```\n",
        "\n",
        "##```next_in_line([1, 10, 20, 42 ], 6) ➞ [10, 20, 42, 6]```\n",
        "\n",
        "##```next_in_line([], 6) ➞ \"No list has been selected\"```\n"
      ],
      "metadata": {
        "id": "1fekjQ-EIypw"
      }
    },
    {
      "cell_type": "code",
      "execution_count": 6,
      "metadata": {
        "colab": {
          "base_uri": "https://localhost:8080/"
        },
        "id": "gd8h2IcpIk0p",
        "outputId": "aa3e7b19-ae7c-4cf2-8a70-c528f7d57381"
      },
      "outputs": [
        {
          "output_type": "stream",
          "name": "stdout",
          "text": [
            "next_in_line([6, 7, 8, 9, 1], 1) ➞ [6, 7, 8, 9, 1]\n",
            "\n",
            "next_in_line([6, 3, 23, 17, 10], 10) ➞ [6, 3, 23, 17, 10]\n",
            "\n",
            "next_in_line([10, 20, 42, 6], 6) ➞ [10, 20, 42, 6]\n",
            "\n",
            "next_in_line([], 6) ➞ No list has been selected\n"
          ]
        }
      ],
      "source": [
        "def next_in_line(input_list,input_num):\n",
        "  if len(input_list) > 1:\n",
        "    input_list.append(input_num)\n",
        "    input_list.remove(input_list[0])\n",
        "    print(f\"next_in_line({input_list}, {input_num}) ➞ {input_list}\\n\")\n",
        "  else:\n",
        "    print(f\"next_in_line({input_list}, {input_num}) ➞ No list has been selected\")\n",
        "\n",
        "next_in_line([5, 6, 7, 8, 9], 1)\n",
        "next_in_line([7, 6, 3, 23, 17], 10)\n",
        "next_in_line([1, 10, 20, 42 ], 6)\n",
        "next_in_line([], 6)"
      ]
    },
    {
      "cell_type": "markdown",
      "source": [
        "-----------------------------------------------------------------"
      ],
      "metadata": {
        "id": "7aSHln5cI0C0"
      }
    },
    {
      "cell_type": "markdown",
      "source": [
        "#Q.2) Create the function that takes a list of dictionaries and returns the sum of people's budgets.\n",
        "##Examples :\n",
        "```\n",
        "get_budgets([\n",
        "{ \"name\": \"John\", \"age\": 21, \"budget\": 23000 },\n",
        "{ \"name\": \"Steve\",  \"age\": 32, \"budget\": 40000 },\n",
        "{ \"name\": \"Martin\",  \"age\": 16, \"budget\": 2700 }\n",
        "]) ➞ 65700\n",
        "```\n",
        "\n",
        "```\n",
        "get_budgets([\n",
        "{ \"name\": \"John\",  \"age\": 21, \"budget\": 29000 },\n",
        "{ \"name\": \"Steve\",  \"age\": 32, \"budget\": 32000 },\n",
        "{ \"name\": \"Martin\",  \"age\": 16, \"budget\": 1600 }\n",
        "]) ➞ 62600\n",
        "```\n"
      ],
      "metadata": {
        "id": "dRx6eiMcI002"
      }
    },
    {
      "cell_type": "code",
      "source": [
        "def get_budgets(input_dict):\n",
        "  budget_sum = 0\n",
        "\n",
        "  for i in input_dict:\n",
        "    budget_sum += i[\"budget\"]\n",
        "\n",
        "  print(f\"Sum of budget ➞ {budget_sum}\")\n",
        "\n",
        "\n",
        "get_budgets([\n",
        "{ \"name\": \"John\", \"age\": 21, \"budget\": 23000 },\n",
        "{ \"name\": \"Steve\", \"age\": 32, \"budget\": 40000 },\n",
        "{ \"name\": \"Martin\", \"age\": 16, \"budget\": 2700 }\n",
        "])\n",
        "\n",
        "get_budgets([\n",
        "{ \"name\": \"John\", \"age\": 21, \"budget\": 29000 },\n",
        "{ \"name\": \"Steve\", \"age\": 32, \"budget\": 32000 },\n",
        "{ \"name\": \"Martin\", \"age\": 16, \"budget\": 1600 }\n",
        "])"
      ],
      "metadata": {
        "colab": {
          "base_uri": "https://localhost:8080/"
        },
        "id": "fmeZEezFI0Zy",
        "outputId": "7d693495-fec9-4f17-9c08-27acaa418eac"
      },
      "execution_count": 16,
      "outputs": [
        {
          "output_type": "stream",
          "name": "stdout",
          "text": [
            "Sum of budget ➞ 65700\n",
            "Sum of budget ➞ 62600\n"
          ]
        }
      ]
    },
    {
      "cell_type": "markdown",
      "source": [
        "-----------------------------------------------------------------"
      ],
      "metadata": {
        "id": "ABl231hGI2Ex"
      }
    },
    {
      "cell_type": "markdown",
      "source": [
        "#Q.3) Create a function that takes a string and returns a string with its letters in alphabetical order.\n",
        "##Examples :\n",
        "##```alphabet_soup(\"hello\") ➞ \"ehllo\"```\n",
        "\n",
        "##```alphabet_soup(\"edabit\") ➞ \"abdeit\"```\n",
        "\n",
        "##```alphabet_soup(\"hacker\") ➞ \"acehkr\"```\n",
        "\n",
        "##```alphabet_soup(\"geek\") ➞ \"eegk\"```\n",
        "\n",
        "##```alphabet_soup(\"javascript\") ➞ \"aacijprstv\"```\n"
      ],
      "metadata": {
        "id": "aNgVCTcAI2ok"
      }
    },
    {
      "cell_type": "code",
      "source": [
        "def alphabet_soup(input_string):\n",
        "  ouptut_string = \"\"\n",
        "  for i in input_string:\n",
        "    output_string = ''.join(sorted(input_string))\n",
        "\n",
        "  print(f\"alphabet_soup({input_string}) ➞ {output_string}\")\n",
        "\n",
        "alphabet_soup(\"hello\")\n",
        "alphabet_soup(\"edabit\")\n",
        "alphabet_soup(\"hacker\")\n",
        "alphabet_soup(\"geek\")\n",
        "alphabet_soup(\"javascript\")"
      ],
      "metadata": {
        "colab": {
          "base_uri": "https://localhost:8080/"
        },
        "id": "sr4XNA7BI2WK",
        "outputId": "983d14fc-a111-44f8-af76-ced490eadc78"
      },
      "execution_count": 23,
      "outputs": [
        {
          "output_type": "stream",
          "name": "stdout",
          "text": [
            "alphabet_soup(hello) ➞ ehllo\n",
            "alphabet_soup(edabit) ➞ abdeit\n",
            "alphabet_soup(hacker) ➞ acehkr\n",
            "alphabet_soup(geek) ➞ eegk\n",
            "alphabet_soup(javascript) ➞ aacijprstv\n"
          ]
        }
      ]
    },
    {
      "cell_type": "markdown",
      "source": [
        "-----------------------------------------------------------------"
      ],
      "metadata": {
        "id": "2pjt5AtWI4a1"
      }
    },
    {
      "cell_type": "markdown",
      "source": [
        "#Q.4) Suppose that you invest $10,000 for 10 years at an interest rate of 6% compounded monthly. What will be the value of your investment at the end of the 10 year period?\n",
        "\n",
        "#Create a function that accepts the principal p, the term in years, the interest rate r, and the number of compounding periods per year n. The function returns the value at the end of term rounded to the nearest cent.\n",
        "\n",
        "#For the example above:\n",
        "##```compound_interest(10000, 10, 0.06, 12) ➞ 18193.97```\n",
        "\n",
        "#Note that the interest rate is given as a decimal and n=12 because with monthly compounding there are 12 periods per year. Compounding can also be done annually, quarterly, weekly, or daily.\n",
        "\n",
        "##Examples :\n",
        "##```compound_interest(100, 1, 0.05, 1) ➞ 105.0```\n",
        "\n",
        "##```compound_interest(3500, 15, 0.1, 4) ➞ 15399.26```\n",
        "\n",
        "##```compound_interest(100000, 20, 0.15, 365) ➞ 2007316.26```"
      ],
      "metadata": {
        "id": "yWcLsmkLI5Kl"
      }
    },
    {
      "cell_type": "code",
      "source": [
        "def compound_int(principal,years,roi,cp):\n",
        "  ci = principal*(1+(roi/cp))**(cp*years)\n",
        "  print(f\"compound_interest({principal, years, roi, cp}) ➞ {ci:.2f}\")\n",
        "\n",
        "\n",
        "compound_int(100, 1, 0.05, 1)\n",
        "compound_int(3500, 15, 0.1, 4)\n",
        "compound_int(10000, 20, 0.05, 365)"
      ],
      "metadata": {
        "colab": {
          "base_uri": "https://localhost:8080/"
        },
        "id": "Hkxq0bFDI41R",
        "outputId": "1f76716c-f4c9-482d-ff81-fe3b9b3943ae"
      },
      "execution_count": 27,
      "outputs": [
        {
          "output_type": "stream",
          "name": "stdout",
          "text": [
            "compound_interest((100, 1, 0.05, 1)) ➞ 105.00\n",
            "compound_interest((3500, 15, 0.1, 4)) ➞ 15399.26\n",
            "compound_interest((10000, 20, 0.05, 365)) ➞ 27180.96\n"
          ]
        }
      ]
    },
    {
      "cell_type": "markdown",
      "source": [
        "-----------------------------------------------------------------"
      ],
      "metadata": {
        "id": "0HKIUVNPI6rE"
      }
    },
    {
      "cell_type": "markdown",
      "source": [
        "#Q.5) Write a function that takes a list of elements and returns only the integers.\n",
        "##Examples :\n",
        "##```return_only_integer([9, 2, \"space\", \"car\", \"lion\", 16]) ➞ [9, 2, 16]```\n",
        "\n",
        "##```return_only_integer([\"hello\", 81, \"basketball\", 123, \"fox\"]) ➞ [81, 123]```\n",
        "\n",
        "##```return_only_integer([10, \"121\", 56, 20, \"car\", 3, \"lion\"]) ➞ [10, 56, 20, 3]```\n",
        "\n",
        "##```return_only_integer([\"String\",  True,  3.3,  1]) ➞ [1]```"
      ],
      "metadata": {
        "id": "l3Ud87MvI74E"
      }
    },
    {
      "cell_type": "code",
      "source": [
        "def return_integer_val(elements_list):\n",
        "  output_list = []\n",
        "\n",
        "  for i in elements_list:\n",
        "    if type(i) == int:\n",
        "      output_list.append(i)\n",
        "\n",
        "  print(f\"return_only_integer({elements_list}) ➞ {output_list}\\n\")\n",
        "\n",
        "return_integer_val([9, 2, \"space\", \"car\", \"lion\", 16])\n",
        "return_integer_val([\"hello\", 81, \"basketball\", 123, \"fox\"])\n",
        "return_integer_val([10, \"121\", 56, 20, \"car\", 3, \"lion\"])\n",
        "return_integer_val([\"String\", True, 3.3, 1])"
      ],
      "metadata": {
        "colab": {
          "base_uri": "https://localhost:8080/"
        },
        "id": "85OQ9PeoI686",
        "outputId": "db095ef4-c7ed-48af-d6b4-85f31b3d9ea5"
      },
      "execution_count": 30,
      "outputs": [
        {
          "output_type": "stream",
          "name": "stdout",
          "text": [
            "return_only_integer([9, 2, 'space', 'car', 'lion', 16]) ➞ [9, 2, 16]\n",
            "\n",
            "return_only_integer(['hello', 81, 'basketball', 123, 'fox']) ➞ [81, 123]\n",
            "\n",
            "return_only_integer([10, '121', 56, 20, 'car', 3, 'lion']) ➞ [10, 56, 20, 3]\n",
            "\n",
            "return_only_integer(['String', True, 3.3, 1]) ➞ [1]\n",
            "\n"
          ]
        }
      ]
    },
    {
      "cell_type": "markdown",
      "source": [
        "------------------------------------------------------------End------------------------------------------------------------"
      ],
      "metadata": {
        "id": "kyKR0UL0Kxz5"
      }
    }
  ]
}