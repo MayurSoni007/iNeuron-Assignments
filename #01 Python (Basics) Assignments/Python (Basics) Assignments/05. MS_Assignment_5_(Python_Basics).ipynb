{
  "nbformat": 4,
  "nbformat_minor": 0,
  "metadata": {
    "colab": {
      "provenance": []
    },
    "kernelspec": {
      "name": "python3",
      "display_name": "Python 3"
    },
    "language_info": {
      "name": "python"
    }
  },
  "cells": [
    {
      "cell_type": "markdown",
      "source": [
        "#**iNeuron**\n",
        "## Python (Basics) Assignment No. 5\n",
        "\n",
        "- Batch - Full Stack Data Science Bootcamp 2.0\n",
        "- Name - **Mayur Soni**\n",
        "- email id - **mayurssoni007@gmail.com**"
      ],
      "metadata": {
        "id": "mvC_636Br0ng"
      }
    },
    {
      "cell_type": "markdown",
      "source": [
        "---------------------------------------"
      ],
      "metadata": {
        "id": "POMk7ISRr5E-"
      }
    },
    {
      "cell_type": "markdown",
      "source": [
        "##Q.1) What does an empty dictionary's code look like ?"
      ],
      "metadata": {
        "id": "PeDz8jlcr75d"
      }
    },
    {
      "cell_type": "markdown",
      "source": [
        "###**Answer -** An empty dictionary's code looks like - **```a = {}```** or **```a = dict()```**"
      ],
      "metadata": {
        "id": "ZWOvkbBMr-Vn"
      }
    },
    {
      "cell_type": "code",
      "source": [
        "a = {}            # Empty Dictionary\n",
        "print(type(a))    # Printing the type of variable < a >"
      ],
      "metadata": {
        "colab": {
          "base_uri": "https://localhost:8080/"
        },
        "id": "k9fWKVsz3peh",
        "outputId": "51192184-b923-40fd-c7cb-846cba984d93"
      },
      "execution_count": 2,
      "outputs": [
        {
          "output_type": "stream",
          "name": "stdout",
          "text": [
            "<class 'dict'>\n"
          ]
        }
      ]
    },
    {
      "cell_type": "code",
      "source": [
        "a = dict()        # Empty Dictionary\n",
        "print(type(a))    # Printing the type of variable < a >"
      ],
      "metadata": {
        "colab": {
          "base_uri": "https://localhost:8080/"
        },
        "id": "Oo5Du4dwHqxI",
        "outputId": "afc6d86a-3d76-43bb-e7e9-aa71bb6a65b9"
      },
      "execution_count": 43,
      "outputs": [
        {
          "output_type": "stream",
          "name": "stdout",
          "text": [
            "<class 'dict'>\n"
          ]
        }
      ]
    },
    {
      "cell_type": "markdown",
      "source": [
        "---------------------------------------------"
      ],
      "metadata": {
        "id": "aLaEPQeNLGLf"
      }
    },
    {
      "cell_type": "markdown",
      "source": [
        "##Q.2) What is the value of a dictionary value with the key 'foo' and the value 42 ?"
      ],
      "metadata": {
        "id": "0uBFoznsLH6m"
      }
    },
    {
      "cell_type": "markdown",
      "source": [
        "###**Answer -** **```{'foo': 42}```**"
      ],
      "metadata": {
        "id": "eMKNTrUVL-ic"
      }
    },
    {
      "cell_type": "code",
      "source": [
        "b = {'foo' : 42}\n",
        "print(b)\n",
        "print(type(b))"
      ],
      "metadata": {
        "id": "NO8ikoujLHWa",
        "colab": {
          "base_uri": "https://localhost:8080/"
        },
        "outputId": "0f599d9f-0ef5-4b76-f1ad-d6a6ea8c2efd"
      },
      "execution_count": 6,
      "outputs": [
        {
          "output_type": "stream",
          "name": "stdout",
          "text": [
            "{'foo': 42}\n",
            "<class 'dict'>\n"
          ]
        }
      ]
    },
    {
      "cell_type": "markdown",
      "source": [
        "--------------------------------------------------"
      ],
      "metadata": {
        "id": "F2rWOHs8LOh-"
      }
    },
    {
      "cell_type": "markdown",
      "source": [
        "##Q.3) What is the most significant distinction between a dictionary and a list ?"
      ],
      "metadata": {
        "id": "6k3MoE0gLP99"
      }
    },
    {
      "cell_type": "markdown",
      "source": [
        "###**Answer -**\n",
        "**a.) Dictionary -** Dictionaries are represented by **```{}```** curly brackets. The values stored in a dictionary is **Unordered.**\n",
        "\n",
        "**b.) List -** Lists are represented by **```[]```** square brackets. The values stored in a list is **Ordered.**"
      ],
      "metadata": {
        "id": "Z3CPLRxJL_vU"
      }
    },
    {
      "cell_type": "markdown",
      "source": [
        "-------------------------------------------------"
      ],
      "metadata": {
        "id": "SJKRmhPFLT_m"
      }
    },
    {
      "cell_type": "markdown",
      "source": [
        "##Q.4) What happens if you try to access spam['foo'] if spam is {'bar': 100} ?"
      ],
      "metadata": {
        "id": "tfjNDNAzLVJW"
      }
    },
    {
      "cell_type": "markdown",
      "source": [
        "###**Answer -** We will get an error as **```KeyError: 'foo'```**"
      ],
      "metadata": {
        "id": "JesUfSR6MA90"
      }
    },
    {
      "cell_type": "code",
      "source": [
        "spam = {'bar' : 100}\n",
        "\n",
        "spam['foo']"
      ],
      "metadata": {
        "id": "iP97HwQKLUuh",
        "colab": {
          "base_uri": "https://localhost:8080/",
          "height": 201
        },
        "outputId": "7a4a10f1-ca38-48f8-b9bc-d99666a67428"
      },
      "execution_count": 13,
      "outputs": [
        {
          "output_type": "error",
          "ename": "KeyError",
          "evalue": "ignored",
          "traceback": [
            "\u001b[0;31m---------------------------------------------------------------------------\u001b[0m",
            "\u001b[0;31mKeyError\u001b[0m                                  Traceback (most recent call last)",
            "\u001b[0;32m<ipython-input-13-a7da05a2f6c5>\u001b[0m in \u001b[0;36m<module>\u001b[0;34m\u001b[0m\n\u001b[1;32m      1\u001b[0m \u001b[0mspam\u001b[0m \u001b[0;34m=\u001b[0m \u001b[0;34m{\u001b[0m\u001b[0;34m'bar'\u001b[0m \u001b[0;34m:\u001b[0m \u001b[0;36m100\u001b[0m\u001b[0;34m}\u001b[0m\u001b[0;34m\u001b[0m\u001b[0;34m\u001b[0m\u001b[0m\n\u001b[1;32m      2\u001b[0m \u001b[0;34m\u001b[0m\u001b[0m\n\u001b[0;32m----> 3\u001b[0;31m \u001b[0mspam\u001b[0m\u001b[0;34m[\u001b[0m\u001b[0;34m'foo'\u001b[0m\u001b[0;34m]\u001b[0m\u001b[0;34m\u001b[0m\u001b[0;34m\u001b[0m\u001b[0m\n\u001b[0m",
            "\u001b[0;31mKeyError\u001b[0m: 'foo'"
          ]
        }
      ]
    },
    {
      "cell_type": "markdown",
      "source": [
        "----------------------------------------------"
      ],
      "metadata": {
        "id": "cWO_r2fYLZ6G"
      }
    },
    {
      "cell_type": "markdown",
      "source": [
        "##Q.5) If a dictionary is stored in spam, what is the difference between the expressions 'cat' in spam and 'cat' in spam.keys() ?"
      ],
      "metadata": {
        "id": "3LCPq0i4LbE3"
      }
    },
    {
      "cell_type": "markdown",
      "source": [
        "###**Answer -** There is no difference. The in operator checks whether a value exists as a key in the dictionary or not. If it does exist then it returns as **```True```**"
      ],
      "metadata": {
        "id": "M4goRNsCMCS8"
      }
    },
    {
      "cell_type": "code",
      "source": [
        "spam ={'cat':100}\n",
        "'cat' in spam"
      ],
      "metadata": {
        "id": "cXxvn3t8LaqK",
        "colab": {
          "base_uri": "https://localhost:8080/"
        },
        "outputId": "37f4af66-cb6d-47bc-bc99-995689cd8e82"
      },
      "execution_count": 18,
      "outputs": [
        {
          "output_type": "execute_result",
          "data": {
            "text/plain": [
              "True"
            ]
          },
          "metadata": {},
          "execution_count": 18
        }
      ]
    },
    {
      "cell_type": "code",
      "source": [
        "'cat' in spam.keys()"
      ],
      "metadata": {
        "colab": {
          "base_uri": "https://localhost:8080/"
        },
        "id": "8ILoRS5_753t",
        "outputId": "e1d7a0a2-ef4c-4e94-e786-a607598beeb8"
      },
      "execution_count": 19,
      "outputs": [
        {
          "output_type": "execute_result",
          "data": {
            "text/plain": [
              "True"
            ]
          },
          "metadata": {},
          "execution_count": 19
        }
      ]
    },
    {
      "cell_type": "markdown",
      "source": [
        "----------------------------------------------------"
      ],
      "metadata": {
        "id": "HvAVGRkCLfVe"
      }
    },
    {
      "cell_type": "markdown",
      "source": [
        "##Q.6) If a dictionary is stored in spam, what is the difference between the expressions 'cat' in spam and 'cat' in spam.values() ?"
      ],
      "metadata": {
        "id": "zN0F1BK4Lggl"
      }
    },
    {
      "cell_type": "markdown",
      "source": [
        "###**Answer -** \n",
        "There is a difference between the expression **```'cat' in spam```** and **```'cat' in spam.values()```** as -\n",
        "- It checks whether 'cat' is present as the key in spam or not. After checking, it returns as **```True```** when we execute **```'cat' in spam```** because **the key 'cat' exist in it.**\n",
        "- While it checks whether 'cat' is present as a value in one of the keys in spam or not. After checking, it gives as **```False```** when we execute **```'cat' in spam.values()```** because in spam - **'cat' is a key, not a value.**"
      ],
      "metadata": {
        "id": "3QvgZghmMDh1"
      }
    },
    {
      "cell_type": "code",
      "source": [
        "spam ={'cat':100}\n",
        "'cat' in spam"
      ],
      "metadata": {
        "id": "99zoNqshLgIq",
        "colab": {
          "base_uri": "https://localhost:8080/"
        },
        "outputId": "4c9e9823-ea4f-4d74-ea32-7ca8f33b5c42"
      },
      "execution_count": 20,
      "outputs": [
        {
          "output_type": "execute_result",
          "data": {
            "text/plain": [
              "True"
            ]
          },
          "metadata": {},
          "execution_count": 20
        }
      ]
    },
    {
      "cell_type": "code",
      "source": [
        "'cat' in spam.values()"
      ],
      "metadata": {
        "colab": {
          "base_uri": "https://localhost:8080/"
        },
        "id": "WkeDW0Fr8TnD",
        "outputId": "0354c5bc-245f-4598-913c-fb306f7fd459"
      },
      "execution_count": 21,
      "outputs": [
        {
          "output_type": "execute_result",
          "data": {
            "text/plain": [
              "False"
            ]
          },
          "metadata": {},
          "execution_count": 21
        }
      ]
    },
    {
      "cell_type": "markdown",
      "source": [
        "-----------------------------------------------"
      ],
      "metadata": {
        "id": "CBzM-TFPLkwF"
      }
    },
    {
      "cell_type": "markdown",
      "source": [
        "##Q.7) What is a shortcut for the following code?\n",
        "```\n",
        "if 'color' not in spam:\n",
        "spam['color'] = 'black'\n",
        "```\n"
      ],
      "metadata": {
        "id": "Qs-NdqWbLl6-"
      }
    },
    {
      "cell_type": "markdown",
      "source": [
        "###**Answer -** ```spam.setdefault('color','black')```"
      ],
      "metadata": {
        "id": "ikv2v0dNLs-9"
      }
    },
    {
      "cell_type": "code",
      "source": [
        "spam ={}\n",
        "print(f\"Spam before : {spam}\")\n",
        "\n",
        "spam.setdefault('color','black')\n",
        "\n",
        "print(f\"Spam after : {spam}\")"
      ],
      "metadata": {
        "id": "ZKjMsBpsLlfh",
        "colab": {
          "base_uri": "https://localhost:8080/"
        },
        "outputId": "e4c7b0ea-443b-4d0f-a988-df0283b92c7b"
      },
      "execution_count": 26,
      "outputs": [
        {
          "output_type": "stream",
          "name": "stdout",
          "text": [
            "Spam before : {}\n",
            "Spam after : {'color': 'black'}\n"
          ]
        }
      ]
    },
    {
      "cell_type": "markdown",
      "source": [
        "-----------------------------------------"
      ],
      "metadata": {
        "id": "Vb6gQD1ELwMt"
      }
    },
    {
      "cell_type": "markdown",
      "source": [
        "##Q.8) How do you \"pretty print\" dictionary values using which module and function ?"
      ],
      "metadata": {
        "id": "OXx5XG5oLzV1"
      }
    },
    {
      "cell_type": "markdown",
      "source": [
        "###**Answer -** The **pprint() module** provides a capability to “pretty-print” dictionary values."
      ],
      "metadata": {
        "id": "-e8eOp3pMGBM"
      }
    },
    {
      "cell_type": "code",
      "source": [
        "import pprint\n",
        "\n",
        "pretty = [ {'Name': 'Sachin', 'Age': '49', 'Country': 'India'},\n",
        "  {'Name': 'Ricky Ponting', 'Age': '48', 'Country': 'Australia'},\n",
        "  {'Name': 'MS Dhoni', 'Age': '41', 'Country': 'India'},\n",
        "  {'Name': 'Kane Williamson', 'Age': '32', 'Country': 'New Zealand'}\n",
        "]"
      ],
      "metadata": {
        "id": "UaqRl3hvLw5Z"
      },
      "execution_count": 38,
      "outputs": []
    },
    {
      "cell_type": "markdown",
      "source": [
        "####**Printing with ```pprint()``` -**"
      ],
      "metadata": {
        "id": "_RJO3n1YE8hg"
      }
    },
    {
      "cell_type": "code",
      "source": [
        "pprint.pprint(pretty)"
      ],
      "metadata": {
        "colab": {
          "base_uri": "https://localhost:8080/"
        },
        "id": "3__ivZZ0CxOG",
        "outputId": "b117209e-e7ea-4198-fa28-639ada51fe85"
      },
      "execution_count": 39,
      "outputs": [
        {
          "output_type": "stream",
          "name": "stdout",
          "text": [
            "[{'Age': '49', 'Country': 'India', 'Name': 'Sachin'},\n",
            " {'Age': '48', 'Country': 'Australia', 'Name': 'Ricky Ponting'},\n",
            " {'Age': '41', 'Country': 'India', 'Name': 'MS Dhoni'},\n",
            " {'Age': '32', 'Country': 'New Zealand', 'Name': 'Kane Williamson'}]\n"
          ]
        }
      ]
    },
    {
      "cell_type": "markdown",
      "source": [
        "####**Printing with ```print()``` -**"
      ],
      "metadata": {
        "id": "V_QYPkgWFF3a"
      }
    },
    {
      "cell_type": "code",
      "source": [
        "print(pretty)"
      ],
      "metadata": {
        "colab": {
          "base_uri": "https://localhost:8080/"
        },
        "id": "tTt3TjT9FPlw",
        "outputId": "f1328cfc-afba-4208-bdd0-a18edee5d8d7"
      },
      "execution_count": 40,
      "outputs": [
        {
          "output_type": "stream",
          "name": "stdout",
          "text": [
            "[{'Name': 'Sachin', 'Age': '49', 'Country': 'India'}, {'Name': 'Ricky Ponting', 'Age': '48', 'Country': 'Australia'}, {'Name': 'MS Dhoni', 'Age': '41', 'Country': 'India'}, {'Name': 'Kane Williamson', 'Age': '32', 'Country': 'New Zealand'}]\n"
          ]
        }
      ]
    },
    {
      "cell_type": "markdown",
      "source": [
        "------------------------------------------------------------End------------------------------------------------------------"
      ],
      "metadata": {
        "id": "KZKA6r4JL2xl"
      }
    }
  ]
}