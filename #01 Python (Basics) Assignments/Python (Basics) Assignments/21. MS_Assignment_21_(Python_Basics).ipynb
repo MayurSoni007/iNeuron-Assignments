{
  "nbformat": 4,
  "nbformat_minor": 0,
  "metadata": {
    "colab": {
      "provenance": []
    },
    "kernelspec": {
      "name": "python3",
      "display_name": "Python 3"
    },
    "language_info": {
      "name": "python"
    }
  },
  "cells": [
    {
      "cell_type": "markdown",
      "source": [
        "#**iNeuron**\n",
        "## Python (Basics) Assignment No. 21\n",
        "\n",
        "- Batch - Full Stack Data Science Bootcamp 2.0\n",
        "- Name - **Mayur Soni**\n",
        "- email id - **mayurssoni007@gmail.com**"
      ],
      "metadata": {
        "id": "0MB1MoipG8cO"
      }
    },
    {
      "cell_type": "markdown",
      "source": [
        "---------------------------------------------------------------------------"
      ],
      "metadata": {
        "id": "IXONgwesG_9M"
      }
    },
    {
      "cell_type": "markdown",
      "source": [
        "##Q.1) Add the current date to the text file today.txt as a string ?"
      ],
      "metadata": {
        "id": "f31nnqr6HE2S"
      }
    },
    {
      "cell_type": "markdown",
      "source": [
        "##**Answer -** "
      ],
      "metadata": {
        "id": "-Uw3LZkIHEwB"
      }
    },
    {
      "cell_type": "code",
      "source": [
        "import datetime\n",
        "\n",
        "with open (\"today.txt\", 'w') as date:\n",
        "  date.write(datetime.datetime.now().strftime(\"%d-%m-%Y\"))\n",
        "  date.close()\n",
        "\n",
        "date = open(\"today.txt\",\"r\")\n",
        "print(date.read())\n",
        "date.close()"
      ],
      "metadata": {
        "colab": {
          "base_uri": "https://localhost:8080/"
        },
        "id": "10Vu0yDFJ6on",
        "outputId": "ce48bbaf-e7a0-439b-92ed-6efb43b22aff"
      },
      "execution_count": null,
      "outputs": [
        {
          "output_type": "stream",
          "name": "stdout",
          "text": [
            "09-06-2023\n"
          ]
        }
      ]
    },
    {
      "cell_type": "markdown",
      "source": [
        "--------------------------------------------------------------------"
      ],
      "metadata": {
        "id": "K9JRATycHEqM"
      }
    },
    {
      "cell_type": "markdown",
      "source": [
        "##Q.2) Read the text file today.txt into the string today_string ?"
      ],
      "metadata": {
        "id": "Z_hcO2QTHEkF"
      }
    },
    {
      "cell_type": "markdown",
      "source": [
        "##**Answer -** "
      ],
      "metadata": {
        "id": "mpxz_IrvHEdR"
      }
    },
    {
      "cell_type": "code",
      "source": [
        "file = open(\"today.txt\", \"r\")\n",
        "today_string = file.read()\n",
        "print(today_string)"
      ],
      "metadata": {
        "colab": {
          "base_uri": "https://localhost:8080/"
        },
        "id": "aI1aifvxJ6-U",
        "outputId": "ac6fc739-28c0-4510-c05a-7a820d845a7c"
      },
      "execution_count": null,
      "outputs": [
        {
          "output_type": "stream",
          "name": "stdout",
          "text": [
            "09-06-2023\n"
          ]
        }
      ]
    },
    {
      "cell_type": "markdown",
      "source": [
        "----------------------------------------------------------------------------"
      ],
      "metadata": {
        "id": "OWSxZbH9HEW8"
      }
    },
    {
      "cell_type": "markdown",
      "source": [
        "##Q.3) Parse the date from today_string ?"
      ],
      "metadata": {
        "id": "M2cLd5KtHEP7"
      }
    },
    {
      "cell_type": "markdown",
      "source": [
        "##**Answer -** "
      ],
      "metadata": {
        "id": "gll3WHJEHEJ8"
      }
    },
    {
      "cell_type": "code",
      "source": [
        "from datetime import datetime\n",
        "parse_date = datetime.strptime(today_string, \"%d-%m-%Y\")\n",
        "print(parse_date)"
      ],
      "metadata": {
        "colab": {
          "base_uri": "https://localhost:8080/"
        },
        "id": "CAK6XZB5J7Yf",
        "outputId": "33ccc824-2107-410d-9d57-31badf56bf62"
      },
      "execution_count": null,
      "outputs": [
        {
          "output_type": "stream",
          "name": "stdout",
          "text": [
            "2023-06-09 00:00:00\n"
          ]
        }
      ]
    },
    {
      "cell_type": "markdown",
      "source": [
        "-----------------------------------------------------------------------"
      ],
      "metadata": {
        "id": "UE1U8nVBHEDt"
      }
    },
    {
      "cell_type": "markdown",
      "source": [
        "##Q.4) List the files in your current directory ?"
      ],
      "metadata": {
        "id": "Ae42vG-kHD9M"
      }
    },
    {
      "cell_type": "markdown",
      "source": [
        "##**Answer -** "
      ],
      "metadata": {
        "id": "gdmJDulbHD3M"
      }
    },
    {
      "cell_type": "code",
      "source": [
        "import os\n",
        "for folders, subfolders, files in os.walk(os.getcwd()):\n",
        "  for file in files:\n",
        "    print(file)"
      ],
      "metadata": {
        "colab": {
          "base_uri": "https://localhost:8080/"
        },
        "id": "33OMWeiVJ720",
        "outputId": "9c4ea65f-d7aa-4535-9200-d4aaaf74dd70"
      },
      "execution_count": null,
      "outputs": [
        {
          "output_type": "stream",
          "name": "stdout",
          "text": [
            "today.txt\n",
            "config_sentinel\n",
            ".last_opt_in_prompt.yaml\n",
            ".last_update_check.json\n",
            ".last_survey_prompt.yaml\n",
            "gce\n",
            "active_config\n",
            "config_default\n",
            "18.16.24.257811.log\n",
            "18.17.21.262808.log\n",
            "18.17.13.539321.log\n",
            "18.17.46.423408.log\n",
            "18.16.49.384175.log\n",
            "18.17.47.134973.log\n",
            "anscombe.json\n",
            "README.md\n",
            "california_housing_test.csv\n",
            "california_housing_train.csv\n",
            "mnist_train_small.csv\n",
            "mnist_test.csv\n"
          ]
        }
      ]
    },
    {
      "cell_type": "markdown",
      "source": [
        "Note - Working in Google Colab."
      ],
      "metadata": {
        "id": "Nmeo1MyeQF9Y"
      }
    },
    {
      "cell_type": "markdown",
      "source": [
        "-----------------------------------------------------------------------------"
      ],
      "metadata": {
        "id": "lyjr5GsVHDxD"
      }
    },
    {
      "cell_type": "markdown",
      "source": [
        "##Q.5) Create a list of all of the files in your parent directory (minimum five files should be available) ?"
      ],
      "metadata": {
        "id": "ELrQOKhgHDqu"
      }
    },
    {
      "cell_type": "markdown",
      "source": [
        "##**Answer -** "
      ],
      "metadata": {
        "id": "K68vnnDbHDlC"
      }
    },
    {
      "cell_type": "code",
      "source": [
        "import os\n",
        "os.listdir()"
      ],
      "metadata": {
        "colab": {
          "base_uri": "https://localhost:8080/"
        },
        "id": "Xe0wwKBOJ8fW",
        "outputId": "834b7c9b-dcad-4e0b-80f5-a7f60cf135c0"
      },
      "execution_count": null,
      "outputs": [
        {
          "output_type": "execute_result",
          "data": {
            "text/plain": [
              "['.config',\n",
              " '.ipynb_checkpoints',\n",
              " 'today.txt',\n",
              " 'paris.txt',\n",
              " 'NewYork.txt',\n",
              " 'london.txt',\n",
              " 'sample_data']"
            ]
          },
          "metadata": {},
          "execution_count": 7
        }
      ]
    },
    {
      "cell_type": "markdown",
      "source": [
        "-----------------------------------------------------------------------"
      ],
      "metadata": {
        "id": "MCwFBvtSHDeu"
      }
    },
    {
      "cell_type": "markdown",
      "source": [
        "##Q.6) Use multiprocessing to create three separate processes. Make each one wait a random number of seconds between one and five, print the current time, and then exit ?"
      ],
      "metadata": {
        "id": "kI-vCZgFHDYM"
      }
    },
    {
      "cell_type": "markdown",
      "source": [
        "##**Answer -** "
      ],
      "metadata": {
        "id": "XLVgQeg-HDR_"
      }
    },
    {
      "cell_type": "code",
      "source": [
        "import multiprocessing\n",
        "import time \n",
        "import random\n",
        "import datetime\n",
        "\n",
        "def procOne():\n",
        "    print(f'Proc_one_Starttime -> {datetime.datetime.now()}')\n",
        "    time.sleep(random.randint(1,5))\n",
        "    print(f'Proc_one_Endtime -> {datetime.datetime.now()}')\n",
        "    \n",
        "def procTwo():\n",
        "    print(f'Proc_two_Starttime -> {datetime.datetime.now()}')\n",
        "    time.sleep(random.randint(1,5))\n",
        "    print(f'Proc_two_Endtime -> {datetime.datetime.now()}')\n",
        "\n",
        "def procThree():\n",
        "    print(f'Proc_two_Starttime -> {datetime.datetime.now()}')\n",
        "    time.sleep(random.randint(1,5))\n",
        "    print(f'Proc_two_Endtime -> {datetime.datetime.now()}')\n",
        "    \n",
        "if __name__ == \"__main__\":    \n",
        "    p1 = multiprocessing.Process(target=procOne)\n",
        "    p2 = multiprocessing.Process(target=procTwo)\n",
        "    p3 = multiprocessing.Process(target=procThree)\n",
        "\n",
        "    p1.start()\n",
        "    p2.start()\n",
        "    p3.start()\n",
        "\n",
        "    p1.join()\n",
        "    p2.join()\n",
        "    p3.join()"
      ],
      "metadata": {
        "id": "p6162dL8J9B0",
        "colab": {
          "base_uri": "https://localhost:8080/"
        },
        "outputId": "21f7739b-6885-41a7-dde5-a4308dca0f7c"
      },
      "execution_count": 19,
      "outputs": [
        {
          "output_type": "stream",
          "name": "stdout",
          "text": [
            "Proc_one_Starttime -> 2023-06-09 17:56:06.556109\n",
            "Proc_two_Starttime -> 2023-06-09 17:56:06.567900\n",
            "Proc_two_Starttime -> 2023-06-09 17:56:06.589020\n",
            "Proc_two_Endtime -> 2023-06-09 17:56:07.588397\n",
            "Proc_two_Endtime -> 2023-06-09 17:56:08.600299\n",
            "Proc_one_Endtime -> 2023-06-09 17:56:11.582414\n"
          ]
        }
      ]
    },
    {
      "cell_type": "markdown",
      "source": [
        "----------------------------------------------------------------------------"
      ],
      "metadata": {
        "id": "r37h7ribHDLC"
      }
    },
    {
      "cell_type": "markdown",
      "source": [
        "##Q.7) Create a date object of your day of birth ?"
      ],
      "metadata": {
        "id": "VLeAT2PAHDEj"
      }
    },
    {
      "cell_type": "markdown",
      "source": [
        "##**Answer -** "
      ],
      "metadata": {
        "id": "HwmmeLXSHC-0"
      }
    },
    {
      "cell_type": "code",
      "source": [
        "from datetime import datetime\n",
        "my_dob = datetime.strptime('16/11/1995','%d/%m/%Y')\n",
        "print(\"My DOB is -\" , my_dob, type(my_dob))"
      ],
      "metadata": {
        "colab": {
          "base_uri": "https://localhost:8080/"
        },
        "id": "tpx_zo_PJ9b-",
        "outputId": "845f2fe4-c3ba-4b71-c0b0-d4911a2fd6d0"
      },
      "execution_count": 10,
      "outputs": [
        {
          "output_type": "stream",
          "name": "stdout",
          "text": [
            "My DOB is - 1995-11-16 00:00:00 <class 'datetime.datetime'>\n"
          ]
        }
      ]
    },
    {
      "cell_type": "markdown",
      "source": [
        "----------------------------------------------------------------------------"
      ],
      "metadata": {
        "id": "v3aFpyx1HC4h"
      }
    },
    {
      "cell_type": "markdown",
      "source": [
        "##Q.8) What day of the week was your day of birth ?"
      ],
      "metadata": {
        "id": "mV_o-rN7HCyM"
      }
    },
    {
      "cell_type": "markdown",
      "source": [
        "##**Answer -** "
      ],
      "metadata": {
        "id": "uxYXvGzVHCsM"
      }
    },
    {
      "cell_type": "code",
      "source": [
        "from datetime import datetime\n",
        "my_dob = datetime(1995,11,16)\n",
        "my_dob.strftime(\"%A\")"
      ],
      "metadata": {
        "id": "iLlXZWdNJ98Y",
        "colab": {
          "base_uri": "https://localhost:8080/",
          "height": 36
        },
        "outputId": "813230ae-e99a-427e-ccbf-8a9d4c9e86cf"
      },
      "execution_count": 11,
      "outputs": [
        {
          "output_type": "execute_result",
          "data": {
            "text/plain": [
              "'Thursday'"
            ],
            "application/vnd.google.colaboratory.intrinsic+json": {
              "type": "string"
            }
          },
          "metadata": {},
          "execution_count": 11
        }
      ]
    },
    {
      "cell_type": "markdown",
      "source": [
        "-------------------------------------------------------------------------------"
      ],
      "metadata": {
        "id": "TtALrjJtHCl_"
      }
    },
    {
      "cell_type": "markdown",
      "source": [
        "##Q.9) When will you be (or when were you) 10,000 days old ?"
      ],
      "metadata": {
        "id": "zihCvcieHCfc"
      }
    },
    {
      "cell_type": "markdown",
      "source": [
        "##**Answer -** "
      ],
      "metadata": {
        "id": "mXzygPd4HCZs"
      }
    },
    {
      "cell_type": "code",
      "source": [
        "from datetime import datetime, timedelta\n",
        "my_dob = datetime.strptime(\"16/11/1995\",'%d/%m/%Y')\n",
        "future_date = my_dob + timedelta(10000)\n",
        "future_date"
      ],
      "metadata": {
        "id": "-5IEmGmpJ-bc",
        "colab": {
          "base_uri": "https://localhost:8080/"
        },
        "outputId": "ce3487d6-0631-4cd8-955a-b1f4a287f702"
      },
      "execution_count": 14,
      "outputs": [
        {
          "output_type": "execute_result",
          "data": {
            "text/plain": [
              "datetime.datetime(2023, 4, 3, 0, 0)"
            ]
          },
          "metadata": {},
          "execution_count": 14
        }
      ]
    },
    {
      "cell_type": "markdown",
      "source": [
        "------------------------------------------------------------End------------------------------------------------------------"
      ],
      "metadata": {
        "id": "YGzqsnCFHB_s"
      }
    }
  ]
}