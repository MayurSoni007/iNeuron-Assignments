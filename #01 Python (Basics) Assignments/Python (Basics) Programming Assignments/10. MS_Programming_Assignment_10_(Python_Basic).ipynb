{
  "nbformat": 4,
  "nbformat_minor": 0,
  "metadata": {
    "colab": {
      "provenance": []
    },
    "kernelspec": {
      "name": "python3",
      "display_name": "Python 3"
    },
    "language_info": {
      "name": "python"
    }
  },
  "cells": [
    {
      "cell_type": "markdown",
      "source": [
        "#**iNeuron**\n",
        "## Programming Assignment - 10 (Python Basic)\n",
        "\n",
        "- Batch - Full Stack Data Science Bootcamp 2.0\n",
        "- Name - **Mayur Soni**\n",
        "- Email ID - **mayurssoni007@gmail.com**"
      ],
      "metadata": {
        "id": "0JmRrO-aIqgf"
      }
    },
    {
      "cell_type": "markdown",
      "source": [
        "---------------------------------------------------------------------"
      ],
      "metadata": {
        "id": "nyl_wwO5JUxt"
      }
    },
    {
      "cell_type": "markdown",
      "source": [
        "#Q.1) Write a Python program to find sum of elements in list ?"
      ],
      "metadata": {
        "id": "qhdD68qAJYhr"
      }
    },
    {
      "cell_type": "code",
      "execution_count": null,
      "metadata": {
        "id": "Sq1bhA_XG69N",
        "colab": {
          "base_uri": "https://localhost:8080/"
        },
        "outputId": "8891f504-d854-4cd1-e295-7c1755327080"
      },
      "outputs": [
        {
          "output_type": "stream",
          "name": "stdout",
          "text": [
            "Enter the range of number you want in the list : 6\n",
            "Enter your numbers to be added into the list : 1\n",
            "Enter your numbers to be added into the list : 3\n",
            "Enter your numbers to be added into the list : 5\n",
            "Enter your numbers to be added into the list : 7\n",
            "Enter your numbers to be added into the list : 9\n",
            "Enter your numbers to be added into the list : 11\n",
            "List is : [1, 3, 5, 7, 9, 11]\n",
            "Sum of elements in List is : 36\n"
          ]
        }
      ],
      "source": [
        "def list():\n",
        "  sum = 0\n",
        "  li = []\n",
        "  no = int(input(\"Enter the range of number you want in the list : \"))\n",
        "\n",
        "  for i in range(no):\n",
        "    n = int(input(\"Enter your numbers to be added into the list : \"))\n",
        "    li.append(n)\n",
        "  print(f\"List is : {li}\")\n",
        "\n",
        "  for j in li:\n",
        "    sum += j\n",
        "  print(f\"Sum of elements in List is : {sum}\")\n",
        "\n",
        "list()"
      ]
    },
    {
      "cell_type": "markdown",
      "source": [
        "--------------------------------------------------------------"
      ],
      "metadata": {
        "id": "bY5wpA_55dMv"
      }
    },
    {
      "cell_type": "markdown",
      "source": [
        "#Q.2) Write a Python program to  Multiply all numbers in the list ?"
      ],
      "metadata": {
        "id": "tjP_w24H5c8P"
      }
    },
    {
      "cell_type": "code",
      "source": [
        "def list():\n",
        "  multiply = 1\n",
        "  li = []\n",
        "  no = int(input(\"Enter the range of number you want in the list : \"))\n",
        "\n",
        "  for i in range(no):\n",
        "    n = int(input(\"Enter your numbers to be added into the list : \"))\n",
        "    li.append(n)\n",
        "  print(f\"List is : {li}\")\n",
        "\n",
        "  for j in li:\n",
        "    multiply = multiply * j\n",
        "  print(f\"Multiplication of elements in List is : {multiply}\")\n",
        "\n",
        "list()"
      ],
      "metadata": {
        "colab": {
          "base_uri": "https://localhost:8080/"
        },
        "id": "TbCKiQ445eEm",
        "outputId": "e9387ac4-4a08-4bbc-d5e7-f1ed0e8717b8"
      },
      "execution_count": null,
      "outputs": [
        {
          "output_type": "stream",
          "name": "stdout",
          "text": [
            "Enter the range of number you want in the list : 4\n",
            "Enter your numbers to be added into the list : 5\n",
            "Enter your numbers to be added into the list : 7\n",
            "Enter your numbers to be added into the list : 2\n",
            "Enter your numbers to be added into the list : 3\n",
            "List is : [5, 7, 2, 3]\n",
            "Multiplication of elements in List is : 210\n"
          ]
        }
      ]
    },
    {
      "cell_type": "markdown",
      "source": [
        "------------------------------------------------------------------"
      ],
      "metadata": {
        "id": "xzn_hrIA5egK"
      }
    },
    {
      "cell_type": "markdown",
      "source": [
        "#Q.3) Write a Python program to find smallest number in a list ?"
      ],
      "metadata": {
        "id": "ZVRyUszR5fHm"
      }
    },
    {
      "cell_type": "code",
      "source": [
        "def list():\n",
        "  li = []\n",
        "  no = int(input(\"Enter the range of number you want in the list : \"))\n",
        "\n",
        "  for i in range(no):\n",
        "    n = int(input(\"Enter your numbers to be added into the list : \"))\n",
        "    li.append(n)\n",
        "  print(f\"List is : {li}\")\n",
        "\n",
        "  print(f'The Smallest Element in List is : {sorted(li)[0]}')\n",
        "\n",
        "list()"
      ],
      "metadata": {
        "colab": {
          "base_uri": "https://localhost:8080/"
        },
        "id": "vmnBEbIM5rz6",
        "outputId": "8d36f0af-ad31-4179-c964-3f72ed7628e6"
      },
      "execution_count": null,
      "outputs": [
        {
          "output_type": "stream",
          "name": "stdout",
          "text": [
            "Enter the range of number you want in the list : 5\n",
            "Enter your numbers to be added into the list : 15\n",
            "Enter your numbers to be added into the list : 94\n",
            "Enter your numbers to be added into the list : 69\n",
            "Enter your numbers to be added into the list : 7\n",
            "Enter your numbers to be added into the list : 56\n",
            "List is : [15, 94, 69, 7, 56]\n",
            "The Smallest Element in List is : 7\n"
          ]
        }
      ]
    },
    {
      "cell_type": "markdown",
      "source": [
        "-------------------------------------------------------------"
      ],
      "metadata": {
        "id": "FzkrIHEb5sro"
      }
    },
    {
      "cell_type": "markdown",
      "source": [
        "#Q.4) Write a Python program to find largest number in a list ?"
      ],
      "metadata": {
        "id": "oyz5zpei5uu6"
      }
    },
    {
      "cell_type": "code",
      "source": [
        "def list():\n",
        "  li = []\n",
        "  no = int(input(\"Enter the range of number you want in the list : \"))\n",
        "\n",
        "  for i in range(no):\n",
        "    n = int(input(\"Enter your numbers to be added into the list : \"))\n",
        "    li.append(n)\n",
        "  print(f\"List is : {li}\")\n",
        "\n",
        "  print(f'The Largest Element in List is : {sorted(li, reverse = True)[0]}')\n",
        "\n",
        "list()"
      ],
      "metadata": {
        "id": "lgp7ehSI5uSg",
        "colab": {
          "base_uri": "https://localhost:8080/"
        },
        "outputId": "1cbb49c5-434b-48ee-80dc-c10634e62836"
      },
      "execution_count": null,
      "outputs": [
        {
          "output_type": "stream",
          "name": "stdout",
          "text": [
            "Enter the range of number you want in the list : 6\n",
            "Enter your numbers to be added into the list : 15\n",
            "Enter your numbers to be added into the list : 77\n",
            "Enter your numbers to be added into the list : 69\n",
            "Enter your numbers to be added into the list : 38\n",
            "Enter your numbers to be added into the list : 48\n",
            "Enter your numbers to be added into the list : 27\n",
            "List is : [15, 77, 69, 38, 48, 27]\n",
            "The Largest Element in List is : 77\n"
          ]
        }
      ]
    },
    {
      "cell_type": "markdown",
      "source": [
        "-----------------------------------------------------------------------"
      ],
      "metadata": {
        "id": "0jZOi2Nj5wpQ"
      }
    },
    {
      "cell_type": "markdown",
      "source": [
        "#Q.5) Write a Python program to find second largest number in a list ?"
      ],
      "metadata": {
        "id": "F27JA7965x94"
      }
    },
    {
      "cell_type": "code",
      "source": [
        "def list():\n",
        "  li = []\n",
        "  no = int(input(\"Enter the range of number you want in the list : \"))\n",
        "\n",
        "  for i in range(no):\n",
        "    n = int(input(\"Enter your numbers to be added into the list : \"))\n",
        "    li.append(n)\n",
        "  print(f\"List is : {li}\")\n",
        "\n",
        "  print(f'The 2nd Largest Element in List is : {sorted(li, reverse = True)[1]}')\n",
        "\n",
        "list()"
      ],
      "metadata": {
        "id": "5afDY7aT50nt",
        "colab": {
          "base_uri": "https://localhost:8080/"
        },
        "outputId": "dcbff559-02ba-4cb6-d92b-64f4a64a3650"
      },
      "execution_count": null,
      "outputs": [
        {
          "output_type": "stream",
          "name": "stdout",
          "text": [
            "Enter the range of number you want in the list : 7\n",
            "Enter your numbers to be added into the list : 14\n",
            "Enter your numbers to be added into the list : 99\n",
            "Enter your numbers to be added into the list : 108\n",
            "Enter your numbers to be added into the list : 44\n",
            "Enter your numbers to be added into the list : 58\n",
            "Enter your numbers to be added into the list : 105\n",
            "Enter your numbers to be added into the list : 100\n",
            "List is : [14, 99, 108, 44, 58, 105, 100]\n",
            "The 2nd Largest Element in List is : 105\n"
          ]
        }
      ]
    },
    {
      "cell_type": "markdown",
      "source": [
        "------------------------------------------------------------------------------"
      ],
      "metadata": {
        "id": "8hbF69x851Jg"
      }
    },
    {
      "cell_type": "markdown",
      "source": [
        "#Q.6) Write a Python program to find N largest elements from a list ?"
      ],
      "metadata": {
        "id": "bzyWMZId55NB"
      }
    },
    {
      "cell_type": "code",
      "source": [
        "def list(k):\n",
        "  li = []\n",
        "  no = int(input(\"Enter the range of number you want in the list : \"))\n",
        "\n",
        "  for i in range(no):\n",
        "    n = int(input(\"Enter your numbers to be added into the list : \"))\n",
        "    li.append(n)\n",
        "  print(f\"List is : {li}\")\n",
        "\n",
        "  print(f'The {k} Largest Elements in List is : {sorted(li, reverse = True)[0:k]}')\n",
        "\n",
        "list(4)"
      ],
      "metadata": {
        "id": "XjVd8e_P54rF",
        "colab": {
          "base_uri": "https://localhost:8080/"
        },
        "outputId": "f99efa97-91bf-4c0f-e05f-5e0d9d0f130f"
      },
      "execution_count": 5,
      "outputs": [
        {
          "output_type": "stream",
          "name": "stdout",
          "text": [
            "Enter the range of number you want in the list : 10\n",
            "Enter your numbers to be added into the list : 1\n",
            "Enter your numbers to be added into the list : 2\n",
            "Enter your numbers to be added into the list : 3\n",
            "Enter your numbers to be added into the list : 4\n",
            "Enter your numbers to be added into the list : 5\n",
            "Enter your numbers to be added into the list : 6\n",
            "Enter your numbers to be added into the list : 7\n",
            "Enter your numbers to be added into the list : 8\n",
            "Enter your numbers to be added into the list : 9\n",
            "Enter your numbers to be added into the list : 10\n",
            "List is : [1, 2, 3, 4, 5, 6, 7, 8, 9, 10]\n",
            "The 4 Largest Elements in List is : [10, 9, 8, 7]\n"
          ]
        }
      ]
    },
    {
      "cell_type": "markdown",
      "source": [
        "------------------------------------------------------------------------------"
      ],
      "metadata": {
        "id": "B-1ufi_O57G_"
      }
    },
    {
      "cell_type": "markdown",
      "source": [
        "#Q.7) Write a Python program to print even numbers in a list ?"
      ],
      "metadata": {
        "id": "8INAL-S958Et"
      }
    },
    {
      "cell_type": "code",
      "source": [
        "def list():\n",
        "  li = []\n",
        "  no = int(input(\"Enter the range of number you want in the list : \"))\n",
        "\n",
        "  for i in range(no):\n",
        "    n = int(input(\"Enter your numbers to be added into the list : \"))\n",
        "    li.append(n)\n",
        "  print(f\"List is : {li}\")\n",
        "\n",
        "  even = []\n",
        "  for j in li:\n",
        "    if j % 2 == 0:\n",
        "      even.append(j)\n",
        "\n",
        "  print(f\"Even numbers in the List are : {even}\")\n",
        "\n",
        "list()"
      ],
      "metadata": {
        "id": "7Vjf-qil57k1",
        "colab": {
          "base_uri": "https://localhost:8080/"
        },
        "outputId": "7fe9511c-169f-4463-96c2-fbb53bb396cf"
      },
      "execution_count": 11,
      "outputs": [
        {
          "output_type": "stream",
          "name": "stdout",
          "text": [
            "Enter the range of number you want in the list : 10\n",
            "Enter your numbers to be added into the list : 1\n",
            "Enter your numbers to be added into the list : 2\n",
            "Enter your numbers to be added into the list : 3\n",
            "Enter your numbers to be added into the list : 4\n",
            "Enter your numbers to be added into the list : 5\n",
            "Enter your numbers to be added into the list : 6\n",
            "Enter your numbers to be added into the list : 7\n",
            "Enter your numbers to be added into the list : 8\n",
            "Enter your numbers to be added into the list : 9\n",
            "Enter your numbers to be added into the list : 10\n",
            "List is : [1, 2, 3, 4, 5, 6, 7, 8, 9, 10]\n",
            "Even numbers in the List are : [2, 4, 6, 8, 10]\n"
          ]
        }
      ]
    },
    {
      "cell_type": "markdown",
      "source": [
        "---------------------------------------------------------------------"
      ],
      "metadata": {
        "id": "g8SREwXf6MvX"
      }
    },
    {
      "cell_type": "markdown",
      "source": [
        "#Q.8) Write a Python program to print odd numbers in a List ?"
      ],
      "metadata": {
        "id": "UiVcwOQA6OnJ"
      }
    },
    {
      "cell_type": "code",
      "source": [
        "def list():\n",
        "  li = []\n",
        "  no = int(input(\"Enter the range of number you want in the list : \"))\n",
        "\n",
        "  for i in range(no):\n",
        "    n = int(input(\"Enter your numbers to be added into the list : \"))\n",
        "    li.append(n)\n",
        "  print(f\"List is : {li}\")\n",
        "\n",
        "  odd = []\n",
        "  for j in li:\n",
        "    if j % 2 != 0:\n",
        "      odd.append(j)\n",
        "\n",
        "  print(f\"Odd numbers in the List are : {odd}\")\n",
        "\n",
        "list()"
      ],
      "metadata": {
        "id": "vxyeGs8H6Q4v",
        "colab": {
          "base_uri": "https://localhost:8080/"
        },
        "outputId": "8333f39c-221f-429d-ba7a-02d2098c9230"
      },
      "execution_count": 14,
      "outputs": [
        {
          "output_type": "stream",
          "name": "stdout",
          "text": [
            "Enter the range of number you want in the list : 10\n",
            "Enter your numbers to be added into the list : 1\n",
            "Enter your numbers to be added into the list : 2\n",
            "Enter your numbers to be added into the list : 3\n",
            "Enter your numbers to be added into the list : 4\n",
            "Enter your numbers to be added into the list : 5\n",
            "Enter your numbers to be added into the list : 6\n",
            "Enter your numbers to be added into the list : 7\n",
            "Enter your numbers to be added into the list : 8\n",
            "Enter your numbers to be added into the list : 9\n",
            "Enter your numbers to be added into the list : 10\n",
            "List is : [1, 2, 3, 4, 5, 6, 7, 8, 9, 10]\n",
            "Odd numbers in the List are : [1, 3, 5, 7, 9]\n"
          ]
        }
      ]
    },
    {
      "cell_type": "markdown",
      "source": [
        "------------------------------------------------------------------"
      ],
      "metadata": {
        "id": "BhxQiaVo6RK-"
      }
    },
    {
      "cell_type": "markdown",
      "source": [
        "#Q.9) Write a Python program to Remove empty List from List ?"
      ],
      "metadata": {
        "id": "iK6u0WHo6Sjf"
      }
    },
    {
      "cell_type": "code",
      "source": [
        "def check_empty_lists():\n",
        "  li = []\n",
        "  no = int(input(\"Enter the range of numbers you want in the list: \"))\n",
        "\n",
        "  for i in range(no):\n",
        "    n = input(\"Enter your numbers to be added to the list: \")\n",
        "    li.append(n)\n",
        "\n",
        "  print(f\"List is: {li}\")\n",
        "\n",
        "  empty_list_found = False     # Flag variable to track if empty list is found\n",
        "\n",
        "  for j in li:\n",
        "    if j == \"[]\":\n",
        "      empty_list_found = True     # Set the flag variable to True\n",
        "      print(f\"There is an empty list in the list at position : {li.index(j)}\")\n",
        "      li.remove(j)\n",
        "\n",
        "  if empty_list_found:\n",
        "    print(f\"The List after removing the empty list is : {li}\")\n",
        "  else:\n",
        "    print(\"No Empty list found!\")\n",
        "\n",
        "check_empty_lists()"
      ],
      "metadata": {
        "colab": {
          "base_uri": "https://localhost:8080/"
        },
        "id": "0c6aJNyVe6ho",
        "outputId": "41fadb7d-1b99-424c-fcfd-812f003e19da"
      },
      "execution_count": 74,
      "outputs": [
        {
          "output_type": "stream",
          "name": "stdout",
          "text": [
            "Enter the range of numbers you want in the list: 5\n",
            "Enter your numbers to be added to the list: 1\n",
            "Enter your numbers to be added to the list: 2\n",
            "Enter your numbers to be added to the list: 3\n",
            "Enter your numbers to be added to the list: []\n",
            "Enter your numbers to be added to the list: 5\n",
            "List is: ['1', '2', '3', '[]', '5']\n",
            "There is an empty list in the list at position : 3\n",
            "The List after removing the empty list is : ['1', '2', '3', '5']\n"
          ]
        }
      ]
    },
    {
      "cell_type": "markdown",
      "source": [
        "------------------------------------------------------------------"
      ],
      "metadata": {
        "id": "9VYFLz9x6UcW"
      }
    },
    {
      "cell_type": "markdown",
      "source": [
        "#Q.10) Write a Python program to Cloning or Copying a list ?"
      ],
      "metadata": {
        "id": "Rq0UHSj_6V2u"
      }
    },
    {
      "cell_type": "code",
      "source": [
        "def list():\n",
        "  li1 = []\n",
        "  li2 = []\n",
        "  no = int(input(\"Enter the range of number you want in the list : \"))\n",
        "\n",
        "  for i in range(no):\n",
        "    n = int(input(\"Enter your numbers to be added into the list : \"))\n",
        "    li1.append(n)\n",
        "  print(f\"Original List is : {li1}\")\n",
        "\n",
        "  for j in li1:\n",
        "    li2.append(j)\n",
        "  print(f\"\\nCopied List is : {li2}\")\n",
        "\n",
        "\n",
        "list()"
      ],
      "metadata": {
        "id": "f3RZ4NO86X93",
        "colab": {
          "base_uri": "https://localhost:8080/"
        },
        "outputId": "158fa80f-0f81-4950-eed3-5ef7268fccde"
      },
      "execution_count": 62,
      "outputs": [
        {
          "output_type": "stream",
          "name": "stdout",
          "text": [
            "Enter the range of number you want in the list : 5\n",
            "Enter your numbers to be added into the list : 1\n",
            "Enter your numbers to be added into the list : 2\n",
            "Enter your numbers to be added into the list : 3\n",
            "Enter your numbers to be added into the list : 4\n",
            "Enter your numbers to be added into the list : 5\n",
            "Original List is : [1, 2, 3, 4, 5]\n",
            "\n",
            "Copied List is : [1, 2, 3, 4, 5]\n"
          ]
        }
      ]
    },
    {
      "cell_type": "markdown",
      "source": [
        "-----------------------------------------------------------------------"
      ],
      "metadata": {
        "id": "JlWw-GDk6YTg"
      }
    },
    {
      "cell_type": "markdown",
      "source": [
        "#Q.11) Write a Python program to Count occurrences of an element in a list ?"
      ],
      "metadata": {
        "id": "3xhCl8Zg6Z62"
      }
    },
    {
      "cell_type": "code",
      "source": [
        "def list():\n",
        "  li = []\n",
        "  count = 0\n",
        "  no = int(input(\"Enter the range of number you want in the list : \"))\n",
        "\n",
        "  for i in range(no):\n",
        "    n = input(\"Enter your numbers to be added into the list : \")\n",
        "    li.append(n)\n",
        "  print(f\"List is : {li}\")\n",
        "\n",
        "  find = input(\"Enter element to find : \")\n",
        "\n",
        "  for j in li:\n",
        "    if j == find:\n",
        "      count += 1\n",
        "\n",
        "  print(f\"Total occurrences of searched element is : {count}\")\n",
        "\n",
        "list()"
      ],
      "metadata": {
        "id": "Xkvk57B76bXJ",
        "colab": {
          "base_uri": "https://localhost:8080/"
        },
        "outputId": "2d5169d4-3a3e-428e-cd4d-5800e9db1a38"
      },
      "execution_count": 67,
      "outputs": [
        {
          "output_type": "stream",
          "name": "stdout",
          "text": [
            "Enter the range of number you want in the list : 15\n",
            "Enter your numbers to be added into the list : 1\n",
            "Enter your numbers to be added into the list : 2\n",
            "Enter your numbers to be added into the list : 2\n",
            "Enter your numbers to be added into the list : 5\n",
            "Enter your numbers to be added into the list : 4\n",
            "Enter your numbers to be added into the list : 6\n",
            "Enter your numbers to be added into the list : 2\n",
            "Enter your numbers to be added into the list : 4\n",
            "Enter your numbers to be added into the list : 5\n",
            "Enter your numbers to be added into the list : 5\n",
            "Enter your numbers to be added into the list : 6\n",
            "Enter your numbers to be added into the list : 2\n",
            "Enter your numbers to be added into the list : 9\n",
            "Enter your numbers to be added into the list : 2\n",
            "Enter your numbers to be added into the list : 3\n",
            "List is : ['1', '2', '2', '5', '4', '6', '2', '4', '5', '5', '6', '2', '9', '2', '3']\n",
            "Enter element to find : 2\n",
            "Total occurrences of searched element is : 5\n"
          ]
        }
      ]
    },
    {
      "cell_type": "markdown",
      "source": [
        "------------------------------------------------------------End------------------------------------------------------------"
      ],
      "metadata": {
        "id": "Erg5fYpu5-WK"
      }
    }
  ]
}