{
  "nbformat": 4,
  "nbformat_minor": 0,
  "metadata": {
    "colab": {
      "provenance": []
    },
    "kernelspec": {
      "name": "python3",
      "display_name": "Python 3"
    },
    "language_info": {
      "name": "python"
    }
  },
  "cells": [
    {
      "cell_type": "markdown",
      "source": [
        "#**iNeuron**\n",
        "## Programming Assignment - 1 (Python Basic)\n",
        "\n",
        "- Batch - Full Stack Data Science Bootcamp 2.0\n",
        "- Name - **Mayur Soni**\n",
        "- Email ID - **mayurssoni007@gmail.com**"
      ],
      "metadata": {
        "id": "u9r27m5A7Vj-"
      }
    },
    {
      "cell_type": "markdown",
      "source": [
        "----------------------------------------------------"
      ],
      "metadata": {
        "id": "yTlEqPgX7-ue"
      }
    },
    {
      "cell_type": "markdown",
      "source": [
        "##Q.1) Write a Python program to print \"Hello Python\" ?"
      ],
      "metadata": {
        "id": "_TzerbsT8AdA"
      }
    },
    {
      "cell_type": "code",
      "execution_count": 2,
      "metadata": {
        "colab": {
          "base_uri": "https://localhost:8080/"
        },
        "id": "6dB4V7iz6v5n",
        "outputId": "fbef4a1e-2927-4f26-b7be-c510b5d87204"
      },
      "outputs": [
        {
          "output_type": "stream",
          "name": "stdout",
          "text": [
            "Hello Python\n"
          ]
        }
      ],
      "source": [
        "print(\"Hello Python\")"
      ]
    },
    {
      "cell_type": "markdown",
      "source": [
        "---------------------------------------------------"
      ],
      "metadata": {
        "id": "NrrX2m2d8_SV"
      }
    },
    {
      "cell_type": "markdown",
      "source": [
        "##Q.2) Write a Python program to do arithmetical operations addition and division ?"
      ],
      "metadata": {
        "id": "grvIU80k9A3W"
      }
    },
    {
      "cell_type": "code",
      "source": [
        "a = 10\n",
        "b = 20\n",
        "\n",
        "print(f\"Addition : {a+b}\")\n",
        "print(f\"Division : {b/a}\")"
      ],
      "metadata": {
        "colab": {
          "base_uri": "https://localhost:8080/"
        },
        "id": "cj4wdiDW8etA",
        "outputId": "c2778bcc-4c84-4df0-aa24-9f176b4050c7"
      },
      "execution_count": 5,
      "outputs": [
        {
          "output_type": "stream",
          "name": "stdout",
          "text": [
            "Addition : 30\n",
            "Division : 2.0\n"
          ]
        }
      ]
    },
    {
      "cell_type": "markdown",
      "source": [
        "-------------------------------------------------"
      ],
      "metadata": {
        "id": "6cBpmfmZ9y8S"
      }
    },
    {
      "cell_type": "markdown",
      "source": [
        "##Q.3) Write a Python program to find the area of a triangle ?"
      ],
      "metadata": {
        "id": "dfDGby4Q90u6"
      }
    },
    {
      "cell_type": "code",
      "source": [
        "a = 4\n",
        "b = 6\n",
        "c = 8\n",
        "\n",
        "s = (a+b+c)/2\n",
        "area = (s*(s-a)*(s-b)*(s-c))**0.5\n",
        "\n",
        "print(f\"Area of Triangle is : {area}\")"
      ],
      "metadata": {
        "colab": {
          "base_uri": "https://localhost:8080/"
        },
        "id": "q1uHrYpS9Osj",
        "outputId": "abfa3b3e-c776-4e36-f05e-9a8e0680d1ce"
      },
      "execution_count": 34,
      "outputs": [
        {
          "output_type": "stream",
          "name": "stdout",
          "text": [
            "Area of Triangle is : 11.61895003862225\n"
          ]
        }
      ]
    },
    {
      "cell_type": "markdown",
      "source": [
        "-------------------------------------------"
      ],
      "metadata": {
        "id": "S45BZAfG_jxe"
      }
    },
    {
      "cell_type": "markdown",
      "source": [
        "##Q.4) Write a Python program to swap two variables ?"
      ],
      "metadata": {
        "id": "h4GQiWa-_lME"
      }
    },
    {
      "cell_type": "code",
      "source": [
        "a = 10\n",
        "b = 20\n",
        "\n",
        "print(f\"Before Swapping : a = {a}, b = {b}\")\n",
        "\n",
        "temp = a\n",
        "a = b\n",
        "b = temp\n",
        "\n",
        "print(f\"After Swapping : a = {a}, b = {b}\")"
      ],
      "metadata": {
        "colab": {
          "base_uri": "https://localhost:8080/"
        },
        "id": "aay--0AO-1qt",
        "outputId": "0efa692e-26a8-4a84-e8fc-22e686f15fb6"
      },
      "execution_count": 13,
      "outputs": [
        {
          "output_type": "stream",
          "name": "stdout",
          "text": [
            "Before Swapping : a = 10, b = 20\n",
            "After Swapping : a = 20, b = 10\n"
          ]
        }
      ]
    },
    {
      "cell_type": "markdown",
      "source": [
        "-------------------------------------------------"
      ],
      "metadata": {
        "id": "zxCgfn63BkWw"
      }
    },
    {
      "cell_type": "markdown",
      "source": [
        "##Q.5) Write a Python program to generate a random number ?"
      ],
      "metadata": {
        "id": "IyhJYPp1Bm9n"
      }
    },
    {
      "cell_type": "code",
      "source": [
        "import random\n",
        "print(random.randint(0,100))"
      ],
      "metadata": {
        "colab": {
          "base_uri": "https://localhost:8080/"
        },
        "id": "EpVKM31tBCG-",
        "outputId": "5da9bada-cb92-4c76-8523-2b6223f968da"
      },
      "execution_count": 29,
      "outputs": [
        {
          "output_type": "stream",
          "name": "stdout",
          "text": [
            "25\n"
          ]
        }
      ]
    },
    {
      "cell_type": "markdown",
      "source": [
        "------------------------------------------------------------End------------------------------------------------------------"
      ],
      "metadata": {
        "id": "-WjT10MYCigE"
      }
    }
  ]
}