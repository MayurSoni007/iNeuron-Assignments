{
  "nbformat": 4,
  "nbformat_minor": 0,
  "metadata": {
    "colab": {
      "provenance": []
    },
    "kernelspec": {
      "name": "python3",
      "display_name": "Python 3"
    },
    "language_info": {
      "name": "python"
    }
  },
  "cells": [
    {
      "cell_type": "markdown",
      "source": [
        "#**iNeuron**\n",
        "## Programming Assignment - 7 (Python Basic)\n",
        "\n",
        "- Batch - Full Stack Data Science Bootcamp 2.0\n",
        "- Name - **Mayur Soni**\n",
        "- Email ID - **mayurssoni007@gmail.com**"
      ],
      "metadata": {
        "id": "Q8KxRcTJAq5i"
      }
    },
    {
      "cell_type": "markdown",
      "source": [
        "------------------------------------------------"
      ],
      "metadata": {
        "id": "8sthEyCyAtPX"
      }
    },
    {
      "cell_type": "markdown",
      "source": [
        "#Q1.) Write a Python Program to find sum of array ?"
      ],
      "metadata": {
        "id": "PPImLPOEA7qW"
      }
    },
    {
      "cell_type": "code",
      "execution_count": 10,
      "metadata": {
        "id": "LYDbw7ydAm-7",
        "colab": {
          "base_uri": "https://localhost:8080/"
        },
        "outputId": "78013a49-942c-484b-e4d3-35fcb4881c86"
      },
      "outputs": [
        {
          "output_type": "stream",
          "name": "stdout",
          "text": [
            "Sum of Array is : 28\n"
          ]
        }
      ],
      "source": [
        "from array import *\n",
        "\n",
        "vals = array('i', [1,2,3,4,5,6,7])\n",
        "a = 0\n",
        "\n",
        "for b in vals:\n",
        "  sum = a + b\n",
        "  a = sum\n",
        "\n",
        "print(f\"Sum of Array is : {sum}\")"
      ]
    },
    {
      "cell_type": "markdown",
      "source": [
        "----------------------------------------------------------------"
      ],
      "metadata": {
        "id": "HsYcAqjfBEKe"
      }
    },
    {
      "cell_type": "markdown",
      "source": [
        "# Q2.) Write a Python Program to find largest element in an array ?"
      ],
      "metadata": {
        "id": "wAyba_F6BK_-"
      }
    },
    {
      "cell_type": "code",
      "source": [
        "from array import *\n",
        "\n",
        "vals = array('i', [1,3,2,4,9,12,5,6,7,19,5,52,0])\n",
        "\n",
        "largest = 0\n",
        "for a in vals:\n",
        "  if a > largest:\n",
        "    largest = a\n",
        "\n",
        "print(f\"Largest element in the Array is : {largest}\")\n"
      ],
      "metadata": {
        "id": "C20hNExKBYEF",
        "colab": {
          "base_uri": "https://localhost:8080/"
        },
        "outputId": "6ba6d392-7f33-4ee3-c5f3-ef3aadd10fcb"
      },
      "execution_count": null,
      "outputs": [
        {
          "output_type": "stream",
          "name": "stdout",
          "text": [
            "Largest element in the Array is : 52\n"
          ]
        }
      ]
    },
    {
      "cell_type": "markdown",
      "source": [
        "----------------------------------------------------------------"
      ],
      "metadata": {
        "id": "8cTX9LFyBGFv"
      }
    },
    {
      "cell_type": "markdown",
      "source": [
        "# Q3.) Write a Python Program for array rotation ?"
      ],
      "metadata": {
        "id": "hd0JB4fvBZF8"
      }
    },
    {
      "cell_type": "code",
      "source": [
        "array = [1,2,3,4,5,6,7]\n",
        "shift = int(input(\"Enter how many elements of the array you want the rotation of : \"))\n",
        "\n",
        "for i in range(0,shift):\n",
        "  temp = array[0]\n",
        "\n",
        "  for j in range(0, len(array)-1):\n",
        "    array[j] = array[j+1]\n",
        "  array[len(array)-1] = temp\n",
        "\n",
        "for k in range(0, len(array)):\n",
        "  print(array[k], end = \" \")"
      ],
      "metadata": {
        "id": "F_bGS3THBZis",
        "colab": {
          "base_uri": "https://localhost:8080/"
        },
        "outputId": "44a7493b-49f9-4f04-8b20-1faebd195225"
      },
      "execution_count": null,
      "outputs": [
        {
          "output_type": "stream",
          "name": "stdout",
          "text": [
            "Enter how many elements of the array you want the rotation of : 2\n",
            "3 4 5 6 7 1 2 "
          ]
        }
      ]
    },
    {
      "cell_type": "markdown",
      "source": [
        "----------------------------------------------------------------"
      ],
      "metadata": {
        "id": "tkK4B5DbBHAu"
      }
    },
    {
      "cell_type": "markdown",
      "source": [
        "# Q4.) Write a Python Program to Split the array and add the first part to the end ?"
      ],
      "metadata": {
        "id": "tcNMHOrnBgdO"
      }
    },
    {
      "cell_type": "code",
      "source": [
        "vals = [1,2,3,4,5,6,7,8]\n",
        "n = len(vals)\n",
        "position = len(vals) // 2\n",
        "\n",
        "part1 = vals[:position]\n",
        "part2 = vals[position:]\n",
        "part2.extend(part1)\n",
        "\n",
        "for i in part2:\n",
        "    print(i, end=\" \")"
      ],
      "metadata": {
        "id": "2dxPUpgKBgyV",
        "colab": {
          "base_uri": "https://localhost:8080/"
        },
        "outputId": "9e2fb2ce-f328-4793-d42b-eee94cc0244c"
      },
      "execution_count": null,
      "outputs": [
        {
          "output_type": "stream",
          "name": "stdout",
          "text": [
            "5 6 7 8 1 2 3 4 "
          ]
        }
      ]
    },
    {
      "cell_type": "markdown",
      "source": [
        "----------------------------------------------------------------"
      ],
      "metadata": {
        "id": "GSvhWEMzBH2n"
      }
    },
    {
      "cell_type": "markdown",
      "source": [
        "# Q5.) Write a Python Program to check if given array is Monotonic ?"
      ],
      "metadata": {
        "id": "F5i0_vqrBntr"
      }
    },
    {
      "cell_type": "code",
      "source": [
        "def ismonotone(a):\n",
        "    n=len(a) \n",
        "    if n==1:\n",
        "        return True\n",
        "    else:\n",
        "        if all(a[i]>=a[i+1] for i in range(0,n-1) or a[i]<=a[i+1] for i in range(0,n-1)):\n",
        "            return True\n",
        "        else:\n",
        "            return False\n",
        "\n",
        "a = [7, 6, 4, 2]\n",
        "print(ismonotone(a))\n",
        "\n",
        "b = [6, 2, 7, 3]\n",
        "print(ismonotone(b))\n",
        "\n",
        "c=[5,4,3]\n",
        "print(ismonotone(c))\n",
        "\n",
        "d=[1]\n",
        "print(ismonotone(d))"
      ],
      "metadata": {
        "id": "OM0Y9T_zBtgU",
        "colab": {
          "base_uri": "https://localhost:8080/"
        },
        "outputId": "0c0cb100-0225-4514-9d63-2030a076a08f"
      },
      "execution_count": 9,
      "outputs": [
        {
          "output_type": "stream",
          "name": "stdout",
          "text": [
            "True\n",
            "False\n",
            "True\n",
            "True\n"
          ]
        }
      ]
    },
    {
      "cell_type": "markdown",
      "source": [
        "------------------------------------------------------------End------------------------------------------------------------"
      ],
      "metadata": {
        "id": "qTHJWOAtBIln"
      }
    }
  ]
}