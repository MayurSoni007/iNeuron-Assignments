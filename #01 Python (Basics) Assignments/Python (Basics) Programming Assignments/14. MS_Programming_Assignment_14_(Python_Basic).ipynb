{
  "nbformat": 4,
  "nbformat_minor": 0,
  "metadata": {
    "colab": {
      "provenance": []
    },
    "kernelspec": {
      "name": "python3",
      "display_name": "Python 3"
    },
    "language_info": {
      "name": "python"
    }
  },
  "cells": [
    {
      "cell_type": "markdown",
      "source": [
        "#**iNeuron**\n",
        "## Programming Assignment - 14 (Python Basic)\n",
        "\n",
        "- Batch - Full Stack Data Science Bootcamp 2.0\n",
        "- Name - **Mayur Soni**\n",
        "- Email ID - **mayurssoni007@gmail.com**"
      ],
      "metadata": {
        "id": "UvXzgZ23-veE"
      }
    },
    {
      "cell_type": "markdown",
      "source": [
        "--------------------------------------------------------------------------"
      ],
      "metadata": {
        "id": "9h9Z7ucx-zjR"
      }
    },
    {
      "cell_type": "markdown",
      "source": [
        "#Q.1) Define a class with a generator which can iterate the numbers, which are divisible by 7, between a given range 0 and n."
      ],
      "metadata": {
        "id": "mBmqgTHf-1dS"
      }
    },
    {
      "cell_type": "code",
      "execution_count": 43,
      "metadata": {
        "id": "rXFDraBaXQ6P",
        "colab": {
          "base_uri": "https://localhost:8080/"
        },
        "outputId": "1ae5c2b0-2165-4b86-cb1f-65a0aa9098a0"
      },
      "outputs": [
        {
          "output_type": "stream",
          "name": "stdout",
          "text": [
            "0 7 14 21 28 35 42 49 56 63 70 77 84 91 98 105 112 119 126 133 140 147 154 161 168 175 182 189 196 203 210 217 224 231 238 245 252 259 266 273 280 287 294 "
          ]
        }
      ],
      "source": [
        "class div_generator:\n",
        "  def __init__(self,n):\n",
        "    self.n = n\n",
        "  def generator(self):\n",
        "   for i in range(0,self.n+1):\n",
        "    if i % 7 == 0:\n",
        "      yield i\n",
        "\n",
        "result = div_generator(300)\n",
        "for ele in result.generator():\n",
        "  print(ele,end=' ')"
      ]
    },
    {
      "cell_type": "markdown",
      "source": [
        "--------------------------------------------------------------------------"
      ],
      "metadata": {
        "id": "pM6Xe17b-4lD"
      }
    },
    {
      "cell_type": "markdown",
      "source": [
        "#Q.2) Write a program to compute the frequency of the words from the input. The output should output after sorting the key alphanumerically.\n",
        "\n",
        "## Suppose the following input is supplied to the program:\n",
        "\n",
        "## **```New to Python or choosing between Python 2 and Python 3? Read Python 2 or Python 3.```**\n",
        "\n",
        "## Then, the output should be:\n",
        "## **```2:2 3.:1 3?:1 New:1 Python:5 Read:1 and:1 between:1 choosing:1 or:2 to:1```**\n"
      ],
      "metadata": {
        "id": "aIyrwLBK-5XJ"
      }
    },
    {
      "cell_type": "code",
      "source": [
        "def compute_freq():\n",
        "  inpu = input(\"Enter Input String : \")\n",
        "  frequency = {}\n",
        "  for i in inpu.split(\" \"):\n",
        "    if(frequency.get(i) == None):\n",
        "      frequency[i] = 1\n",
        "    else:\n",
        "      frequency[i] += 1\n",
        "\n",
        "  for ele in sorted(frequency):\n",
        "    print(f\"{ele}:{frequency[ele]}\",end=\" \")\n",
        "\n",
        "compute_freq()"
      ],
      "metadata": {
        "id": "onah09a_-491",
        "colab": {
          "base_uri": "https://localhost:8080/"
        },
        "outputId": "2fbe673a-7c86-432d-9949-c18ee5f3cd95"
      },
      "execution_count": 20,
      "outputs": [
        {
          "output_type": "stream",
          "name": "stdout",
          "text": [
            "Enter Input String : New to Python or choosing between Python 2 and Python 3? Read Python 2 or Python 3.\n",
            "2:2 3.:1 3?:1 New:1 Python:5 Read:1 and:1 between:1 choosing:1 or:2 to:1 "
          ]
        }
      ]
    },
    {
      "cell_type": "markdown",
      "source": [
        "--------------------------------------------------------------------------"
      ],
      "metadata": {
        "id": "wgJsD6nC-7G5"
      }
    },
    {
      "cell_type": "markdown",
      "source": [
        "#Q.3) Define a class Person and its two child classes: Male and Female. All classes have a method \"getGender\" which can print \"Male\" for Male class and \"Female\" for Female class."
      ],
      "metadata": {
        "id": "R7250TV9-8D5"
      }
    },
    {
      "cell_type": "code",
      "source": [
        "class Person():\n",
        "  def getGender():\n",
        "    pass\n",
        "\n",
        "class Male(Person):\n",
        "  def getGender():\n",
        "    print(\"Male\")\n",
        "\n",
        "class Female(Person):\n",
        "  def getGender():\n",
        "    print(\"Female\")\n",
        "\n",
        "Male.getGender()\n",
        "Female.getGender()"
      ],
      "metadata": {
        "id": "iORRggwB-7nF",
        "colab": {
          "base_uri": "https://localhost:8080/"
        },
        "outputId": "5839fb50-ac26-40b4-fc76-5da85b28eefa"
      },
      "execution_count": 21,
      "outputs": [
        {
          "output_type": "stream",
          "name": "stdout",
          "text": [
            "Male\n",
            "Female\n"
          ]
        }
      ]
    },
    {
      "cell_type": "markdown",
      "source": [
        "--------------------------------------------------------------------------"
      ],
      "metadata": {
        "id": "4E8Wqp4z-9qC"
      }
    },
    {
      "cell_type": "markdown",
      "source": [
        "#Q.4) Please write a program to generate all sentences where subject is in [\"I\", \"You\"] and verb is in [\"Play\", \"Love\"] and the object is in [\"Hockey\",\"Football\"]."
      ],
      "metadata": {
        "id": "PWYCzzeV--h5"
      }
    },
    {
      "cell_type": "code",
      "source": [
        "def gen_sent():\n",
        "  subject = [\"I\",\"You\"]\n",
        "  verb = [\"Play\",\"Love\"]\n",
        "  object = [\"Hockey\",\"Football\"]\n",
        "\n",
        "  for s in subject:\n",
        "    for v in verb:\n",
        "      for o in object:\n",
        "        print(f\"{s} {v} {o}\")\n",
        "\n",
        "gen_sent()"
      ],
      "metadata": {
        "id": "CcIulx1k--Bs",
        "colab": {
          "base_uri": "https://localhost:8080/"
        },
        "outputId": "6d4f955f-3ddd-4b19-f2a7-f6cb0fc585c9"
      },
      "execution_count": 23,
      "outputs": [
        {
          "output_type": "stream",
          "name": "stdout",
          "text": [
            "I Play Hockey\n",
            "I Play Football\n",
            "I Love Hockey\n",
            "I Love Football\n",
            "You Play Hockey\n",
            "You Play Football\n",
            "You Love Hockey\n",
            "You Love Football\n"
          ]
        }
      ]
    },
    {
      "cell_type": "markdown",
      "source": [
        "--------------------------------------------------------------------------"
      ],
      "metadata": {
        "id": "VMx0jWpb_AlB"
      }
    },
    {
      "cell_type": "markdown",
      "source": [
        "#Q.5) Please write a program to compress and decompress the string \"hello world!helloworld!helloworld!hello world!\"."
      ],
      "metadata": {
        "id": "CezQOHIK_CyR"
      }
    },
    {
      "cell_type": "code",
      "source": [
        "def compress(in_string):\n",
        "    output = in_string[0]\n",
        "    count = 1\n",
        "\n",
        "    for ele in range(len(in_string)-1):\n",
        "        if in_string[ele] == in_string[ele+1]:\n",
        "            count +=1\n",
        "        else:\n",
        "            if count > 1:\n",
        "                output += str(count)\n",
        "            output += in_string[ele+1]\n",
        "            count = 1\n",
        "    if count > 1:\n",
        "        output += str(count)\n",
        "    print(output)\n",
        "\n",
        "\n",
        "def decompress(in_string):\n",
        "    output = ''\n",
        "    for ele in range(len(in_string)):\n",
        "        if in_string[ele].isdigit():\n",
        "            output += output[-1]*(int(in_string[ele])-1)\n",
        "        else:\n",
        "            output += in_string[ele]\n",
        "    print(output)\n",
        "\n",
        "\n",
        "compress(\"hello world!hello world!hello world!hello world!\")\n",
        "decompress(\"hel2o world!hel2o world!hel2o world!hel2o world!\")\n",
        "\n",
        "compress('ineuron full stack datascience')\n",
        "decompress('ineuron ful2 stack datascience')"
      ],
      "metadata": {
        "id": "qi0EKOEC_A8s",
        "colab": {
          "base_uri": "https://localhost:8080/"
        },
        "outputId": "d111bb21-60dd-43a6-be8c-e0af81f76fb3"
      },
      "execution_count": 37,
      "outputs": [
        {
          "output_type": "stream",
          "name": "stdout",
          "text": [
            "hel2o world!hel2o world!hel2o world!hel2o world!\n",
            "hello world!hello world!hello world!hello world!\n",
            "ineuron ful2 stack datascience\n",
            "ineuron full stack datascience\n"
          ]
        }
      ]
    },
    {
      "cell_type": "markdown",
      "source": [
        "--------------------------------------------------------------------------"
      ],
      "metadata": {
        "id": "vEzSH7Gw_E1B"
      }
    },
    {
      "cell_type": "markdown",
      "source": [
        "#Q.6) Please write a binary search function which searches an item in a sorted list. The function should return the index of element to be searched in the list."
      ],
      "metadata": {
        "id": "02c4h3DY_F0R"
      }
    },
    {
      "cell_type": "code",
      "source": [
        "def binary_search(sorted_list, item):\n",
        "    low = 0\n",
        "    high = len(sorted_list) - 1\n",
        "\n",
        "    while low <= high:\n",
        "        mid = (low + high) // 2\n",
        "        guess = sorted_list[mid]\n",
        "\n",
        "        if guess == item:\n",
        "            return mid\n",
        "        elif guess > item:\n",
        "            high = mid - 1\n",
        "        else:\n",
        "            low = mid + 1\n",
        "\n",
        "    # Item not found\n",
        "    return -1\n",
        "\n",
        "# Test the function\n",
        "sorted_list = [2, 4, 7, 10, 13, 17, 21, 25, 30]\n",
        "item = 7\n",
        "index = binary_search(sorted_list, item)\n",
        "\n",
        "if index != -1:\n",
        "    print(\"Item\", item, \"found at index\", index)\n",
        "else:\n",
        "    print(\"Item\", item, \"not found in the list.\")"
      ],
      "metadata": {
        "id": "aImRcl4b_FKc",
        "colab": {
          "base_uri": "https://localhost:8080/"
        },
        "outputId": "3f5e55f1-c40f-4d2f-b2e1-888965f5af21"
      },
      "execution_count": 40,
      "outputs": [
        {
          "output_type": "stream",
          "name": "stdout",
          "text": [
            "Item 7 found at index 2\n"
          ]
        }
      ]
    },
    {
      "cell_type": "markdown",
      "source": [
        "------------------------------------------------------------End------------------------------------------------------------"
      ],
      "metadata": {
        "id": "5zmYmjL-_m_6"
      }
    }
  ]
}