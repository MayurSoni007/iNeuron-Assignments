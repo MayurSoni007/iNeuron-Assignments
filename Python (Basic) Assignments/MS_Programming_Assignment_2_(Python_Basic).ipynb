{
  "nbformat": 4,
  "nbformat_minor": 0,
  "metadata": {
    "colab": {
      "provenance": []
    },
    "kernelspec": {
      "name": "python3",
      "display_name": "Python 3"
    },
    "language_info": {
      "name": "python"
    }
  },
  "cells": [
    {
      "cell_type": "markdown",
      "source": [
        "#**iNeuron**\n",
        "## Programming Assignment - 2 (Python Basic)\n",
        "\n",
        "- Batch - Full Stack Data Science Bootcamp 2.0\n",
        "- Name - **Mayur Soni**\n",
        "- Email ID - **mayurssoni007@gmail.com**"
      ],
      "metadata": {
        "id": "ixtX6Cl_Iqrc"
      }
    },
    {
      "cell_type": "markdown",
      "source": [
        "------------------------------------------------------------------"
      ],
      "metadata": {
        "id": "B-7wGH-LI5zE"
      }
    },
    {
      "cell_type": "markdown",
      "source": [
        "##Q.1) Write a Python program to convert kilometers to miles ?"
      ],
      "metadata": {
        "id": "nrjvqRHNI8xD"
      }
    },
    {
      "cell_type": "code",
      "execution_count": 28,
      "metadata": {
        "colab": {
          "base_uri": "https://localhost:8080/"
        },
        "id": "8CQ4xSBvIlte",
        "outputId": "b9e3ac61-a4be-4cea-b236-303b891c4e62"
      },
      "outputs": [
        {
          "output_type": "stream",
          "name": "stdout",
          "text": [
            "Enter your value in KM : 2\n",
            "Your Converted Value of Km to Miles is : 1.24274238\n"
          ]
        }
      ],
      "source": [
        "km = int(input(\"Enter your value in KM : \"))\n",
        "\n",
        "miles = km*0.62137119\n",
        "\n",
        "print(f\"Your Converted Value of Km to Miles is : {miles}\")"
      ]
    },
    {
      "cell_type": "markdown",
      "source": [
        "-----------------------------------------------------"
      ],
      "metadata": {
        "id": "W1ANU-cPKeEt"
      }
    },
    {
      "cell_type": "markdown",
      "source": [
        "##Q.2) Write a Python program to convert Celsius to Fahrenheit ?"
      ],
      "metadata": {
        "id": "pBLatqLFKuMN"
      }
    },
    {
      "cell_type": "code",
      "source": [
        "cel = int(input(\"Enter your value in Celcius : \"))\n",
        "\n",
        "fahrenheit = (cel*1.8)+32\n",
        "\n",
        "print(f\"Your Converted Value of Celcius to Fahrenheit is : {fahrenheit}\")"
      ],
      "metadata": {
        "colab": {
          "base_uri": "https://localhost:8080/"
        },
        "id": "VxcAE8wjKsU6",
        "outputId": "f9c13b86-baec-4769-ebf3-3b8dee4a1e18"
      },
      "execution_count": null,
      "outputs": [
        {
          "output_type": "stream",
          "name": "stdout",
          "text": [
            "Enter your value in Celcius : 37\n",
            "Your Converted Value of Celcius to Fahrenheit is : 98.60000000000001\n"
          ]
        }
      ]
    },
    {
      "cell_type": "markdown",
      "source": [
        "--------------------------------------------------------"
      ],
      "metadata": {
        "id": "ARyDdPm2NPE-"
      }
    },
    {
      "cell_type": "markdown",
      "source": [
        "##Q.3) Write a Python program to display calendar ?"
      ],
      "metadata": {
        "id": "PXTwP9uPNvcO"
      }
    },
    {
      "cell_type": "code",
      "source": [
        "import calendar\n",
        "yy = 2023\n",
        "mm = 2\n",
        "\n",
        "print(calendar.month(yy, mm))"
      ],
      "metadata": {
        "id": "HQy0vhzELxkB",
        "colab": {
          "base_uri": "https://localhost:8080/"
        },
        "outputId": "e5439a3a-8276-49a1-d55b-d9660ed5a94a"
      },
      "execution_count": 24,
      "outputs": [
        {
          "output_type": "stream",
          "name": "stdout",
          "text": [
            "   February 2023\n",
            "Mo Tu We Th Fr Sa Su\n",
            "       1  2  3  4  5\n",
            " 6  7  8  9 10 11 12\n",
            "13 14 15 16 17 18 19\n",
            "20 21 22 23 24 25 26\n",
            "27 28\n",
            "\n"
          ]
        }
      ]
    },
    {
      "cell_type": "markdown",
      "source": [
        "--------------------------------------------------------"
      ],
      "metadata": {
        "id": "LWLtNEVoN0y8"
      }
    },
    {
      "cell_type": "markdown",
      "source": [
        "##Q.4) Write a Python program to solve quadratic equation ?"
      ],
      "metadata": {
        "id": "tWIWiLg7N1_r"
      }
    },
    {
      "cell_type": "markdown",
      "source": [
        "###Ans. \n",
        "An Equation is Quadratic Equation when -  \n",
        "- ax2 + bx + c = 0 \n",
        "- where a, b and c are real numbers\n",
        "- and a ≠ 0"
      ],
      "metadata": {
        "id": "PA5AaIcjFL7o"
      }
    },
    {
      "cell_type": "code",
      "source": [
        "a = 3\n",
        "b = 5\n",
        "c = -7\n",
        "\n",
        "x1 = ((-b) + (b**2-4*a*c)**0.5) / (2*a)\n",
        "x2 = ((-b) - (b**2-4*a*c)**0.5) / (2*a) \n",
        "\n",
        "print(f\"The Solutions are : {x1} and {x2}\")"
      ],
      "metadata": {
        "id": "iUJOFsUtN1l5",
        "colab": {
          "base_uri": "https://localhost:8080/"
        },
        "outputId": "a7e28e4e-7912-462c-de29-1e66e7aff3fe"
      },
      "execution_count": 9,
      "outputs": [
        {
          "output_type": "stream",
          "name": "stdout",
          "text": [
            "The Solutions are : 0.9067177514850918 and -2.5733844181517584\n"
          ]
        }
      ]
    },
    {
      "cell_type": "markdown",
      "source": [
        "----------------------------------------------------------"
      ],
      "metadata": {
        "id": "2_cA-qigN82D"
      }
    },
    {
      "cell_type": "markdown",
      "source": [
        "##Q.5) Write a Python program to swap two variables without temp variable ?"
      ],
      "metadata": {
        "id": "YIEo5ghAN-hq"
      }
    },
    {
      "cell_type": "code",
      "source": [
        "a = 10\n",
        "b = 20\n",
        "\n",
        "print(f\"Before Swapping --> a is : {a} & b is : {b}\")\n",
        "a,b=b,a\n",
        "print(f\"After Swapping --> a is : {a} & b is : {b}\")"
      ],
      "metadata": {
        "id": "kKrzAWjWN9tY",
        "colab": {
          "base_uri": "https://localhost:8080/"
        },
        "outputId": "0116c493-5ca0-44e7-f79b-d64c64174be8"
      },
      "execution_count": 20,
      "outputs": [
        {
          "output_type": "stream",
          "name": "stdout",
          "text": [
            "Before Swapping --> a is : 10 & b is : 20\n",
            "After Swapping --> a is : 20 & b is : 10\n"
          ]
        }
      ]
    },
    {
      "cell_type": "markdown",
      "source": [
        "------------------------------------------------------------End------------------------------------------------------------"
      ],
      "metadata": {
        "id": "owrSfyb3OFDD"
      }
    }
  ]
}