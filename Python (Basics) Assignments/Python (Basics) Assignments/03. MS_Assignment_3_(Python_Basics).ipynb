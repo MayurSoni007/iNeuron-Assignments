{
  "nbformat": 4,
  "nbformat_minor": 0,
  "metadata": {
    "colab": {
      "provenance": []
    },
    "kernelspec": {
      "name": "python3",
      "display_name": "Python 3"
    },
    "language_info": {
      "name": "python"
    }
  },
  "cells": [
    {
      "cell_type": "markdown",
      "source": [
        "#**iNeuron**\n",
        "## Python (Basics) Assignment No. 3\n",
        "\n",
        "- Batch - Full Stack Data Science Bootcamp 2.0\n",
        "- Name - **Mayur Soni**\n",
        "- email id - **mayurssoni007@gmail.com**"
      ],
      "metadata": {
        "id": "Eik5qJwAwaon"
      }
    },
    {
      "cell_type": "markdown",
      "source": [
        "------------------------------------------------------------------------"
      ],
      "metadata": {
        "id": "BD3BcnVZwevg"
      }
    },
    {
      "cell_type": "markdown",
      "source": [
        "##Q.1) Why are functions advantageous to have in your programs ?"
      ],
      "metadata": {
        "id": "U56C_CDawu08"
      }
    },
    {
      "cell_type": "markdown",
      "source": [
        "###**Answer -** Having functions in our Program is advantageous as -\n",
        "- We can use multiple short codes in our program just by calling that function and that to multiple times.\n",
        "- We can avoid rewriting the same logic or code again and again in a program.\n",
        "- We can track a large Python program easily when it is divided into multiple functions."
      ],
      "metadata": {
        "id": "5WZG5pYVLLpW"
      }
    },
    {
      "cell_type": "markdown",
      "source": [
        "---------------------------------------------------------"
      ],
      "metadata": {
        "id": "Skscnum0wyer"
      }
    },
    {
      "cell_type": "markdown",
      "source": [
        "##Q.2) When does the code in a function run: when it's specified or when it's called ?"
      ],
      "metadata": {
        "id": "6yuu7Jonw6Ar"
      }
    },
    {
      "cell_type": "markdown",
      "source": [
        "###**Answer -**\n",
        "- The code in a function **runs when the function is Called** not when the function is defined."
      ],
      "metadata": {
        "id": "niYV0gA6LU3l"
      }
    },
    {
      "cell_type": "markdown",
      "source": [
        "------------------------------------------------------------"
      ],
      "metadata": {
        "id": "1kEp13WAJAt9"
      }
    },
    {
      "cell_type": "markdown",
      "source": [
        "##Q.3) What statement creates a function ?"
      ],
      "metadata": {
        "id": "SXHNmwyrJCgh"
      }
    },
    {
      "cell_type": "markdown",
      "source": [
        "###**Answer -**\n",
        "- We define a function with the **def** keyword, then write the function identifier **(name)** followed by **parentheses** and **a colon.**\n",
        "- **def < function_name > < () > :** creates a function.\n",
        "- Then in the next line we should Indent it with a Tab or 4 spaces and then define what we want the function to do."
      ],
      "metadata": {
        "id": "Bm8hiCxMMRhC"
      }
    },
    {
      "cell_type": "markdown",
      "source": [
        "------------------------------------------------------------"
      ],
      "metadata": {
        "id": "bWN5CKGjJDgk"
      }
    },
    {
      "cell_type": "markdown",
      "source": [
        "##Q.4) What is the difference between a function and a function call ?"
      ],
      "metadata": {
        "id": "pUt3bcguJMNT"
      }
    },
    {
      "cell_type": "markdown",
      "source": [
        "###**Answer -** \n",
        "- A **function** is a block of code that we define using def keyword followed with a proper syntax to perform some operation and returns a result. It usually accepts inputs as parameters and returns a result.\n",
        "- While a **function call** is  the code used to call that function with its name to perform the code or program written in that."
      ],
      "metadata": {
        "id": "fjlFDQ7OMU3d"
      }
    },
    {
      "cell_type": "markdown",
      "source": [
        "------------------------------------------------------------"
      ],
      "metadata": {
        "id": "QkZPSRl6Jl86"
      }
    },
    {
      "cell_type": "markdown",
      "source": [
        "##Q.5) How many global scopes are there in a Python program? How many local scopes ?"
      ],
      "metadata": {
        "id": "H2D-FSvtJgYD"
      }
    },
    {
      "cell_type": "markdown",
      "source": [
        "###**Answer -** \n",
        "- There is only **One Global Python Scope** per Program Execution. This scope remains in existence until the program terminates and all its names are forgotten.\n",
        "- While at any given time during execution, we'll have at most **four active Python scopes** — local, enclosing, global, and built-in—depending on where we are in the code."
      ],
      "metadata": {
        "id": "1VIbu3rSMYnj"
      }
    },
    {
      "cell_type": "markdown",
      "source": [
        "------------------------------------------------------"
      ],
      "metadata": {
        "id": "aEhFqCkUJn5y"
      }
    },
    {
      "cell_type": "markdown",
      "source": [
        "##Q.6) What happens to variables in a local scope when the function call returns ?"
      ],
      "metadata": {
        "id": "Kux78Cg4JpWC"
      }
    },
    {
      "cell_type": "markdown",
      "source": [
        "###**Answer -** Each call of the function creates new local variables, and their lifetimes expire when the function returns to the caller."
      ],
      "metadata": {
        "id": "l9gjbSCUMcDb"
      }
    },
    {
      "cell_type": "markdown",
      "source": [
        "----------------------------------------------------------------"
      ],
      "metadata": {
        "id": "LnpN-yoYJtzb"
      }
    },
    {
      "cell_type": "markdown",
      "source": [
        "##Q.7) What is the concept of a return value? Is it possible to have a return value in an expression ?"
      ],
      "metadata": {
        "id": "1_6TnZ_-JwCz"
      }
    },
    {
      "cell_type": "markdown",
      "source": [
        "###**Answer -** \n",
        "- **The Python return statement** is a key component of functions and methods. We can use the return statement to make our functions send Python objects back to the caller code. These objects are known as the function's return value. We can use them to perform further computation in our programs.\n",
        "- **Yes we can return a value in any type of Pthon Object** whether it is an expression type value or anything else. The return value of a Python function can be any Python object."
      ],
      "metadata": {
        "id": "U9dQkvbAMe6q"
      }
    },
    {
      "cell_type": "markdown",
      "source": [
        "-------------------------------------------------"
      ],
      "metadata": {
        "id": "PscFm9p5J3FT"
      }
    },
    {
      "cell_type": "markdown",
      "source": [
        "##Q.8) If a function does not have a return statement, what is the return value of a call to that function ?"
      ],
      "metadata": {
        "id": "IovRcsBxJ4UK"
      }
    },
    {
      "cell_type": "markdown",
      "source": [
        "###**Answer -** \n",
        "- If a function does not have a return statement, **control automatically returns to the calling function after the last statement of the called function is executed.** In this case, the return value of the called function is undefined.\n",
        "- Python will implicitly return a default value for us. **That default return value will always be None.**"
      ],
      "metadata": {
        "id": "pvQU8cHMMj9E"
      }
    },
    {
      "cell_type": "markdown",
      "source": [
        "-----------------------------------------------------"
      ],
      "metadata": {
        "id": "adtid9pfJ7XD"
      }
    },
    {
      "cell_type": "markdown",
      "source": [
        "##Q.9) How do you make a function variable refer to the global variable ?"
      ],
      "metadata": {
        "id": "ccGKHq2JJ85R"
      }
    },
    {
      "cell_type": "markdown",
      "source": [
        "###**Answer -** \n",
        "- In Python, when we define a variable outside a function then it is considered automatically as a global variable.\n",
        "- But if We want to use or modify that global variable inside a function, we use **global keyword** to make that function variable refer to the global variable.\n",
        "- Example is given below..."
      ],
      "metadata": {
        "id": "25lsfsw5MmdB"
      }
    },
    {
      "cell_type": "code",
      "source": [
        "a = 10            # global variable declaration.\n",
        "def myfunc():\n",
        "  global a        # using global keyword to modify the variable further.\n",
        "  a = a + 30      # modifying the variable inside a function.\n",
        "  \n",
        "  print(f\"Modified Global variable a's value is : {a}\")      # Printing the modified value of the variable."
      ],
      "metadata": {
        "id": "PsVf3Xw4oZx5"
      },
      "execution_count": null,
      "outputs": []
    },
    {
      "cell_type": "code",
      "source": [
        "myfunc()"
      ],
      "metadata": {
        "colab": {
          "base_uri": "https://localhost:8080/"
        },
        "id": "7a_7kX_8ovOZ",
        "outputId": "a44601f9-c3ef-4925-9bce-8c41106a5efc"
      },
      "execution_count": null,
      "outputs": [
        {
          "output_type": "stream",
          "name": "stdout",
          "text": [
            "Modified Global variable a's value is : 40\n"
          ]
        }
      ]
    },
    {
      "cell_type": "markdown",
      "source": [
        "------------------------------------------------"
      ],
      "metadata": {
        "id": "6yzNWTV9sedK"
      }
    },
    {
      "cell_type": "markdown",
      "source": [
        "##Q.10) What is the data type of None ?"
      ],
      "metadata": {
        "id": "Ky3nvHDFKD6B"
      }
    },
    {
      "cell_type": "markdown",
      "source": [
        "###**Answer -** \n",
        "- The **None keyword** is *used to define a null value, or no value at all.*\n",
        "- None is not the same as 0, False, or an empty string. \n",
        "- **None is a data type of its own (NoneType).** "
      ],
      "metadata": {
        "id": "uoSis-McMokq"
      }
    },
    {
      "cell_type": "markdown",
      "source": [
        "-----------------------------------------------------------"
      ],
      "metadata": {
        "id": "WSXEDnxpKIcx"
      }
    },
    {
      "cell_type": "code",
      "source": [
        "def areallyourpetsnamederic():\n",
        "  a = 10\n",
        "  b = 20\n",
        "  return a + b"
      ],
      "metadata": {
        "id": "pMAOgqJ-vNeu"
      },
      "execution_count": null,
      "outputs": []
    },
    {
      "cell_type": "markdown",
      "source": [
        "##Q.11) What does the sentence import areallyourpetsnamederic do ?"
      ],
      "metadata": {
        "id": "ieRI9gV7KIWI"
      }
    },
    {
      "cell_type": "markdown",
      "source": [
        "###**Answer -** The sentence import areallyourpetsnamederic ***imports a module named areallyourpetsnamederic.***"
      ],
      "metadata": {
        "id": "qtf8dsy5MrwJ"
      }
    },
    {
      "cell_type": "markdown",
      "source": [
        "----------------------------------------------------------"
      ],
      "metadata": {
        "id": "Av54PDMMKNiS"
      }
    },
    {
      "cell_type": "markdown",
      "source": [
        "##Q.12) If you had a bacon() feature in a spam module, what would you call it after importing spam ?"
      ],
      "metadata": {
        "id": "e8kpurRKKOup"
      }
    },
    {
      "cell_type": "markdown",
      "source": [
        "###**Answer -** We can call the function using ```spam.bacon()```"
      ],
      "metadata": {
        "id": "JAkH5p2EMuMJ"
      }
    },
    {
      "cell_type": "markdown",
      "source": [
        "-------------------------------------------------------------"
      ],
      "metadata": {
        "id": "6t35f0R_KS3o"
      }
    },
    {
      "cell_type": "markdown",
      "source": [
        "##Q.13) What can you do to save a programme from crashing if it encounters an error ?"
      ],
      "metadata": {
        "id": "lG0n-bXuKUP5"
      }
    },
    {
      "cell_type": "markdown",
      "source": [
        "###**Answer -** We can stop the programme in multiple ways if it encounters an error...\n",
        "- We can **use break statement** after a loop.\n",
        "- We can **use try and except clause** to avoid crashing.\n",
        "- We can **use error handling** to get notified about why the error occurred and then we can exit the process that caused the error."
      ],
      "metadata": {
        "id": "8HcnV_RQMwRA"
      }
    },
    {
      "cell_type": "markdown",
      "source": [
        "-----------------------------------------------------------"
      ],
      "metadata": {
        "id": "SildOSUzKbxA"
      }
    },
    {
      "cell_type": "markdown",
      "source": [
        "##Q.14) What is the purpose of the try clause? What is the purpose of the except clause ?"
      ],
      "metadata": {
        "id": "HYPrNkclKdCB"
      }
    },
    {
      "cell_type": "markdown",
      "source": [
        "###**Answer -** \n",
        "- The purpose of **try clause** is **to test a block of code for errors.**\n",
        "- The **except clause** helps us in **handling the error.**"
      ],
      "metadata": {
        "id": "a-wVpkjoMyZn"
      }
    },
    {
      "cell_type": "markdown",
      "source": [
        "------------------------------------------------------------End------------------------------------------------------------"
      ],
      "metadata": {
        "id": "qK1ECETew0t7"
      }
    }
  ]
}