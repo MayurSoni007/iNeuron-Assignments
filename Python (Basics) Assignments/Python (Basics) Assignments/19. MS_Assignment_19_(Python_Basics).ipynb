{
  "nbformat": 4,
  "nbformat_minor": 0,
  "metadata": {
    "colab": {
      "provenance": []
    },
    "kernelspec": {
      "name": "python3",
      "display_name": "Python 3"
    },
    "language_info": {
      "name": "python"
    }
  },
  "cells": [
    {
      "cell_type": "markdown",
      "source": [
        "#**iNeuron**\n",
        "## Python (Basics) Assignment No. 19\n",
        "\n",
        "- Batch - Full Stack Data Science Bootcamp 2.0\n",
        "- Name - **Mayur Soni**\n",
        "- email id - **mayurssoni007@gmail.com**"
      ],
      "metadata": {
        "id": "QwUX7K_h6bQg"
      }
    },
    {
      "cell_type": "markdown",
      "source": [
        "----------------------------------------------------------------------------"
      ],
      "metadata": {
        "id": "fDaSEHG46dI9"
      }
    },
    {
      "cell_type": "markdown",
      "source": [
        "##Q.1) Make a class called Thing with no contents and print it. Then, create an object called example from this class and also print it. Are the printed values the same or different ?"
      ],
      "metadata": {
        "id": "dxYECX-p6iex"
      }
    },
    {
      "cell_type": "markdown",
      "source": [
        "###**Answer -** "
      ],
      "metadata": {
        "id": "F9mywRZp6iZE"
      }
    },
    {
      "cell_type": "code",
      "source": [
        "class Thing:\n",
        "  pass\n",
        "\n",
        "print(Thing)\n",
        "\n",
        "example = Thing()\n",
        "print(example)"
      ],
      "metadata": {
        "id": "WbQuj6aH73xL",
        "colab": {
          "base_uri": "https://localhost:8080/"
        },
        "outputId": "afe2ff8a-5d6f-438d-9f9e-48d2f3452fd0"
      },
      "execution_count": 5,
      "outputs": [
        {
          "output_type": "stream",
          "name": "stdout",
          "text": [
            "<class '__main__.Thing'>\n",
            "<__main__.Thing object at 0x7f36753f76a0>\n"
          ]
        }
      ]
    },
    {
      "cell_type": "markdown",
      "source": [
        "-----------------------------------------------------------------------"
      ],
      "metadata": {
        "id": "vuBIk2e36iTA"
      }
    },
    {
      "cell_type": "markdown",
      "source": [
        "##Q.2) Create a new class called Thing2 and add the value 'abc' to the letters class attribute. Letters should be printed ?"
      ],
      "metadata": {
        "id": "3uuIOrFI6iMm"
      }
    },
    {
      "cell_type": "markdown",
      "source": [
        "###**Answer -** "
      ],
      "metadata": {
        "id": "lMBTTHZs6iFk"
      }
    },
    {
      "cell_type": "code",
      "source": [
        "class Thing2:\n",
        "  letters = \"abc\"\n",
        "\n",
        "print(Thing2.letters)"
      ],
      "metadata": {
        "id": "CLbarBob74L8",
        "colab": {
          "base_uri": "https://localhost:8080/"
        },
        "outputId": "f086b6b4-3808-4157-f826-18a0ab31cdf2"
      },
      "execution_count": 6,
      "outputs": [
        {
          "output_type": "stream",
          "name": "stdout",
          "text": [
            "abc\n"
          ]
        }
      ]
    },
    {
      "cell_type": "markdown",
      "source": [
        "---------------------------------------------------------------------------"
      ],
      "metadata": {
        "id": "Mv7qOUB76h_O"
      }
    },
    {
      "cell_type": "markdown",
      "source": [
        "##Q.3) Make yet another class called, of course, Thing3. This time, assign the value 'xyz' to an instance (object) attribute called letters. Print letters. Do you need to make an object from the class to do this ?"
      ],
      "metadata": {
        "id": "7ulOCAXy6h4-"
      }
    },
    {
      "cell_type": "markdown",
      "source": [
        "###**Answer -** "
      ],
      "metadata": {
        "id": "SHwaIVvD6hyv"
      }
    },
    {
      "cell_type": "code",
      "source": [
        "class Thing3:\n",
        "  def __init__(self):\n",
        "    self.letters = 'xyz'\n",
        "\n",
        "try:\n",
        "  print(Thing3.letters)     #should raise a syntax error !!\n",
        "except:\n",
        "  mything = Thing3()\n",
        "  print(mything.letters)"
      ],
      "metadata": {
        "id": "e6I71rvz74l_",
        "colab": {
          "base_uri": "https://localhost:8080/"
        },
        "outputId": "564f922c-a528-4902-9462-d8e4d8b915ff"
      },
      "execution_count": 29,
      "outputs": [
        {
          "output_type": "stream",
          "name": "stdout",
          "text": [
            "xyz\n"
          ]
        }
      ]
    },
    {
      "cell_type": "markdown",
      "source": [
        "------------------------------------------------------------------------"
      ],
      "metadata": {
        "id": "KgU9wMjA6hsu"
      }
    },
    {
      "cell_type": "markdown",
      "source": [
        "##Q.4) Create an Element class with the instance attributes name, symbol, and number. Create a class object with the values 'Hydrogen,' 'H,' and 1 ?"
      ],
      "metadata": {
        "id": "IWIM_5NB6hmO"
      }
    },
    {
      "cell_type": "markdown",
      "source": [
        "###**Answer -** "
      ],
      "metadata": {
        "id": "n9UqbTaZ6hge"
      }
    },
    {
      "cell_type": "code",
      "source": [
        "class Element:\n",
        "  def __init__(self, name, symbol, number):\n",
        "    self.name = name\n",
        "    self.symbol = symbol\n",
        "    self.number = number\n",
        "\n",
        "my_elements = Element('Hydrogen','H',1)"
      ],
      "metadata": {
        "id": "sg3D0Z5p747W"
      },
      "execution_count": 17,
      "outputs": []
    },
    {
      "cell_type": "markdown",
      "source": [
        "--------------------------------------------------------------------"
      ],
      "metadata": {
        "id": "6BzoPUGR6haF"
      }
    },
    {
      "cell_type": "markdown",
      "source": [
        "##Q.5) Make a dictionary with these keys and values: 'name': 'Hydrogen', 'symbol': 'H', 'number': 1. Then, create an object called hydrogen from class Element using this dictionary ?"
      ],
      "metadata": {
        "id": "PalxZeLF6hT0"
      }
    },
    {
      "cell_type": "markdown",
      "source": [
        "###**Answer -** "
      ],
      "metadata": {
        "id": "HwZ331yn6hN0"
      }
    },
    {
      "cell_type": "code",
      "source": [
        "dict1 = {'name':'Hydrogen', 'symbol': 'H', 'number' : '1'}\n",
        "print(dict1)\n",
        "\n",
        "hydrogen = Element(**dict1)\n",
        "print('Dictionary is : ', hydrogen.name, hydrogen.symbol, hydrogen.number, sep=\"   \")"
      ],
      "metadata": {
        "id": "G7oJUV8G75O7",
        "colab": {
          "base_uri": "https://localhost:8080/"
        },
        "outputId": "bd0741c8-c92c-4103-8ce8-90190ff7886b"
      },
      "execution_count": 20,
      "outputs": [
        {
          "output_type": "stream",
          "name": "stdout",
          "text": [
            "{'name': 'Hydrogen', 'symbol': 'H', 'number': '1'}\n",
            "Dictionary is :    Hydrogen   H   1\n"
          ]
        }
      ]
    },
    {
      "cell_type": "markdown",
      "source": [
        "---------------------------------------------------------------------------"
      ],
      "metadata": {
        "id": "jke1wnvk6hH1"
      }
    },
    {
      "cell_type": "markdown",
      "source": [
        "##Q.6) For the Element class, define a method called dump() that prints the values of the object’s attributes (name, symbol, and number). Create the hydrogen object from this new definition and use dump() to print its attributes ?"
      ],
      "metadata": {
        "id": "QcqPO03A6hBk"
      }
    },
    {
      "cell_type": "markdown",
      "source": [
        "###**Answer -** "
      ],
      "metadata": {
        "id": "DiGw2yb96g7F"
      }
    },
    {
      "cell_type": "code",
      "source": [
        "class Element:\n",
        "  def __init__(self, name, symbol, number):\n",
        "    self.name = name\n",
        "    self.symbol = symbol\n",
        "    self.number = number\n",
        "\n",
        "  def dump(self):\n",
        "    print(self.name, self.symbol, self.number)\n",
        "\n",
        "hydrogen = Element('Hydrogen','H',1)\n",
        "hydrogen.dump()"
      ],
      "metadata": {
        "id": "j3W4vu5Y75nc",
        "colab": {
          "base_uri": "https://localhost:8080/"
        },
        "outputId": "ef5cb1e0-3f4d-4890-dcfa-29a9d2a516cc"
      },
      "execution_count": 21,
      "outputs": [
        {
          "output_type": "stream",
          "name": "stdout",
          "text": [
            "Hydrogen H 1\n"
          ]
        }
      ]
    },
    {
      "cell_type": "markdown",
      "source": [
        "-------------------------------------------------------------------"
      ],
      "metadata": {
        "id": "SVCI1EvP6g00"
      }
    },
    {
      "cell_type": "markdown",
      "source": [
        "##Q.7) Call print(hydrogen). In the definition of Element, change the name of method dump to __str__, create a new hydrogen object, and call print(hydrogen) again ?"
      ],
      "metadata": {
        "id": "Ms_3oHzw6guk"
      }
    },
    {
      "cell_type": "markdown",
      "source": [
        "###**Answer -** "
      ],
      "metadata": {
        "id": "1TUyS7-Z6go1"
      }
    },
    {
      "cell_type": "code",
      "source": [
        "print(hydrogen)\n",
        "\n",
        "class Element:\n",
        "  def __init__(self, name, symbol, number):\n",
        "    self.name = name\n",
        "    self.symbol = symbol\n",
        "    self.number = number\n",
        "\n",
        "  def __str__(self):\n",
        "    return f'{self.name} {self.symbol} {self.number}'\n",
        "\n",
        "Hydrogen = Element('Hydrogen','H',1)\n",
        "print(Hydrogen)"
      ],
      "metadata": {
        "id": "aKwP3ocy76JT",
        "colab": {
          "base_uri": "https://localhost:8080/"
        },
        "outputId": "853e2759-3a6f-4092-f36b-11f123e47ed1"
      },
      "execution_count": 22,
      "outputs": [
        {
          "output_type": "stream",
          "name": "stdout",
          "text": [
            "<__main__.Element object at 0x7f36744f3df0>\n",
            "Hydrogen H 1\n"
          ]
        }
      ]
    },
    {
      "cell_type": "markdown",
      "source": [
        "-----------------------------------------------------------------------------"
      ],
      "metadata": {
        "id": "MgrLgQjo6gik"
      }
    },
    {
      "cell_type": "markdown",
      "source": [
        "##Q.8) Modify Element to make the attributes name, symbol, and number private. Define a getter property for each to return its value ?"
      ],
      "metadata": {
        "id": "0DE6-L9w6gbk"
      }
    },
    {
      "cell_type": "markdown",
      "source": [
        "###**Answer -** "
      ],
      "metadata": {
        "id": "yrTaL9DX6gVQ"
      }
    },
    {
      "cell_type": "code",
      "source": [
        "class Element:\n",
        "  def __init__(self, name, symbol, number):\n",
        "    self.__name = name        #private\n",
        "    self.__symbol = symbol    #private\n",
        "    self.__number = number    #private\n",
        "\n",
        "  @property\n",
        "  def get_name(self):\n",
        "    return self.__name\n",
        "\n",
        "  @property\n",
        "  def get_symbol(self):\n",
        "    return self.__symbol\n",
        "\n",
        "  @property\n",
        "  def get_number(self):\n",
        "    return self.__number\n",
        "\n",
        "hydrogen = Element('Hydrogen','H',1)\n",
        "print(hydrogen.get_name)\n",
        "print(hydrogen.get_symbol)\n",
        "print(hydrogen.get_number)"
      ],
      "metadata": {
        "id": "J65o6hJV76kC",
        "colab": {
          "base_uri": "https://localhost:8080/"
        },
        "outputId": "0c660beb-b065-40a7-a67c-27c347e725f7"
      },
      "execution_count": 28,
      "outputs": [
        {
          "output_type": "stream",
          "name": "stdout",
          "text": [
            "Hydrogen\n",
            "H\n",
            "1\n"
          ]
        }
      ]
    },
    {
      "cell_type": "markdown",
      "source": [
        "---------------------------------------------------------------------------"
      ],
      "metadata": {
        "id": "aUgzVkeZ6gO1"
      }
    },
    {
      "cell_type": "markdown",
      "source": [
        "##Q.9) Define three classes: Bear, Rabbit, and Octothorpe. For each, define only one method: eats(). This should return 'berries' (Bear), 'clover' (Rabbit), or 'campers' (Octothorpe). Create one object from each and print what it eats ?"
      ],
      "metadata": {
        "id": "9gbbiQH86gHc"
      }
    },
    {
      "cell_type": "markdown",
      "source": [
        "###**Answer -** "
      ],
      "metadata": {
        "id": "0B6I593k6gAl"
      }
    },
    {
      "cell_type": "code",
      "source": [
        "class Bear:\n",
        "  def eats(self):\n",
        "    print(\"berries\")\n",
        "\n",
        "class Rabbit:\n",
        "  def eats(self):\n",
        "    print(\"clover\")\n",
        "\n",
        "class Octothorpe:\n",
        "  def eats(self):\n",
        "    print(\"campers\")\n",
        "\n",
        "\n",
        "bear = Bear()\n",
        "rabbit = Rabbit()\n",
        "octothorpe = Octothorpe()\n",
        "\n",
        "bear.eats()\n",
        "rabbit.eats()\n",
        "octothorpe.eats()"
      ],
      "metadata": {
        "id": "8NAWu_Wn77N8",
        "colab": {
          "base_uri": "https://localhost:8080/"
        },
        "outputId": "99a6469d-84d1-432b-88f0-c20e02213b7c"
      },
      "execution_count": 25,
      "outputs": [
        {
          "output_type": "stream",
          "name": "stdout",
          "text": [
            "berries\n",
            "clover\n",
            "campers\n"
          ]
        }
      ]
    },
    {
      "cell_type": "markdown",
      "source": [
        "---------------------------------------------------------------------"
      ],
      "metadata": {
        "id": "zP-SjtD26fx3"
      }
    },
    {
      "cell_type": "markdown",
      "source": [
        "##Q.10) Define these classes: Laser, Claw, and SmartPhone. Each has only one method: does(). This returns 'disintegrate' (Laser), 'crush' (Claw), or 'ring' (SmartPhone). Then, define the class Robot that has one instance (object) of each of these. Define a does() method for the Robot that prints what its component objects do ?"
      ],
      "metadata": {
        "id": "ZjQLdZVP6frV"
      }
    },
    {
      "cell_type": "markdown",
      "source": [
        "###**Answer -** "
      ],
      "metadata": {
        "id": "TDHToIT06flc"
      }
    },
    {
      "cell_type": "code",
      "source": [
        "class Laser:\n",
        "  def does(self):\n",
        "    return \"disintegrate\"\n",
        "\n",
        "class Claw:\n",
        "  def does(self):\n",
        "    return \"crush\"\n",
        "\n",
        "class SmartPhone:\n",
        "  def does(self):\n",
        "    return \"ring\"\n",
        "\n",
        "class Robot:\n",
        "  def __init__(self):\n",
        "    self.laser = Laser()\n",
        "    self.claw = Claw()\n",
        "    self.smartphone = SmartPhone()\n",
        "\n",
        "  def does(self):\n",
        "    print(self.laser.does(), self.claw.does(), self.smartphone.does())\n",
        "\n",
        "robo = Robot()\n",
        "robo.does()"
      ],
      "metadata": {
        "id": "Pud_z0En77tz",
        "colab": {
          "base_uri": "https://localhost:8080/"
        },
        "outputId": "31530486-81f1-45df-ab6f-8d38968b3e3f"
      },
      "execution_count": 27,
      "outputs": [
        {
          "output_type": "stream",
          "name": "stdout",
          "text": [
            "disintegrate crush ring\n"
          ]
        }
      ]
    },
    {
      "cell_type": "markdown",
      "source": [
        "------------------------------------------------------------End------------------------------------------------------------"
      ],
      "metadata": {
        "id": "Pfxhd4hf6fgf"
      }
    }
  ]
}