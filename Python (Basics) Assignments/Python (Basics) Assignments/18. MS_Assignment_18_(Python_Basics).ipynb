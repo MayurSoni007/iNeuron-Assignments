{
  "nbformat": 4,
  "nbformat_minor": 0,
  "metadata": {
    "colab": {
      "provenance": []
    },
    "kernelspec": {
      "name": "python3",
      "display_name": "Python 3"
    },
    "language_info": {
      "name": "python"
    }
  },
  "cells": [
    {
      "cell_type": "markdown",
      "source": [
        "#**iNeuron**\n",
        "## Python (Basics) Assignment No. 18\n",
        "\n",
        "- Batch - Full Stack Data Science Bootcamp 2.0\n",
        "- Name - **Mayur Soni**\n",
        "- email id - **mayurssoni007@gmail.com**"
      ],
      "metadata": {
        "id": "U5RXvt49fOv0"
      }
    },
    {
      "cell_type": "markdown",
      "source": [
        "--------------------------------------------------------------------------"
      ],
      "metadata": {
        "id": "N4X2g8AGfSyR"
      }
    },
    {
      "cell_type": "markdown",
      "source": [
        "##Q.1) Create a zoo.py file first. Define the hours() function, which prints the string 'Open 9-5 daily'. Then, use the interactive interpreter to import the zoo module and call its hours() function ?"
      ],
      "metadata": {
        "id": "UKo5wMrLfWlw"
      }
    },
    {
      "cell_type": "markdown",
      "source": [
        "###**Answer -** \n",
        "Created a zoo.py file 1st (in colab itself) and defined the function hours(). The code of that file is - \n",
        "\n",
        "```\n",
        "def hours():\n",
        "  print(\"Open 9-5 daily.\")\n",
        "\n",
        "```\n"
      ],
      "metadata": {
        "id": "S1a23kNKfWYa"
      }
    },
    {
      "cell_type": "code",
      "source": [
        "import zoo\n",
        "zoo.hours()"
      ],
      "metadata": {
        "colab": {
          "base_uri": "https://localhost:8080/"
        },
        "id": "wlmi8dKffxlo",
        "outputId": "d978d98d-0989-4c53-8713-6fa19fe8342d"
      },
      "execution_count": 6,
      "outputs": [
        {
          "output_type": "stream",
          "name": "stdout",
          "text": [
            "Open 9-5 daily.\n"
          ]
        }
      ]
    },
    {
      "cell_type": "markdown",
      "source": [
        "------------------------------------------------------------------------"
      ],
      "metadata": {
        "id": "3UjLRvHdfWRp"
      }
    },
    {
      "cell_type": "markdown",
      "source": [
        "##Q.2) In the interactive interpreter, import the zoo module as menagerie and call its hours() function ?"
      ],
      "metadata": {
        "id": "5TDzg40hfWMI"
      }
    },
    {
      "cell_type": "markdown",
      "source": [
        "###**Answer -** "
      ],
      "metadata": {
        "id": "PeBNN70TfWGp"
      }
    },
    {
      "cell_type": "code",
      "source": [
        "import zoo as menagerie\n",
        "menagerie.hours()"
      ],
      "metadata": {
        "colab": {
          "base_uri": "https://localhost:8080/"
        },
        "id": "uvJUB22Ofx_J",
        "outputId": "4526b3a6-6526-4993-df33-3e1c2b2f6c4b"
      },
      "execution_count": 7,
      "outputs": [
        {
          "output_type": "stream",
          "name": "stdout",
          "text": [
            "Open 9-5 daily.\n"
          ]
        }
      ]
    },
    {
      "cell_type": "markdown",
      "source": [
        "------------------------------------------------------------------------------"
      ],
      "metadata": {
        "id": "_nnsULrKfWBA"
      }
    },
    {
      "cell_type": "markdown",
      "source": [
        "##Q.3) Using the interpreter, explicitly import and call the hours() function from zoo ?"
      ],
      "metadata": {
        "id": "XUxIsHIpfV7A"
      }
    },
    {
      "cell_type": "markdown",
      "source": [
        "###**Answer -** "
      ],
      "metadata": {
        "id": "yFNHXOFLfV1x"
      }
    },
    {
      "cell_type": "code",
      "source": [
        "from zoo import hours\n",
        "hours()"
      ],
      "metadata": {
        "colab": {
          "base_uri": "https://localhost:8080/"
        },
        "id": "8cE5MEb9fyRv",
        "outputId": "955a2440-e126-43eb-ba36-da47e4b31a0a"
      },
      "execution_count": 9,
      "outputs": [
        {
          "output_type": "stream",
          "name": "stdout",
          "text": [
            "Open 9-5 daily.\n"
          ]
        }
      ]
    },
    {
      "cell_type": "markdown",
      "source": [
        "-----------------------------------------------------------------------------"
      ],
      "metadata": {
        "id": "EBIZGRu7fVxD"
      }
    },
    {
      "cell_type": "markdown",
      "source": [
        "##Q.4) Import the hours() function as info and call it ?"
      ],
      "metadata": {
        "id": "2lGGMHq7fVrI"
      }
    },
    {
      "cell_type": "markdown",
      "source": [
        "###**Answer -** "
      ],
      "metadata": {
        "id": "OwONhMWhfVlI"
      }
    },
    {
      "cell_type": "code",
      "source": [
        "from zoo import hours as info\n",
        "info()"
      ],
      "metadata": {
        "colab": {
          "base_uri": "https://localhost:8080/"
        },
        "id": "UK3mH_7tfygf",
        "outputId": "5467c173-ae71-4e1c-c09a-b325ab29c818"
      },
      "execution_count": 11,
      "outputs": [
        {
          "output_type": "stream",
          "name": "stdout",
          "text": [
            "Open 9-5 daily.\n"
          ]
        }
      ]
    },
    {
      "cell_type": "markdown",
      "source": [
        "----------------------------------------------------------------------------"
      ],
      "metadata": {
        "id": "gWqfQhZvfVfk"
      }
    },
    {
      "cell_type": "markdown",
      "source": [
        "##Q.5) Create a plain dictionary with the key-value pairs 'a': 1, 'b': 2, and 'c': 3, and print it out ?"
      ],
      "metadata": {
        "id": "m1wcGjTqfVaZ"
      }
    },
    {
      "cell_type": "markdown",
      "source": [
        "###**Answer -** "
      ],
      "metadata": {
        "id": "1rAQ-j2TfVVQ"
      }
    },
    {
      "cell_type": "code",
      "source": [
        "plain_dict = {'a': 1, 'b': 2, 'c': 3}\n",
        "print(plain_dict)"
      ],
      "metadata": {
        "colab": {
          "base_uri": "https://localhost:8080/"
        },
        "id": "W2ShYhv7fzBg",
        "outputId": "4a922bff-1bc6-44e6-fee3-540dcbfbb0bd"
      },
      "execution_count": 13,
      "outputs": [
        {
          "output_type": "stream",
          "name": "stdout",
          "text": [
            "{'a': 1, 'b': 2, 'c': 3}\n"
          ]
        }
      ]
    },
    {
      "cell_type": "markdown",
      "source": [
        "------------------------------------------------------------------------------"
      ],
      "metadata": {
        "id": "Qm2mGAQHfVQR"
      }
    },
    {
      "cell_type": "markdown",
      "source": [
        "##Q.6) Make an OrderedDict called fancy from the same pairs listed in Q.5 and print it. Did it print in the same order as plain ?"
      ],
      "metadata": {
        "id": "Qh62iEjcfVKh"
      }
    },
    {
      "cell_type": "markdown",
      "source": [
        "###**Answer -** "
      ],
      "metadata": {
        "id": "caDuvVyVfVFA"
      }
    },
    {
      "cell_type": "code",
      "source": [
        "from collections import OrderedDict\n",
        "fancy = OrderedDict(plain_dict)\n",
        "print(f\"Plain Dict : {plain_dict}\")\n",
        "print(f\"Fancy : {fancy}\")"
      ],
      "metadata": {
        "colab": {
          "base_uri": "https://localhost:8080/"
        },
        "id": "24NMtesRfzXY",
        "outputId": "9abd0e99-abec-4b91-90ee-9eea67ce8037"
      },
      "execution_count": 15,
      "outputs": [
        {
          "output_type": "stream",
          "name": "stdout",
          "text": [
            "Plain Dict : {'a': 1, 'b': 2, 'c': 3}\n",
            "Fancy : OrderedDict([('a', 1), ('b', 2), ('c', 3)])\n"
          ]
        }
      ]
    },
    {
      "cell_type": "markdown",
      "source": [
        "###Yes, it prints in the same order as plain."
      ],
      "metadata": {
        "id": "7nomMG2RlfS9"
      }
    },
    {
      "cell_type": "markdown",
      "source": [
        "-------------------------------------------------------------------------"
      ],
      "metadata": {
        "id": "7cvlqJRgfU_5"
      }
    },
    {
      "cell_type": "markdown",
      "source": [
        "##Q.7) Make a default dictionary called dict_of_lists and pass it the argument list. Make the list dict_of_lists['a'] and append the value 'something for a' to it in one assignment. Print dict_of_lists['a'] ?"
      ],
      "metadata": {
        "id": "W5r_jRTkfU6Y"
      }
    },
    {
      "cell_type": "markdown",
      "source": [
        "###**Answer -** "
      ],
      "metadata": {
        "id": "MbXjvlX3fU1R"
      }
    },
    {
      "cell_type": "code",
      "source": [
        "from collections import defaultdict\n",
        "dict_of_lists = defaultdict(list)\n",
        "dict_of_lists['a'].append('something for a')\n",
        "print(dict_of_lists['a'])"
      ],
      "metadata": {
        "colab": {
          "base_uri": "https://localhost:8080/"
        },
        "id": "rK1EYCijfzzX",
        "outputId": "aa8f9e8c-eb23-41a6-ee22-3e869d4f9d6b"
      },
      "execution_count": 17,
      "outputs": [
        {
          "output_type": "stream",
          "name": "stdout",
          "text": [
            "['something for a']\n"
          ]
        }
      ]
    },
    {
      "cell_type": "markdown",
      "source": [
        "------------------------------------------------------------End------------------------------------------------------------"
      ],
      "metadata": {
        "id": "vjHj9Ea3fto4"
      }
    }
  ]
}