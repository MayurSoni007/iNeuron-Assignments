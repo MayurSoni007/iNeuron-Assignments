{
  "nbformat": 4,
  "nbformat_minor": 0,
  "metadata": {
    "colab": {
      "provenance": []
    },
    "kernelspec": {
      "name": "python3",
      "display_name": "Python 3"
    },
    "language_info": {
      "name": "python"
    }
  },
  "cells": [
    {
      "cell_type": "markdown",
      "source": [
        "#**iNeuron**\n",
        "## Python (Basics) Assignment No. 17\n",
        "\n",
        "- Batch - Full Stack Data Science Bootcamp 2.0\n",
        "- Name - **Mayur Soni**\n",
        "- email id - **mayurssoni007@gmail.com**"
      ],
      "metadata": {
        "id": "XBu0d0U2yay9"
      }
    },
    {
      "cell_type": "markdown",
      "source": [
        "----------------------------------------------------------------------------"
      ],
      "metadata": {
        "id": "SfTKAnN3yerO"
      }
    },
    {
      "cell_type": "markdown",
      "source": [
        "##Q.1) . Assign the value 7 to the variable guess_me. Then, write the conditional tests (if, else, and elif) to print the string 'too low' if guess_me is less than 7, 'too high' if greater than 7, and 'just right' if equal to 7 ?"
      ],
      "metadata": {
        "id": "bfAujLjMyibP"
      }
    },
    {
      "cell_type": "markdown",
      "source": [
        "###**Answer -** "
      ],
      "metadata": {
        "id": "1OEJudkRyiXD"
      }
    },
    {
      "cell_type": "code",
      "source": [
        "def guess_me(guess_me):\n",
        "  \n",
        "  if guess_me > 7:\n",
        "    print(\"too high!\")\n",
        "  elif guess_me == 7:\n",
        "    print(\"just right!\")\n",
        "  else:\n",
        "    print(\"too low!\")\n",
        "\n",
        "guess_me(guess_me=6)\n",
        "guess_me(guess_me=8)\n",
        "guess_me(guess_me=7)"
      ],
      "metadata": {
        "id": "HwntlcAgz7nx",
        "colab": {
          "base_uri": "https://localhost:8080/"
        },
        "outputId": "0d636065-7d4b-46ee-c46a-1f78bbba600d"
      },
      "execution_count": 4,
      "outputs": [
        {
          "output_type": "stream",
          "name": "stdout",
          "text": [
            "too low!\n",
            "too high!\n",
            "just right!\n"
          ]
        }
      ]
    },
    {
      "cell_type": "markdown",
      "source": [
        "-----------------------------------------------------------------------"
      ],
      "metadata": {
        "id": "UprUhN63yiS_"
      }
    },
    {
      "cell_type": "markdown",
      "source": [
        "##Q.2) Assign the value 7 to the variable guess_me and the value 1 to the variable start. Write a while loop that compares start with guess_me. Print too low if start is less than guess me. If start equals guess_me, print 'found it!' and exit the loop. If start is greater than guess_me, print 'oops' and exit the loop. Increment start at the end of the loop ?"
      ],
      "metadata": {
        "id": "6l8SC3UyyiPA"
      }
    },
    {
      "cell_type": "markdown",
      "source": [
        "###**Answer -** "
      ],
      "metadata": {
        "id": "UCgj2lSnyiLJ"
      }
    },
    {
      "cell_type": "code",
      "source": [
        "guess_me = 7\n",
        "start = 1\n",
        "\n",
        "while True:\n",
        "  if start < guess_me:\n",
        "    print(\"too low!\")\n",
        "  elif start == guess_me:\n",
        "    print(\"found it!\")\n",
        "    break\n",
        "  else:\n",
        "    print(\"oops!\")\n",
        "    break\n",
        "  start += 1"
      ],
      "metadata": {
        "id": "YnhXqRYoz8Nb",
        "colab": {
          "base_uri": "https://localhost:8080/"
        },
        "outputId": "a93119d8-06be-4358-c8d8-20ec46619e74"
      },
      "execution_count": 7,
      "outputs": [
        {
          "output_type": "stream",
          "name": "stdout",
          "text": [
            "too low!\n",
            "too low!\n",
            "too low!\n",
            "too low!\n",
            "too low!\n",
            "too low!\n",
            "found it!\n"
          ]
        }
      ]
    },
    {
      "cell_type": "markdown",
      "source": [
        "-----------------------------------------------------------------------"
      ],
      "metadata": {
        "id": "xyhrpGgFyiHf"
      }
    },
    {
      "cell_type": "markdown",
      "source": [
        "##Q.3) Print the following values of the list [3, 2, 1, 0] using a for loop ?"
      ],
      "metadata": {
        "id": "HuM9B6GPyiDn"
      }
    },
    {
      "cell_type": "markdown",
      "source": [
        "###**Answer -** "
      ],
      "metadata": {
        "id": "4XiAJrGDyh_v"
      }
    },
    {
      "cell_type": "code",
      "source": [
        "a = []\n",
        "for i in range(4):\n",
        "  a.append(i)\n",
        "print(a[::-1],end=\"\")"
      ],
      "metadata": {
        "id": "9xU3wMuoz8wS",
        "colab": {
          "base_uri": "https://localhost:8080/"
        },
        "outputId": "461fc990-c62c-4084-cfa8-7de5f98ac004"
      },
      "execution_count": 20,
      "outputs": [
        {
          "output_type": "stream",
          "name": "stdout",
          "text": [
            "[3, 2, 1, 0]"
          ]
        }
      ]
    },
    {
      "cell_type": "markdown",
      "source": [
        "---------------------------------------------------------------------------"
      ],
      "metadata": {
        "id": "oy_8KboTyh7p"
      }
    },
    {
      "cell_type": "markdown",
      "source": [
        "##Q.4) Use a list comprehension to make a list of the even numbers in range(10) ?"
      ],
      "metadata": {
        "id": "mepZt5uoyh3w"
      }
    },
    {
      "cell_type": "markdown",
      "source": [
        "###**Answer -** "
      ],
      "metadata": {
        "id": "ft9LuKGMyhz5"
      }
    },
    {
      "cell_type": "code",
      "source": [
        "a = []\n",
        "for i in range(11):\n",
        "  if i % 2 == 0:\n",
        "    a.append(i)\n",
        "print(a)"
      ],
      "metadata": {
        "id": "IyQ-7J_5z9P8",
        "colab": {
          "base_uri": "https://localhost:8080/"
        },
        "outputId": "c55f6de9-9904-40cd-d581-be0f5cd17df9"
      },
      "execution_count": 26,
      "outputs": [
        {
          "output_type": "stream",
          "name": "stdout",
          "text": [
            "[0, 2, 4, 6, 8, 10]\n"
          ]
        }
      ]
    },
    {
      "cell_type": "markdown",
      "source": [
        "###**Or -**"
      ],
      "metadata": {
        "id": "a8OYW9PENOFx"
      }
    },
    {
      "cell_type": "code",
      "source": [
        "print([x for x in range(11) if x % 2 == 0])"
      ],
      "metadata": {
        "colab": {
          "base_uri": "https://localhost:8080/"
        },
        "id": "7TDYDaSUNLAA",
        "outputId": "a4bce505-c271-4242-80b6-8c0e147041a7"
      },
      "execution_count": 76,
      "outputs": [
        {
          "output_type": "stream",
          "name": "stdout",
          "text": [
            "[0, 2, 4, 6, 8, 10]\n"
          ]
        }
      ]
    },
    {
      "cell_type": "markdown",
      "source": [
        "-------------------------------------------------------------------------"
      ],
      "metadata": {
        "id": "zpPvQIjbyhvv"
      }
    },
    {
      "cell_type": "markdown",
      "source": [
        "##Q.5) Use a dictionary comprehension to create the dictionary squares. Use range(10) to return the keys, and use the square of each key as its value ?"
      ],
      "metadata": {
        "id": "NxOQaYBeyhrr"
      }
    },
    {
      "cell_type": "markdown",
      "source": [
        "###**Answer -** "
      ],
      "metadata": {
        "id": "ZG3yR_Ivyhnr"
      }
    },
    {
      "cell_type": "code",
      "source": [
        "print({sq : sq**2 for sq in range(10)})"
      ],
      "metadata": {
        "id": "jg2XEduTz9k0",
        "colab": {
          "base_uri": "https://localhost:8080/"
        },
        "outputId": "0329a3ee-e3e1-44ca-83fc-0ff0b90daf90"
      },
      "execution_count": 77,
      "outputs": [
        {
          "output_type": "stream",
          "name": "stdout",
          "text": [
            "{0: 0, 1: 1, 2: 4, 3: 9, 4: 16, 5: 25, 6: 36, 7: 49, 8: 64, 9: 81}\n"
          ]
        }
      ]
    },
    {
      "cell_type": "markdown",
      "source": [
        "--------------------------------------------------------------------------"
      ],
      "metadata": {
        "id": "WhjpstDZyhkA"
      }
    },
    {
      "cell_type": "markdown",
      "source": [
        "##Q.6) Construct the set odd from the odd numbers in the range using a set comprehension (10) ?"
      ],
      "metadata": {
        "id": "-LbszHLZyhgZ"
      }
    },
    {
      "cell_type": "markdown",
      "source": [
        "###**Answer -** "
      ],
      "metadata": {
        "id": "QTBP0-0byhch"
      }
    },
    {
      "cell_type": "code",
      "source": [
        "print({x for x in range(10) if x % 2 != 0})"
      ],
      "metadata": {
        "id": "8kYnG_1hz-C7",
        "colab": {
          "base_uri": "https://localhost:8080/"
        },
        "outputId": "b3a697a9-7ace-4db1-cb0a-107d0bb04f29"
      },
      "execution_count": 45,
      "outputs": [
        {
          "output_type": "stream",
          "name": "stdout",
          "text": [
            "{1, 3, 5, 7, 9}\n"
          ]
        }
      ]
    },
    {
      "cell_type": "markdown",
      "source": [
        "------------------------------------------------------------------------"
      ],
      "metadata": {
        "id": "190ZwVSNyhYz"
      }
    },
    {
      "cell_type": "markdown",
      "source": [
        "##Q.7) Use a generator comprehension to return the string 'Got ' and a number for the numbers in range(10). Iterate through this by using a for loop ?"
      ],
      "metadata": {
        "id": "IfVbK9kkyhUy"
      }
    },
    {
      "cell_type": "markdown",
      "source": [
        "###**Answer -** "
      ],
      "metadata": {
        "id": "4rgEUZtCyhRm"
      }
    },
    {
      "cell_type": "code",
      "source": [
        "for i in range(10):\n",
        "  print('got_' + str(i), end=\"  \")"
      ],
      "metadata": {
        "id": "qT26V2Omz-fT",
        "colab": {
          "base_uri": "https://localhost:8080/"
        },
        "outputId": "e6470cbb-2af6-403d-86c8-3fff53cf76a2"
      },
      "execution_count": 53,
      "outputs": [
        {
          "output_type": "stream",
          "name": "stdout",
          "text": [
            "got_0  got_1  got_2  got_3  got_4  got_5  got_6  got_7  got_8  got_9  "
          ]
        }
      ]
    },
    {
      "cell_type": "markdown",
      "source": [
        "----------------------------------------------------------------------"
      ],
      "metadata": {
        "id": "ktnmWVaTyhNi"
      }
    },
    {
      "cell_type": "markdown",
      "source": [
        "##Q.8) Define a function called good that returns the list ['Harry', 'Ron', 'Hermione'] ?"
      ],
      "metadata": {
        "id": "OSsBConTyhKI"
      }
    },
    {
      "cell_type": "markdown",
      "source": [
        "###**Answer -** "
      ],
      "metadata": {
        "id": "dGrn5ac4yhGn"
      }
    },
    {
      "cell_type": "code",
      "source": [
        "def good():\n",
        "  li = ['Harry', 'Ron', 'Hermione']\n",
        "  return li\n",
        "print(good())"
      ],
      "metadata": {
        "id": "GQ-hw5TSz_Cj",
        "colab": {
          "base_uri": "https://localhost:8080/"
        },
        "outputId": "8d864247-f920-43b8-c4fd-eae27ae3c1cc"
      },
      "execution_count": 57,
      "outputs": [
        {
          "output_type": "stream",
          "name": "stdout",
          "text": [
            "['Harry', 'Ron', 'Hermione']\n"
          ]
        }
      ]
    },
    {
      "cell_type": "markdown",
      "source": [
        "--------------------------------------------------------------------------"
      ],
      "metadata": {
        "id": "EMiyt0RpyhC8"
      }
    },
    {
      "cell_type": "markdown",
      "source": [
        "##Q.9) Define a generator function called get_odds that returns the odd numbers from range(10). Use a for loop to find and print the third value returned ?"
      ],
      "metadata": {
        "id": "SM-VcUa9yg_B"
      }
    },
    {
      "cell_type": "markdown",
      "source": [
        "###**Answer -** "
      ],
      "metadata": {
        "id": "vpRdxcSByg7X"
      }
    },
    {
      "cell_type": "code",
      "source": [
        "def get_odds():\n",
        "  result = []\n",
        "  for i in range(10):\n",
        "    if i % 2 != 0:\n",
        "      result.append(i)\n",
        "  yield result\n",
        "\n",
        "next(get_odds())[2]"
      ],
      "metadata": {
        "id": "ZiGYjZtgz_pK",
        "colab": {
          "base_uri": "https://localhost:8080/"
        },
        "outputId": "7ffcd792-d758-411f-e7f0-a083aabf78b9"
      },
      "execution_count": 68,
      "outputs": [
        {
          "output_type": "execute_result",
          "data": {
            "text/plain": [
              "5"
            ]
          },
          "metadata": {},
          "execution_count": 68
        }
      ]
    },
    {
      "cell_type": "markdown",
      "source": [
        "-----------------------------------------------------------------------------"
      ],
      "metadata": {
        "id": "COe7BA2xyg2P"
      }
    },
    {
      "cell_type": "markdown",
      "source": [
        "##Q.10) Define an exception called OopsException. Raise this exception to see what happens. Then write the code to catch this exception and print 'Caught an oops' ?"
      ],
      "metadata": {
        "id": "94wNGi47ygwv"
      }
    },
    {
      "cell_type": "markdown",
      "source": [
        "###**Answer -** "
      ],
      "metadata": {
        "id": "UGv5qq0Uygqv"
      }
    },
    {
      "cell_type": "code",
      "source": [
        "class OopsException(Exception):\n",
        "  pass\n",
        "\n",
        "def test(input):\n",
        "  if input < 0:\n",
        "    raise OopsException(z)\n",
        "\n",
        "try:\n",
        "  test(-100)\n",
        "except Exception as e:\n",
        "  print('Caught in Oops ->',e)"
      ],
      "metadata": {
        "id": "PqLZDucF0AEC",
        "colab": {
          "base_uri": "https://localhost:8080/"
        },
        "outputId": "02768cdc-5a52-4ec1-8098-7c3c81d488ca"
      },
      "execution_count": 73,
      "outputs": [
        {
          "output_type": "stream",
          "name": "stdout",
          "text": [
            "Caught in Oops -> name 'z' is not defined\n"
          ]
        }
      ]
    },
    {
      "cell_type": "markdown",
      "source": [
        "-----------------------------------------------------------------------------"
      ],
      "metadata": {
        "id": "D2WXuFfYygkP"
      }
    },
    {
      "cell_type": "markdown",
      "source": [
        "##Q.11) Use zip() to make a dictionary called movies that pairs these lists: titles = ['Creature of Habit', 'Crewel Fate'] and plots = ['A nun turns into a monster', 'A haunted yarn shop'] ?"
      ],
      "metadata": {
        "id": "EEHuPqYazMhN"
      }
    },
    {
      "cell_type": "markdown",
      "source": [
        "###**Answer -** "
      ],
      "metadata": {
        "id": "cx03aZ0TzMP9"
      }
    },
    {
      "cell_type": "code",
      "source": [
        "titles = ['Creature of Habit' , 'Crewel Fate']\n",
        "plots = ['A nun turns into a monster' , 'A haunted yarn shop']\n",
        "\n",
        "output = dict(zip(titles,plots))\n",
        "print(output)"
      ],
      "metadata": {
        "id": "RS3bxtM70Aet",
        "colab": {
          "base_uri": "https://localhost:8080/"
        },
        "outputId": "8d7e3845-0e4b-407c-f441-42fa0ebeac49"
      },
      "execution_count": 75,
      "outputs": [
        {
          "output_type": "stream",
          "name": "stdout",
          "text": [
            "{'Creature of Habit': 'A nun turns into a monster', 'Crewel Fate': 'A haunted yarn shop'}\n"
          ]
        }
      ]
    },
    {
      "cell_type": "markdown",
      "source": [
        "------------------------------------------------------------End------------------------------------------------------------"
      ],
      "metadata": {
        "id": "UQTKZWWdzLqd"
      }
    }
  ]
}