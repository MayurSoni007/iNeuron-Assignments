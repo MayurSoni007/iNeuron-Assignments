{
  "nbformat": 4,
  "nbformat_minor": 0,
  "metadata": {
    "colab": {
      "provenance": []
    },
    "kernelspec": {
      "name": "python3",
      "display_name": "Python 3"
    },
    "language_info": {
      "name": "python"
    }
  },
  "cells": [
    {
      "cell_type": "markdown",
      "source": [
        "#**iNeuron**\n",
        "## Python (Basics) Assignment No. 9\n",
        "\n",
        "- Batch - Full Stack Data Science Bootcamp 2.0\n",
        "- Name - **Mayur Soni**\n",
        "- email id - **mayurssoni007@gmail.com**"
      ],
      "metadata": {
        "id": "vhYTLiTBaqqE"
      }
    },
    {
      "cell_type": "markdown",
      "source": [
        "-------------------------------------------------------------"
      ],
      "metadata": {
        "id": "Sj7J8JamasxD"
      }
    },
    {
      "cell_type": "markdown",
      "source": [
        "##Q.1) To what does a relative path refer ?"
      ],
      "metadata": {
        "id": "59wd4DdPauCa"
      }
    },
    {
      "cell_type": "markdown",
      "source": [
        "###**Answer -** A relative path describes the location of a file relative to our current (working) directory. (PWD - Present Working Directory).\n",
        "\n",
        "###**Ex -** if Absolute path to a file called **abc.txt is:** *C:/users/admin/docs/abc.txt.* If our PWD is C:/users/admin/ , then the relative path to abc.txt would be : **docs/abc.txt**"
      ],
      "metadata": {
        "id": "HEJPpampax5b"
      }
    },
    {
      "cell_type": "markdown",
      "source": [
        "--------------------------------------------------------"
      ],
      "metadata": {
        "id": "Q04n3ojNa1rD"
      }
    },
    {
      "cell_type": "markdown",
      "source": [
        "##Q2.) What does an absolute path start with your operating system ?"
      ],
      "metadata": {
        "id": "TW84f7YXcMhy"
      }
    },
    {
      "cell_type": "markdown",
      "source": [
        "###**Answer -** \n",
        "###- In Windows based systems absolute path starts with ```C:``` where as In Linux based systems the absolute path starts with ```/```.\n",
        "###- An absolute path describes the location from the root directory. When learning to access data files through programming, we regularly use relative file paths.\n",
        "###- **Note -** PWD + relative path = absolute path"
      ],
      "metadata": {
        "id": "C7XtQ-OScR94"
      }
    },
    {
      "cell_type": "markdown",
      "source": [
        "----------------------------------------------------------"
      ],
      "metadata": {
        "id": "-739Uiq7cUjv"
      }
    },
    {
      "cell_type": "markdown",
      "source": [
        "##Q.3) What do the functions os.getcwd() and os.chdir() do ?"
      ],
      "metadata": {
        "id": "cbbfcP_zcVom"
      }
    },
    {
      "cell_type": "markdown",
      "source": [
        "###**Answer -**\n",
        "###- **```os.getcwd()```** : CWD stands for **Current Working Directory.** This function allows us to see what our current working directory is.\n",
        "###- **```os.chdir(\"path-to-dir\")```** : Short for **Change Directory**, this function allows us to set the current working directory to a specified path of our choice."
      ],
      "metadata": {
        "id": "AQ7RJxkIcXxw"
      }
    },
    {
      "cell_type": "markdown",
      "source": [
        "##**Example (Input) -**\n",
        "```\n",
        "import os\n",
        "\n",
        "print(os.getcwd()) # Prints the current Working Directory\n",
        "path = r'C:\\Users\\Mayur\\Documents'\n",
        "os.chdir(path)\n",
        "\n",
        "print(os.getcwd())\n",
        "```\n",
        "\n",
        "\n",
        "##**Output -**\n",
        "```\n",
        "f:\\iNeuron Data Science Batch\\#0 Folder\\project\n",
        "C:\\Users\\Mayur\\Documents\n",
        "```"
      ],
      "metadata": {
        "id": "33XGbnOilWDL"
      }
    },
    {
      "cell_type": "markdown",
      "source": [
        "--------------------------------------------------------------------"
      ],
      "metadata": {
        "id": "xUK07OkFcbMG"
      }
    },
    {
      "cell_type": "markdown",
      "source": [
        "##Q.4) What are the . and .. folders ?"
      ],
      "metadata": {
        "id": "OMJX4LaRccb4"
      }
    },
    {
      "cell_type": "markdown",
      "source": [
        "###**Answer -** ```.``` Represents the Current Directory Whereas ```..``` Represents the Parent Directory of the Current Directory."
      ],
      "metadata": {
        "id": "xiuKujFrcd-3"
      }
    },
    {
      "cell_type": "markdown",
      "source": [
        "-----------------------------------------------------------"
      ],
      "metadata": {
        "id": "E8cMge6xce9f"
      }
    },
    {
      "cell_type": "markdown",
      "source": [
        "##Q.5) In C:\\bacon\\eggs\\spam.txt, which part is the dir name, and which part is the base name ?"
      ],
      "metadata": {
        "id": "mttLvXoHcga1"
      }
    },
    {
      "cell_type": "markdown",
      "source": [
        "###**Answer -** In ```C:\\bacon\\eggs\\spam.txt``` -\n",
        "###- ```C:\\bacon\\eggs``` is the **dir name** \n",
        "###- ```spam.txt``` is the **base name.**"
      ],
      "metadata": {
        "id": "ubkql97Zch9N"
      }
    },
    {
      "cell_type": "markdown",
      "source": [
        "------------------------------------------------------------------"
      ],
      "metadata": {
        "id": "zOVBJQmRci1F"
      }
    },
    {
      "cell_type": "markdown",
      "source": [
        "##Q.6) What are the three “mode” arguments that can be passed to the open() function ?"
      ],
      "metadata": {
        "id": "8_PoN5imcj8U"
      }
    },
    {
      "cell_type": "markdown",
      "source": [
        "###**Answer -** A file can be Accessed in python using **```open()```** function. Open function takes two arguments **filename** and **mode of operation (optional)**. if mode is not provided the default mode of opening is read mode. \n",
        "###So, the syntax being : **```open(filename, mode)```**\n",
        "\n",
        "###The access modes available for the open() function are as follows :\n",
        "####- **```'r'```** : Opens the file in **read-only mode.**\n",
        "####- **```'rb'```** : Opens the file as **read-only in binary format** and starts reading from the beginning of the file.\n",
        "####- **```'r+'```** : Opens a file for **reading and writing**, placing the pointer at the beginning of the file."
      ],
      "metadata": {
        "id": "GLJQ4aClclbl"
      }
    },
    {
      "cell_type": "markdown",
      "source": [
        "---------------------------------------------------------------------"
      ],
      "metadata": {
        "id": "Yl4p457wcmbU"
      }
    },
    {
      "cell_type": "markdown",
      "source": [
        "##Q.7) What happens if an existing file is opened in write mode ?"
      ],
      "metadata": {
        "id": "L3MyQGg7coHF"
      }
    },
    {
      "cell_type": "markdown",
      "source": [
        "###**Answer -** \n",
        "###- If the file to be opened exists in the current directory and is open using 'w' / 'w+', then **the contents will be deleted/overwritten before writing.**\n",
        "###- And if the file to be opened does not exist in the current directory then **a new empty file with write mode is created.**"
      ],
      "metadata": {
        "id": "7BfGqyxJcpvM"
      }
    },
    {
      "cell_type": "markdown",
      "source": [
        "----------------------------------------------------------"
      ],
      "metadata": {
        "id": "1WIB7pxAey9q"
      }
    },
    {
      "cell_type": "markdown",
      "source": [
        "##Q.8) How do you tell the difference between read() and readlines() ?"
      ],
      "metadata": {
        "id": "LrQbFMzae0or"
      }
    },
    {
      "cell_type": "markdown",
      "source": [
        "###**Answer -**\n",
        "###- The **```read()```** will **read the whole file at once and then print out the first characters** that take up as many bytes as we specify in the parenthesis.\n",
        "###- The **```readline()```** that will **read and print out only the first characters** that take up as many bytes as we specify in the parenthesis."
      ],
      "metadata": {
        "id": "RCdX22rke2fJ"
      }
    },
    {
      "cell_type": "markdown",
      "source": [
        "###**Example -**"
      ],
      "metadata": {
        "id": "thiwCK37vOSg"
      }
    },
    {
      "cell_type": "code",
      "source": [
        "with open(\"test.txt\", \"r\") as file:\n",
        "  line = file.read(16)\n",
        "  print(line)"
      ],
      "metadata": {
        "colab": {
          "base_uri": "https://localhost:8080/"
        },
        "id": "QLxcYXEHufFZ",
        "outputId": "05806885-29be-4d2d-9d22-869368f50e22"
      },
      "execution_count": 21,
      "outputs": [
        {
          "output_type": "stream",
          "name": "stdout",
          "text": [
            "First Line\n",
            "Secon\n"
          ]
        }
      ]
    },
    {
      "cell_type": "code",
      "source": [
        "with open(\"test.txt\", \"r\") as file:\n",
        "  line = file.readline(9)\n",
        "  print(line)"
      ],
      "metadata": {
        "colab": {
          "base_uri": "https://localhost:8080/"
        },
        "id": "sHTd9qJnuDgi",
        "outputId": "c1f3dbe2-0a12-451e-d61a-4fcd8042128b"
      },
      "execution_count": 23,
      "outputs": [
        {
          "output_type": "stream",
          "name": "stdout",
          "text": [
            "First Lin\n"
          ]
        }
      ]
    },
    {
      "cell_type": "markdown",
      "source": [
        "-------------------------------------------------------------"
      ],
      "metadata": {
        "id": "rdBA0fIme6cP"
      }
    },
    {
      "cell_type": "markdown",
      "source": [
        "##Q.9) What data structure does a shelf value resemble ?"
      ],
      "metadata": {
        "id": "KDaUUnf5e7r-"
      }
    },
    {
      "cell_type": "markdown",
      "source": [
        "###**Answer -** A shelf value resembles **```a dictionary value```**. It has keys and values, along with ```keys()``` and ```values()``` methods that work similarly to the dictionary methods of the same names."
      ],
      "metadata": {
        "id": "YadHd_qde9HG"
      }
    },
    {
      "cell_type": "markdown",
      "source": [
        "------------------------------------------------------------End------------------------------------------------------------"
      ],
      "metadata": {
        "id": "NMswJGqLct0M"
      }
    }
  ]
}