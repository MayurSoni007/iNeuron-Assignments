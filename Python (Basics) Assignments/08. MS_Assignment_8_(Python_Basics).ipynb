{
  "nbformat": 4,
  "nbformat_minor": 0,
  "metadata": {
    "colab": {
      "provenance": []
    },
    "kernelspec": {
      "name": "python3",
      "display_name": "Python 3"
    },
    "language_info": {
      "name": "python"
    }
  },
  "cells": [
    {
      "cell_type": "markdown",
      "source": [
        "#**iNeuron**\n",
        "## Python (Basics) Assignment No. 8\n",
        "\n",
        "- Batch - Full Stack Data Science Bootcamp 2.0\n",
        "- Name - **Mayur Soni**\n",
        "- email id - **mayurssoni007@gmail.com**"
      ],
      "metadata": {
        "id": "snANw0c8F-Vy"
      }
    },
    {
      "cell_type": "markdown",
      "source": [
        "---------------------------------------------------"
      ],
      "metadata": {
        "id": "ldy2vQ6lGBVu"
      }
    },
    {
      "cell_type": "markdown",
      "source": [
        "##Q1.) Is the Python Standard Library included with PyInputPlus ?"
      ],
      "metadata": {
        "id": "Xkyl07-YGClP"
      }
    },
    {
      "cell_type": "markdown",
      "source": [
        "###**Answer -** No, **```PyInputPlus```** is not a part of Python Standard Library, it needs to be installed explicitly using the command **```pip install pyinputplus```**."
      ],
      "metadata": {
        "id": "fbjg51d0GL8e"
      }
    },
    {
      "cell_type": "markdown",
      "source": [
        "------------------------------------------------------"
      ],
      "metadata": {
        "id": "4JInZfJbst2p"
      }
    },
    {
      "cell_type": "markdown",
      "source": [
        "##Q.2) Why is PyInputPlus commonly imported with import pyinputplus as pypi ?"
      ],
      "metadata": {
        "id": "-FoX3ysTsvFi"
      }
    },
    {
      "cell_type": "markdown",
      "source": [
        "###**Answer -** PyInputPlus commonly imported with **```import pyinputplus as pypi```** so that we can enter a shorter name when calling the module's functions (which is **```pypi```** here)."
      ],
      "metadata": {
        "id": "yVc-YdnLsxxm"
      }
    },
    {
      "cell_type": "markdown",
      "source": [
        "---------------------------------------------------------"
      ],
      "metadata": {
        "id": "KppgsLZks0UO"
      }
    },
    {
      "cell_type": "markdown",
      "source": [
        "##Q.3) How do you distinguish between inputInt() and inputFloat() ?"
      ],
      "metadata": {
        "id": "jP-CFAWSs1mu"
      }
    },
    {
      "cell_type": "markdown",
      "source": [
        "###**Answer -** \n",
        "###- The **```inputInt()```** function accepts and returns an integer value only.\n",
        "###- The **```inputFloat()```** function accepts and returns a floating-point numeric value only.\n",
        "\n",
        "###- Both of them takes additional **```min```**, **```max```**, **```greaterThan```** and **```lessThan```** parameters."
      ],
      "metadata": {
        "id": "q131ldxctfzn"
      }
    },
    {
      "cell_type": "markdown",
      "source": [
        "----------------------------------------------"
      ],
      "metadata": {
        "id": "-eKI33AutiqQ"
      }
    },
    {
      "cell_type": "markdown",
      "source": [
        "##Q.4) Using PyInputPlus, how do you ensure that the user enters a whole number between 0 and 99 ?"
      ],
      "metadata": {
        "id": "wMaQnNFatjsR"
      }
    },
    {
      "cell_type": "markdown",
      "source": [
        "###**Answer -** **```PyInputPlus```** module provides a function called as **```inputInt()```** which returns only integer values. In order to restrict the input between 0 and 99, we'll use parameters like **```min```** & **```max```** to ensure that the user enters the values between the defined range only.\n",
        "###**Example -**"
      ],
      "metadata": {
        "id": "qRiZMmdEtpf1"
      }
    },
    {
      "cell_type": "code",
      "source": [
        "import pyinputplus as pypi\n",
        "\n",
        "userinp = pypi.inputInt(\"Enter the number in Range between 0 to 99 : \", min = 0, max = 100)\n",
        "\n",
        "print(f\"Entered Input is : {userinp}\")"
      ],
      "metadata": {
        "colab": {
          "base_uri": "https://localhost:8080/"
        },
        "id": "yTSLdB-TzzHa",
        "outputId": "ea6e92c0-5062-47d2-837a-16e5dddf633e"
      },
      "execution_count": 8,
      "outputs": [
        {
          "output_type": "stream",
          "name": "stdout",
          "text": [
            "Enter the number in Range between 0 to 99 : 132\n",
            "Number must be at maximum 100.\n",
            "Enter the number in Range between 0 to 99 : 77\n",
            "Entered Input is : 77\n"
          ]
        }
      ]
    },
    {
      "cell_type": "markdown",
      "source": [
        "--------------------------------------------------"
      ],
      "metadata": {
        "id": "0efitYz-tn8W"
      }
    },
    {
      "cell_type": "markdown",
      "source": [
        "##Q.5) What is transferred to the keyword arguments allowRegexes and blockRegexes ?"
      ],
      "metadata": {
        "id": "lyLu2G1Mts4N"
      }
    },
    {
      "cell_type": "markdown",
      "source": [
        "###**Answer -** We can use Keyword arguments like **```allowRegexes```** & **```blockRegexes```** which takes a list of regular expression strings to determine what the ```PyInputPlus``` function will accept or reject as valid input."
      ],
      "metadata": {
        "id": "Iy12_CNptw5k"
      }
    },
    {
      "cell_type": "markdown",
      "source": [
        "-----------------------------------------------"
      ],
      "metadata": {
        "id": "5m-2_x-9tzEc"
      }
    },
    {
      "cell_type": "markdown",
      "source": [
        "##Q.6) If a blank input is entered three times, what does inputStr(limit=3) do ?"
      ],
      "metadata": {
        "id": "ndFAknsht0UI"
      }
    },
    {
      "cell_type": "markdown",
      "source": [
        "###**Answer -** It will throw **```RetryLimitException```** exception.\n",
        "\n",
        "- The statement **```inputStr(limit=3)```** will throw two exceptions **```ValidationException```** and **```RetryLimitException```**. The first exception is thrown because blank values are not allowed by **```inputStr()```** function by default. If we want to consider blank values as valid input, we have to set **```blank=True```**.\n",
        "\n",
        "- The second exception is occured because we have reached the maximum limit we have specified by using **```limit```** parameter. In order to avoid this exception we can use **```default```** parameter to return a default value when maximum limit is reached."
      ],
      "metadata": {
        "id": "lx3-eUZct54V"
      }
    },
    {
      "cell_type": "markdown",
      "source": [
        "\n",
        "------------------------------------------"
      ],
      "metadata": {
        "id": "OLmmwsUJt7_J"
      }
    },
    {
      "cell_type": "markdown",
      "source": [
        "##Q.7) If blank input is entered three times, what does inputStr(limit=3, default='hello') do ?"
      ],
      "metadata": {
        "id": "DPTl5yx8t8-Y"
      }
    },
    {
      "cell_type": "markdown",
      "source": [
        "###**Answer -** It will throw default value instead of raising ```RetryLimitException exception``` after we enter the blank input three times. We can see in below example, the function is returning **```hello```** as the default value after entering 3 blank input values."
      ],
      "metadata": {
        "id": "azO5_dm-uB2f"
      }
    },
    {
      "cell_type": "code",
      "source": [
        "import pyinputplus as pypi\n",
        "\n",
        "ms = pypi.inputStr(\"enter value : \", limit=3, default='hello')\n",
        "print(ms)"
      ],
      "metadata": {
        "colab": {
          "base_uri": "https://localhost:8080/"
        },
        "id": "-JAgrwpgTPhZ",
        "outputId": "abada35b-a15e-4b69-cdbb-75a11b4c1c71"
      },
      "execution_count": 9,
      "outputs": [
        {
          "output_type": "stream",
          "name": "stdout",
          "text": [
            "enter value : \n",
            "Blank values are not allowed.\n",
            "enter value : \n",
            "Blank values are not allowed.\n",
            "enter value : \n",
            "Blank values are not allowed.\n",
            "hello\n"
          ]
        }
      ]
    },
    {
      "cell_type": "markdown",
      "source": [
        "------------------------------------------------------------End------------------------------------------------------------"
      ],
      "metadata": {
        "id": "xkf3uU0KuEmM"
      }
    }
  ]
}
