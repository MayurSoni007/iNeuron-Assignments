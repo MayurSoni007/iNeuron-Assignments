{
  "nbformat": 4,
  "nbformat_minor": 0,
  "metadata": {
    "colab": {
      "provenance": []
    },
    "kernelspec": {
      "name": "python3",
      "display_name": "Python 3"
    },
    "language_info": {
      "name": "python"
    }
  },
  "cells": [
    {
      "cell_type": "markdown",
      "source": [
        "#**iNeuron**\n",
        "## Python (Basics) Assignment No. 1\n",
        "\n",
        "- Batch - Full Stack Data Science Bootcamp 2.0\n",
        "- Name - **Mayur Soni**\n",
        "- email id - **mayurssoni007@gmail.com**"
      ],
      "metadata": {
        "id": "XioMPRKHaEr2"
      }
    },
    {
      "cell_type": "markdown",
      "source": [
        "-------------------------------------------------------"
      ],
      "metadata": {
        "id": "5MZEoOAdaHDr"
      }
    },
    {
      "cell_type": "markdown",
      "source": [
        "## Q.1) In the below elements which of them are values or an expression? eg:- values can be integer or string and expressions will be mathematical operators.\n",
        "* \n",
        "'hello'\n",
        "-87.8\n",
        "- \n",
        "/ \n",
        "+\t\n",
        "6 \n"
      ],
      "metadata": {
        "id": "YT3AhEDTaIvb"
      }
    },
    {
      "cell_type": "markdown",
      "source": [
        "###**Answer -** In the given elements...\n",
        "\n",
        "- 1) 'hello' is a string value.\n",
        "- 2) 87.8 is an integer value.\n",
        "- 3) / (divide) is an expression.\n",
        "- 4) 6 is an integer value. "
      ],
      "metadata": {
        "id": "Vm3O8fRRaWW0"
      }
    },
    {
      "cell_type": "code",
      "execution_count": null,
      "metadata": {
        "id": "j7tluKX3aBCn"
      },
      "outputs": [],
      "source": []
    }
  ]
}