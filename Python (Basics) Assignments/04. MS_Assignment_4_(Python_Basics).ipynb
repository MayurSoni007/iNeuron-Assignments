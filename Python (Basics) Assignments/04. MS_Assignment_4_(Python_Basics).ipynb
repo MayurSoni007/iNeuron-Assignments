{
  "nbformat": 4,
  "nbformat_minor": 0,
  "metadata": {
    "colab": {
      "provenance": []
    },
    "kernelspec": {
      "name": "python3",
      "display_name": "Python 3"
    },
    "language_info": {
      "name": "python"
    }
  },
  "cells": [
    {
      "cell_type": "markdown",
      "source": [
        "#**iNeuron**\n",
        "## Python (Basics) Assignment No. 4\n",
        "\n",
        "- Batch - Full Stack Data Science Bootcamp 2.0\n",
        "- Name - **Mayur Soni**\n",
        "- email id - **mayurssoni007@gmail.com**"
      ],
      "metadata": {
        "id": "S1fy90MQX59H"
      }
    },
    {
      "cell_type": "markdown",
      "source": [
        "--------------------------------------------------"
      ],
      "metadata": {
        "id": "PvBkbJhYX8TF"
      }
    },
    {
      "cell_type": "markdown",
      "source": [
        "##Q.1) What exactly is [] ?"
      ],
      "metadata": {
        "id": "TSR8alq2X9v_"
      }
    },
    {
      "cell_type": "markdown",
      "source": [
        "###**Answer -** \n",
        "- These are called **Index Brackets.**\n",
        "- They are **used to create a list and its contents in our program.**\n",
        "- We can also use these index brackets to access the single index value and item of a list or a character of a string and can modify that according to our requirements."
      ],
      "metadata": {
        "id": "9PbCyGRFj4qH"
      }
    },
    {
      "cell_type": "markdown",
      "source": [
        "---------------------------------------------"
      ],
      "metadata": {
        "id": "lfxyo_H6j-1T"
      }
    },
    {
      "cell_type": "markdown",
      "source": [
        "##Q2.) In a list of values stored in a variable called spam, how would you assign the value 'hello' as the third value? (Assume [2, 4, 6, 8, 10] are in spam.)"
      ],
      "metadata": {
        "id": "DMovmhMykAjs"
      }
    },
    {
      "cell_type": "markdown",
      "source": [
        "###**Answer -**"
      ],
      "metadata": {
        "id": "y-T9B-dK98_N"
      }
    },
    {
      "cell_type": "code",
      "source": [
        "spam = [2,4,6,8,10]\n",
        "print(f\"Before assigning the value : {spam}\")\n",
        "\n",
        "spam[2] = 'hello'\n",
        "print(f\"After assigning the value : {spam}\")"
      ],
      "metadata": {
        "id": "wx4ebbpRkIsZ",
        "colab": {
          "base_uri": "https://localhost:8080/"
        },
        "outputId": "2d9b3795-3c78-48e1-a113-22bc636424ec"
      },
      "execution_count": null,
      "outputs": [
        {
          "output_type": "stream",
          "name": "stdout",
          "text": [
            "Before assigning the value : [2, 4, 6, 8, 10]\n",
            "After assigning the value : [2, 4, 'hello', 8, 10]\n"
          ]
        }
      ]
    },
    {
      "cell_type": "markdown",
      "source": [
        "----------------------------------------------------------"
      ],
      "metadata": {
        "id": "J72-VBVCkKe9"
      }
    },
    {
      "cell_type": "markdown",
      "source": [
        "##*Let's pretend the spam includes the list ['a', 'b', 'c', 'd'] for the next three queries...*"
      ],
      "metadata": {
        "id": "8IGmM9HfrfQe"
      }
    },
    {
      "cell_type": "code",
      "source": [
        "spam = ['a','b','c','d']"
      ],
      "metadata": {
        "id": "rQ12WliyDHqn"
      },
      "execution_count": null,
      "outputs": []
    },
    {
      "cell_type": "markdown",
      "source": [
        "##Q.3) What is the value of spam[int(int('3' * 2) / 11)] ?"
      ],
      "metadata": {
        "id": "W7vcTUkZrSRJ"
      }
    },
    {
      "cell_type": "markdown",
      "source": [
        "###**Answer -** The value of *spam[int(int('3'*2)/11]* is - ```'d'```"
      ],
      "metadata": {
        "id": "LzCfbQbdDfVu"
      }
    },
    {
      "cell_type": "code",
      "source": [
        "spam[int(int('3'*2)/11)]"
      ],
      "metadata": {
        "id": "0gj6lX0IkLWW",
        "colab": {
          "base_uri": "https://localhost:8080/",
          "height": 35
        },
        "outputId": "d404d302-b2cf-499f-c5a1-c28372c8d16f"
      },
      "execution_count": null,
      "outputs": [
        {
          "output_type": "execute_result",
          "data": {
            "text/plain": [
              "'d'"
            ],
            "application/vnd.google.colaboratory.intrinsic+json": {
              "type": "string"
            }
          },
          "metadata": {},
          "execution_count": 16
        }
      ]
    },
    {
      "cell_type": "markdown",
      "source": [
        "-----------------------------------"
      ],
      "metadata": {
        "id": "kiZNvgYyrn7N"
      }
    },
    {
      "cell_type": "markdown",
      "source": [
        "##Q.4) What is the value of spam[-1] ?"
      ],
      "metadata": {
        "id": "y78IyCC-rpLu"
      }
    },
    {
      "cell_type": "markdown",
      "source": [
        "###**Answer -** The value of spam[-1] is - ```'d'```"
      ],
      "metadata": {
        "id": "DIgQU096LWZS"
      }
    },
    {
      "cell_type": "code",
      "source": [
        "spam[-1]"
      ],
      "metadata": {
        "id": "ZNqEkc83rofr",
        "colab": {
          "base_uri": "https://localhost:8080/",
          "height": 35
        },
        "outputId": "64f628c0-dac0-4cf0-8269-43ddc4a3b31d"
      },
      "execution_count": null,
      "outputs": [
        {
          "output_type": "execute_result",
          "data": {
            "text/plain": [
              "'d'"
            ],
            "application/vnd.google.colaboratory.intrinsic+json": {
              "type": "string"
            }
          },
          "metadata": {},
          "execution_count": 24
        }
      ]
    },
    {
      "cell_type": "markdown",
      "source": [
        "----------------------------------"
      ],
      "metadata": {
        "id": "DmMr7Q48ruHc"
      }
    },
    {
      "cell_type": "markdown",
      "source": [
        "##Q.5) What is the value of spam[:2] ?"
      ],
      "metadata": {
        "id": "Z59d-rS9rvnM"
      }
    },
    {
      "cell_type": "markdown",
      "source": [
        "###**Answer -** The value of spam[:2] is - ```['a','b']```"
      ],
      "metadata": {
        "id": "krbStc12LkOJ"
      }
    },
    {
      "cell_type": "code",
      "source": [
        "spam[:2]"
      ],
      "metadata": {
        "id": "OmcY0vLdrutY",
        "colab": {
          "base_uri": "https://localhost:8080/"
        },
        "outputId": "52b8d229-1dda-471f-cc28-fd7cecc20dd5"
      },
      "execution_count": null,
      "outputs": [
        {
          "output_type": "execute_result",
          "data": {
            "text/plain": [
              "['a', 'b']"
            ]
          },
          "metadata": {},
          "execution_count": 25
        }
      ]
    },
    {
      "cell_type": "markdown",
      "source": [
        "-----------------------------------"
      ],
      "metadata": {
        "id": "KTfXD1hz3X_X"
      }
    },
    {
      "cell_type": "markdown",
      "source": [
        "#Let's pretend bacon has the list [3.14, 'cat,' 11, 'cat,' True] for the next three questions..."
      ],
      "metadata": {
        "id": "CXcmz2E631sV"
      }
    },
    {
      "cell_type": "code",
      "source": [
        "bacon = [3.14,'cat',11,'cat',True]"
      ],
      "metadata": {
        "id": "vR-uWrmVMSgP"
      },
      "execution_count": null,
      "outputs": []
    },
    {
      "cell_type": "markdown",
      "source": [
        "##Q.6) What is the value of bacon.index('cat') ?"
      ],
      "metadata": {
        "id": "NncPNZnd3ZLR"
      }
    },
    {
      "cell_type": "markdown",
      "source": [
        "###**Answer -** The value of bacon.index('cat') is - ```1```"
      ],
      "metadata": {
        "id": "qI7DWJS1MeBG"
      }
    },
    {
      "cell_type": "code",
      "source": [
        "bacon.index('cat')"
      ],
      "metadata": {
        "colab": {
          "base_uri": "https://localhost:8080/"
        },
        "id": "EwUULt2D3Yqy",
        "outputId": "0df29fd8-41dc-4005-9a0b-cff39095653e"
      },
      "execution_count": null,
      "outputs": [
        {
          "output_type": "execute_result",
          "data": {
            "text/plain": [
              "1"
            ]
          },
          "metadata": {},
          "execution_count": 27
        }
      ]
    },
    {
      "cell_type": "markdown",
      "source": [
        "-----------------------------------------"
      ],
      "metadata": {
        "id": "tVyZsemI4Dkl"
      }
    },
    {
      "cell_type": "markdown",
      "source": [
        "##Q.7) How does bacon.append(99) change the look of the list value in bacon ?"
      ],
      "metadata": {
        "id": "XR79bjd24EsU"
      }
    },
    {
      "cell_type": "markdown",
      "source": [
        "###**Answer -** bacon.append(99) inserts 99 at the last position of the list. So **the final look of list bacon is -**\n",
        "```[3.14, 'cat', 11, 'cat', True, 99]```"
      ],
      "metadata": {
        "id": "J_swqwPeNvqz"
      }
    },
    {
      "cell_type": "code",
      "source": [
        "bacon.append(99)\n",
        "print(bacon)"
      ],
      "metadata": {
        "colab": {
          "base_uri": "https://localhost:8080/"
        },
        "id": "QucaZ3Gu4ERb",
        "outputId": "c2b0dfef-e1c4-4897-bd19-6dba76ada88b"
      },
      "execution_count": null,
      "outputs": [
        {
          "output_type": "stream",
          "name": "stdout",
          "text": [
            "[3.14, 'cat', 11, 'cat', True, 99]\n"
          ]
        }
      ]
    },
    {
      "cell_type": "markdown",
      "source": [
        "---------------------------------------------------------"
      ],
      "metadata": {
        "id": "gqOL2Mti4OZU"
      }
    },
    {
      "cell_type": "markdown",
      "source": [
        "##Q.8) How does bacon.remove('cat') change the look of the list in bacon ?"
      ],
      "metadata": {
        "id": "5OvAygKb4P1V"
      }
    },
    {
      "cell_type": "markdown",
      "source": [
        "###**Answer -** bacon.remove('cat') removes the value 'cat' from the index position it occured for the first time. In the given list, the *cat's* first index position it appeared on is 1.\n",
        "###so the final look of list bacon is - ```[3.14, 11, 'cat', True]```"
      ],
      "metadata": {
        "id": "0ixmwVTGPUUX"
      }
    },
    {
      "cell_type": "code",
      "source": [
        "bacon.remove('cat')\n",
        "print(bacon)"
      ],
      "metadata": {
        "colab": {
          "base_uri": "https://localhost:8080/"
        },
        "id": "zK82toTv4WOH",
        "outputId": "fb1ecc80-dcd2-4b42-ab18-89055f151dca"
      },
      "execution_count": null,
      "outputs": [
        {
          "output_type": "stream",
          "name": "stdout",
          "text": [
            "[3.14, 11, 'cat', True]\n"
          ]
        }
      ]
    },
    {
      "cell_type": "markdown",
      "source": [
        "-------------------------------------------------"
      ],
      "metadata": {
        "id": "7HuEuKam4Wsk"
      }
    },
    {
      "cell_type": "markdown",
      "source": [
        "##Q.9) What are the list concatenation and list replication operators ?"
      ],
      "metadata": {
        "id": "tPgXxDKM4X2u"
      }
    },
    {
      "cell_type": "markdown",
      "source": [
        "###**Answer -** \n",
        "- The operator for **list concatenation is +** \n",
        "- The operator for **replication is ***"
      ],
      "metadata": {
        "id": "L-vDi-FSHUGL"
      }
    },
    {
      "cell_type": "markdown",
      "source": [
        "-------------------------------------------"
      ],
      "metadata": {
        "id": "WYy8yuCy49Qy"
      }
    },
    {
      "cell_type": "markdown",
      "source": [
        "##Q.10) What is difference between the list methods append() and insert() ?"
      ],
      "metadata": {
        "id": "d3pSm3D34-uy"
      }
    },
    {
      "cell_type": "markdown",
      "source": [
        "###**Answer -**\n",
        "- **append()** is used to add a value/item in a list, but it adds the value at the last position of that list.\n",
        "- **insert()** is also used to add value/itme in a list, but it adds the value at our desired position. But we have to give the position while adding the value, \n",
        "- Ex... ```insert(2, \"abc\")``` here **2 is the position where we want to add the value** and **\"abc\" is our value, that we want to be added in the list.**"
      ],
      "metadata": {
        "id": "VbZzNRCaICcT"
      }
    },
    {
      "cell_type": "markdown",
      "source": [
        "----------------------------------------------------"
      ],
      "metadata": {
        "id": "cHi2VRb35EfT"
      }
    },
    {
      "cell_type": "markdown",
      "source": [
        "##Q.11) What are the two methods for removing items from a list ?"
      ],
      "metadata": {
        "id": "Fqw5CvMJ5Fqy"
      }
    },
    {
      "cell_type": "markdown",
      "source": [
        "###**Answer -** The two methods of removing items from a list is - **pop()** & **remove()**\n",
        "- 1) By using **pop()** function in list. **pop() method removes an element from the last position of the list** based on the index given.\n",
        "- 2) By using **remove()** function in list. **remove()** helps to **remove the very first given element** matching from the list. \n"
      ],
      "metadata": {
        "id": "ShukJkXpOifu"
      }
    },
    {
      "cell_type": "markdown",
      "source": [
        "-----------------------------------------------------"
      ],
      "metadata": {
        "id": "t23L6wFr5KCR"
      }
    },
    {
      "cell_type": "markdown",
      "source": [
        "##Q.12) Describe how list values and string values are identical ?"
      ],
      "metadata": {
        "id": "cdwa3xHH5L3j"
      }
    },
    {
      "cell_type": "markdown",
      "source": [
        "###**Answer -** Both list values and string values are identical because...\n",
        "- both of them have lengths via len() function.\n",
        "  - where list value's length is denoted by the items in that list.\n",
        "  - while a string value's length is the number of characters in that string.\n",
        "- Have indexes and slices.\n",
        "- Can be used in for loops.\n",
        "- Can be concatenated or replicated.\n",
        "- Can be used with the **in** and **not in** operators.\n"
      ],
      "metadata": {
        "id": "fcIXS3YEQm3Y"
      }
    },
    {
      "cell_type": "markdown",
      "source": [
        "--------------------------------------"
      ],
      "metadata": {
        "id": "Ay2VaDZJ5QUZ"
      }
    },
    {
      "cell_type": "markdown",
      "source": [
        "##Q.13) What's the difference between tuples and lists ?"
      ],
      "metadata": {
        "id": "U8cSCwLa5Sfr"
      }
    },
    {
      "cell_type": "markdown",
      "source": [
        "###**Answer -** The difference between tuples and list is that - \n",
        "- **Tuples** are immutable. It is not possible to change a tuple's contents . It uses ```()``` paranthases.\n",
        "- The values in a **list** are mutable. It is possible to change a list's contents. It uses ```[]``` square brackets."
      ],
      "metadata": {
        "id": "RfyEg2NGQrHf"
      }
    },
    {
      "cell_type": "markdown",
      "source": [
        "--------------------------------------------------"
      ],
      "metadata": {
        "id": "6t8kpuWr5Xwh"
      }
    },
    {
      "cell_type": "markdown",
      "source": [
        "##Q.14) How do you type a tuple value that only contains the integer 42 ?"
      ],
      "metadata": {
        "id": "g984vjHp5Y1q"
      }
    },
    {
      "cell_type": "markdown",
      "source": [
        "###**Answer -**"
      ],
      "metadata": {
        "id": "bnHWfMKzQxvu"
      }
    },
    {
      "cell_type": "code",
      "source": [
        "tuple = (42,)\n",
        "print(f\"Type of value is : {type(tuple)} & The value is : {tuple}\")"
      ],
      "metadata": {
        "id": "QNqaDQuV5YgV",
        "colab": {
          "base_uri": "https://localhost:8080/"
        },
        "outputId": "aead999f-9de9-4fbe-9902-9cbced4cb776"
      },
      "execution_count": 49,
      "outputs": [
        {
          "output_type": "stream",
          "name": "stdout",
          "text": [
            "Type of value is : <class 'tuple'> & The value is : (42,)\n"
          ]
        }
      ]
    },
    {
      "cell_type": "markdown",
      "source": [
        "----------------------------------------------------"
      ],
      "metadata": {
        "id": "o-kyRAej5dGJ"
      }
    },
    {
      "cell_type": "markdown",
      "source": [
        "##Q.15) How do you get a list value's tuple form? How do you get a tuple value's list form ?"
      ],
      "metadata": {
        "id": "mLxk44kX5kww"
      }
    },
    {
      "cell_type": "markdown",
      "source": [
        "###**Answer -**\n",
        "- We use **tuple** keyword to change the data type of **list to tuple.**\n",
        "- We use **list** keyword to change the data type of a **tuple to list.**"
      ],
      "metadata": {
        "id": "j31UpPKYfbG7"
      }
    },
    {
      "cell_type": "markdown",
      "source": [
        "1.) Getting a list value's tuple form..."
      ],
      "metadata": {
        "id": "HUmmWylwgx-f"
      }
    },
    {
      "cell_type": "code",
      "source": [
        "li = [1,2,3,4,5]\n",
        "print(f\"Type of li before changing it : {type(li)}\")\n",
        "\n",
        "t = tuple(li)\n",
        "print(f\"Type of li after changing it : {type(t)}\")"
      ],
      "metadata": {
        "id": "u-qzoV9c5kSU",
        "colab": {
          "base_uri": "https://localhost:8080/"
        },
        "outputId": "a11c2d9d-0715-4aa3-9429-33d9b54ff223"
      },
      "execution_count": 39,
      "outputs": [
        {
          "output_type": "stream",
          "name": "stdout",
          "text": [
            "Type of li before changing it : <class 'list'>\n",
            "Type of li after changing it : <class 'tuple'>\n"
          ]
        }
      ]
    },
    {
      "cell_type": "markdown",
      "source": [
        "2.) Getting a tuple value's list form..."
      ],
      "metadata": {
        "id": "1N0dBc5Bg4sI"
      }
    },
    {
      "cell_type": "code",
      "source": [
        "li2 = (1,2,3,4,5)\n",
        "print(f\"Type of li2 before changing it : {type(li2)}\")\n",
        "\n",
        "t1 = list(li2)\n",
        "print(f\"Type of li2 after changing it : {type(t1)}\")"
      ],
      "metadata": {
        "colab": {
          "base_uri": "https://localhost:8080/"
        },
        "id": "PCTkZNJihOi4",
        "outputId": "7277c8a9-963f-404f-d445-24885b2c6583"
      },
      "execution_count": 40,
      "outputs": [
        {
          "output_type": "stream",
          "name": "stdout",
          "text": [
            "Type of li2 before changing it : <class 'tuple'>\n",
            "Type of li2 after changing it : <class 'list'>\n"
          ]
        }
      ]
    },
    {
      "cell_type": "markdown",
      "source": [
        "---------------------------------------------------"
      ],
      "metadata": {
        "id": "j1Z1mm-C5qi4"
      }
    },
    {
      "cell_type": "markdown",
      "source": [
        "##Q.16) Variables that \"contain\" list values are not necessarily lists themselves. Instead, what do they contain ?"
      ],
      "metadata": {
        "id": "7MFi-RH95ru4"
      }
    },
    {
      "cell_type": "markdown",
      "source": [
        "###**Answer -** Variables will contain **references to list values** rather than list values themselves. "
      ],
      "metadata": {
        "id": "JSDTlhPWknYP"
      }
    },
    {
      "cell_type": "markdown",
      "source": [
        "----------------------------------------------------------"
      ],
      "metadata": {
        "id": "TpBcSXJL5vfI"
      }
    },
    {
      "cell_type": "markdown",
      "source": [
        "##Q.17) How do you distinguish between copy.copy() and copy.deepcopy() ?"
      ],
      "metadata": {
        "id": "MMvfPAJ05xQA"
      }
    },
    {
      "cell_type": "markdown",
      "source": [
        "###**Answer -** \n",
        "- **copy()** create reference to original object. If we change copied object - we change the original object. \n",
        "- **deepcopy()** creates new object and does real copying of original object to new one."
      ],
      "metadata": {
        "id": "y5iKeIcYlAd8"
      }
    },
    {
      "cell_type": "markdown",
      "source": [
        "------------------------------------------------------------End------------------------------------------------------------"
      ],
      "metadata": {
        "id": "tlU9VJh954eX"
      }
    }
  ]
}
