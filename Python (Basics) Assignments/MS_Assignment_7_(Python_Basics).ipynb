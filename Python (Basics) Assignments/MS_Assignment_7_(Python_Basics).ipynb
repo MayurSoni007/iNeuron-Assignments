{
  "nbformat": 4,
  "nbformat_minor": 0,
  "metadata": {
    "colab": {
      "provenance": []
    },
    "kernelspec": {
      "name": "python3",
      "display_name": "Python 3"
    },
    "language_info": {
      "name": "python"
    }
  },
  "cells": [
    {
      "cell_type": "markdown",
      "source": [
        "#**iNeuron**\n",
        "## Python (Basics) Assignment No. 7\n",
        "\n",
        "- Batch - Full Stack Data Science Bootcamp 2.0\n",
        "- Name - **Mayur Soni**\n",
        "- email id - **mayurssoni007@gmail.com**"
      ],
      "metadata": {
        "id": "eivt7Yzd5mji"
      }
    },
    {
      "cell_type": "markdown",
      "source": [
        "----------------------------------------------------------"
      ],
      "metadata": {
        "id": "LA1czVQ35p68"
      }
    },
    {
      "cell_type": "markdown",
      "source": [
        "##Q.1) What is the name of the feature responsible for generating Regex objects ?"
      ],
      "metadata": {
        "id": "bnMR9sp75rPA"
      }
    },
    {
      "cell_type": "markdown",
      "source": [
        "###**Answer -** ```re.compile()``` is the feature responsible for generating Regex Objects."
      ],
      "metadata": {
        "id": "2h4qrHJo54xE"
      }
    },
    {
      "cell_type": "code",
      "source": [
        "import re\n",
        "x = re.compile(\"Pattern Example.\")\n",
        "print(type(x))\n",
        "print(x)"
      ],
      "metadata": {
        "colab": {
          "base_uri": "https://localhost:8080/"
        },
        "id": "QOqpvMzVAV0R",
        "outputId": "bc7ea539-9199-4e1c-e511-bb10554c466c"
      },
      "execution_count": 1,
      "outputs": [
        {
          "output_type": "stream",
          "name": "stdout",
          "text": [
            "<class 're.Pattern'>\n",
            "re.compile('Pattern Example.')\n"
          ]
        }
      ]
    },
    {
      "cell_type": "markdown",
      "source": [
        "-------------------------------------------------"
      ],
      "metadata": {
        "id": "chI5no1_5xKA"
      }
    },
    {
      "cell_type": "markdown",
      "source": [
        "##Q.2) Why do raw strings often appear in Regex objects ?"
      ],
      "metadata": {
        "id": "1YAsJxgU2vBi"
      }
    },
    {
      "cell_type": "markdown",
      "source": [
        "###**Answer -** \n",
        "- Raw strings are used so that backslashes do not have to be escaped and we can print that too. \n",
        "- Regular expressions use the backslash character ('\\') to indicate special forms (Metacharacters) or to allow special characters (speical sequences) to be used without invoking their special meaning. \n",
        "- This collides with Python’s usage of the same character for the same purpose in string literals. The backslash ```\\```  character is used to escape characters that would otherwise have unique significance, such as newline, the backslash character, or the quotation character, according to string literals."
      ],
      "metadata": {
        "id": "rxCBaTSY50f7"
      }
    },
    {
      "cell_type": "markdown",
      "source": [
        "----------------------------------"
      ],
      "metadata": {
        "id": "fz0uW-Dk579K"
      }
    },
    {
      "cell_type": "markdown",
      "source": [
        "##Q.3) What is the return value of the search() method ?"
      ],
      "metadata": {
        "id": "8ssPTzuq59eF"
      }
    },
    {
      "cell_type": "markdown",
      "source": [
        "###**Answer -** \n",
        "- The search() function searches the string for a match, and returns a Match object if there is a match. \n",
        "- If there is more than one match, only the first occurrence of the match will be returned.\n",
        "- Example is - ```re.search(pattern, string)```"
      ],
      "metadata": {
        "id": "jbkcYwOi6CYU"
      }
    },
    {
      "cell_type": "code",
      "source": [
        "import re\n",
        "\n",
        "txt = \"This is Regax Function. It is used by importing 're'. It is also very helpful to search strings etc in code.\"\n",
        "\n",
        "re.search('also', txt)"
      ],
      "metadata": {
        "colab": {
          "base_uri": "https://localhost:8080/"
        },
        "id": "tE5KkcLBZcVx",
        "outputId": "456c482d-9393-4dd0-cc5c-a374fe052545"
      },
      "execution_count": null,
      "outputs": [
        {
          "output_type": "execute_result",
          "data": {
            "text/plain": [
              "<re.Match object; span=(60, 64), match='also'>"
            ]
          },
          "metadata": {},
          "execution_count": 3
        }
      ]
    },
    {
      "cell_type": "markdown",
      "source": [
        "-------------------------------------------------"
      ],
      "metadata": {
        "id": "hZIzHWxC6GQK"
      }
    },
    {
      "cell_type": "markdown",
      "source": [
        "##Q.4) From a Match item, how do you get the actual strings that match the pattern ?"
      ],
      "metadata": {
        "id": "dyhYKKLi6Hqs"
      }
    },
    {
      "cell_type": "markdown",
      "source": [
        "###**Answer -** The ```group()``` method returns strings of the matched text."
      ],
      "metadata": {
        "id": "sVuRtj_O6M3y"
      }
    },
    {
      "cell_type": "code",
      "source": [
        "import re\n",
        "\n",
        "txt1 = re.search(\"the\",\"This is to test the group method. We are trying to get the actual string that matches the pattern.\")\n",
        "\n",
        "print(\"Output : \", txt1.group())"
      ],
      "metadata": {
        "colab": {
          "base_uri": "https://localhost:8080/"
        },
        "id": "7jH8gX_Iav9N",
        "outputId": "4e08d313-c2b0-44bd-dc35-3c6bddd3a3be"
      },
      "execution_count": null,
      "outputs": [
        {
          "output_type": "stream",
          "name": "stdout",
          "text": [
            "Output :  the\n"
          ]
        }
      ]
    },
    {
      "cell_type": "markdown",
      "source": [
        "--------------------------------------"
      ],
      "metadata": {
        "id": "rEL7ohRM6TC7"
      }
    },
    {
      "cell_type": "markdown",
      "source": [
        "##Q.5) In the regex which created from the ```r'(\\d\\d\\d)-(\\d\\d\\d-\\d\\d\\d\\d)'```, what does group zero cover? Group 2? Group 1 ?"
      ],
      "metadata": {
        "id": "KVl0pFXb6UeC"
      }
    },
    {
      "cell_type": "markdown",
      "source": [
        "###**Answer -** In the Regex ```r'(\\d\\d\\d)-(\\d\\d\\d-\\d\\d\\d\\d)'``` ....\n",
        "- Group 0 covers - the entire pattern match.\n",
        "- Group 1 covers - ```(\\d\\d\\d)```\n",
        "- Group 2 covers - ```(\\d\\d\\d-\\d\\d\\d\\d)```"
      ],
      "metadata": {
        "id": "D74lY_tn6wtZ"
      }
    },
    {
      "cell_type": "code",
      "source": [
        "# Example...\n",
        "\n",
        "import re\n",
        "\n",
        "MobReg = re.compile(r'(\\d\\d\\d)-(\\d\\d\\d-\\d\\d\\d\\d)')\n",
        "\n",
        "mob = MobReg.search('My number is 982-777-0007.')\n",
        "\n",
        "print(mob.groups())     # Prints all groups in a tuple format\n",
        "print(mob.group())      # Always returns the fully matched string \n",
        "print(mob.group(1))     # Returns the first group\n",
        "print(mob.group(2))     # Returns the second group"
      ],
      "metadata": {
        "colab": {
          "base_uri": "https://localhost:8080/"
        },
        "id": "R31upy1ydN0W",
        "outputId": "33773d55-f01f-4ae6-8430-21f10bddee9f"
      },
      "execution_count": null,
      "outputs": [
        {
          "output_type": "stream",
          "name": "stdout",
          "text": [
            "('982', '777-0007')\n",
            "982-777-0007\n",
            "982\n",
            "777-0007\n"
          ]
        }
      ]
    },
    {
      "cell_type": "markdown",
      "source": [
        "-------------------------------------------------"
      ],
      "metadata": {
        "id": "AFb0UmtJ61UZ"
      }
    },
    {
      "cell_type": "markdown",
      "source": [
        "###Q.6) In standard expression syntax, parentheses and intervals have distinct meanings. How can you tell a regex that you want it to fit real parentheses and periods ?"
      ],
      "metadata": {
        "id": "Z7p4GL-P62oS"
      }
    },
    {
      "cell_type": "markdown",
      "source": [
        "###**Answer -** For Period, the ```\\.```and For Paranthesis, the ```\\(``` and ```\\)``` escape characters in the raw string passed to ```re.compile()``` will match actual parenthesis characters."
      ],
      "metadata": {
        "id": "74PRQr6z7vIY"
      }
    },
    {
      "cell_type": "markdown",
      "source": [
        "------------------------------------------------"
      ],
      "metadata": {
        "id": "g80nSb9Z7y33"
      }
    },
    {
      "cell_type": "markdown",
      "source": [
        "##Q.7) The findall() method returns a string list or a list of string tuples. What causes it to return one of the two options ?"
      ],
      "metadata": {
        "id": "PIKw2J0K704H"
      }
    },
    {
      "cell_type": "markdown",
      "source": [
        "###**Answer -** \n",
        "- If the regex pattern has no groups, a list of strings matched is returned. \n",
        "- If the regex pattern has groups, a list of tuple of strings is returned."
      ],
      "metadata": {
        "id": "yCTXT6Wp732g"
      }
    },
    {
      "cell_type": "code",
      "source": [
        "# Example 1...\n",
        "\n",
        "import re\n",
        "phone = re.compile(r'(\\(\\d\\d\\d\\)) (\\d\\d\\d-\\d\\d\\d\\d)')\n",
        "mob = phone.findall('My phone number is (011) 777-9829.')\n",
        "print(mob)\n",
        "\n",
        "\n",
        "# Example 2... \n",
        "\n",
        "import re\n",
        "phone2 = re.compile(r'\\d{3}-\\d{3}-\\d{4}')\n",
        "mob2 = phone2.findall('My number is 011-777-9829.')\n",
        "print(mob2)     # Prints all groups in a tuple format"
      ],
      "metadata": {
        "colab": {
          "base_uri": "https://localhost:8080/"
        },
        "id": "ZvwwtgD7hk8a",
        "outputId": "2984f417-8112-4dab-e2c8-4b3646c9b500"
      },
      "execution_count": null,
      "outputs": [
        {
          "output_type": "stream",
          "name": "stdout",
          "text": [
            "[('(011)', '777-9829')]\n",
            "['011-777-9829']\n"
          ]
        }
      ]
    },
    {
      "cell_type": "markdown",
      "source": [
        "---------------------------------------------------------------"
      ],
      "metadata": {
        "id": "RJOJdliw76oP"
      }
    },
    {
      "cell_type": "markdown",
      "source": [
        "##Q.8) In standard expressions, what does the | character mean ?"
      ],
      "metadata": {
        "id": "1c66hsa_78YX"
      }
    },
    {
      "cell_type": "markdown",
      "source": [
        "###**Answer -** In standard expressions, the ```|``` character means **Either or** Operator. Matches any one element separated by the vertical bar (|) character."
      ],
      "metadata": {
        "id": "_VzTLBKp78Mu"
      }
    },
    {
      "cell_type": "code",
      "source": [
        "# Example...\n",
        "\n",
        "import re\n",
        "abc = \"This is ineuron fsds2.0 assignment.\"\n",
        "\n",
        "x = re.findall(\"ineuron|fsds2.0\", abc)\n",
        "\n",
        "print(x)"
      ],
      "metadata": {
        "colab": {
          "base_uri": "https://localhost:8080/"
        },
        "id": "-ksnOOeVkd1k",
        "outputId": "56a0b9df-ebe6-406e-da43-01dd0f5b1c3b"
      },
      "execution_count": null,
      "outputs": [
        {
          "output_type": "stream",
          "name": "stdout",
          "text": [
            "['ineuron', 'fsds2.0']\n"
          ]
        }
      ]
    },
    {
      "cell_type": "markdown",
      "source": [
        "----------------------------------------------------"
      ],
      "metadata": {
        "id": "0nUp0-Nr78AA"
      }
    },
    {
      "cell_type": "markdown",
      "source": [
        "##Q.9) In regular expressions, what does the ? character stand for ?"
      ],
      "metadata": {
        "id": "hybjFevw8Jzm"
      }
    },
    {
      "cell_type": "markdown",
      "source": [
        "###**Answer -** In regular expressions, the ```?``` character stands for **Zero** or **one** occurrences of the string. In the below example, the ```re.findall(r\"\\d\\d\\d\\d?\", given_string)``` is finding the appearance of 4 digits number in the given string."
      ],
      "metadata": {
        "id": "4Z7iRQKP8Jte"
      }
    },
    {
      "cell_type": "code",
      "source": [
        "import re  \n",
        "  \n",
        "given_string = \"Numbers are 5, 34, 1234, 8061,14567, 70453\"\n",
        "\n",
        "result_match = re.findall(r\"\\d\\d\\d\\d?\", given_string)  \n",
        "\n",
        "print(result_match)  "
      ],
      "metadata": {
        "colab": {
          "base_uri": "https://localhost:8080/"
        },
        "id": "IofI1tWtmxnq",
        "outputId": "5dd5b160-5c07-40ff-c81c-448f18704e84"
      },
      "execution_count": null,
      "outputs": [
        {
          "output_type": "stream",
          "name": "stdout",
          "text": [
            "['1234', '8061', '1456', '7045']\n"
          ]
        }
      ]
    },
    {
      "cell_type": "markdown",
      "source": [
        "-----------------------------------------------------------"
      ],
      "metadata": {
        "id": "C5Drbxd38JlO"
      }
    },
    {
      "cell_type": "markdown",
      "source": [
        "##Q.10) In regular expressions, what is the difference between the + and * characters ?"
      ],
      "metadata": {
        "id": "Tnt7dU6I8Urx"
      }
    },
    {
      "cell_type": "markdown",
      "source": [
        "###**Answer -** In regular expressions...\n",
        "- The ```+``` character is finding **repetition of one or more times** with as many repetitions of the expression in the string.\n",
        "- The ```*``` character is finding the **repetition of 0 or more times** as possible of the expression in the string."
      ],
      "metadata": {
        "id": "32s6ydnT8UlO"
      }
    },
    {
      "cell_type": "code",
      "source": [
        "# Example 1 of +\n",
        "\n",
        "import re  \n",
        "  \n",
        "given_string = \"Numbers are 5, 34, 1234, 8061,14567, 70453\"  \n",
        "result_match = re.findall(r\"\\d\\d+\", given_string)  \n",
        "print(\"Example 1's output is : \" , result_match)\n",
        "\n",
        "\n",
        "# Example 2 of *\n",
        "\n",
        "import re  \n",
        "  \n",
        "given_string = \"Numbers are 1234, 8061,14567, 70453\"  \n",
        "result_match = re.findall(r\"\\d\\d*\", given_string)  \n",
        "print(\"Example 2's output is : \" , result_match)  \n"
      ],
      "metadata": {
        "colab": {
          "base_uri": "https://localhost:8080/"
        },
        "id": "D-fVZzvIpyAa",
        "outputId": "42749c37-e9ef-4bd0-e4c8-f022a1554caa"
      },
      "execution_count": null,
      "outputs": [
        {
          "output_type": "stream",
          "name": "stdout",
          "text": [
            "Example 1's output is :  ['34', '1234', '8061', '14567', '70453']\n",
            "Example 2's output is :  ['1234', '8061', '14567', '70453']\n"
          ]
        }
      ]
    },
    {
      "cell_type": "markdown",
      "source": [
        "------------------------------------------------------"
      ],
      "metadata": {
        "id": "t0BnPmOb8Uce"
      }
    },
    {
      "cell_type": "markdown",
      "source": [
        "##Q.11) What is the difference between {4} and {4,5} in regular expression ?"
      ],
      "metadata": {
        "id": "NZW8bIGh8f3p"
      }
    },
    {
      "cell_type": "markdown",
      "source": [
        "###**Answer -** ```{4}``` means that its preceeding group should repeat 4 times. where as ```{4,5}``` means that its preceeding group should repeat mininum 4 times and maximum 5 times inclusively. ```{}``` gives Exactly the specified number of occurrences of the group in given string."
      ],
      "metadata": {
        "id": "Aw235J5B8fww"
      }
    },
    {
      "cell_type": "code",
      "source": [
        "import re\n",
        "\n",
        "pm = \"\"\"This is to certify that Narendra Modi is India's present Prime Minister.\n",
        "A Prime Minister have its cabinet of ministers in Sansad's lower house called Lok-Sabha.\n",
        "Prime Minister is the top most representative of his party in Assembly.\n",
        "Prime Minister have a very tight Z+ Security team.\n",
        "Prime Minister is elected for 5 years in India.\"\"\"\n",
        "\n",
        "pmo = re.compile(r'ime{1}')\n",
        "\n",
        "matches = pmo.finditer(pm)\n",
        "\n",
        "for match in matches:\n",
        "  print(match)"
      ],
      "metadata": {
        "colab": {
          "base_uri": "https://localhost:8080/"
        },
        "id": "mA9ImrLOrXN4",
        "outputId": "82482e6d-9dee-4464-8656-d94a3dcdd4f7"
      },
      "execution_count": null,
      "outputs": [
        {
          "output_type": "stream",
          "name": "stdout",
          "text": [
            "<re.Match object; span=(59, 62), match='ime'>\n",
            "<re.Match object; span=(77, 80), match='ime'>\n",
            "<re.Match object; span=(164, 167), match='ime'>\n",
            "<re.Match object; span=(236, 239), match='ime'>\n",
            "<re.Match object; span=(287, 290), match='ime'>\n"
          ]
        }
      ]
    },
    {
      "cell_type": "markdown",
      "source": [
        "---------------------------------------------------------"
      ],
      "metadata": {
        "id": "X0P4nm5P8faV"
      }
    },
    {
      "cell_type": "markdown",
      "source": [
        "##Q.12) What do you mean by the ```\\d```, ```\\w```, and ```\\s``` shorthand character classes signify in regular expressions ?"
      ],
      "metadata": {
        "id": "Q4duBgzS8ss_"
      }
    },
    {
      "cell_type": "markdown",
      "source": [
        "###**Answer -** In regular expressions - \n",
        "- **```\\d```** signify a match where **the string contains digits (numbers from 0-9).**\n",
        "- **```\\w```** signify a match where **the string contains any word characters (characters from a to Z, digits from 0-9, and the underscore _ character)**\n",
        "- **```\\s```** signify a match where **the string contains a white space character.**"
      ],
      "metadata": {
        "id": "FoHT5_K98slN"
      }
    },
    {
      "cell_type": "markdown",
      "source": [
        "---------------------------------------------------------"
      ],
      "metadata": {
        "id": "9AaXowfu8sAW"
      }
    },
    {
      "cell_type": "markdown",
      "source": [
        "##Q.13) What do means by ```\\D```, ```\\W```, and ```\\S``` shorthand character classes signify in regular expressions ?"
      ],
      "metadata": {
        "id": "S77CruWY89LF"
      }
    },
    {
      "cell_type": "markdown",
      "source": [
        "###**Answer -** In regular expressions - \n",
        "- **```\\D```** signify a match where **the string DOES NOT contain digits.**\n",
        "- **```\\W```** signify a match where **the string DOES NOT contain any word characters**\n",
        "- **```\\S```** signify a match where **the string DOES NOT contain a white space character.**"
      ],
      "metadata": {
        "id": "ItYF8phG89CE"
      }
    },
    {
      "cell_type": "markdown",
      "source": [
        "-------------------------------------------------------------------"
      ],
      "metadata": {
        "id": "QEhvxsss885M"
      }
    },
    {
      "cell_type": "markdown",
      "source": [
        "##Q.14) What is the difference between ```.*?``` and ```.*``` ?"
      ],
      "metadata": {
        "id": "trSQhCF29LDk"
      }
    },
    {
      "cell_type": "markdown",
      "source": [
        "###**Answer -** ```.*``` is a Greedy mode, which returns the longest string that meets the condition. Whereas ```.*?``` is a non greedy mode which returns the shortest string that meets the condition."
      ],
      "metadata": {
        "id": "I9aEJmNA9K5s"
      }
    },
    {
      "cell_type": "markdown",
      "source": [
        "-------------------------------------------------------"
      ],
      "metadata": {
        "id": "LXLTNBuE9Ku8"
      }
    },
    {
      "cell_type": "markdown",
      "source": [
        "##Q.15) What is the syntax for matching both numbers and lowercase letters with a character class ?"
      ],
      "metadata": {
        "id": "OcYmfckz90re"
      }
    },
    {
      "cell_type": "markdown",
      "source": [
        "###**Answer -** The Synatax is Either ```[a-z0-9]``` or ```[0-9a-z]``` for matching both numbers and lowercase letters with a character class."
      ],
      "metadata": {
        "id": "1eolh_tZ90lx"
      }
    },
    {
      "cell_type": "markdown",
      "source": [
        "-----------------------------------------------------------"
      ],
      "metadata": {
        "id": "4BDOCMhH90ez"
      }
    },
    {
      "cell_type": "markdown",
      "source": [
        "##Q.16) What is the procedure for making a normal expression in regax case insensitive ?"
      ],
      "metadata": {
        "id": "ZzQ-w79k90RN"
      }
    },
    {
      "cell_type": "markdown",
      "source": [
        "###**Answer -** By passing **```re.IGNORECASE```** as a flag to make a normal expression case insensitive."
      ],
      "metadata": {
        "id": "GYGbTGyW90I7"
      }
    },
    {
      "cell_type": "markdown",
      "source": [
        "-----------------------------------------------------------"
      ],
      "metadata": {
        "id": "B_rTkkpO90AT"
      }
    },
    {
      "cell_type": "markdown",
      "source": [
        "##Q.17) What does the . character normally match ? What does it match if re.DOTALL is passed as 2nd argument in re.compile() ?"
      ],
      "metadata": {
        "id": "e1utUWtc9zuh"
      }
    },
    {
      "cell_type": "markdown",
      "source": [
        "###**Answer -** \n",
        "- Dot ```.``` character matches everything in input except newline character **```.```** \n",
        "- By passing ```re.DOTALL``` as a flag to ```re.compile()```, we can make the dot character match all characters, including the newline character."
      ],
      "metadata": {
        "id": "bTRYlsvi9znY"
      }
    },
    {
      "cell_type": "markdown",
      "source": [
        "----------------------------------------------------------------"
      ],
      "metadata": {
        "id": "ezYGWrLy9zgI"
      }
    },
    {
      "cell_type": "markdown",
      "source": [
        "##Q.18) If ```numReg = re.compile(r'\\d+')```, what will ```numRegex.sub('X', '11 drummers, 10 pipers, five rings, 4 hen')``` return ?"
      ],
      "metadata": {
        "id": "2X4N95hK9zY_"
      }
    },
    {
      "cell_type": "markdown",
      "source": [
        "###**Answer -** The Ouput will be ```'X drummers, X pipers, five rings, X hen'```"
      ],
      "metadata": {
        "id": "yVjMcokY9zSN"
      }
    },
    {
      "cell_type": "code",
      "source": [
        "import re\n",
        "numReg = re.compile(r'\\d+')\n",
        "numReg.sub('X', '11 drummers, 10 pipers, five rings, 4 hen')"
      ],
      "metadata": {
        "colab": {
          "base_uri": "https://localhost:8080/",
          "height": 35
        },
        "id": "TsEYwbqpM90R",
        "outputId": "581b6c14-4c79-4ff6-b4d6-929a58ae8e9b"
      },
      "execution_count": 2,
      "outputs": [
        {
          "output_type": "execute_result",
          "data": {
            "text/plain": [
              "'X drummers, X pipers, five rings, X hen'"
            ],
            "application/vnd.google.colaboratory.intrinsic+json": {
              "type": "string"
            }
          },
          "metadata": {},
          "execution_count": 2
        }
      ]
    },
    {
      "cell_type": "markdown",
      "source": [
        "-----------------------------------------------------------"
      ],
      "metadata": {
        "id": "gOV2ER_P9zK5"
      }
    },
    {
      "cell_type": "markdown",
      "source": [
        "##Q.19) What does passing ```re.VERBOSE``` as the 2nd argument to ```re.compile()``` allow to do ?"
      ],
      "metadata": {
        "id": "l5XAwgZo9zD-"
      }
    },
    {
      "cell_type": "markdown",
      "source": [
        "###**Answer -** ```re.VERBOSE``` will allow to add whitespace and comments to string, passed to ```re.compile()```."
      ],
      "metadata": {
        "id": "zV0YSQ5F9y89"
      }
    },
    {
      "cell_type": "code",
      "source": [
        "# Without Using VERBOSE\n",
        "regex_email = re.compile(r'^([a-z0-9_\\.-]+)@([0-9a-z\\.-]+)\\.([a-z\\.]{2, 6})$', re.IGNORECASE)\n",
        " \n",
        "# Using VERBOSE\n",
        "regex_email = re.compile(r\"\"\"\n",
        "                            ^([a-z0-9_\\.-]+)              # local Part like username\n",
        "                            @                             # single @ sign \n",
        "                            ([0-9a-z\\.-]+)                # Domain name like google,yahoo,outlook\n",
        "                            \\.                            # single Dot .\n",
        "                            ([a-z]{2,6})$                 # Top level Domain  like com/in/org\n",
        "                         \"\"\",re.VERBOSE | re.IGNORECASE)   "
      ],
      "metadata": {
        "id": "OS3kYzeYNfum"
      },
      "execution_count": 3,
      "outputs": []
    },
    {
      "cell_type": "markdown",
      "source": [
        "-------------------------------------------------------------"
      ],
      "metadata": {
        "id": "dRG84pWX9y1T"
      }
    },
    {
      "cell_type": "markdown",
      "source": [
        "##Q.20) How would you write a regex that match a number with comma for every three digits ? It must match the given following:\n",
        "```\n",
        "'42', '1,234', '6,368,745'\n",
        "```\n",
        "but not the following:\n",
        "```\n",
        "'12,34,567' (which has only two digits between the commas)\n",
        "'1234' (which lacks commas)\n",
        "```"
      ],
      "metadata": {
        "id": "PoqrjQQn9ytb"
      }
    },
    {
      "cell_type": "markdown",
      "source": [
        "###**Answer -** "
      ],
      "metadata": {
        "id": "E91VAZOO9yl7"
      }
    },
    {
      "cell_type": "code",
      "source": [
        "import re\n",
        "pattern = r'^\\d{1,3}(,\\d{3})*$'\n",
        "pagex = re.compile(pattern)\n",
        "for ele in ['42','1,234', '6,368,745','12,34,567','1234']:\n",
        "    print('Output:',ele, '->', pagex.search(ele))"
      ],
      "metadata": {
        "colab": {
          "base_uri": "https://localhost:8080/"
        },
        "id": "GU2psmpjOsUb",
        "outputId": "1ebfc7ba-1394-48a4-c956-4a1643b390df"
      },
      "execution_count": 4,
      "outputs": [
        {
          "output_type": "stream",
          "name": "stdout",
          "text": [
            "Output: 42 -> <re.Match object; span=(0, 2), match='42'>\n",
            "Output: 1,234 -> <re.Match object; span=(0, 5), match='1,234'>\n",
            "Output: 6,368,745 -> <re.Match object; span=(0, 9), match='6,368,745'>\n",
            "Output: 12,34,567 -> None\n",
            "Output: 1234 -> None\n"
          ]
        }
      ]
    },
    {
      "cell_type": "markdown",
      "source": [
        "------------------------------------------------------------------"
      ],
      "metadata": {
        "id": "ULystYHd9yc7"
      }
    },
    {
      "cell_type": "markdown",
      "source": [
        "##Q.21) How would you write a regex that matches the full name of someone whose last name is Watanabe ? You can assume that the first name that comes before it will always be one word that begins with a capital letter. The regex must match the following:\n",
        "```\n",
        "'Haruto Watanabe'\n",
        "'Alice Watanabe'\n",
        "'RoboCop Watanabe'\n",
        "but not the following:\n",
        "'haruto Watanabe' (where the first name is not capitalized)\n",
        "'Mr. Watanabe' (where the preceding word has a nonletter character)\n",
        "'Watanabe' (which has no first name)\n",
        "'Haruto watanabe' (where Watanabe is not capitalized)\n",
        "```"
      ],
      "metadata": {
        "id": "PT9K7rsm9yUT"
      }
    },
    {
      "cell_type": "markdown",
      "source": [
        "###**Answer -** Pattern = ```r'[A-Z]{1}[a-z]*\\sWatanabe'```"
      ],
      "metadata": {
        "id": "YL24qLFO9yMM"
      }
    },
    {
      "cell_type": "code",
      "source": [
        "import re\n",
        "pattern = r'[A-Z]{1}[a-z]*\\sWatanabe'\n",
        "namex = re.compile(pattern)\n",
        "for name in ['Haruto Watanabe','Alice Watanabe','RoboCop Watanabe','haruto Watanabe','Mr. Watanabe','Watanabe','Haruto watanabe']:\n",
        "    print('Output: ' , name , '->' , namex.search(name))"
      ],
      "metadata": {
        "colab": {
          "base_uri": "https://localhost:8080/"
        },
        "id": "cHqsVrsPPPmZ",
        "outputId": "ef6733b7-14b9-4fd6-a768-b91c30a7adcb"
      },
      "execution_count": 5,
      "outputs": [
        {
          "output_type": "stream",
          "name": "stdout",
          "text": [
            "Output:  Haruto Watanabe -> <re.Match object; span=(0, 15), match='Haruto Watanabe'>\n",
            "Output:  Alice Watanabe -> <re.Match object; span=(0, 14), match='Alice Watanabe'>\n",
            "Output:  RoboCop Watanabe -> <re.Match object; span=(4, 16), match='Cop Watanabe'>\n",
            "Output:  haruto Watanabe -> None\n",
            "Output:  Mr. Watanabe -> None\n",
            "Output:  Watanabe -> None\n",
            "Output:  Haruto watanabe -> None\n"
          ]
        }
      ]
    },
    {
      "cell_type": "markdown",
      "source": [
        "-------------------------------------------------------"
      ],
      "metadata": {
        "id": "yTxPQTmO_WpI"
      }
    },
    {
      "cell_type": "markdown",
      "source": [
        "##Q.22) How would you write a regex that matches a sentence where the first word is either Alice, Bob, or Carol; the second word is either eats, pets, or throws; the third word is apples, cats, or baseballs; and the sentence ends with a period ? This regex should be case-insensitive. It must match the following:\n",
        "```\n",
        "'Alice eats apples.'\n",
        "'Bob pets cats.'\n",
        "'Carol throws baseballs.'\n",
        "'Alice throws Apples.'\n",
        "'BOB EATS CATS.'\n",
        "but not the following:\n",
        "'RoboCop eats apples.'\n",
        "'ALICE THROWS FOOTBALLS.'\n",
        "'Carol eats 7 cats.'\n",
        "```\n"
      ],
      "metadata": {
        "id": "5csT7KQK_VSo"
      }
    },
    {
      "cell_type": "markdown",
      "source": [
        "###**Answer -** Pattern = ```r'(Alice|Bob|Carol)\\s(eats|pets|throws)\\s(apples|cats|baseballs)\\.'```"
      ],
      "metadata": {
        "id": "l8KOafuo_VHp"
      }
    },
    {
      "cell_type": "code",
      "source": [
        "import re\n",
        "pattern = r'(Alice|Bob|Carol)\\s(eats|pets|throws)\\s(apples|cats|baseballs)\\.'\n",
        "casex = re.compile(pattern,re.IGNORECASE)\n",
        "for ele in ['Alice eats apples.','Bob pets cats.','Carol throws baseballs.','Alice throws Apples.','BOB EATS CATS.','RoboCop eats apples.'\n",
        ",'ALICE THROWS FOOTBALLS.','Carol eats 7 cats.']:\n",
        "    print('Output: ',ele,'->',casex.search(ele))"
      ],
      "metadata": {
        "colab": {
          "base_uri": "https://localhost:8080/"
        },
        "id": "nbnuJ9DDP5TP",
        "outputId": "3f4dc429-4085-4a6d-e038-400ae519005c"
      },
      "execution_count": 6,
      "outputs": [
        {
          "output_type": "stream",
          "name": "stdout",
          "text": [
            "Output:  Alice eats apples. -> <re.Match object; span=(0, 18), match='Alice eats apples.'>\n",
            "Output:  Bob pets cats. -> <re.Match object; span=(0, 14), match='Bob pets cats.'>\n",
            "Output:  Carol throws baseballs. -> <re.Match object; span=(0, 23), match='Carol throws baseballs.'>\n",
            "Output:  Alice throws Apples. -> <re.Match object; span=(0, 20), match='Alice throws Apples.'>\n",
            "Output:  BOB EATS CATS. -> <re.Match object; span=(0, 14), match='BOB EATS CATS.'>\n",
            "Output:  RoboCop eats apples. -> None\n",
            "Output:  ALICE THROWS FOOTBALLS. -> None\n",
            "Output:  Carol eats 7 cats. -> None\n"
          ]
        }
      ]
    },
    {
      "cell_type": "markdown",
      "source": [
        "------------------------------------------------------------End------------------------------------------------------------"
      ],
      "metadata": {
        "id": "dRPA-CmR5zko"
      }
    }
  ]
}