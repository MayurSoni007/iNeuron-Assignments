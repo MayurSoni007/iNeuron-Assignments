{
  "nbformat": 4,
  "nbformat_minor": 0,
  "metadata": {
    "colab": {
      "provenance": []
    },
    "kernelspec": {
      "name": "python3",
      "display_name": "Python 3"
    },
    "language_info": {
      "name": "python"
    }
  },
  "cells": [
    {
      "cell_type": "markdown",
      "source": [
        "#**iNeuron**\n",
        "## Python (Basics) Assignment No. 16\n",
        "\n",
        "- Batch - Full Stack Data Science Bootcamp 2.0\n",
        "- Name - **Mayur Soni**\n",
        "- email id - **mayurssoni007@gmail.com**"
      ],
      "metadata": {
        "id": "k7CY0nk4YF_S"
      }
    },
    {
      "cell_type": "markdown",
      "source": [
        "-----------------------------------------------------------------------"
      ],
      "metadata": {
        "id": "hIv4yP6KYJnh"
      }
    },
    {
      "cell_type": "markdown",
      "source": [
        "##Q1.) Create a list called years_list, starting with the year of your birth, and each year thereafter until the year of your fifth birthday. For example, if you were born in 1980. the list would be years_list = [1980, 1981, 1982, 1983, 1984, 1985] ?"
      ],
      "metadata": {
        "id": "x2uUgqO1YNbJ"
      }
    },
    {
      "cell_type": "markdown",
      "source": [
        "###**Answer -**"
      ],
      "metadata": {
        "id": "AhJ_efbFYNWY"
      }
    },
    {
      "cell_type": "code",
      "source": [
        "years_list = [1995,1996,1997,1998,1999,2000]\n",
        "print(years_list)"
      ],
      "metadata": {
        "colab": {
          "base_uri": "https://localhost:8080/"
        },
        "id": "5B0L2fJ6aMiu",
        "outputId": "67c70e34-7db5-488e-d039-076c6556fc77"
      },
      "execution_count": null,
      "outputs": [
        {
          "output_type": "stream",
          "name": "stdout",
          "text": [
            "[1995, 1996, 1997, 1998, 1999, 2000]\n"
          ]
        }
      ]
    },
    {
      "cell_type": "markdown",
      "source": [
        "-------------------------------------------------------------------------"
      ],
      "metadata": {
        "id": "ZdINpkOyYNSP"
      }
    },
    {
      "cell_type": "markdown",
      "source": [
        "##Q.2)  In which year in years_list was your third birthday? Remember, you were 0 years of age for your first year ?"
      ],
      "metadata": {
        "id": "AAynKmGfYNOJ"
      }
    },
    {
      "cell_type": "markdown",
      "source": [
        "###**Answer -** "
      ],
      "metadata": {
        "id": "i_QOHMUSYNKk"
      }
    },
    {
      "cell_type": "code",
      "source": [
        "print(f\"3rd Birthday was in : {years_list[3]}\")"
      ],
      "metadata": {
        "colab": {
          "base_uri": "https://localhost:8080/"
        },
        "id": "eZN2ft_8aNyM",
        "outputId": "82171ab4-ed7f-4673-e189-289bf2bcb64f"
      },
      "execution_count": null,
      "outputs": [
        {
          "output_type": "stream",
          "name": "stdout",
          "text": [
            "3rd Birthday was in : 1998\n"
          ]
        }
      ]
    },
    {
      "cell_type": "markdown",
      "source": [
        "-----------------------------------------------------------------------------"
      ],
      "metadata": {
        "id": "Amzb9IqMYNGa"
      }
    },
    {
      "cell_type": "markdown",
      "source": [
        "##Q.3) In the years list, which year were you the oldest ?"
      ],
      "metadata": {
        "id": "L4PjMQAlYNCg"
      }
    },
    {
      "cell_type": "markdown",
      "source": [
        "###**Answer -** "
      ],
      "metadata": {
        "id": "pn7sjOp5YM-E"
      }
    },
    {
      "cell_type": "code",
      "source": [
        "print(f\"Oldest was in : {years_list[-1]}\")"
      ],
      "metadata": {
        "colab": {
          "base_uri": "https://localhost:8080/"
        },
        "id": "BNeiuLXnaPYe",
        "outputId": "8341ae25-7f31-4e06-f57f-8293a061a17b"
      },
      "execution_count": null,
      "outputs": [
        {
          "output_type": "stream",
          "name": "stdout",
          "text": [
            "Oldest was in : 2000\n"
          ]
        }
      ]
    },
    {
      "cell_type": "markdown",
      "source": [
        "--------------------------------------------------------------------------"
      ],
      "metadata": {
        "id": "rcndGsTIYM6b"
      }
    },
    {
      "cell_type": "markdown",
      "source": [
        "##Q.4) Make a list called things with these three strings as elements: \"mozzarella\", \"cinderella\", \"salmonella\" ?"
      ],
      "metadata": {
        "id": "wRU9mS9fYM13"
      }
    },
    {
      "cell_type": "markdown",
      "source": [
        "###**Answer -** "
      ],
      "metadata": {
        "id": "SN8DRNKhYMx3"
      }
    },
    {
      "cell_type": "code",
      "source": [
        "things = [\"mozzarella\", \"cinderella\", \"salmonella\"]\n",
        "print(things)"
      ],
      "metadata": {
        "colab": {
          "base_uri": "https://localhost:8080/"
        },
        "id": "bciX3u7daPwk",
        "outputId": "0daf93ae-06c0-40eb-ab8a-9c83e5a43a82"
      },
      "execution_count": null,
      "outputs": [
        {
          "output_type": "stream",
          "name": "stdout",
          "text": [
            "['mozzarella', 'cinderella', 'salmonella']\n"
          ]
        }
      ]
    },
    {
      "cell_type": "markdown",
      "source": [
        "------------------------------------------------------------------------------"
      ],
      "metadata": {
        "id": "0rgYBKmZYMtf"
      }
    },
    {
      "cell_type": "markdown",
      "source": [
        "##Q.5) Capitalize the element in things that refers to a person and then print the list. Did it change the element in the list ?"
      ],
      "metadata": {
        "id": "kZaB7kOLYMpP"
      }
    },
    {
      "cell_type": "markdown",
      "source": [
        "###**Answer -** "
      ],
      "metadata": {
        "id": "nVvbFqG7YMlS"
      }
    },
    {
      "cell_type": "code",
      "source": [
        "for ele in range(len(things)):\n",
        "  if things[ele] == \"cinderella\":\n",
        "    things[ele] = things[ele].capitalize()\n",
        "print(things)"
      ],
      "metadata": {
        "colab": {
          "base_uri": "https://localhost:8080/"
        },
        "id": "MrGLTzIPaQRx",
        "outputId": "4395091e-77ee-4950-c6dc-f297a55e7812"
      },
      "execution_count": null,
      "outputs": [
        {
          "output_type": "stream",
          "name": "stdout",
          "text": [
            "['mozzarella', 'Cinderella', 'salmonella']\n"
          ]
        }
      ]
    },
    {
      "cell_type": "markdown",
      "source": [
        "-----------------------------------------------------------------------"
      ],
      "metadata": {
        "id": "hrXnKtv8YMgu"
      }
    },
    {
      "cell_type": "markdown",
      "source": [
        "##Q.6)  Make a surprise list with the elements \"Groucho,\" \"Chico,\" and \"Harpo.\""
      ],
      "metadata": {
        "id": "VxDi8M4cYMcw"
      }
    },
    {
      "cell_type": "markdown",
      "source": [
        "###**Answer -** "
      ],
      "metadata": {
        "id": "-Be3y0l6YMYI"
      }
    },
    {
      "cell_type": "code",
      "source": [
        "surprise_list = [\"Groucho\", \"Chico\", \"Harpo\"]\n",
        "print(surprise_list)"
      ],
      "metadata": {
        "colab": {
          "base_uri": "https://localhost:8080/"
        },
        "id": "jNdq3Gy-aQrs",
        "outputId": "0b54da80-bd67-4034-f85b-669d80b09714"
      },
      "execution_count": null,
      "outputs": [
        {
          "output_type": "stream",
          "name": "stdout",
          "text": [
            "['Groucho', 'Chico', 'Harpo']\n"
          ]
        }
      ]
    },
    {
      "cell_type": "markdown",
      "source": [
        "-----------------------------------------------------------------------------"
      ],
      "metadata": {
        "id": "CUTlzQIMYMUX"
      }
    },
    {
      "cell_type": "markdown",
      "source": [
        "##Q.7) Lowercase the last element of the surprise list, reverse it, and then capitalize it ?"
      ],
      "metadata": {
        "id": "Pu2DTXu1YMPy"
      }
    },
    {
      "cell_type": "markdown",
      "source": [
        "###**Answer -** "
      ],
      "metadata": {
        "id": "LTF_n7jkYML0"
      }
    },
    {
      "cell_type": "code",
      "source": [
        "print(surprise_list[-1].lower()[::-1].capitalize())"
      ],
      "metadata": {
        "colab": {
          "base_uri": "https://localhost:8080/"
        },
        "id": "XKMP1cYSaREV",
        "outputId": "54130a24-054c-4014-f74b-f97c64ca8243"
      },
      "execution_count": null,
      "outputs": [
        {
          "output_type": "stream",
          "name": "stdout",
          "text": [
            "Oprah\n"
          ]
        }
      ]
    },
    {
      "cell_type": "markdown",
      "source": [
        "---------------------------------------------------------------------------"
      ],
      "metadata": {
        "id": "qxO8xw78YMHg"
      }
    },
    {
      "cell_type": "markdown",
      "source": [
        "##Q.8) Make an English-to-French dictionary called e2f and print it. Here are your starter words: dog is chien, cat is chat, and walrus is morse ?"
      ],
      "metadata": {
        "id": "ZdAEMj_RYMDJ"
      }
    },
    {
      "cell_type": "markdown",
      "source": [
        "###**Answer -** "
      ],
      "metadata": {
        "id": "QHAvShAGYL_U"
      }
    },
    {
      "cell_type": "code",
      "source": [
        "e2f = {\"dog\" : \"chien\", \"cat\" : \"chat\",\"walrus\" : \"morse\"}\n",
        "print(f\"Dictionary is : {e2f}\")\n",
        "print(type(e2f))"
      ],
      "metadata": {
        "colab": {
          "base_uri": "https://localhost:8080/"
        },
        "id": "zog1OIVHaRTs",
        "outputId": "19cfa8bc-1cc0-4dd4-9255-84ea179e6bdd"
      },
      "execution_count": null,
      "outputs": [
        {
          "output_type": "stream",
          "name": "stdout",
          "text": [
            "Dictionary is : {'dog': 'chien', 'cat': 'chat', 'walrus': 'morse'}\n",
            "<class 'dict'>\n"
          ]
        }
      ]
    },
    {
      "cell_type": "markdown",
      "source": [
        "-----------------------------------------------------------------------------"
      ],
      "metadata": {
        "id": "PkxxRzwMYL7d"
      }
    },
    {
      "cell_type": "markdown",
      "source": [
        "##Q.9) Write the French word for walrus in your three-word dictionary e2f ?"
      ],
      "metadata": {
        "id": "fJC3xmMqYL3h"
      }
    },
    {
      "cell_type": "markdown",
      "source": [
        "###**Answer -** "
      ],
      "metadata": {
        "id": "BSF5QHtlYLzX"
      }
    },
    {
      "cell_type": "code",
      "source": [
        "print(e2f[\"walrus\"])"
      ],
      "metadata": {
        "colab": {
          "base_uri": "https://localhost:8080/"
        },
        "id": "NhyHTSRBaSA0",
        "outputId": "750acc6c-754f-4557-b2c0-bd417ea66c9e"
      },
      "execution_count": null,
      "outputs": [
        {
          "output_type": "stream",
          "name": "stdout",
          "text": [
            "morse\n"
          ]
        }
      ]
    },
    {
      "cell_type": "markdown",
      "source": [
        "-------------------------------------------------------------------------"
      ],
      "metadata": {
        "id": "X1VH1kRFYLva"
      }
    },
    {
      "cell_type": "markdown",
      "source": [
        "##Q.10) Make a French-to-English dictionary called f2e from e2f. Use the items method ?"
      ],
      "metadata": {
        "id": "ncIzeuNyYLsj"
      }
    },
    {
      "cell_type": "markdown",
      "source": [
        "###**Answer -** "
      ],
      "metadata": {
        "id": "N1ZxxNsTYvj3"
      }
    },
    {
      "cell_type": "code",
      "source": [
        "f2e = dict([ele[::-1] for ele in e2f.items()])\n",
        "print(f2e)"
      ],
      "metadata": {
        "colab": {
          "base_uri": "https://localhost:8080/"
        },
        "id": "Jj3RKyFdaSxk",
        "outputId": "077f380d-e7d4-49a5-afb3-56cd7a197d22"
      },
      "execution_count": null,
      "outputs": [
        {
          "output_type": "stream",
          "name": "stdout",
          "text": [
            "{'chien': 'dog', 'chat': 'cat', 'morse': 'walrus'}\n"
          ]
        }
      ]
    },
    {
      "cell_type": "markdown",
      "source": [
        "---------------------------------------------------------------------------"
      ],
      "metadata": {
        "id": "U1DIph5tYwzh"
      }
    },
    {
      "cell_type": "markdown",
      "source": [
        "##Q.11) Print the English version of the French word chien using f2e ?"
      ],
      "metadata": {
        "id": "QGGohRhFY5mH"
      }
    },
    {
      "cell_type": "markdown",
      "source": [
        "###**Answer -** "
      ],
      "metadata": {
        "id": "dvyZRyZcY5iN"
      }
    },
    {
      "cell_type": "code",
      "source": [
        "print(f2e['chien'])"
      ],
      "metadata": {
        "colab": {
          "base_uri": "https://localhost:8080/"
        },
        "id": "nVdKhEVeaTVF",
        "outputId": "4583c44e-6adf-4e7c-d1ec-6419fa94d496"
      },
      "execution_count": null,
      "outputs": [
        {
          "output_type": "stream",
          "name": "stdout",
          "text": [
            "dog\n"
          ]
        }
      ]
    },
    {
      "cell_type": "markdown",
      "source": [
        "-----------------------------------------------------------------"
      ],
      "metadata": {
        "id": "ZNleCV_ZY5XX"
      }
    },
    {
      "cell_type": "markdown",
      "source": [
        "##Q.12) Make and print a set of English words from the keys in e2f ?"
      ],
      "metadata": {
        "id": "r-nBUMcVY5Rw"
      }
    },
    {
      "cell_type": "markdown",
      "source": [
        "###**Answer -** "
      ],
      "metadata": {
        "id": "Z8GQaUlMY5Lw"
      }
    },
    {
      "cell_type": "code",
      "source": [
        "print(list(e2f.keys()))"
      ],
      "metadata": {
        "colab": {
          "base_uri": "https://localhost:8080/"
        },
        "id": "nTs_5HawaT18",
        "outputId": "c55ed1b1-4502-4404-e525-47f06a4039b3"
      },
      "execution_count": null,
      "outputs": [
        {
          "output_type": "stream",
          "name": "stdout",
          "text": [
            "['dog', 'cat', 'walrus']\n"
          ]
        }
      ]
    },
    {
      "cell_type": "markdown",
      "source": [
        "-------------------------------------------------------------------------"
      ],
      "metadata": {
        "id": "agFnPXlDY5GH"
      }
    },
    {
      "cell_type": "markdown",
      "source": [
        "##Q.13) Make a multilevel dictionary called life. Use these strings for the topmost keys: 'animals', 'plants', and 'other'. Make the 'animals' key refer to another dictionary with the keys 'cats', 'octopi', and 'emus'. Make the 'cats' key refer to a list of strings with the values 'Henri', 'Grumpy', and 'Lucy'. Make all the other keys refer to empty dictionaries ?"
      ],
      "metadata": {
        "id": "2yQ4VpvdY5Al"
      }
    },
    {
      "cell_type": "markdown",
      "source": [
        "###**Answer -** "
      ],
      "metadata": {
        "id": "UTL-loNeY46v"
      }
    },
    {
      "cell_type": "code",
      "source": [
        "life = {\n",
        "    \"animals\" : {\n",
        "        \"cats\" : ['Henri', 'Grumpy', 'Lucy'], \n",
        "        \"octopi\" : {},\n",
        "        \"emus\" : {}\n",
        "    }, \n",
        "    \"plants\" : {}, \n",
        "    \"other\" :{}\n",
        "}\n",
        "print(life)"
      ],
      "metadata": {
        "id": "N4__4uEvaUf0",
        "colab": {
          "base_uri": "https://localhost:8080/"
        },
        "outputId": "06650a69-1307-42d5-87b6-b119467b02b3"
      },
      "execution_count": 26,
      "outputs": [
        {
          "output_type": "stream",
          "name": "stdout",
          "text": [
            "{'animals': {'cats': ['Henri', 'Grumpy', 'Lucy'], 'octopi': {}, 'emus': {}}, 'plants': {}, 'other': {}}\n"
          ]
        }
      ]
    },
    {
      "cell_type": "markdown",
      "source": [
        "--------------------------------------------------------------------------"
      ],
      "metadata": {
        "id": "m_nvm1WrY402"
      }
    },
    {
      "cell_type": "markdown",
      "source": [
        "##Q.14) Print the top-level keys of life ?"
      ],
      "metadata": {
        "id": "aoc76s1CY4Qu"
      }
    },
    {
      "cell_type": "markdown",
      "source": [
        "###**Answer -** "
      ],
      "metadata": {
        "id": "nuM_DKPoZFpA"
      }
    },
    {
      "cell_type": "code",
      "source": [
        "print(list(life.keys()))"
      ],
      "metadata": {
        "id": "qyFXRTksaU_b",
        "colab": {
          "base_uri": "https://localhost:8080/"
        },
        "outputId": "a9696efb-d3a4-42e4-aa60-9536fa7ac886"
      },
      "execution_count": 22,
      "outputs": [
        {
          "output_type": "stream",
          "name": "stdout",
          "text": [
            "['animals', 'plants', 'other']\n"
          ]
        }
      ]
    },
    {
      "cell_type": "markdown",
      "source": [
        "---------------------------------------------------------------------------"
      ],
      "metadata": {
        "id": "jdYIUPhrZFlB"
      }
    },
    {
      "cell_type": "markdown",
      "source": [
        "##Q.15) Print the keys for life['animals'] ?"
      ],
      "metadata": {
        "id": "A_5X7P7uZFij"
      }
    },
    {
      "cell_type": "markdown",
      "source": [
        "###**Answer -** "
      ],
      "metadata": {
        "id": "9BcAN4DlZFc9"
      }
    },
    {
      "cell_type": "code",
      "source": [
        "print(list(life['animals'].keys()))"
      ],
      "metadata": {
        "id": "zUwEdf_5aVXE",
        "colab": {
          "base_uri": "https://localhost:8080/"
        },
        "outputId": "d61eb909-454f-4b50-945d-9f9744d6ddb0"
      },
      "execution_count": 23,
      "outputs": [
        {
          "output_type": "stream",
          "name": "stdout",
          "text": [
            "['cats', 'octopi', 'emus']\n"
          ]
        }
      ]
    },
    {
      "cell_type": "markdown",
      "source": [
        "----------------------------------------------------------------------------"
      ],
      "metadata": {
        "id": "drMolQkDZFY9"
      }
    },
    {
      "cell_type": "markdown",
      "source": [
        "##Q.16) Print the values for life['animals']['cats'] ?"
      ],
      "metadata": {
        "id": "SLOk7n4fZFVm"
      }
    },
    {
      "cell_type": "markdown",
      "source": [
        "###**Answer -** "
      ],
      "metadata": {
        "id": "9G0lzV9jZE_J"
      }
    },
    {
      "cell_type": "code",
      "source": [
        "print(life['animals']['cats'])"
      ],
      "metadata": {
        "id": "kGxYYxd0aWyL",
        "colab": {
          "base_uri": "https://localhost:8080/"
        },
        "outputId": "730f5fda-eb9b-45c6-d391-b55c747321d5"
      },
      "execution_count": 24,
      "outputs": [
        {
          "output_type": "stream",
          "name": "stdout",
          "text": [
            "['Henri', 'Grumpy', 'Lucy']\n"
          ]
        }
      ]
    },
    {
      "cell_type": "markdown",
      "source": [
        "------------------------------------------------------------End------------------------------------------------------------"
      ],
      "metadata": {
        "id": "iqLYl4UcZO5F"
      }
    }
  ]
}