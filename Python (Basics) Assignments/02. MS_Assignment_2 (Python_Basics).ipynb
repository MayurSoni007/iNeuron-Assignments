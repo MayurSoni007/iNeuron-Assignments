{
  "nbformat": 4,
  "nbformat_minor": 0,
  "metadata": {
    "colab": {
      "provenance": []
    },
    "kernelspec": {
      "name": "python3",
      "display_name": "Python 3"
    },
    "language_info": {
      "name": "python"
    }
  },
  "cells": [
    {
      "cell_type": "markdown",
      "source": [
        "#**iNeuron**\n",
        "## Python (Basics) Assignment No. 2\n",
        "\n",
        "- Batch - Full Stack Data Science Bootcamp 2.0 (Sep 2022 Batch)\n",
        "- Name - **Mayur Soni**\n",
        "- email id - **mayurssoni007@gmail.com**"
      ],
      "metadata": {
        "id": "QK7RfgmOXbZf"
      }
    },
    {
      "cell_type": "markdown",
      "source": [
        "--------------------------------------------------------------------------"
      ],
      "metadata": {
        "id": "cXQxQ558XlpP"
      }
    },
    {
      "cell_type": "markdown",
      "source": [
        "## Q1.) What are the two values of the Boolean data type? How do you write them ?"
      ],
      "metadata": {
        "id": "6xjNw9TFX2R8"
      }
    },
    {
      "cell_type": "markdown",
      "source": [
        "### Answer - \n",
        "- Two values of Boolean Data Type is **True** and **False** which behave as **1** and **0** respectively in arithmatic contexts.\n",
        "- We can write them either by defining directly in a variable as **True - False** or we can give a **bool** data type before any variable or statement like given below in example...\n"
      ],
      "metadata": {
        "id": "7IjjOF9DYDZr"
      }
    },
    {
      "cell_type": "code",
      "execution_count": 4,
      "metadata": {
        "colab": {
          "base_uri": "https://localhost:8080/"
        },
        "id": "prVpxjSwWkNc",
        "outputId": "f23c59d4-9ece-4048-de02-69f51b9e5940"
      },
      "outputs": [
        {
          "output_type": "stream",
          "name": "stdout",
          "text": [
            "Value is 0 (False) and Statement is Right.\n"
          ]
        }
      ],
      "source": [
        "### Ex:-\n",
        "\n",
        "a = bool(0)\n",
        "\n",
        "if a == bool(0):\n",
        "  print(f\"Value is 0 (False) and Statement is Right.\")\n",
        "else:\n",
        "  print(f\"Value is 1 (True) and Statement is Wrong.\")"
      ]
    },
    {
      "cell_type": "code",
      "source": [
        "## Directly Defining...\n",
        "\n",
        "a = True\n",
        "b = False\n",
        "\n",
        "if a == bool(1) and b == bool(0):\n",
        "  print(\"Right Values in a and b\")\n",
        "else:\n",
        "  print(\"Wrong Values in a and b\")"
      ],
      "metadata": {
        "colab": {
          "base_uri": "https://localhost:8080/"
        },
        "id": "ZSWtOgaiY_Rr",
        "outputId": "f5eb3e10-8023-47e3-90f6-64f4f9bcd54a"
      },
      "execution_count": 8,
      "outputs": [
        {
          "output_type": "stream",
          "name": "stdout",
          "text": [
            "Right Values in a and b\n"
          ]
        }
      ]
    },
    {
      "cell_type": "markdown",
      "source": [
        "-------------------------------------------------------------------------"
      ],
      "metadata": {
        "id": "OvMuffDWa1XE"
      }
    },
    {
      "cell_type": "markdown",
      "source": [
        "## Q2.) What are the three different types of Boolean operators ?"
      ],
      "metadata": {
        "id": "zXex1R_3a6Ej"
      }
    },
    {
      "cell_type": "markdown",
      "source": [
        "### Answer - \n",
        "- Three different types of Boolean Operators are **AND**, **OR** & **NOT**.\n",
        "- These operators analyzes the expressions written on both sides of the operator and returns the output.\n"
      ],
      "metadata": {
        "id": "x670bddMbNbp"
      }
    },
    {
      "cell_type": "markdown",
      "source": [
        "-------------------------------------------------------------------"
      ],
      "metadata": {
        "id": "wFa4Kkmddzl8"
      }
    },
    {
      "cell_type": "markdown",
      "source": [
        "## Q3.) Make a list of each Boolean operator's truth tables (i.e. every possible combination of Boolean values for the operator and what it evaluate)."
      ],
      "metadata": {
        "id": "t-dwScrUd21D"
      }
    },
    {
      "cell_type": "markdown",
      "source": [
        "### Answer - \n",
        "- **AND** works like this...if - \n",
        "  - True and True = True\n",
        "  - True and False = False\n",
        "  - False and True = False\n",
        "  - False and False = False\n",
        "- **OR** works like this...if -\n",
        "  - True or True = True\n",
        "  - True or False = True\n",
        "  - False or True = True\n",
        "  - False or False = False\n",
        "- **NOT** works like this...if -\n",
        "  - not(True) = False\n",
        "  - not(False) = True"
      ],
      "metadata": {
        "id": "R3eVU4rMeHHS"
      }
    },
    {
      "cell_type": "markdown",
      "source": [
        "------------------------------------------------------------------------------"
      ],
      "metadata": {
        "id": "iBCeHLqheUMq"
      }
    },
    {
      "cell_type": "markdown",
      "source": [
        "## Q.4) What are the values of the following expressions?\n",
        "```\n",
        "- (5 > 4) and (3 == 5)\n",
        "- not (5 > 4)\n",
        "- (5 > 4) or (3 == 5)\n",
        "- not ((5 > 4) or (3 == 5))\n",
        "- (True and True) and (True == False)\n",
        "- (not False) or (not True)\n",
        "```"
      ],
      "metadata": {
        "id": "1iLaB6VeeYMi"
      }
    },
    {
      "cell_type": "markdown",
      "source": [
        "### Answer - "
      ],
      "metadata": {
        "id": "ZjWhaIqpe0WA"
      }
    },
    {
      "cell_type": "code",
      "source": [
        "(5 > 4) and (3 == 5)"
      ],
      "metadata": {
        "colab": {
          "base_uri": "https://localhost:8080/"
        },
        "id": "lefCyRRbaFXK",
        "outputId": "f7d67555-6b69-4cb1-c493-3ae7c24449f5"
      },
      "execution_count": 9,
      "outputs": [
        {
          "output_type": "execute_result",
          "data": {
            "text/plain": [
              "False"
            ]
          },
          "metadata": {},
          "execution_count": 9
        }
      ]
    },
    {
      "cell_type": "code",
      "source": [
        "not (5 > 4)"
      ],
      "metadata": {
        "colab": {
          "base_uri": "https://localhost:8080/"
        },
        "id": "QYped5XEe7Aj",
        "outputId": "71aa84f9-3cf8-4433-d45a-959a79ef8166"
      },
      "execution_count": 10,
      "outputs": [
        {
          "output_type": "execute_result",
          "data": {
            "text/plain": [
              "False"
            ]
          },
          "metadata": {},
          "execution_count": 10
        }
      ]
    },
    {
      "cell_type": "code",
      "source": [
        "(5 > 4) or (3 == 5)"
      ],
      "metadata": {
        "colab": {
          "base_uri": "https://localhost:8080/"
        },
        "id": "rK-Il-69fB_a",
        "outputId": "6f7a067f-0fd6-4307-d522-b29c0cff1f05"
      },
      "execution_count": 11,
      "outputs": [
        {
          "output_type": "execute_result",
          "data": {
            "text/plain": [
              "True"
            ]
          },
          "metadata": {},
          "execution_count": 11
        }
      ]
    },
    {
      "cell_type": "code",
      "source": [
        "not ((5 > 4) or (3 == 5))"
      ],
      "metadata": {
        "colab": {
          "base_uri": "https://localhost:8080/"
        },
        "id": "DuVMfBa1fHwq",
        "outputId": "205fad55-9d40-4a9a-de4b-e4bb407efc08"
      },
      "execution_count": 12,
      "outputs": [
        {
          "output_type": "execute_result",
          "data": {
            "text/plain": [
              "False"
            ]
          },
          "metadata": {},
          "execution_count": 12
        }
      ]
    },
    {
      "cell_type": "code",
      "source": [
        "(True and True) and (True == False)"
      ],
      "metadata": {
        "colab": {
          "base_uri": "https://localhost:8080/"
        },
        "id": "1LYjcEAefTJi",
        "outputId": "0a18b16e-da98-420c-bb07-37ea98eefa2d"
      },
      "execution_count": 13,
      "outputs": [
        {
          "output_type": "execute_result",
          "data": {
            "text/plain": [
              "False"
            ]
          },
          "metadata": {},
          "execution_count": 13
        }
      ]
    },
    {
      "cell_type": "code",
      "source": [
        "(not False) or (not True)"
      ],
      "metadata": {
        "colab": {
          "base_uri": "https://localhost:8080/"
        },
        "id": "kjaJvm1Nfg56",
        "outputId": "7fde1bf0-1a22-417c-90a8-3edf43cb5234"
      },
      "execution_count": 14,
      "outputs": [
        {
          "output_type": "execute_result",
          "data": {
            "text/plain": [
              "True"
            ]
          },
          "metadata": {},
          "execution_count": 14
        }
      ]
    },
    {
      "cell_type": "markdown",
      "source": [
        "---------------------------------------------------------------------------"
      ],
      "metadata": {
        "id": "veGzjFidfv_E"
      }
    },
    {
      "cell_type": "markdown",
      "source": [
        "## Q.5) What are the six comparison operators ?"
      ],
      "metadata": {
        "id": "_VpbednPf0Yj"
      }
    },
    {
      "cell_type": "markdown",
      "source": [
        "### Answer - \n",
        "Six Comparision Operators are - \n",
        "- **> (Greater than)**\n",
        "- **< (Less than)**\n",
        "- **>= (Greater than or Equal to)**\n",
        "- **<= (Less than or Equal to)**\n",
        "- **== (Equal to)**\n",
        "- **!= (Not Equal to)**"
      ],
      "metadata": {
        "id": "wwOFJY2Cf6s7"
      }
    },
    {
      "cell_type": "markdown",
      "source": [
        "----------------------------------------------------------------------------"
      ],
      "metadata": {
        "id": "csYBcURIhhDn"
      }
    },
    {
      "cell_type": "markdown",
      "source": [
        "## Q.6) How do you tell the difference between the equal to and assignment operators ? Describe a condition and when you would use one ?"
      ],
      "metadata": {
        "id": "ah2ee4MChiun"
      }
    },
    {
      "cell_type": "markdown",
      "source": [
        "### Answer - \n",
        "- **The Equal to Operator (==)** is the equality comparison operator and is used to check whether the two expressions on both sides are equal or not. \n",
        "- Whereas **The Assignment Operator (=)** is used to assign the result of the expression on the right side of the operator to the variable on the left side of the operator."
      ],
      "metadata": {
        "id": "VltGTiJiij2k"
      }
    },
    {
      "cell_type": "code",
      "source": [
        "## Condition...\n",
        "\n",
        "a = 8   # The Assignment Operator\n",
        "\n",
        "if a == 8:    # The Equal to Operator\n",
        "  print(\"Right Value.\")\n",
        "else:\n",
        "  print(\"Wrong Value.\")"
      ],
      "metadata": {
        "colab": {
          "base_uri": "https://localhost:8080/"
        },
        "id": "TBa0YNGafsuw",
        "outputId": "ccdd6b40-86ec-45bf-83e6-bc55a8dd4979"
      },
      "execution_count": 15,
      "outputs": [
        {
          "output_type": "stream",
          "name": "stdout",
          "text": [
            "Right Value.\n"
          ]
        }
      ]
    },
    {
      "cell_type": "markdown",
      "source": [
        "--------------------------------------------------------------------------"
      ],
      "metadata": {
        "id": "-ppj0K7IknW_"
      }
    },
    {
      "cell_type": "markdown",
      "source": [
        "## Q.7) Identify the three blocks in this code :\n",
        "```\n",
        "spam = 0\n",
        "if spam == 10:\n",
        "print('eggs')\n",
        "if spam > 5:\n",
        "print('bacon')\n",
        "else:\n",
        "print('ham')\n",
        "print('spam')\n",
        "print('spam')\n",
        "```"
      ],
      "metadata": {
        "id": "LzDI7c63kpuW"
      }
    },
    {
      "cell_type": "markdown",
      "source": [
        "### Answer - **Indentation is used to define a block of code in python.**"
      ],
      "metadata": {
        "id": "mV9-dDaklP-M"
      }
    },
    {
      "cell_type": "code",
      "source": [
        "spam = 0\n",
        "\n",
        "if spam == 10:\n",
        "  print('eggs')     # Block 1\n",
        "if spam > 5:\n",
        "  print('bacon')    # Block 2\n",
        "else:\n",
        "  print('ham')      # Block 3\n",
        "  print('spam')\n",
        "  print('spam')"
      ],
      "metadata": {
        "colab": {
          "base_uri": "https://localhost:8080/"
        },
        "id": "r_fkJGxBkdWm",
        "outputId": "cc2389d8-1e25-4b32-8a7f-6f02cda3089b"
      },
      "execution_count": 17,
      "outputs": [
        {
          "output_type": "stream",
          "name": "stdout",
          "text": [
            "ham\n",
            "spam\n",
            "spam\n"
          ]
        }
      ]
    },
    {
      "cell_type": "markdown",
      "source": [
        "--------------------------------------------------------------------------"
      ],
      "metadata": {
        "id": "Sr3E3P-7luuk"
      }
    },
    {
      "cell_type": "markdown",
      "source": [
        "## Q.8) Write code that prints Hello if 1 is stored in spam, prints Howdy if 2 is stored in spam, and prints Greetings! if anything else is stored in spam...?"
      ],
      "metadata": {
        "id": "X8hMeS7rl9_C"
      }
    },
    {
      "cell_type": "markdown",
      "source": [
        "### Answer - "
      ],
      "metadata": {
        "id": "-JHDv_KgmKbi"
      }
    },
    {
      "cell_type": "code",
      "source": [
        "spam = int(input(\"Enter your value to store in spam : \"))\n",
        "\n",
        "if spam == 1:\n",
        "  print(\"Hello\")\n",
        "elif spam == 2:\n",
        "  print(\"Howdy\")\n",
        "else:\n",
        "  print(\"Greetings!\")"
      ],
      "metadata": {
        "colab": {
          "base_uri": "https://localhost:8080/"
        },
        "id": "Km0cSQKylpn3",
        "outputId": "1fccfcda-2bbc-4cb8-b58e-30ca0ba9a837"
      },
      "execution_count": 32,
      "outputs": [
        {
          "output_type": "stream",
          "name": "stdout",
          "text": [
            "Enter your value to store in spam : 56\n",
            "Greetings!\n"
          ]
        }
      ]
    },
    {
      "cell_type": "markdown",
      "source": [
        "---------------------------------------------------------------------"
      ],
      "metadata": {
        "id": "ZXyBKzqArrly"
      }
    },
    {
      "cell_type": "markdown",
      "source": [
        "## Q.9) If your programme is stuck in an endless loop, what keys you’ll press ?"
      ],
      "metadata": {
        "id": "Xq90NjRgruNB"
      }
    },
    {
      "cell_type": "markdown",
      "source": [
        "### Answer - **We press (Ctrl + C) key on keyboard to exit an infinite loop in Python.**"
      ],
      "metadata": {
        "id": "TrQhndd5zTX8"
      }
    },
    {
      "cell_type": "code",
      "source": [
        "a = 5\n",
        "b = 5\n",
        "\n",
        "while a == b:\n",
        "  print(\"Hello\")"
      ],
      "metadata": {
        "id": "epDCeFq-nIZ8"
      },
      "execution_count": null,
      "outputs": []
    },
    {
      "cell_type": "markdown",
      "source": [
        "---------------------------------------------------------------"
      ],
      "metadata": {
        "id": "4RO4DjJqzzBJ"
      }
    },
    {
      "cell_type": "markdown",
      "source": [
        "## Q10.) How can you tell the difference between break and continue ?"
      ],
      "metadata": {
        "id": "o7UhmoRNz1BR"
      }
    },
    {
      "cell_type": "markdown",
      "source": [
        "### Answer - **A \"break\" function immediately terminates/stops/exits of a current  loop and passes the control over the next loop, while a \"continue\" function skips the current iteration and begins the very next iteration of a loop.**"
      ],
      "metadata": {
        "id": "E-S4yove0C0I"
      }
    },
    {
      "cell_type": "code",
      "source": [
        "## Use of break...\n",
        "\n",
        "for m in range(10):\n",
        "  if (m==7):\n",
        "    break\n",
        "  print(m, end=\" \")\n",
        "print(\"Broke the loop\")\n",
        "\n",
        "print(\"\")\n",
        "\n",
        "## Use of continue...\n",
        "\n",
        "for s in range(20):\n",
        "  if (s==10):\n",
        "    continue\n",
        "  print(s, end=\" \")"
      ],
      "metadata": {
        "colab": {
          "base_uri": "https://localhost:8080/"
        },
        "id": "48EX3vvEV048",
        "outputId": "1a6a5cf5-22cb-453c-9a23-bbaf4d7c4d74"
      },
      "execution_count": 127,
      "outputs": [
        {
          "output_type": "stream",
          "name": "stdout",
          "text": [
            "0 1 2 3 4 5 6 Broke the loop\n",
            "\n",
            "0 1 2 3 4 5 6 7 8 9 11 12 13 14 15 16 17 18 19 "
          ]
        }
      ]
    },
    {
      "cell_type": "markdown",
      "source": [
        "---------------------------------------------------------------------"
      ],
      "metadata": {
        "id": "6RX6dW_M1_WL"
      }
    },
    {
      "cell_type": "markdown",
      "source": [
        "## Q.11) In a for loop, what is the difference between range(10), range(0, 10), and range(0, 10, 1) ?"
      ],
      "metadata": {
        "id": "LTqrj_fO2Fxy"
      }
    },
    {
      "cell_type": "markdown",
      "source": [
        "### Answer - \n",
        "**- In range(10), If we pass a single argument to range(), it means we are passing the STOP argument. In this case, range() returns a sequence of numbers starting from 0 up to the number (but not including the number).**\n",
        "\n",
        "**- In range(0, 10), If we pass two arguments to range(), it means we are passing START and STOP arguments. In this case, range() returns a sequence of numbers starting from START (inclusive) up to STOP (exclusive).**\n",
        "\n",
        "**- In range(0, 10, 1), If we pass all three arguments to range(), the first argument is START, the second argument is STOP, the third argument is STEP.\n",
        "The STEP argument specifies the incrementation between two numbers in the sequence.**"
      ],
      "metadata": {
        "id": "J6_6OzFW9gIU"
      }
    },
    {
      "cell_type": "code",
      "source": [
        "#1 range(10)\n",
        "\n",
        "for i in range(10):\n",
        "  print(i)"
      ],
      "metadata": {
        "colab": {
          "base_uri": "https://localhost:8080/"
        },
        "id": "q_fnb5X3wGyv",
        "outputId": "f55efa63-3966-44cc-bd8e-14b86040c3d7"
      },
      "execution_count": 60,
      "outputs": [
        {
          "output_type": "stream",
          "name": "stdout",
          "text": [
            "0\n",
            "1\n",
            "2\n",
            "3\n",
            "4\n",
            "5\n",
            "6\n",
            "7\n",
            "8\n",
            "9\n"
          ]
        }
      ]
    },
    {
      "cell_type": "code",
      "source": [
        "#2 range(0,10)\n",
        "\n",
        "for i in range(0, 10):\n",
        "  print(i)"
      ],
      "metadata": {
        "colab": {
          "base_uri": "https://localhost:8080/"
        },
        "id": "ioRl7Kvm9Kib",
        "outputId": "da66dee9-d716-45e8-8e44-961799a68f71"
      },
      "execution_count": 57,
      "outputs": [
        {
          "output_type": "stream",
          "name": "stdout",
          "text": [
            "0\n",
            "1\n",
            "2\n",
            "3\n",
            "4\n",
            "5\n",
            "6\n",
            "7\n",
            "8\n",
            "9\n"
          ]
        }
      ]
    },
    {
      "cell_type": "code",
      "source": [
        "for i in range(0, 10, 1):\n",
        "  print(i)"
      ],
      "metadata": {
        "colab": {
          "base_uri": "https://localhost:8080/"
        },
        "id": "xRdNCkMk-xp0",
        "outputId": "8a045112-2aca-44d9-d3ae-90260faf3c83"
      },
      "execution_count": 58,
      "outputs": [
        {
          "output_type": "stream",
          "name": "stdout",
          "text": [
            "0\n",
            "1\n",
            "2\n",
            "3\n",
            "4\n",
            "5\n",
            "6\n",
            "7\n",
            "8\n",
            "9\n"
          ]
        }
      ]
    },
    {
      "cell_type": "markdown",
      "source": [
        "------------------------------------------------------------------"
      ],
      "metadata": {
        "id": "CWF6nQ84GzSh"
      }
    },
    {
      "cell_type": "markdown",
      "source": [
        "## Q.12) Write a short program that prints the numbers 1 to 10 using a for loop. Then write an equivalent program that prints the numbers 1 to 10 using a while loop."
      ],
      "metadata": {
        "id": "k2VQ48_6HGOv"
      }
    },
    {
      "cell_type": "markdown",
      "source": [
        "### Answer - "
      ],
      "metadata": {
        "id": "oqIuAmrMHSMG"
      }
    },
    {
      "cell_type": "code",
      "source": [
        "#1. Printing numbers between 1 to 10 using a for loop.\n",
        "\n",
        "for i in range(1, 11):\n",
        "  print(i)"
      ],
      "metadata": {
        "colab": {
          "base_uri": "https://localhost:8080/"
        },
        "id": "b20Cb42JAD5n",
        "outputId": "f712fffa-e44a-40e3-8993-a5cca40c4e15"
      },
      "execution_count": 62,
      "outputs": [
        {
          "output_type": "stream",
          "name": "stdout",
          "text": [
            "1\n",
            "2\n",
            "3\n",
            "4\n",
            "5\n",
            "6\n",
            "7\n",
            "8\n",
            "9\n",
            "10\n"
          ]
        }
      ]
    },
    {
      "cell_type": "code",
      "source": [
        "#2. Printing numbers between 1 to 10 using a while loop.\n",
        "\n",
        "i = 1\n",
        "while i<=10:\n",
        "  print(i)\n",
        "  i = i + 1"
      ],
      "metadata": {
        "colab": {
          "base_uri": "https://localhost:8080/"
        },
        "id": "CGHxA8MyHcpS",
        "outputId": "91414b58-f02a-4481-9529-11d797e78a55"
      },
      "execution_count": 140,
      "outputs": [
        {
          "output_type": "stream",
          "name": "stdout",
          "text": [
            "1\n",
            "2\n",
            "3\n",
            "4\n",
            "5\n",
            "6\n",
            "7\n",
            "8\n",
            "9\n",
            "10\n"
          ]
        }
      ]
    },
    {
      "cell_type": "markdown",
      "source": [
        "---------------------------------------------------------------"
      ],
      "metadata": {
        "id": "atUIESsLI9NJ"
      }
    },
    {
      "cell_type": "markdown",
      "source": [
        "## Q.13) If you had a function named bacon() inside a module named spam, how would you call it after importing spam ?"
      ],
      "metadata": {
        "id": "YytTI3FbJCjJ"
      }
    },
    {
      "cell_type": "markdown",
      "source": [
        "### Answer - **This function can be called with spam.bacon()**"
      ],
      "metadata": {
        "id": "bBla7a6jJIUR"
      }
    },
    {
      "cell_type": "markdown",
      "source": [
        "------------------------------------------------------------End------------------------------------------------------------"
      ],
      "metadata": {
        "id": "tFi2k0XScLg7"
      }
    }
  ]
}
