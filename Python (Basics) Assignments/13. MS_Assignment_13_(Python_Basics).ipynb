{
  "nbformat": 4,
  "nbformat_minor": 0,
  "metadata": {
    "colab": {
      "provenance": []
    },
    "kernelspec": {
      "name": "python3",
      "display_name": "Python 3"
    },
    "language_info": {
      "name": "python"
    }
  },
  "cells": [
    {
      "cell_type": "markdown",
      "source": [
        "#**iNeuron**\n",
        "## Python (Basics) Assignment No. 13\n",
        "\n",
        "- Batch - Full Stack Data Science Bootcamp 2.0\n",
        "- Name - **Mayur Soni**\n",
        "- email id - **mayurssoni007@gmail.com**"
      ],
      "metadata": {
        "id": "xewQV-yR2gbF"
      }
    },
    {
      "cell_type": "markdown",
      "source": [
        "-------------------------------------------------------------------------"
      ],
      "metadata": {
        "id": "oPJz7je-2iz8"
      }
    },
    {
      "cell_type": "markdown",
      "source": [
        "##Q.1) What advantages do Excel spreadsheets have over CSV spreadsheets ?"
      ],
      "metadata": {
        "id": "5_4T6Xc72kGN"
      }
    },
    {
      "cell_type": "markdown",
      "source": [
        "###**Answer -** \n",
        "####1) - Excel can perform VBA Coding, functions, formulas and create summaries easily when compared to CSV. \n",
        "####2) - CSV cannot perform VBA Coding, functions, formulas and create summaries easily when compared to Excel. \n",
        "####3) - Reading large data set is much easier for the end-user to read, comprehend and understand when compared to CSV."
      ],
      "metadata": {
        "id": "gOaJKMEX2wqT"
      }
    },
    {
      "cell_type": "markdown",
      "source": [
        "--------------------------------------------------------------------------"
      ],
      "metadata": {
        "id": "k0Ap-CTL3Ogb"
      }
    },
    {
      "cell_type": "markdown",
      "source": [
        "##Q.2) What do you pass to csv.reader() and csv.writer() to create reader and writer objects ?"
      ],
      "metadata": {
        "id": "wUyJB0xY3QB2"
      }
    },
    {
      "cell_type": "markdown",
      "source": [
        "###**Answer -** \n",
        "####1) - To write a CSV file with the csv module, First, call open() and pass it 'w' to open a file in write mode, and it create a object. That object pass in csv.writer()\n",
        "\n",
        "####```write_file = open('filename.csv','w')```\n",
        "\n",
        "####```Writer = csv.writer(write_file)```\n",
        "\n",
        "####2) - To read a CSV file with the csv module, first open it using the open() function and it create a object. That object pass in csv.reader()\n",
        "\n",
        "####```read_file = open('filename.csv')```\n",
        "\n",
        "####```Reader = csv.reader(read_file)```"
      ],
      "metadata": {
        "id": "e4nY4No43Uss"
      }
    },
    {
      "cell_type": "markdown",
      "source": [
        "--------------------------------------------------------------------"
      ],
      "metadata": {
        "id": "jeH3i9pL3Xwq"
      }
    },
    {
      "cell_type": "markdown",
      "source": [
        "##Q.3) What modes do File objects for reader and writer objects need to be opened in ?"
      ],
      "metadata": {
        "id": "0RtcqIUL3ZLD"
      }
    },
    {
      "cell_type": "markdown",
      "source": [
        "###**Answer -** For ```csv.reader(iterable_file_object)```, the file objects needed to be opened in **read mode** ```mode='r'``` Whereas for ```csv.writer(iterable_file_object)```, the file objects needed to be opened in **write mode** ```mode='w'```"
      ],
      "metadata": {
        "id": "2SzCKyiz3bCd"
      }
    },
    {
      "cell_type": "markdown",
      "source": [
        "--------------------------------------------------------------------"
      ],
      "metadata": {
        "id": "fs9iXLxY3b0y"
      }
    },
    {
      "cell_type": "markdown",
      "source": [
        "##Q.4) What method takes a list argument and writes it to a CSV file ?"
      ],
      "metadata": {
        "id": "qpRZwNyl3dAS"
      }
    },
    {
      "cell_type": "markdown",
      "source": [
        "###**Answer -** The **```writerow()```** method...\n",
        "\n",
        "####```write_file = open('filename.csv','w')```\n",
        "\n",
        "####```Writer = csv.writer(write_file)```\n",
        "\n",
        "####```Writer.writerow(['mayur','soni','hello_world'])```"
      ],
      "metadata": {
        "id": "MykWmN543epk"
      }
    },
    {
      "cell_type": "markdown",
      "source": [
        "----------------------------------------------------------------------------"
      ],
      "metadata": {
        "id": "XcNqFpNy3fsK"
      }
    },
    {
      "cell_type": "markdown",
      "source": [
        "##Q.5) What do the keyword arguments delimiter and line terminator do ?"
      ],
      "metadata": {
        "id": "O7pVzXV33hJa"
      }
    },
    {
      "cell_type": "markdown",
      "source": [
        "###**Answer -** Lets take the example of a csv file:\n",
        "####```First Name, Last Name, Age```\n",
        "####```Mayur, Soni, 27```\n",
        "####```Sudhanshu, Kumar, 35```\n",
        "#### Here **```','``` is Delimiter.** We can use any Character as per our need if required. Similarly Line Terminator comes at the end of the line by default, it is newline and can be changed accourding to our requirement."
      ],
      "metadata": {
        "id": "aTC-tSAL3i5Z"
      }
    },
    {
      "cell_type": "markdown",
      "source": [
        "----------------------------------------------------------------------"
      ],
      "metadata": {
        "id": "asorPEuy4hPK"
      }
    },
    {
      "cell_type": "markdown",
      "source": [
        "##Q.6) What function takes a string of JSON data and returns a Python data structure ?"
      ],
      "metadata": {
        "id": "KLnr-uI94ihU"
      }
    },
    {
      "cell_type": "markdown",
      "source": [
        "###**Answer -** **```json.loads()```** method takes a string of JSON data and returns a Python data structure."
      ],
      "metadata": {
        "id": "RIE4QRcx4k8z"
      }
    },
    {
      "cell_type": "markdown",
      "source": [
        "---------------------------------------------------------------------------"
      ],
      "metadata": {
        "id": "M4HR92Xq4o1f"
      }
    },
    {
      "cell_type": "markdown",
      "source": [
        "##Q.7) What function takes a Python data structure and returns a string of JSON data ?"
      ],
      "metadata": {
        "id": "hMnow46W4rIy"
      }
    },
    {
      "cell_type": "markdown",
      "source": [
        "###**Answer -** **```json.dumps()```** method takes a python data structure and returns a string of JSON data."
      ],
      "metadata": {
        "id": "T0xXGGSP4vZX"
      }
    },
    {
      "cell_type": "markdown",
      "source": [
        "------------------------------------------------------------End------------------------------------------------------------"
      ],
      "metadata": {
        "id": "9CVsA8Vn421Y"
      }
    }
  ]
}