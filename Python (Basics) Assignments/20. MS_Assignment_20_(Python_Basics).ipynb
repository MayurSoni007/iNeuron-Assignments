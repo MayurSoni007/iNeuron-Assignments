{
  "nbformat": 4,
  "nbformat_minor": 0,
  "metadata": {
    "colab": {
      "provenance": []
    },
    "kernelspec": {
      "name": "python3",
      "display_name": "Python 3"
    },
    "language_info": {
      "name": "python"
    }
  },
  "cells": [
    {
      "cell_type": "markdown",
      "source": [
        "#**iNeuron**\n",
        "## Python (Basics) Assignment No. 20\n",
        "\n",
        "- Batch - Full Stack Data Science Bootcamp 2.0\n",
        "- Name - **Mayur Soni**\n",
        "- email id - **mayurssoni007@gmail.com**"
      ],
      "metadata": {
        "id": "vRka_yQUFxqO"
      }
    },
    {
      "cell_type": "markdown",
      "source": [
        "-------------------------------------------------------------------------"
      ],
      "metadata": {
        "id": "syO1KV_AGD20"
      }
    },
    {
      "cell_type": "markdown",
      "source": [
        "##Q.1) Set the variable test1 to the string 'This is a test of the emergency text system,' and save test1 to a file named test.txt ?"
      ],
      "metadata": {
        "id": "hUj9HwmcGIgj"
      }
    },
    {
      "cell_type": "markdown",
      "source": [
        "###**Answer -** "
      ],
      "metadata": {
        "id": "wRji3ChuGIbr"
      }
    },
    {
      "cell_type": "code",
      "source": [
        "test1 = 'This is a test of the emergency text system,'\n",
        "print(test1)\n",
        "with open('test.txt','w') as file:\n",
        "    file.write(test1)\n",
        "    file.close()"
      ],
      "metadata": {
        "colab": {
          "base_uri": "https://localhost:8080/"
        },
        "id": "9kKTxIMSPHon",
        "outputId": "8796e981-7506-4533-b449-c171a3fe93b7"
      },
      "execution_count": 1,
      "outputs": [
        {
          "output_type": "stream",
          "name": "stdout",
          "text": [
            "This is a test of the emergency text system,\n"
          ]
        }
      ]
    },
    {
      "cell_type": "markdown",
      "source": [
        "--------------------------------------------------------------------------------"
      ],
      "metadata": {
        "id": "14KblY-VGIWa"
      }
    },
    {
      "cell_type": "markdown",
      "source": [
        "##Q.2) Read the contents of the file test.txt into the variable test2. Is there a difference between test 1 and test 2 ?"
      ],
      "metadata": {
        "id": "QnhEhWmQGIRO"
      }
    },
    {
      "cell_type": "markdown",
      "source": [
        "###**Answer -** "
      ],
      "metadata": {
        "id": "DkffjOIbGIMY"
      }
    },
    {
      "cell_type": "code",
      "source": [
        "with open('test.txt','r') as file:\n",
        "    test2 = file.read()\n",
        "    \n",
        "print(test2)   \n",
        "print(test1 == test2)"
      ],
      "metadata": {
        "colab": {
          "base_uri": "https://localhost:8080/"
        },
        "id": "lFlOSsktPIAz",
        "outputId": "f414d944-b6d9-496c-f2b7-9d69fc79bde8"
      },
      "execution_count": 2,
      "outputs": [
        {
          "output_type": "stream",
          "name": "stdout",
          "text": [
            "This is a test of the emergency text system,\n",
            "True\n"
          ]
        }
      ]
    },
    {
      "cell_type": "markdown",
      "source": [
        "-----------------------------------------------------------------------------"
      ],
      "metadata": {
        "id": "DmNnHxXsGIHR"
      }
    },
    {
      "cell_type": "markdown",
      "source": [
        "##Q.3) Create a CSV file called books.csv by using these lines :\n",
        "title, author, year\n",
        "\n",
        "The Weirdstone of Brisingamen,Alan Garner,1960\n",
        "\n",
        "Perdido Street Station,China Miéville,2000\n",
        "\n",
        "Thud!,Terry Pratchett,2005\n",
        "\n",
        "The Spellman Files,Lisa Lutz,2007\n",
        "\n",
        "Small Gods,Terry Pratchett,1992"
      ],
      "metadata": {
        "id": "NFzDx3_hGICR"
      }
    },
    {
      "cell_type": "markdown",
      "source": [
        "###**Answer -** "
      ],
      "metadata": {
        "id": "N00XGLzCGH9N"
      }
    },
    {
      "cell_type": "code",
      "source": [
        "data = '''title,author,year\n",
        "The Weirdstone of Brisingamen,Alan Garner,1960\n",
        "Perdido Street Station,China Miéville,2000\n",
        "Thud!,Terry Pratchett,2005\n",
        "The Spellman Files,Lisa Lutz,2007\n",
        "Small Gods,Terry Pratchett,1992'''\n",
        "\n",
        "with open('books.csv','w') as file:\n",
        "    file.write(data)"
      ],
      "metadata": {
        "id": "852deR2lPIuS"
      },
      "execution_count": 3,
      "outputs": []
    },
    {
      "cell_type": "markdown",
      "source": [
        "-------------------------------------------------------------------------------"
      ],
      "metadata": {
        "id": "IQuDOsD_GH4h"
      }
    },
    {
      "cell_type": "markdown",
      "source": [
        "##Q.4) Use the sqlite3 module to create a SQLite database called books.db, and a table called books with these fields: title (text), author (text), and year (integer) ?"
      ],
      "metadata": {
        "id": "6QJ9okbsGHz4"
      }
    },
    {
      "cell_type": "markdown",
      "source": [
        "###**Answer -** "
      ],
      "metadata": {
        "id": "KiBjX37DGHuh"
      }
    },
    {
      "cell_type": "code",
      "source": [
        "import sqlite3\n",
        "db = sqlite3.connect('books.db')\n",
        "cursor = db.cursor()\n",
        "cursor.execute(\"CREATE TABLE books (title text, author text, year int)\")\n",
        "db.commit()\n",
        "db.close()"
      ],
      "metadata": {
        "id": "bM2f23l8PJHj"
      },
      "execution_count": 4,
      "outputs": []
    },
    {
      "cell_type": "markdown",
      "source": [
        "------------------------------------------------------------------------"
      ],
      "metadata": {
        "id": "IElpPX4GGHpx"
      }
    },
    {
      "cell_type": "markdown",
      "source": [
        "##Q.5) Read books.csv and insert its data into the book table."
      ],
      "metadata": {
        "id": "hs3tnLfhGHka"
      }
    },
    {
      "cell_type": "markdown",
      "source": [
        "###**Answer -** "
      ],
      "metadata": {
        "id": "IRHF-3jGGHeq"
      }
    },
    {
      "cell_type": "code",
      "source": [
        "import sqlite3\n",
        "import csv\n",
        "conn = sqlite3.connect(\"books.db\")\n",
        "cursor = conn.cursor()\n",
        "with open(\"books.csv\",\"r\") as file:\n",
        "    books = csv.DictReader(file)\n",
        "    for book in books:\n",
        "        cursor.execute(\"INSERT INTO books VALUES (?,?,?)\",(book['title'],book['author'],book['year']))\n",
        "conn.commit()\n",
        "conn.close()"
      ],
      "metadata": {
        "id": "zXfJkEt-PJcy"
      },
      "execution_count": 5,
      "outputs": []
    },
    {
      "cell_type": "markdown",
      "source": [
        "-------------------------------------------------------------------------------"
      ],
      "metadata": {
        "id": "SZdmM4X1GHYy"
      }
    },
    {
      "cell_type": "markdown",
      "source": [
        "##Q.6) Select and print the title column from the book table in alphabetical order."
      ],
      "metadata": {
        "id": "E7_bpSrZGHTp"
      }
    },
    {
      "cell_type": "markdown",
      "source": [
        "###**Answer -** "
      ],
      "metadata": {
        "id": "WifkNmS6GHOE"
      }
    },
    {
      "cell_type": "code",
      "source": [
        "import sqlite3\n",
        "conn = sqlite3.connect('books.db')\n",
        "cursor = conn.cursor()\n",
        "output = cursor.execute(\"SELECT title FROM books ORDER BY title ASC\")\n",
        "for ele in output:\n",
        "    print(ele[0])\n",
        "conn.commit()\n",
        "conn.close()"
      ],
      "metadata": {
        "id": "egtn8MFLPJsa",
        "colab": {
          "base_uri": "https://localhost:8080/"
        },
        "outputId": "dfbef0f1-621a-42e7-a13c-ecda393ec193"
      },
      "execution_count": 6,
      "outputs": [
        {
          "output_type": "stream",
          "name": "stdout",
          "text": [
            "Perdido Street Station\n",
            "Small Gods\n",
            "The Spellman Files\n",
            "The Weirdstone of Brisingamen\n",
            "Thud!\n"
          ]
        }
      ]
    },
    {
      "cell_type": "markdown",
      "source": [
        "-------------------------------------------------------------------"
      ],
      "metadata": {
        "id": "o2nwwh8UGHIz"
      }
    },
    {
      "cell_type": "markdown",
      "source": [
        "##Q.7) From the book table, select and print all columns in the order of publication."
      ],
      "metadata": {
        "id": "TCMaNch7GHDi"
      }
    },
    {
      "cell_type": "markdown",
      "source": [
        "###**Answer -** "
      ],
      "metadata": {
        "id": "S888r9qYGG-q"
      }
    },
    {
      "cell_type": "code",
      "source": [
        "import sqlite3\n",
        "conn = sqlite3.connect('books.db')\n",
        "cursor = conn.cursor()\n",
        "ouput = cursor.execute(\"SELECT * FROM books ORDER BY year\")\n",
        "for record in ouput:\n",
        "    print(record)"
      ],
      "metadata": {
        "id": "3fKRf1-wPKV0",
        "colab": {
          "base_uri": "https://localhost:8080/"
        },
        "outputId": "2109f36c-8cac-4c21-f2c1-31847e06c608"
      },
      "execution_count": 7,
      "outputs": [
        {
          "output_type": "stream",
          "name": "stdout",
          "text": [
            "('The Weirdstone of Brisingamen', 'Alan Garner', 1960)\n",
            "('Small Gods', 'Terry Pratchett', 1992)\n",
            "('Perdido Street Station', 'China Miéville', 2000)\n",
            "('Thud!', 'Terry Pratchett', 2005)\n",
            "('The Spellman Files', 'Lisa Lutz', 2007)\n"
          ]
        }
      ]
    },
    {
      "cell_type": "markdown",
      "source": [
        "--------------------------------------------------------------------"
      ],
      "metadata": {
        "id": "MsjlRFPjGG45"
      }
    },
    {
      "cell_type": "markdown",
      "source": [
        "##Q.8) Use the sqlalchemy module to connect to the sqlite3 database books.db that you just made in exercise 6."
      ],
      "metadata": {
        "id": "Mdz1U9vtGGzz"
      }
    },
    {
      "cell_type": "markdown",
      "source": [
        "###**Answer -** "
      ],
      "metadata": {
        "id": "n8REZhUWGGu8"
      }
    },
    {
      "cell_type": "code",
      "source": [
        "import sqlalchemy\n",
        "conn = sqlalchemy.create_engine('sqlite:///books.db')\n",
        "conn"
      ],
      "metadata": {
        "id": "gNXFOdD7PK1k",
        "colab": {
          "base_uri": "https://localhost:8080/"
        },
        "outputId": "cb2cc7f9-3c67-4e9d-ed69-bd3fc20be685"
      },
      "execution_count": 8,
      "outputs": [
        {
          "output_type": "execute_result",
          "data": {
            "text/plain": [
              "Engine(sqlite:///books.db)"
            ]
          },
          "metadata": {},
          "execution_count": 8
        }
      ]
    },
    {
      "cell_type": "markdown",
      "source": [
        "----------------------------------------------------------------------------"
      ],
      "metadata": {
        "id": "A02Gh642GGpS"
      }
    },
    {
      "cell_type": "markdown",
      "source": [
        "##Q.9) Install the Redis server and the Python redis library (pip install redis) on your computer. Create a Redis hash called test with the fields count (1) and name ('Fester Bestertester'). Print all the fields for test."
      ],
      "metadata": {
        "id": "HpM20Xt-GGkR"
      }
    },
    {
      "cell_type": "markdown",
      "source": [
        "###**Answer -** "
      ],
      "metadata": {
        "id": "RcRAEnfhGGeh"
      }
    },
    {
      "cell_type": "code",
      "source": [
        "pip install redis"
      ],
      "metadata": {
        "id": "JmiiEKLOPLMC",
        "colab": {
          "base_uri": "https://localhost:8080/"
        },
        "outputId": "27c76583-da99-44c4-aafb-f91661fe7067"
      },
      "execution_count": 13,
      "outputs": [
        {
          "output_type": "stream",
          "name": "stdout",
          "text": [
            "Looking in indexes: https://pypi.org/simple, https://us-python.pkg.dev/colab-wheels/public/simple/\n",
            "Requirement already satisfied: redis in /usr/local/lib/python3.10/dist-packages (4.5.5)\n",
            "Requirement already satisfied: async-timeout>=4.0.2 in /usr/local/lib/python3.10/dist-packages (from redis) (4.0.2)\n"
          ]
        }
      ]
    },
    {
      "cell_type": "code",
      "source": [
        "import redis\n",
        "conn = redis.Redis()\n",
        "conn.hset('test',{\n",
        "    'count':1,\n",
        "    'name':'Fester Bestertester'\n",
        "})\n",
        "conn.hgetall('test')"
      ],
      "metadata": {
        "id": "MKbpwXn151Z1"
      },
      "execution_count": null,
      "outputs": []
    },
    {
      "cell_type": "markdown",
      "source": [
        "---------------------------------------------------------------------------"
      ],
      "metadata": {
        "id": "3fLaCiGSGGZh"
      }
    },
    {
      "cell_type": "markdown",
      "source": [
        "##Q.10) Increment the count field of test and print it."
      ],
      "metadata": {
        "id": "FAoxzAcrGGT5"
      }
    },
    {
      "cell_type": "markdown",
      "source": [
        "###**Answer -** "
      ],
      "metadata": {
        "id": "LlwWAG6-GGOp"
      }
    },
    {
      "cell_type": "code",
      "source": [
        "conn.hincrby('test', 'count', 1)\n",
        "conn.hget('test', 'count')"
      ],
      "metadata": {
        "id": "hcMIaq6BPLkD"
      },
      "execution_count": null,
      "outputs": []
    },
    {
      "cell_type": "markdown",
      "source": [
        "**Output -** b'13' "
      ],
      "metadata": {
        "id": "38cXqTcb6PeM"
      }
    },
    {
      "cell_type": "markdown",
      "source": [
        "------------------------------------------------------------End------------------------------------------------------------"
      ],
      "metadata": {
        "id": "HLYEgNQ9GGIp"
      }
    }
  ]
}