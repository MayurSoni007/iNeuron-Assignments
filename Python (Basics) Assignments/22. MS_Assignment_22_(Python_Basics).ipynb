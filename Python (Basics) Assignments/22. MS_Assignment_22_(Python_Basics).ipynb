{
  "nbformat": 4,
  "nbformat_minor": 0,
  "metadata": {
    "colab": {
      "provenance": []
    },
    "kernelspec": {
      "name": "python3",
      "display_name": "Python 3"
    },
    "language_info": {
      "name": "python"
    }
  },
  "cells": [
    {
      "cell_type": "markdown",
      "source": [
        "#**iNeuron**\n",
        "## Python (Basics) Assignment No. 22\n",
        "\n",
        "- Batch - Full Stack Data Science Bootcamp 2.0\n",
        "- Name - **Mayur Soni**\n",
        "- email id - **mayurssoni007@gmail.com**"
      ],
      "metadata": {
        "id": "AdEiHrdVUEZP"
      }
    },
    {
      "cell_type": "markdown",
      "source": [
        "--------------------------------------------------------------------"
      ],
      "metadata": {
        "id": "e8O0S5AbUKxZ"
      }
    },
    {
      "cell_type": "markdown",
      "source": [
        "##Q.1) What is the result of the code, and explain?\n",
        "\n",
        "```\n",
        ">>> X = 'iNeuron'\n",
        ">>> def func():\n",
        "print(X)\n",
        "\n",
        ">>> func()\n",
        "```"
      ],
      "metadata": {
        "id": "G53Bp8bxUOl8"
      }
    },
    {
      "cell_type": "markdown",
      "source": [
        "###**Answer -** \n",
        "####- Result of this code is = ```iNeuron```\n",
        "####- Explanation = Because we are printing x's value in function func() and then calling it in the next line.\n",
        "####- Also the function intially looks for the variable X in its local scope,But since there is no local variable X, its returns the value of global variable x."
      ],
      "metadata": {
        "id": "3-SHmmISUOQU"
      }
    },
    {
      "cell_type": "code",
      "source": [
        "x = 'iNeuron'\n",
        "def func():\n",
        "  print(x)\n",
        "\n",
        "func()"
      ],
      "metadata": {
        "id": "3YRb_s1gVTaj",
        "colab": {
          "base_uri": "https://localhost:8080/"
        },
        "outputId": "ae2934f1-ae11-4cc4-ee94-812a0e6eb4a4"
      },
      "execution_count": 1,
      "outputs": [
        {
          "output_type": "stream",
          "name": "stdout",
          "text": [
            "iNeuron\n"
          ]
        }
      ]
    },
    {
      "cell_type": "markdown",
      "source": [
        "-------------------------------------------------------------------------"
      ],
      "metadata": {
        "id": "jl486ydTUODf"
      }
    },
    {
      "cell_type": "markdown",
      "source": [
        "##Q.2) What is the result of the code, and explain?\n",
        "\n",
        "```\n",
        ">>> X = 'iNeuron'\n",
        ">>> def func():\n",
        "X = 'NI!'\n",
        "\n",
        ">>> func()\n",
        ">>> print(X)\n",
        "```"
      ],
      "metadata": {
        "id": "MMurIA-EUN_e"
      }
    },
    {
      "cell_type": "markdown",
      "source": [
        "###**Answer -** \n",
        "####- The result of the code is = ```NI!```.\n",
        "####- Because the function intially looks for the variable X in its local scope,But since there is no local variable X, its returns the value of global variable x.  Since here the X is present in the local scope. it prints the value ```NI!```"
      ],
      "metadata": {
        "id": "gKRn2SvoUN7a"
      }
    },
    {
      "cell_type": "code",
      "source": [
        "X = 'iNeuron'\n",
        "def func():\n",
        "  X = 'NI!'\n",
        "  print(X)\n",
        "  \n",
        "func()"
      ],
      "metadata": {
        "id": "yK6d3nG1VTwb",
        "colab": {
          "base_uri": "https://localhost:8080/"
        },
        "outputId": "aef089c3-c6c2-4423-9933-5ad4774f60b8"
      },
      "execution_count": 3,
      "outputs": [
        {
          "output_type": "stream",
          "name": "stdout",
          "text": [
            "NI!\n"
          ]
        }
      ]
    },
    {
      "cell_type": "markdown",
      "source": [
        "-------------------------------------------------------------------"
      ],
      "metadata": {
        "id": "-tSITl52UN3l"
      }
    },
    {
      "cell_type": "markdown",
      "source": [
        "##Q.3) What does this code print, and why?\n",
        "\n",
        "```\n",
        ">>> X = 'iNeuron'\n",
        ">>> def func():\n",
        "X = 'NI'\n",
        "print(X)\n",
        "\n",
        ">>> func()\n",
        ">>> print(X)\n",
        "```"
      ],
      "metadata": {
        "id": "ua_8-X1gUNzp"
      }
    },
    {
      "cell_type": "markdown",
      "source": [
        "###**Answer -** \n",
        "####- This code prints ```NI``` and ```iNeuron```.\n",
        "####- Because  ```X=NI``` is in the local scope of the function ```func()``` hence the function prints the x value as ```NI. X = 'iNeuron'``` is in the global scope. hence ```print(X)``` prints output as iNeuron"
      ],
      "metadata": {
        "id": "3BfZhtmdUNvl"
      }
    },
    {
      "cell_type": "code",
      "source": [
        "X = 'iNeuron'\n",
        "def func():\n",
        "  X = 'NI'\n",
        "  print(X)\n",
        "\n",
        "func()\n",
        "print(X)"
      ],
      "metadata": {
        "id": "lfU_CjpDVUEr",
        "colab": {
          "base_uri": "https://localhost:8080/"
        },
        "outputId": "ecb0e857-5a43-4bf5-8181-08c75c2c0d24"
      },
      "execution_count": 4,
      "outputs": [
        {
          "output_type": "stream",
          "name": "stdout",
          "text": [
            "NI\n",
            "iNeuron\n"
          ]
        }
      ]
    },
    {
      "cell_type": "markdown",
      "source": [
        "--------------------------------------------------------------------------"
      ],
      "metadata": {
        "id": "0NS-9J7BUNsJ"
      }
    },
    {
      "cell_type": "markdown",
      "source": [
        "##Q.4) What output does this code produce? Why?\n",
        "\n",
        "```\n",
        ">>> X = 'iNeuron'\n",
        ">>> def func():\n",
        "global X\n",
        "X = 'NI'\n",
        "\n",
        ">>> func()\n",
        ">>> print(X)\n",
        "```"
      ],
      "metadata": {
        "id": "viYWGRrYUNn-"
      }
    },
    {
      "cell_type": "markdown",
      "source": [
        "###**Answer -** \n",
        "####- Output of this code is = ```NI```\n",
        "####- Because the function is initially looking for the variable x in its local scope. But The ```global``` keyword allows a variable to be accessible in the current scope. Since we are using global keyword inside the function ```func()``` it directly access the variable in ```X``` in global scope and changes its value to ```NI```. hence the output of the code is ```NI```."
      ],
      "metadata": {
        "id": "5JielXUjUNjh"
      }
    },
    {
      "cell_type": "code",
      "source": [
        "X = 'iNeuron'\n",
        "def func():\n",
        "  global X\n",
        "  X = 'NI'\n",
        "\n",
        "func()\n",
        "print(X)"
      ],
      "metadata": {
        "id": "_4TBFKiXVUfD",
        "colab": {
          "base_uri": "https://localhost:8080/"
        },
        "outputId": "d140230e-3271-4d05-b91a-67e06613d66b"
      },
      "execution_count": 5,
      "outputs": [
        {
          "output_type": "stream",
          "name": "stdout",
          "text": [
            "NI\n"
          ]
        }
      ]
    },
    {
      "cell_type": "markdown",
      "source": [
        "--------------------------------------------------------------------"
      ],
      "metadata": {
        "id": "yD87A6PxUNfp"
      }
    },
    {
      "cell_type": "markdown",
      "source": [
        "##Q.5) What about this code—what’s the output, and why?\n",
        "\n",
        "```\n",
        ">>> X = 'iNeuron'\n",
        ">>> def func():\n",
        "X = 'NI'\n",
        "def nested():\n",
        "print(X)\n",
        "nested()\n",
        "\n",
        ">>> func()\n",
        ">>> X\n",
        "```"
      ],
      "metadata": {
        "id": "E3sh0wpxUNbe"
      }
    },
    {
      "cell_type": "markdown",
      "source": [
        "###**Answer -** \n",
        "####- The output is ```iNeuron```\n",
        "####- Reason being is that if a function wants to access a variable, if its not available in its localscope, it looks for the variable in its global scope. similarly here also function ```nested``` looks for variable ```X``` in its global scope. hence the output of the code is ```NI```"
      ],
      "metadata": {
        "id": "a4d5jtErUNXx"
      }
    },
    {
      "cell_type": "code",
      "source": [
        "X = 'iNeuron'\n",
        "def func():\n",
        "  X = 'NI'\n",
        "\n",
        "def nested():\n",
        "  print(X)\n",
        "  nested()\n",
        "\n",
        "func()\n",
        "X"
      ],
      "metadata": {
        "id": "pZaHULVvVU5c",
        "colab": {
          "base_uri": "https://localhost:8080/",
          "height": 36
        },
        "outputId": "04080aae-31fc-4b7e-bed1-654589dc14bc"
      },
      "execution_count": 6,
      "outputs": [
        {
          "output_type": "execute_result",
          "data": {
            "text/plain": [
              "'iNeuron'"
            ],
            "application/vnd.google.colaboratory.intrinsic+json": {
              "type": "string"
            }
          },
          "metadata": {},
          "execution_count": 6
        }
      ]
    },
    {
      "cell_type": "markdown",
      "source": [
        "------------------------------------------------------------------------"
      ],
      "metadata": {
        "id": "F4fHbkoRUNUN"
      }
    },
    {
      "cell_type": "markdown",
      "source": [
        "##Q.6) How about this code: what is its output in Python 3, and explain?\n",
        "\n",
        "```\n",
        ">>> def func():\n",
        "X = 'NI'\n",
        "def nested():\n",
        "nonlocal X\n",
        "X = 'Spam'\n",
        "nested()\n",
        "print(X)\n",
        "\n",
        ">>> func()\n",
        "```"
      ],
      "metadata": {
        "id": "cHV3CtnrUNQh"
      }
    },
    {
      "cell_type": "markdown",
      "source": [
        "###**Answer -** \n",
        "####- Output in Python 3 is = ```spam```\n",
        "####- Because inside function ```nested```, the keyword ```nonlocal``` is defining variable X as a non local and modifying it as a global variable. So ```print(x)``` is printing global varibale x, hence the output is ```spam```."
      ],
      "metadata": {
        "id": "zsbQBCyCUNMQ"
      }
    },
    {
      "cell_type": "code",
      "source": [
        "def func():\n",
        "  X = 'NI'\n",
        "  def nested():\n",
        "    nonlocal X\n",
        "    X = 'Spam'\n",
        "  nested()\n",
        "  print(X)\n",
        "func()"
      ],
      "metadata": {
        "id": "0sQFYy_HVVUb",
        "colab": {
          "base_uri": "https://localhost:8080/"
        },
        "outputId": "2a8f3c62-6836-450e-b797-cd0e114768af"
      },
      "execution_count": 8,
      "outputs": [
        {
          "output_type": "stream",
          "name": "stdout",
          "text": [
            "Spam\n"
          ]
        }
      ]
    },
    {
      "cell_type": "markdown",
      "source": [
        "------------------------------------------------------------End------------------------------------------------------------"
      ],
      "metadata": {
        "id": "B1uOOosRVONj"
      }
    }
  ]
}