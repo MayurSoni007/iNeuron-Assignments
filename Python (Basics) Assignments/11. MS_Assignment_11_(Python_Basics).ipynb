{
  "nbformat": 4,
  "nbformat_minor": 0,
  "metadata": {
    "colab": {
      "provenance": []
    },
    "kernelspec": {
      "name": "python3",
      "display_name": "Python 3"
    },
    "language_info": {
      "name": "python"
    }
  },
  "cells": [
    {
      "cell_type": "markdown",
      "source": [
        "#**iNeuron**\n",
        "## Python (Basics) Assignment No. 11\n",
        "\n",
        "- Batch - Full Stack Data Science Bootcamp 2.0\n",
        "- Name - **Mayur Soni**\n",
        "- email id - **mayurssoni007@gmail.com**"
      ],
      "metadata": {
        "id": "27jctMfryRCn"
      }
    },
    {
      "cell_type": "markdown",
      "source": [
        "-------------------------------------------------------------------------"
      ],
      "metadata": {
        "id": "3EL6DrBEyTIZ"
      }
    },
    {
      "cell_type": "markdown",
      "source": [
        "##Q.1) Create an assert statement that throws an AssertionError if the variable spam is a negative integer ?"
      ],
      "metadata": {
        "id": "7wPJjA8KyUXV"
      }
    },
    {
      "cell_type": "markdown",
      "source": [
        "###**Answer -**"
      ],
      "metadata": {
        "id": "J3KnnINZyiwF"
      }
    },
    {
      "cell_type": "code",
      "source": [
        "spam = -16\n",
        "\n",
        "assert spam >=0, \"Variable Spam's value should not be a negative integer.\""
      ],
      "metadata": {
        "colab": {
          "base_uri": "https://localhost:8080/",
          "height": 200
        },
        "id": "4eH50xsbDR_5",
        "outputId": "f483dbd9-007e-470d-f6dd-d85f5b1294e5"
      },
      "execution_count": 18,
      "outputs": [
        {
          "output_type": "error",
          "ename": "AssertionError",
          "evalue": "ignored",
          "traceback": [
            "\u001b[0;31m---------------------------------------------------------------------------\u001b[0m",
            "\u001b[0;31mAssertionError\u001b[0m                            Traceback (most recent call last)",
            "\u001b[0;32m<ipython-input-18-d925044fcb6d>\u001b[0m in \u001b[0;36m<cell line: 3>\u001b[0;34m()\u001b[0m\n\u001b[1;32m      1\u001b[0m \u001b[0mspam\u001b[0m \u001b[0;34m=\u001b[0m \u001b[0;34m-\u001b[0m\u001b[0;36m16\u001b[0m\u001b[0;34m\u001b[0m\u001b[0;34m\u001b[0m\u001b[0m\n\u001b[1;32m      2\u001b[0m \u001b[0;34m\u001b[0m\u001b[0m\n\u001b[0;32m----> 3\u001b[0;31m \u001b[0;32massert\u001b[0m \u001b[0mspam\u001b[0m \u001b[0;34m>=\u001b[0m\u001b[0;36m0\u001b[0m\u001b[0;34m,\u001b[0m \u001b[0;34m\"Variable Spam's value should not be a negative integer.\"\u001b[0m\u001b[0;34m\u001b[0m\u001b[0;34m\u001b[0m\u001b[0m\n\u001b[0m",
            "\u001b[0;31mAssertionError\u001b[0m: Variable Spam's value should not be a negative integer."
          ]
        }
      ]
    },
    {
      "cell_type": "markdown",
      "source": [
        "---------------------------------------------------------------------"
      ],
      "metadata": {
        "id": "UjYXOt-4ymoc"
      }
    },
    {
      "cell_type": "markdown",
      "source": [
        "##Q.2) Write an assert statement that triggers an AssertionError if the variables eggs and bacon contain strings that are the same as each other, even if their cases are different (that is, 'hello' and 'hello' are considered the same, and 'goodbye' and 'GOODbye' are also considered the same ?"
      ],
      "metadata": {
        "id": "myGm8XL4yoLc"
      }
    },
    {
      "cell_type": "markdown",
      "source": [
        "###**Answer -**"
      ],
      "metadata": {
        "id": "qRegdfMayrOs"
      }
    },
    {
      "cell_type": "code",
      "source": [
        "eggs = input(\"Enter your 1st string value : \")\n",
        "bacon = input(\"Enter your 2nd string value : \")\n",
        "\n",
        "eggs = eggs.upper()\n",
        "bacon = bacon.upper()\n",
        "\n",
        "assert not(eggs == bacon), \"Both entered string values should not be the same !!\""
      ],
      "metadata": {
        "colab": {
          "base_uri": "https://localhost:8080/",
          "height": 235
        },
        "id": "Rkx7pIbHDyL8",
        "outputId": "7d20e997-5157-492d-c21f-135cd2415396"
      },
      "execution_count": 17,
      "outputs": [
        {
          "name": "stdout",
          "output_type": "stream",
          "text": [
            "Enter your 1st string value : goodbye\n",
            "Enter your 2nd string value : GOODbye\n"
          ]
        },
        {
          "output_type": "error",
          "ename": "AssertionError",
          "evalue": "ignored",
          "traceback": [
            "\u001b[0;31m---------------------------------------------------------------------------\u001b[0m",
            "\u001b[0;31mAssertionError\u001b[0m                            Traceback (most recent call last)",
            "\u001b[0;32m<ipython-input-17-6c277364093f>\u001b[0m in \u001b[0;36m<cell line: 7>\u001b[0;34m()\u001b[0m\n\u001b[1;32m      5\u001b[0m \u001b[0mbacon\u001b[0m \u001b[0;34m=\u001b[0m \u001b[0mbacon\u001b[0m\u001b[0;34m.\u001b[0m\u001b[0mupper\u001b[0m\u001b[0;34m(\u001b[0m\u001b[0;34m)\u001b[0m\u001b[0;34m\u001b[0m\u001b[0;34m\u001b[0m\u001b[0m\n\u001b[1;32m      6\u001b[0m \u001b[0;34m\u001b[0m\u001b[0m\n\u001b[0;32m----> 7\u001b[0;31m \u001b[0;32massert\u001b[0m \u001b[0;32mnot\u001b[0m\u001b[0;34m(\u001b[0m\u001b[0meggs\u001b[0m \u001b[0;34m==\u001b[0m \u001b[0mbacon\u001b[0m\u001b[0;34m)\u001b[0m\u001b[0;34m,\u001b[0m \u001b[0;34m\"Both entered string values should not be the same !!\"\u001b[0m\u001b[0;34m\u001b[0m\u001b[0;34m\u001b[0m\u001b[0m\n\u001b[0m",
            "\u001b[0;31mAssertionError\u001b[0m: Both entered string values should not be the same !!"
          ]
        }
      ]
    },
    {
      "cell_type": "markdown",
      "source": [
        "---------------------------------------------------------------------------"
      ],
      "metadata": {
        "id": "xX2f7S7Nyr_c"
      }
    },
    {
      "cell_type": "markdown",
      "source": [
        "##Q.3) Create an assert statement that throws an AssertionError every time ?"
      ],
      "metadata": {
        "id": "UEisMy1LytqG"
      }
    },
    {
      "cell_type": "markdown",
      "source": [
        "###**Answer -**"
      ],
      "metadata": {
        "id": "fMrmaVj8yvM1"
      }
    },
    {
      "cell_type": "code",
      "source": [
        "a = 10\n",
        "assert False, \"Showing AssertionError every time...!!\"\n",
        "print(a+1)"
      ],
      "metadata": {
        "colab": {
          "base_uri": "https://localhost:8080/",
          "height": 200
        },
        "id": "mIdDKO6CFhH3",
        "outputId": "3ef34579-8591-4aa9-c8cb-c683b887fab8"
      },
      "execution_count": 20,
      "outputs": [
        {
          "output_type": "error",
          "ename": "AssertionError",
          "evalue": "ignored",
          "traceback": [
            "\u001b[0;31m---------------------------------------------------------------------------\u001b[0m",
            "\u001b[0;31mAssertionError\u001b[0m                            Traceback (most recent call last)",
            "\u001b[0;32m<ipython-input-20-ac7096b3c7ae>\u001b[0m in \u001b[0;36m<cell line: 2>\u001b[0;34m()\u001b[0m\n\u001b[1;32m      1\u001b[0m \u001b[0ma\u001b[0m \u001b[0;34m=\u001b[0m \u001b[0;36m10\u001b[0m\u001b[0;34m\u001b[0m\u001b[0;34m\u001b[0m\u001b[0m\n\u001b[0;32m----> 2\u001b[0;31m \u001b[0;32massert\u001b[0m \u001b[0;32mFalse\u001b[0m\u001b[0;34m,\u001b[0m \u001b[0;34m\"Showing AssertionError every time...!!\"\u001b[0m\u001b[0;34m\u001b[0m\u001b[0;34m\u001b[0m\u001b[0m\n\u001b[0m\u001b[1;32m      3\u001b[0m \u001b[0mprint\u001b[0m\u001b[0;34m(\u001b[0m\u001b[0ma\u001b[0m\u001b[0;34m+\u001b[0m\u001b[0;36m1\u001b[0m\u001b[0;34m)\u001b[0m\u001b[0;34m\u001b[0m\u001b[0;34m\u001b[0m\u001b[0m\n",
            "\u001b[0;31mAssertionError\u001b[0m: Showing AssertionError every time...!!"
          ]
        }
      ]
    },
    {
      "cell_type": "markdown",
      "source": [
        "-------------------------------------------------------------------"
      ],
      "metadata": {
        "id": "IP6Y5KwGywlF"
      }
    },
    {
      "cell_type": "markdown",
      "source": [
        "##Q.4) What are the two lines that must be present in your software in order to call logging.debug() ?"
      ],
      "metadata": {
        "id": "zDR5UOoUyyja"
      }
    },
    {
      "cell_type": "markdown",
      "source": [
        "###**Answer -**\n",
        "```\n",
        "import logging\n",
        "logging.basicConfig(filename = 'app_log.txt',level=logging.DEBUG, format=' %(asctime)s - %(levelname)s - %(message)s')\n",
        "```"
      ],
      "metadata": {
        "id": "hhOCvRcXy0ED"
      }
    },
    {
      "cell_type": "markdown",
      "source": [
        "------------------------------------------------------------------"
      ],
      "metadata": {
        "id": "-yUfAGQxy1MV"
      }
    },
    {
      "cell_type": "markdown",
      "source": [
        "##Q.5) What are the two lines that your program must have in order to have logging.debug() send a logging message to a file named programLog.txt ?"
      ],
      "metadata": {
        "id": "qpSxrNUZy2hU"
      }
    },
    {
      "cell_type": "markdown",
      "source": [
        "###**Answer -**"
      ],
      "metadata": {
        "id": "rlHH97YRy37V"
      }
    },
    {
      "cell_type": "code",
      "source": [
        "import logging\n",
        "logging.basicConfig(filename = 'application_log.txt',level=logging.DEBUG, format=' %(asctime)s - %(levelname)s - %(message)s')\n",
        "logging.debug(\"Data Inserted Successfully.\")\n",
        "logging.debug('Connection Closed Successfully.')"
      ],
      "metadata": {
        "id": "bqN9an0aGiyO"
      },
      "execution_count": 12,
      "outputs": []
    },
    {
      "cell_type": "code",
      "source": [
        "file = open(\"./application_log.txt\",\"r\")\n",
        "for record in file.readlines():\n",
        "    print(record)"
      ],
      "metadata": {
        "id": "9SnXdT-sGqTZ"
      },
      "execution_count": null,
      "outputs": []
    },
    {
      "cell_type": "markdown",
      "source": [
        "###**Output -**"
      ],
      "metadata": {
        "id": "0SXcfS37MhcS"
      }
    },
    {
      "cell_type": "markdown",
      "source": [
        "```\n",
        "2023-06-05 16:00:43,676 - DEBUG - Data Inserted Successfully.\n",
        "\n",
        "2023-06-05 16:00:43,677 - DEBUG - Connection Closed Successfully.\n",
        "```"
      ],
      "metadata": {
        "id": "zWplBR4KHFKG"
      }
    },
    {
      "cell_type": "markdown",
      "source": [
        "----------------------------------------------------------------------"
      ],
      "metadata": {
        "id": "JNzNFm-iy4pk"
      }
    },
    {
      "cell_type": "markdown",
      "source": [
        "##Q.6) What are the five levels of logging ?"
      ],
      "metadata": {
        "id": "fgBmh87ry6b_"
      }
    },
    {
      "cell_type": "markdown",
      "source": [
        "###**Answer -** The Five levels of Logging provided by python's logging module are - \n",
        "###**```CRITICAL(50), ERROR(40), WARNING(30), INFO(20), DEBUG(10), NOTSET(0)```**"
      ],
      "metadata": {
        "id": "mTjx17SOy7_u"
      }
    },
    {
      "cell_type": "markdown",
      "source": [
        "----------------------------------------------------------------------------"
      ],
      "metadata": {
        "id": "J1EVyxvXy8zr"
      }
    },
    {
      "cell_type": "markdown",
      "source": [
        "##Q.7) What line of code would you add to your software to disable all logging messages ?"
      ],
      "metadata": {
        "id": "I2rpVD3Iy-L7"
      }
    },
    {
      "cell_type": "markdown",
      "source": [
        "###**Answer -** ```logging.disable = True```"
      ],
      "metadata": {
        "id": "6uoZU4fDy_6e"
      }
    },
    {
      "cell_type": "markdown",
      "source": [
        "--------------------------------------------------------------------------------"
      ],
      "metadata": {
        "id": "tLEb2ucjzA3j"
      }
    },
    {
      "cell_type": "markdown",
      "source": [
        "##Q.8) Why is using logging messages better than using print() to display the same message ?"
      ],
      "metadata": {
        "id": "D2dpfjSizDBs"
      }
    },
    {
      "cell_type": "markdown",
      "source": [
        "###**Answer -** After devlopment of our code, we can disable logging messages without removing the logging function, whereas we need to manually remove every print() statement, which is a tedious activity. And also print is used when we want to display any particular message or help whereas logging is used to record all events like ```error, info, debug messages, timestamps.```"
      ],
      "metadata": {
        "id": "1pEIYYTCzE4T"
      }
    },
    {
      "cell_type": "markdown",
      "source": [
        "---------------------------------------------------------------------"
      ],
      "metadata": {
        "id": "NF2NnxM_zFsd"
      }
    },
    {
      "cell_type": "markdown",
      "source": [
        "##Q.9) What are the differences between the Step Over, Step In, and Step Out buttons in the debugger ?"
      ],
      "metadata": {
        "id": "3z6ocLVOzHGb"
      }
    },
    {
      "cell_type": "markdown",
      "source": [
        "###**Answer -** The differences are as follows :\n",
        "- **Step Over -** This command lets the application execute the next action. If the action involves a call to an operation, it does not step into its implementation (it steps over it instead), means it just moves to the next chapter of the book. \n",
        "- **Step In -** This command lets the application execute the next action. If the action involves a call to an operation, it steps into its implementation and breaks the execution on the first action of that implementation, means it moves within the chapter. \n",
        "- **Step out -** This command lets the application execute until the currently executed operation implementation is returned, means it gets back at the previous hierarchical level we were at."
      ],
      "metadata": {
        "id": "7edZLq_nzJrT"
      }
    },
    {
      "cell_type": "markdown",
      "source": [
        "---------------------------------------------------------------------"
      ],
      "metadata": {
        "id": "LAK46Rj-zK1r"
      }
    },
    {
      "cell_type": "markdown",
      "source": [
        "##Q.10) After you click Continue, when will the debugger stop ?"
      ],
      "metadata": {
        "id": "p-mKo0F0BwHF"
      }
    },
    {
      "cell_type": "markdown",
      "source": [
        "###**Answer -** The dibugger will run normally, without pausing for debugging because Continue execution only stops when a **breakpoint** is encountered or if it is terminated."
      ],
      "metadata": {
        "id": "Q1cySRbyByK2"
      }
    },
    {
      "cell_type": "markdown",
      "source": [
        "------------------------------------------------------------------------"
      ],
      "metadata": {
        "id": "Fqu9bhy3Bzd8"
      }
    },
    {
      "cell_type": "markdown",
      "source": [
        "##Q.11) What is the concept of a breakpoint ?"
      ],
      "metadata": {
        "id": "8V8Ueb-hB063"
      }
    },
    {
      "cell_type": "markdown",
      "source": [
        "###**Answer -** A breakpoint is an intentional stopping or pausing place in a program, put in place for debugging purposes. It is also sometimes simply referred to as a pause."
      ],
      "metadata": {
        "id": "k920JGVPB2f8"
      }
    },
    {
      "cell_type": "markdown",
      "source": [
        "------------------------------------------------------------End------------------------------------------------------------"
      ],
      "metadata": {
        "id": "jjJvVfTnB3qs"
      }
    }
  ]
}