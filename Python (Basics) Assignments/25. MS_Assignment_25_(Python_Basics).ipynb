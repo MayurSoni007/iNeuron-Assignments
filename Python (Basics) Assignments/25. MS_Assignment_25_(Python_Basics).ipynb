{
  "nbformat": 4,
  "nbformat_minor": 0,
  "metadata": {
    "colab": {
      "provenance": []
    },
    "kernelspec": {
      "name": "python3",
      "display_name": "Python 3"
    },
    "language_info": {
      "name": "python"
    }
  },
  "cells": [
    {
      "cell_type": "markdown",
      "source": [
        "#**iNeuron**\n",
        "## Python (Basics) Assignment No. 25\n",
        "\n",
        "- Batch - Full Stack Data Science Bootcamp 2.0\n",
        "- Name - **Mayur Soni**\n",
        "- email id - **mayurssoni007@gmail.com**"
      ],
      "metadata": {
        "id": "PxKLf5ZxpZVk"
      }
    },
    {
      "cell_type": "markdown",
      "source": [
        "-------------------------------------------------------------------------"
      ],
      "metadata": {
        "id": "qhlrD0zBpZS7"
      }
    },
    {
      "cell_type": "markdown",
      "source": [
        "##Q.1) What is the difference between enclosing a list comprehension in square brackets and parentheses ?"
      ],
      "metadata": {
        "id": "AJ_T2WrtpZQe"
      }
    },
    {
      "cell_type": "markdown",
      "source": [
        "###**Answer -** The difference is that a ```generator``` is defined using parentheses, while ```list comprehensions``` are defined using square brackets."
      ],
      "metadata": {
        "id": "AqWJTEDrpZN9"
      }
    },
    {
      "cell_type": "code",
      "source": [
        "j = [ele for ele in range(15)]\n",
        "print(j, type(j))\n",
        "\n",
        "k = (ele for ele in range(15))\n",
        "print(k, type(k))"
      ],
      "metadata": {
        "colab": {
          "base_uri": "https://localhost:8080/"
        },
        "id": "Yvd5r87rA3u6",
        "outputId": "ec25474c-1e12-4876-f6a3-1f6573b5db0d"
      },
      "execution_count": 1,
      "outputs": [
        {
          "output_type": "stream",
          "name": "stdout",
          "text": [
            "[0, 1, 2, 3, 4, 5, 6, 7, 8, 9, 10, 11, 12, 13, 14] <class 'list'>\n",
            "<generator object <genexpr> at 0x7f833bbdd7e0> <class 'generator'>\n"
          ]
        }
      ]
    },
    {
      "cell_type": "markdown",
      "source": [
        "------------------------------------------------------------------------"
      ],
      "metadata": {
        "id": "FVlmiJb_pZLQ"
      }
    },
    {
      "cell_type": "markdown",
      "source": [
        "##Q.2) What is the relationship between generators and iterators ?"
      ],
      "metadata": {
        "id": "6MDINk1mpZIO"
      }
    },
    {
      "cell_type": "markdown",
      "source": [
        "###**Answer -**  ```iterators``` are objects that can be iterated on, and ```generators``` are special functions that leverage lazy evaluation. Implementing our own iterator means we must create an ```__iter__()``` and ```__next__()``` method, whereas a generator can be implemented using the ```yield``` keyword in a Python function or comprehension."
      ],
      "metadata": {
        "id": "Zhc0rvwxpZFl"
      }
    },
    {
      "cell_type": "code",
      "source": [
        "# Example of iterartor\n",
        "iter_str = iter(['iNeuron','Full','Stack','Data Science','BootCamp 2.0'])\n",
        "print(type(iter_str))\n",
        "print(next(iter_str))\n",
        "print(next(iter_str))\n",
        "print(next(iter_str))\n",
        "print(next(iter_str))\n",
        "print(next(iter_str))\n",
        "print(iter_str)       # After the iterable object is completed, to use them again we have to reassign them to the same object.\n",
        "\n",
        "# Example of Generator\n",
        "def square_numbers(in_num):\n",
        "  for ele in range(in_num + 1):\n",
        "    yield ele**2\n",
        "\n",
        "out_num = square_numbers(4)\n",
        "print(next(out_num))\n",
        "print(next(out_num))\n",
        "print(next(out_num))\n",
        "print(next(out_num))\n",
        "print(next(out_num))"
      ],
      "metadata": {
        "colab": {
          "base_uri": "https://localhost:8080/"
        },
        "id": "XAfua-b8CRPu",
        "outputId": "211517f5-18e1-464b-a341-ed4b6aa138d0"
      },
      "execution_count": 12,
      "outputs": [
        {
          "output_type": "stream",
          "name": "stdout",
          "text": [
            "<class 'list_iterator'>\n",
            "iNeuron\n",
            "Full\n",
            "Stack\n",
            "Data Science\n",
            "BootCamp 2.0\n",
            "<list_iterator object at 0x7f833bbf3d00>\n",
            "0\n",
            "1\n",
            "4\n",
            "9\n",
            "16\n"
          ]
        }
      ]
    },
    {
      "cell_type": "markdown",
      "source": [
        "----------------------------------------------------------------------"
      ],
      "metadata": {
        "id": "krX2RSxupY92"
      }
    },
    {
      "cell_type": "markdown",
      "source": [
        "##Q.3) What are the signs that a function is a generator function ?"
      ],
      "metadata": {
        "id": "b9j1XCURpY7N"
      }
    },
    {
      "cell_type": "markdown",
      "source": [
        "###**Answer -** **A function with yield statements is a generator function.** It uses ```yield``` keyword instead of ```return``` keyword. A generator function is a function with one or more yield statements in it. Unlike regular functions, generator functions return generator objects. Meaning, when we call a generator function, it doesn't run the function."
      ],
      "metadata": {
        "id": "DY4gRL9mpY4W"
      }
    },
    {
      "cell_type": "markdown",
      "source": [
        "-----------------------------------------------------------------------"
      ],
      "metadata": {
        "id": "i-XfxqBMpY1u"
      }
    },
    {
      "cell_type": "markdown",
      "source": [
        "##Q.4) What is the purpose of a yield statement ?"
      ],
      "metadata": {
        "id": "_l3iqHyspYzH"
      }
    },
    {
      "cell_type": "markdown",
      "source": [
        "###**Answer -** The yield statement suspends function's execution and sends a value back to the caller, but retains enough state to enable function to resume where it is left off. When resumed, the function continues execution immediately after the last yield run. This allows its code to produce a series of values over time, rather than computing them at once and sending them back like a list."
      ],
      "metadata": {
        "id": "hDLpYCDCpYwe"
      }
    },
    {
      "cell_type": "markdown",
      "source": [
        "------------------------------------------------------------------------"
      ],
      "metadata": {
        "id": "PZwIJ0vapYtt"
      }
    },
    {
      "cell_type": "markdown",
      "source": [
        "##Q.5) What is the relationship between map calls and list comprehensions? Make a comparison and contrast between the two ?"
      ],
      "metadata": {
        "id": "CVVIA3n_pYlP"
      }
    },
    {
      "cell_type": "markdown",
      "source": [
        "###**Answer -** The main differences between map calls and list comprehensiosn are :\n",
        "\n",
        "1. List comprehension is more concise and easier to read as compared to map.\n",
        "\n",
        "2. List comprehension allows filtering. In map, we have no such facility. For example, to print all odd numbers in range of 50, we can write ```[n for n in range(50) if n%2 != 0]```. There is no alternate for it in map.\n",
        "\n",
        "3. List comprehension are used when a list of results is required as final output but map only returns a map object. It needs to be explicitly coverted to desired datatype.\n",
        "\n",
        "4. List comprehension is faster than map when we need to evaluate expressions that are too long or complicated to express.\n",
        "\n",
        "5. Map is faster in case of calling an already defined function on a set of values."
      ],
      "metadata": {
        "id": "_PJ9aJEapYio"
      }
    },
    {
      "cell_type": "markdown",
      "source": [
        "------------------------------------------------------------End------------------------------------------------------------"
      ],
      "metadata": {
        "id": "FQJVNA0MpS6G"
      }
    }
  ]
}