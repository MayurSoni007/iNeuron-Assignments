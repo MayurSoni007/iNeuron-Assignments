{
  "nbformat": 4,
  "nbformat_minor": 0,
  "metadata": {
    "colab": {
      "provenance": []
    },
    "kernelspec": {
      "name": "python3",
      "display_name": "Python 3"
    },
    "language_info": {
      "name": "python"
    }
  },
  "cells": [
    {
      "cell_type": "markdown",
      "source": [
        "#**iNeuron**\n",
        "## Programming Assignment - 5 (Python Basic)\n",
        "\n",
        "- Batch - Full Stack Data Science Bootcamp 2.0\n",
        "- Name - **Mayur Soni**\n",
        "- Email ID - **mayurssoni007@gmail.com**"
      ],
      "metadata": {
        "id": "Eik5qJwAwaon"
      }
    },
    {
      "cell_type": "markdown",
      "source": [
        "------------------------------------------------------------------------"
      ],
      "metadata": {
        "id": "BD3BcnVZwevg"
      }
    },
    {
      "cell_type": "markdown",
      "source": [
        "##Q.1) Write a Python Program to Find LCM ?"
      ],
      "metadata": {
        "id": "U56C_CDawu08"
      }
    },
    {
      "cell_type": "code",
      "execution_count": null,
      "metadata": {
        "id": "o4RHik9_wYpm",
        "colab": {
          "base_uri": "https://localhost:8080/"
        },
        "outputId": "c64d93cf-61b1-4029-e23f-117a2a4146fb"
      },
      "outputs": [
        {
          "output_type": "stream",
          "name": "stdout",
          "text": [
            "Enter num 1 : 24\n",
            "Enter num 2 : 25\n",
            "The L.C.M. of 24 and 25 is : 600\n"
          ]
        }
      ],
      "source": [
        "def find_lcm(a,b):\n",
        "  if a > b:\n",
        "    greater = a\n",
        "  else:\n",
        "    greater = b\n",
        "\n",
        "  while(True):\n",
        "    if((greater % a == 0) and (greater % b == 0)):\n",
        "      lcm = greater\n",
        "      break\n",
        "    greater += 1\n",
        "\n",
        "  return lcm\n",
        "\n",
        "num1 = int(input(\"Enter num 1 : \"))\n",
        "num2 = int(input(\"Enter num 2 : \"))\n",
        "\n",
        "print(f\"The L.C.M. of {num1} and {num2} is : {find_lcm(num1, num2)}\")"
      ]
    },
    {
      "cell_type": "markdown",
      "source": [
        "----------------------------------------------------------"
      ],
      "metadata": {
        "id": "Skscnum0wyer"
      }
    },
    {
      "cell_type": "markdown",
      "source": [
        "##Q.2) Write a Python Program to Find HCF ?"
      ],
      "metadata": {
        "id": "6yuu7Jonw6Ar"
      }
    },
    {
      "cell_type": "code",
      "source": [
        "num1 = int(input(\"Enter number 1 : \"))\n",
        "num2 = int(input(\"Enter number 2 : \"))\n",
        "\n",
        "if num2>num1:\n",
        "  min = num1\n",
        "else:\n",
        "  min = num2\n",
        "\n",
        "for i in range(1, min+1):\n",
        "  if num1 % i == 0 and num2 % i == 0:\n",
        "    hcf = i\n",
        "\n",
        "print(f\"HCF of {num1} and {num2} is : {hcf}\")"
      ],
      "metadata": {
        "id": "TYi0DngOw5lz",
        "colab": {
          "base_uri": "https://localhost:8080/"
        },
        "outputId": "986a03a2-8852-4743-a4b0-34ad83aaa2d7"
      },
      "execution_count": 4,
      "outputs": [
        {
          "output_type": "stream",
          "name": "stdout",
          "text": [
            "Enter number 1 : 24\n",
            "Enter number 2 : 60\n",
            "HCF of 24 and 60 is : 12\n"
          ]
        }
      ]
    },
    {
      "cell_type": "markdown",
      "source": [
        "-----------------------------------------------------------"
      ],
      "metadata": {
        "id": "py62GWF9rQvc"
      }
    },
    {
      "cell_type": "markdown",
      "source": [
        "##Q.3) Write a Python Program to Convert Decimal to Binary, Octal and Hexadecimal ?"
      ],
      "metadata": {
        "id": "WOu490I7rVXL"
      }
    },
    {
      "cell_type": "code",
      "source": [
        "dec = int(input(\"Enter your decimal number : \"))\n",
        "\n",
        "print(f\"The Conversion of Decimal number {dec} is : \")\n",
        "\n",
        "print(f\"\"\"\n",
        "    In Binary : {bin(dec)}\n",
        "    In Octal : {oct(dec)}\n",
        "    In Hexadecimal : {hex(dec)}\n",
        "\"\"\")"
      ],
      "metadata": {
        "id": "4fjqhtBlrSYg",
        "colab": {
          "base_uri": "https://localhost:8080/"
        },
        "outputId": "e731cfb7-25f0-40fc-bbb9-7e93b191ffbb"
      },
      "execution_count": 8,
      "outputs": [
        {
          "output_type": "stream",
          "name": "stdout",
          "text": [
            "Enter your decimal number : 12\n",
            "The Conversion of Decimal number 12 is : \n",
            "\n",
            "    In Binary : 0b1100\n",
            "    In Octal : 0o14\n",
            "    In Hexadecimal : 0xc\n",
            "\n"
          ]
        }
      ]
    },
    {
      "cell_type": "markdown",
      "source": [
        "------------------------------------------------------"
      ],
      "metadata": {
        "id": "3IgMj-larSts"
      }
    },
    {
      "cell_type": "markdown",
      "source": [
        "##Q.4) Write a Python Program To Find ASCII value of a character ?"
      ],
      "metadata": {
        "id": "8mPSuuI6reZs"
      }
    },
    {
      "cell_type": "code",
      "source": [
        "asc = input(\"Enter your Character Value : \")\n",
        "\n",
        "print(f\"ASCII value of character {asc} is : {ord(asc)}\")"
      ],
      "metadata": {
        "id": "XMknXs5Mrezb",
        "colab": {
          "base_uri": "https://localhost:8080/"
        },
        "outputId": "e47f3de2-fee0-44a4-a360-1031966c7d18"
      },
      "execution_count": 18,
      "outputs": [
        {
          "output_type": "stream",
          "name": "stdout",
          "text": [
            "Enter your Character Value : M\n",
            "ASCII value of character M is : 77\n"
          ]
        }
      ]
    },
    {
      "cell_type": "markdown",
      "source": [
        "----------------------------------------------------------"
      ],
      "metadata": {
        "id": "em7KKDpCriJs"
      }
    },
    {
      "cell_type": "markdown",
      "source": [
        "##Q.5) Write a Python Program to Make a Simple Calculator with 4 basic mathematical operations ?"
      ],
      "metadata": {
        "id": "TSEmEPw7r1W7"
      }
    },
    {
      "cell_type": "code",
      "source": [
        "def calc():\n",
        "\n",
        "  a = int(input(\"Enter the first number : \"))\n",
        "  b = int(input(\"Enter the second number : \"))\n",
        "\n",
        "  add = a + b\n",
        "\n",
        "  sub = a - b\n",
        "\n",
        "  multi = a * b\n",
        "  \n",
        "  divide = a / b\n",
        "\n",
        "  return print(f\"\"\"\n",
        "  Operatios on given numbers {a} and {b} are : \n",
        "  Addition : {add}\n",
        "  Subtraction : {sub}\n",
        "  Multiplication : {multi}\n",
        "  Division : {divide}\n",
        "  \"\"\")  \n",
        "\n",
        "calc()"
      ],
      "metadata": {
        "id": "pzYN6u5-r6Tq",
        "colab": {
          "base_uri": "https://localhost:8080/"
        },
        "outputId": "b6f535c9-fa83-47ae-d966-ae538008e167"
      },
      "execution_count": 19,
      "outputs": [
        {
          "output_type": "stream",
          "name": "stdout",
          "text": [
            "Enter the first number : 10\n",
            "Enter the second number : 5\n",
            "\n",
            "  Operatios on given numbers 10 and 5 are : \n",
            "  Addition : 15\n",
            "  Subtraction : 5\n",
            "  Multiplication : 50\n",
            "  Division : 2.0\n",
            "  \n"
          ]
        }
      ]
    },
    {
      "cell_type": "markdown",
      "source": [
        "------------------------------------------------------------End------------------------------------------------------------"
      ],
      "metadata": {
        "id": "qK1ECETew0t7"
      }
    }
  ]
}