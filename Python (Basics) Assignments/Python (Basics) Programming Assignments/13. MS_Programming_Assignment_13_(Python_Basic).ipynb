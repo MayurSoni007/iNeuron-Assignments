{
  "nbformat": 4,
  "nbformat_minor": 0,
  "metadata": {
    "colab": {
      "provenance": []
    },
    "kernelspec": {
      "name": "python3",
      "display_name": "Python 3"
    },
    "language_info": {
      "name": "python"
    }
  },
  "cells": [
    {
      "cell_type": "markdown",
      "source": [
        "#**iNeuron**\n",
        "## Programming Assignment - 13 (Python Basic)\n",
        "\n",
        "- Batch - Full Stack Data Science Bootcamp 2.0\n",
        "- Name - **Mayur Soni**\n",
        "- Email ID - **mayurssoni007@gmail.com**"
      ],
      "metadata": {
        "id": "LULpTLyz2Jzk"
      }
    },
    {
      "cell_type": "markdown",
      "source": [
        "---------------------------------------------------------"
      ],
      "metadata": {
        "id": "Vk7HzJWk2Lvb"
      }
    },
    {
      "cell_type": "markdown",
      "source": [
        "#Q.1) Write a program that calculates and prints the value according to the given formula:\n",
        "\n",
        "### ```Q = Square root of [(2 * C * D)/H]```\n",
        "\n",
        "### Following are the fixed values of C and H: **C is 50. H is 30.**\n",
        "\n",
        "### D is the variable whose values should be input to your program in a comma-separated sequence.\n",
        "\n",
        "### **Example:** Let us assume the following comma separated input sequence is given to the program: **```100,150,180```**\n",
        "\n",
        "### The output of the program should be: **```18,22,24```**\n"
      ],
      "metadata": {
        "id": "-qZ1z4fz2NmD"
      }
    },
    {
      "cell_type": "code",
      "source": [
        "from math import sqrt\n",
        "def calc():\n",
        "  C = 50\n",
        "  H = 30\n",
        "  D = eval(input(\"Enter value of D : \"))\n",
        "  output = []\n",
        "\n",
        "  for i in D:\n",
        "    Q = str(int(sqrt((2 * C * i) / H)))\n",
        "    output.append(Q)\n",
        "\n",
        "  print(\"Output is : {}\".format(','.join(output)))\n",
        "\n",
        "calc()"
      ],
      "metadata": {
        "colab": {
          "base_uri": "https://localhost:8080/"
        },
        "id": "RQOLIF0_2OB7",
        "outputId": "193a4149-09e4-42ec-cf21-dca4ca5d5fb6"
      },
      "execution_count": 3,
      "outputs": [
        {
          "output_type": "stream",
          "name": "stdout",
          "text": [
            "Enter value of D : 100,150,180\n",
            "Output is : 18,22,24\n"
          ]
        }
      ]
    },
    {
      "cell_type": "markdown",
      "source": [
        "-------------------------------------------------------------"
      ],
      "metadata": {
        "id": "vsgf1qYI2Ocq"
      }
    },
    {
      "cell_type": "markdown",
      "source": [
        "#Q.2) Write a program which takes 2 digits, X,Y as input and generates a 2-dimensional array. The element value in the i-th row and j-th column of the array should be i*j.\n",
        "\n",
        "### ```Note: i=0,1.., X-1; j=0,1,¡¬Y-1.```\n",
        "\n",
        "### **Example**\n",
        "### Suppose the following inputs are given to the program: **```3,5```**\n",
        "\n",
        "### Then, the output of the program should be:\n",
        "\n",
        "### **```[[0, 0, 0, 0, 0], [0, 1, 2, 3, 4], [0, 2, 4, 6, 8]]```**\n"
      ],
      "metadata": {
        "id": "ckIeI3ty2PEy"
      }
    },
    {
      "cell_type": "code",
      "source": [
        "def array_generation():\n",
        "  inp1 = int(input(\"Enter no. of Rows : \"))\n",
        "  inp2 = int(input(\"Enter no. of Coloumns : \"))\n",
        "  output_array = []\n",
        "\n",
        "  for i in range(inp1):\n",
        "    output_array.insert(inp1,[])\n",
        "    for j in range(inp2):\n",
        "      output_array[i].append(i*j)\n",
        "  print(output_array)\n",
        "\n",
        "array_generation()"
      ],
      "metadata": {
        "id": "YL-eN0rT2Psi",
        "colab": {
          "base_uri": "https://localhost:8080/"
        },
        "outputId": "49409049-a8ba-4edc-de30-e16ac5d1f18b"
      },
      "execution_count": 8,
      "outputs": [
        {
          "output_type": "stream",
          "name": "stdout",
          "text": [
            "Enter no. of Rows : 3\n",
            "Enter no. of Coloumns : 5\n",
            "[[0, 0, 0, 0, 0], [0, 1, 2, 3, 4], [0, 2, 4, 6, 8]]\n"
          ]
        }
      ]
    },
    {
      "cell_type": "markdown",
      "source": [
        "-------------------------------------------------------------"
      ],
      "metadata": {
        "id": "UT6iAKe02QKc"
      }
    },
    {
      "cell_type": "markdown",
      "source": [
        "#Q.3) Write a program that accepts a comma separated sequence of words as input and prints the words in a comma-separated sequence after sorting them alphabetically.\n",
        "\n",
        "### Suppose the following input is supplied to the program: **```without,hello,bag,world```**\n",
        "\n",
        "### Then, the output should be: **```bag,hello,without,world```**\n"
      ],
      "metadata": {
        "id": "aYU08DlX2Qpi"
      }
    },
    {
      "cell_type": "code",
      "source": [
        "def sorted_words():\n",
        "  inp = input(\"Enter comma seperated sequence of words : \")\n",
        "  out = ','.join(sorted(inp.split(',')))\n",
        "\n",
        "  print(f\"Output is : {out}\")\n",
        "\n",
        "sorted_words()"
      ],
      "metadata": {
        "id": "ybTq_Y-f2Q6S",
        "colab": {
          "base_uri": "https://localhost:8080/"
        },
        "outputId": "b6423b26-72a7-4067-f796-2d1f3043cdc5"
      },
      "execution_count": 12,
      "outputs": [
        {
          "output_type": "stream",
          "name": "stdout",
          "text": [
            "Enter comma seperated sequence of words : without,hello,bag,world\n",
            "Output is : bag,hello,without,world\n"
          ]
        }
      ]
    },
    {
      "cell_type": "markdown",
      "source": [
        "-------------------------------------------------------------"
      ],
      "metadata": {
        "id": "uwAznLwV2RVS"
      }
    },
    {
      "cell_type": "markdown",
      "source": [
        "#Q.4) Write a program that accepts a sequence of whitespace separated words as input and prints the words after removing all duplicate words and sorting them alphanumerically.\n",
        "\n",
        "### Suppose the following input is supplied to the program:\n",
        "\n",
        "### **```hello world and practice makes perfect and hello world again```**\n",
        "\n",
        "### Then, the output should be:\n",
        "\n",
        "### **```again and hello makes perfect practice world```**\n"
      ],
      "metadata": {
        "id": "-eyVooHl2R3K"
      }
    },
    {
      "cell_type": "code",
      "source": [
        "def sort_whitespace():\n",
        "  inpu = input(\"Enter words with space : \")\n",
        "  outpu = \" \".join(sorted(sorted(set(inpu.split(\" \")))))\n",
        "\n",
        "  print(f\"Output is : {outpu}\")\n",
        "\n",
        "sort_whitespace()"
      ],
      "metadata": {
        "id": "QY62Vb892SG8",
        "colab": {
          "base_uri": "https://localhost:8080/"
        },
        "outputId": "5432b243-dc37-4111-f951-0cfc63585997"
      },
      "execution_count": 16,
      "outputs": [
        {
          "output_type": "stream",
          "name": "stdout",
          "text": [
            "Enter words with space : hello world and practice makes perfect and hello world again\n",
            "Output is : again and hello makes perfect practice world\n"
          ]
        }
      ]
    },
    {
      "cell_type": "markdown",
      "source": [
        "-------------------------------------------------------------"
      ],
      "metadata": {
        "id": "xe0Zcb6M2Sjq"
      }
    },
    {
      "cell_type": "markdown",
      "source": [
        "#Q.5) Write a program that accepts a sentence and calculate the number of letters and digits.\n",
        "\n",
        "### Suppose the following input is supplied to the program:\n",
        "\n",
        "### **```hello world! 123```**\n",
        "\n",
        "### Then, the output should be:\n",
        "### **```LETTERS 10```**\n",
        "\n",
        "### **```DIGITS 3```**"
      ],
      "metadata": {
        "id": "LXt9XDoa2TBz"
      }
    },
    {
      "cell_type": "code",
      "source": [
        "def let_digits():\n",
        "  inpt = input(\"Enter a sentence : \")\n",
        "\n",
        "  letters_list = \"ABCDEFGHIJKLMNOPQRSTUVWXYZabcdefghijklmnopqrstuvwxyz\"\n",
        "  digits_list = \"0123456789\"\n",
        "  letters = 0\n",
        "  digits = 0\n",
        "\n",
        "  for i in inpt:\n",
        "    if i in letters_list:\n",
        "      letters += 1\n",
        "    if i in digits_list:\n",
        "      digits += 1\n",
        "\n",
        "  print(f\"LETTERS {letters}\")\n",
        "  print(f\"DIGITS {digits}\")\n",
        "\n",
        "let_digits()"
      ],
      "metadata": {
        "id": "zsIph18l2TU6",
        "colab": {
          "base_uri": "https://localhost:8080/"
        },
        "outputId": "ab7cf010-3220-47fd-f4b7-dc751eb51008"
      },
      "execution_count": 20,
      "outputs": [
        {
          "output_type": "stream",
          "name": "stdout",
          "text": [
            "Enter a sentence : hello world! 123\n",
            "LETTERS 10\n",
            "DIGITS 3\n"
          ]
        }
      ]
    },
    {
      "cell_type": "markdown",
      "source": [
        "-------------------------------------------------------------"
      ],
      "metadata": {
        "id": "6_x69RkJ2UCy"
      }
    },
    {
      "cell_type": "markdown",
      "source": [
        "#Q.6) A website requires the users to input username and password to register. Write a program to check the validity of password input by users.\n",
        "\n",
        "### Following are the criteria for checking the password:\n",
        "### 1. At least 1 letter between [a-z]\n",
        "### 2. At least 1 number between [0-9]\n",
        "### 3. At least 1 letter between [A-Z]\n",
        "### 4. At least 1 character from [$#@]\n",
        "### 5. Minimum length of transaction password: 6\n",
        "### 6. Maximum length of transaction password: 12\n",
        "\n",
        "### Your program should accept a sequence of comma separated passwords and will check them according to the above criteria. Passwords that match the criteria are to be printed, each separated by a comma.\n",
        "\n",
        "### **Example**\n",
        "\n",
        "### If the following passwords are given as input to the program:\n",
        "\n",
        "### **```ABd1234@1,a F1#,2w3E*,2We3345```**\n",
        "\n",
        "### Then, the output of the program should be:\n",
        "\n",
        "### **```ABd1234@1```**\n"
      ],
      "metadata": {
        "id": "9SCqRBGK2UYa"
      }
    },
    {
      "cell_type": "code",
      "source": [
        "def password_check():\n",
        "  password = input(\"Enter your passwords : \")\n",
        "  special_char_list = \"@#$\"\n",
        "  for elem in password.split(\",\"):\n",
        "    if len(elem) <=12 and len(elem) >=6:\n",
        "      if any(i.isupper() for i in elem):\n",
        "        if any(i.islower() for i in elem):\n",
        "          if any(i for i in elem if i in special_char_list):\n",
        "            print(f\"Correct Password is : {elem}\")\n",
        "\n",
        "password_check()"
      ],
      "metadata": {
        "id": "agjVlpF92Una",
        "colab": {
          "base_uri": "https://localhost:8080/"
        },
        "outputId": "3f2c4901-0124-4766-cbb4-b5af3b1a3754"
      },
      "execution_count": 23,
      "outputs": [
        {
          "output_type": "stream",
          "name": "stdout",
          "text": [
            "Enter your passwords : ABd1234@1,a F1#,2w3E*,2We3345\n",
            "Correct Password is : ABd1234@1\n"
          ]
        }
      ]
    },
    {
      "cell_type": "markdown",
      "source": [
        "------------------------------------------------------------End------------------------------------------------------------"
      ],
      "metadata": {
        "id": "J5G_0qYR22eZ"
      }
    }
  ]
}