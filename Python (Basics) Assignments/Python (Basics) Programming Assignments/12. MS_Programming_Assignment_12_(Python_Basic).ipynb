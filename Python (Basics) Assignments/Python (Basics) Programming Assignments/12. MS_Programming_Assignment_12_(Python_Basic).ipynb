{
  "nbformat": 4,
  "nbformat_minor": 0,
  "metadata": {
    "colab": {
      "provenance": []
    },
    "kernelspec": {
      "name": "python3",
      "display_name": "Python 3"
    },
    "language_info": {
      "name": "python"
    }
  },
  "cells": [
    {
      "cell_type": "markdown",
      "source": [
        "#**iNeuron**\n",
        "## Programming Assignment - 12 (Python Basic)\n",
        "\n",
        "- Batch - Full Stack Data Science Bootcamp 2.0\n",
        "- Name - **Mayur Soni**\n",
        "- Email ID - **mayurssoni007@gmail.com**"
      ],
      "metadata": {
        "id": "1VQdMHI2BIi2"
      }
    },
    {
      "cell_type": "markdown",
      "source": [
        "--------------------------------------------------------------"
      ],
      "metadata": {
        "id": "_XMM7kQBBKTl"
      }
    },
    {
      "cell_type": "markdown",
      "source": [
        "#Q.1) Write a Python program to Extract Unique values dictionary values ?"
      ],
      "metadata": {
        "id": "dMn6ZFTeBLu-"
      }
    },
    {
      "cell_type": "code",
      "execution_count": 48,
      "metadata": {
        "id": "tlDP4XPdBDyz",
        "colab": {
          "base_uri": "https://localhost:8080/"
        },
        "outputId": "dfd6f721-bedf-40b7-b5e5-0e46cd6054f3"
      },
      "outputs": [
        {
          "output_type": "stream",
          "name": "stdout",
          "text": [
            "Dictionary Values : dict_values(['Ayodhya', 'Kailash Parvat', 'Vrindavan', 'Ayodhya', 'Brahma Lok', 'Vrindavan'])\n",
            "Unique Values : ['Brahma Lok', 'Ayodhya', 'Kailash Parvat', 'Vrindavan']\n"
          ]
        }
      ],
      "source": [
        "dict_vals = {\"Ram Ji\" : \"Ayodhya\", \"Shiv Ji\" : \"Kailash Parvat\", \"Krishna Ji\" : \"Vrindavan\", \"Laxman Ji\" : \"Ayodhya\", \"Brahma Ji\" : \"Brahma Lok\", \"Radha Ji\" : \"Vrindavan\"}\n",
        "print(f\"Dictionary Values : {dict_vals.values()}\")\n",
        "print(f\"Unique Values : {list(set(dict_vals.values()))}\")"
      ]
    },
    {
      "cell_type": "markdown",
      "source": [
        "------------------------------------------------------------"
      ],
      "metadata": {
        "id": "HmMaAmlJBNo9"
      }
    },
    {
      "cell_type": "markdown",
      "source": [
        "#Q.2) Write a Python program to find the sum of all items in a dictionary ?"
      ],
      "metadata": {
        "id": "V0TcID9_BXeE"
      }
    },
    {
      "cell_type": "code",
      "source": [
        "dict = {\"a\" : 1, \"b\" : 2, \"c\" : 3, \"d\" : 4, \"e\" : 5}\n",
        "print(f\"Dictionary Values : {dict.items()}\")\n",
        "print(f\"Sum of all items : {sum(dict.values())}\")"
      ],
      "metadata": {
        "id": "xqn0zk-ABPYI",
        "colab": {
          "base_uri": "https://localhost:8080/"
        },
        "outputId": "4e0bc2cd-d8a4-431c-8b46-0a4bbb9e5a0e"
      },
      "execution_count": null,
      "outputs": [
        {
          "output_type": "stream",
          "name": "stdout",
          "text": [
            "Dictionary Values : dict_items([('a', 1), ('b', 2), ('c', 3), ('d', 4), ('e', 5)])\n",
            "Sum of all items : 15\n"
          ]
        }
      ]
    },
    {
      "cell_type": "markdown",
      "source": [
        "------------------------------------------------------------"
      ],
      "metadata": {
        "id": "f3_767ohBZXz"
      }
    },
    {
      "cell_type": "markdown",
      "source": [
        "#Q.3) Write a Python program to Merging two Dictionaries ?"
      ],
      "metadata": {
        "id": "8gXpQCKIBahD"
      }
    },
    {
      "cell_type": "code",
      "source": [
        "dict_1 = {\"Cricket\" : \"Sachin\"}\n",
        "dict_2 = {\"Football\" : \"Sunil Chhetri\"}\n",
        "\n",
        "dict_1.update(dict_2)\n",
        "print(f\"After Merging : {dict_1}\")"
      ],
      "metadata": {
        "id": "_OymLgglBZ5v",
        "colab": {
          "base_uri": "https://localhost:8080/"
        },
        "outputId": "b54c1e84-ac0a-4c1b-b842-0486045ed49d"
      },
      "execution_count": 16,
      "outputs": [
        {
          "output_type": "stream",
          "name": "stdout",
          "text": [
            "After Merging : {'Cricket': 'Sachin', 'Football': 'Sunil Chhetri'}\n"
          ]
        }
      ]
    },
    {
      "cell_type": "markdown",
      "source": [
        "------------------------------------------------------------"
      ],
      "metadata": {
        "id": "vzSYuztqBczc"
      }
    },
    {
      "cell_type": "markdown",
      "source": [
        "#Q.4) Write a Python program to convert key-values list to flat dictionary ?"
      ],
      "metadata": {
        "id": "4yE9SR1KBdpT"
      }
    },
    {
      "cell_type": "code",
      "source": [
        "li = [('A',1), ('B',2), ('C',3), ('D',4), ('E',5), ('F',6), ('G',7), ('H',8), ('I',9), ('J',10)]\n",
        "print(f\"List before Converting : {li}\\n\")\n",
        "\n",
        "output_dict = {}\n",
        "for ele in li:\n",
        "  output_dict[ele[0]] = ele[1]\n",
        "print(f\"After Converting : {output_dict}\")"
      ],
      "metadata": {
        "id": "mnaraDJOBdTH",
        "colab": {
          "base_uri": "https://localhost:8080/"
        },
        "outputId": "0622f555-b6c0-48e1-d63b-ea0f73aa61b1"
      },
      "execution_count": 24,
      "outputs": [
        {
          "output_type": "stream",
          "name": "stdout",
          "text": [
            "List before Converting : [('A', 1), ('B', 2), ('C', 3), ('D', 4), ('E', 5), ('F', 6), ('G', 7), ('H', 8), ('I', 9), ('J', 10)]\n",
            "\n",
            "After Converting : {'A': 1, 'B': 2, 'C': 3, 'D': 4, 'E': 5, 'F': 6, 'G': 7, 'H': 8, 'I': 9, 'J': 10}\n"
          ]
        }
      ]
    },
    {
      "cell_type": "markdown",
      "source": [
        "------------------------------------------------------------"
      ],
      "metadata": {
        "id": "gCrEX9FQBfEk"
      }
    },
    {
      "cell_type": "markdown",
      "source": [
        "#Q.5) Write a Python program to insertion at the beginning in OrderedDict ?"
      ],
      "metadata": {
        "id": "gzueZKfkBgBC"
      }
    },
    {
      "cell_type": "code",
      "source": [
        "from collections import OrderedDict\n",
        "dict_one = OrderedDict({'Apple':'Iphone','Microsoft':'Windows','Google':'chrome','Samsung':'Galaxy'})\n",
        "print('dict_one',dict_one)\n",
        "\n",
        "dict_two = {'Tesla':'SpaceX'}\n",
        "dict_one.update(dict_two)\n",
        "print('dict_one',dict_one)\n",
        "\n",
        "dict_one.move_to_end('Tesla',last=False)\n",
        "print('dict_one',dict_one)"
      ],
      "metadata": {
        "id": "05PjB2WwBfnW",
        "colab": {
          "base_uri": "https://localhost:8080/"
        },
        "outputId": "3bd1b85f-f806-4866-f6c0-2f0d734f0890"
      },
      "execution_count": 27,
      "outputs": [
        {
          "output_type": "stream",
          "name": "stdout",
          "text": [
            "dict_one OrderedDict([('Apple', 'Iphone'), ('Microsoft', 'Windows'), ('Google', 'chrome'), ('Samsung', 'Galaxy')])\n",
            "dict_one OrderedDict([('Apple', 'Iphone'), ('Microsoft', 'Windows'), ('Google', 'chrome'), ('Samsung', 'Galaxy'), ('Tesla', 'SpaceX')])\n",
            "dict_one OrderedDict([('Tesla', 'SpaceX'), ('Apple', 'Iphone'), ('Microsoft', 'Windows'), ('Google', 'chrome'), ('Samsung', 'Galaxy')])\n"
          ]
        }
      ]
    },
    {
      "cell_type": "markdown",
      "source": [
        "------------------------------------------------------------"
      ],
      "metadata": {
        "id": "Heh_db-mBiC7"
      }
    },
    {
      "cell_type": "markdown",
      "source": [
        "#Q.6) Write a Python program to check order of character in string using OrderedDict() ?"
      ],
      "metadata": {
        "id": "xWUkjf61Bi4j"
      }
    },
    {
      "cell_type": "code",
      "source": [
        "from collections import OrderedDict\n",
        "\n",
        "def checkOrderofString(str, pattern):\n",
        "\n",
        "  # create empty OrderedDict\n",
        "  dict = OrderedDict.fromkeys(str)\n",
        "  print(dict)\n",
        "  ptrlen = 0\n",
        "  for key,value in dict.items():\n",
        "\n",
        "      if (key == pattern[ptrlen]):\n",
        "          ptrlen = ptrlen + 1\n",
        "\n",
        "      # check if we have traverse complete pattern string\n",
        "      if (ptrlen == (len(pattern))):\n",
        "          return 'true'\n",
        "\n",
        "  # if we come out from for loop that means order was mismatched\n",
        "  return 'false'\n",
        "\n",
        "\n",
        "string = input(\"enter string : \")\n",
        "pattern = input(\"Enter Pattern : \")\n",
        "if checkOrderofString(string,pattern):\n",
        "    print(\"Pattern matched\")\n",
        "else:\n",
        "    print(\"Pattern not matched\")"
      ],
      "metadata": {
        "colab": {
          "base_uri": "https://localhost:8080/"
        },
        "id": "IkZ8mJGi8emA",
        "outputId": "58928cde-dd42-4d17-a7be-b8f7a3dd6e4d"
      },
      "execution_count": 42,
      "outputs": [
        {
          "output_type": "stream",
          "name": "stdout",
          "text": [
            "enter string : mayur\n",
            "Enter Pattern : y\n",
            "OrderedDict([('m', None), ('a', None), ('y', None), ('u', None), ('r', None)])\n",
            "Pattern matched\n"
          ]
        }
      ]
    },
    {
      "cell_type": "markdown",
      "source": [
        "---------------------------------------------------------------------"
      ],
      "metadata": {
        "id": "Mr_eZXxXCBeh"
      }
    },
    {
      "cell_type": "markdown",
      "source": [
        "#Q.7) Write a Python program to sort Python Dictionaries by Key or Value ?"
      ],
      "metadata": {
        "id": "WmZK2M0dCFyh"
      }
    },
    {
      "cell_type": "code",
      "source": [
        "m = {1:11,3:22,2:33,4:55,6:44,5:66}\n",
        "print(f\"Dictionary : {sorted(m.items())}\")\n",
        "print(f\"Sort by Key : {sorted(m.keys())}\")\n",
        "print(f\"Sort by Value : {sorted(m.values())}\")"
      ],
      "metadata": {
        "id": "EyXH7CxqCFYc",
        "colab": {
          "base_uri": "https://localhost:8080/"
        },
        "outputId": "e1a330df-e4d8-40ea-a033-9bf992978e0d"
      },
      "execution_count": 46,
      "outputs": [
        {
          "output_type": "stream",
          "name": "stdout",
          "text": [
            "Dictionary : [(1, 11), (2, 33), (3, 22), (4, 55), (5, 66), (6, 44)]\n",
            "Sort by Key : [1, 2, 3, 4, 5, 6]\n",
            "Sort by Value : [11, 22, 33, 44, 55, 66]\n"
          ]
        }
      ]
    },
    {
      "cell_type": "markdown",
      "source": [
        "------------------------------------------------------------End------------------------------------------------------------"
      ],
      "metadata": {
        "id": "QVMrL4FdBkc6"
      }
    }
  ]
}