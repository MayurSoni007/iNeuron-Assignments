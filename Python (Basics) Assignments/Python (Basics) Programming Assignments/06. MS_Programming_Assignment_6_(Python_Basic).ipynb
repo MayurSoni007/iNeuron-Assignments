{
  "nbformat": 4,
  "nbformat_minor": 0,
  "metadata": {
    "colab": {
      "provenance": []
    },
    "kernelspec": {
      "name": "python3",
      "display_name": "Python 3"
    },
    "language_info": {
      "name": "python"
    }
  },
  "cells": [
    {
      "cell_type": "markdown",
      "source": [
        "#**iNeuron**\n",
        "## Programming Assignment - 6 (Python Basic)\n",
        "\n",
        "- Batch - Full Stack Data Science Bootcamp 2.0\n",
        "- Name - **Mayur Soni**\n",
        "- Email ID - **mayurssoni007@gmail.com**"
      ],
      "metadata": {
        "id": "ljRkTXNB8hnZ"
      }
    },
    {
      "cell_type": "markdown",
      "source": [
        "------------------------------------------------------------"
      ],
      "metadata": {
        "id": "pwygJC2L8hgn"
      }
    },
    {
      "cell_type": "markdown",
      "source": [
        "##Q.1) Write a Python Program to Display Fibonacci Sequence Using Recursion ?"
      ],
      "metadata": {
        "id": "4hXPSlxr8n_U"
      }
    },
    {
      "cell_type": "code",
      "execution_count": 13,
      "metadata": {
        "id": "cslWM1T48dB6",
        "colab": {
          "base_uri": "https://localhost:8080/"
        },
        "outputId": "2e112dba-2b33-47d2-c563-98452513206f"
      },
      "outputs": [
        {
          "output_type": "stream",
          "name": "stdout",
          "text": [
            "Enter the length of the series : 20\n",
            "Fibonacci Sequence is : \n",
            "0 1 1 2 3 5 8 13 21 34 55 89 144 233 377 610 987 1597 2584 4181 "
          ]
        }
      ],
      "source": [
        "def fibonacci(n):\n",
        "   if n <= 1:\n",
        "       return n\n",
        "   else:\n",
        "       return fibonacci(n-1) + fibonacci(n-2)\n",
        "\n",
        "number = int(input(\"Enter the length of the series : \"))\n",
        "\n",
        "if number <= 0:\n",
        "   print(\"Plese Enter a Positive integer!\")\n",
        "else:\n",
        "   print(\"Fibonacci Sequence is : \")\n",
        "   for i in range(number):\n",
        "       print(fibonacci(i), end = \" \")"
      ]
    },
    {
      "cell_type": "markdown",
      "source": [
        "--------------------------------------------------------------"
      ],
      "metadata": {
        "id": "EQgdyDUd85ij"
      }
    },
    {
      "cell_type": "markdown",
      "source": [
        "##Q.2) Write a Python Program to Find Factorial of Number Using Recursion ?"
      ],
      "metadata": {
        "id": "3mf3ieiN87GM"
      }
    },
    {
      "cell_type": "code",
      "source": [
        "def factorial(n):\n",
        "  if n == 1:\n",
        "    return 1\n",
        "  else:\n",
        "    return n * factorial(n-1)\n",
        "\n",
        "number = int(input(\"Enter your number : \"))\n",
        "print(f\"Factorial of the number {number} is : {factorial(number)}\")"
      ],
      "metadata": {
        "id": "nZKj6cqF86hz",
        "colab": {
          "base_uri": "https://localhost:8080/"
        },
        "outputId": "89dd03f4-0f12-442e-d643-08a451d50b98"
      },
      "execution_count": 5,
      "outputs": [
        {
          "output_type": "stream",
          "name": "stdout",
          "text": [
            "Enter your number : 7\n",
            "Factorial of the number 7 is : 5040\n"
          ]
        }
      ]
    },
    {
      "cell_type": "markdown",
      "source": [
        "------------------------------------------------------------"
      ],
      "metadata": {
        "id": "c7Egaz2W9A96"
      }
    },
    {
      "cell_type": "markdown",
      "source": [
        "##Q.3) Write a Python Program to calculate your Body Mass Index ?"
      ],
      "metadata": {
        "id": "HJ-IwFw09DPK"
      }
    },
    {
      "cell_type": "code",
      "source": [
        "weight = int(input(\"Enter your weight (in kg) : \"))\n",
        "height = int(input(\"Enter your height (in cms) : \"))\n",
        "\n",
        "j = height/100\n",
        "k = j*j\n",
        "bmi = weight/k\n",
        "\n",
        "print(f\"\\nYour BMI (Body Mass Index) for weight '{weight} kg'. and height '{height} cm.' is : {bmi}\\n\")\n",
        "\n",
        "if bmi>0 and bmi<18.5:\n",
        "  print(\"You are Underweight!\")\n",
        "elif bmi>=18.5 and bmi<=24.9:\n",
        "  print(\"You are in Normal Weight!\")\n",
        "elif bmi>=25 and bmi<=29.9:\n",
        "  print(\"You are Overweight!\")\n",
        "elif bmi>=30:\n",
        "  print(\"You are in Obesity!\")\n",
        "\n",
        "print(\"\"\"\\nBMI Categories:\n",
        "Underweight = <18.5 \n",
        "Normal weight = 18.5–24.9\n",
        "Overweight = 25–29.9\n",
        "Obesity = BMI of 30 or greater\"\"\")"
      ],
      "metadata": {
        "id": "zLFhUt0b9By2",
        "colab": {
          "base_uri": "https://localhost:8080/"
        },
        "outputId": "022889c8-0df4-47ac-effe-0200a1b19749"
      },
      "execution_count": 15,
      "outputs": [
        {
          "output_type": "stream",
          "name": "stdout",
          "text": [
            "Enter your weight (in kg) : 79\n",
            "Enter your height (in cms) : 180\n",
            "\n",
            "Your BMI (Body Mass Index) for weight '79 kg'. and height '180 cm.' is : 24.382716049382715\n",
            "\n",
            "You are in Normal Weight!\n",
            "\n",
            "BMI Categories:\n",
            "Underweight = <18.5 \n",
            "Normal weight = 18.5–24.9\n",
            "Overweight = 25–29.9\n",
            "Obesity = BMI of 30 or greater\n"
          ]
        }
      ]
    },
    {
      "cell_type": "markdown",
      "source": [
        "------------------------------------------------------------"
      ],
      "metadata": {
        "id": "bMRJAabe9JEC"
      }
    },
    {
      "cell_type": "markdown",
      "source": [
        "##Q.4) Write a Python Program to calculate the natural logarithm of any number ?"
      ],
      "metadata": {
        "id": "96HlkvJe9KSy"
      }
    },
    {
      "cell_type": "code",
      "source": [
        "import math\n",
        "num = int(input(\"Enter your number for logarithmic calculation : \"))\n",
        "result = math.log(num)\n",
        "print(f\"Your calculation of natural Logarithm for number {num} is : {result}\")"
      ],
      "metadata": {
        "id": "ADuqBWKh9J7W",
        "colab": {
          "base_uri": "https://localhost:8080/"
        },
        "outputId": "8b90c0f6-b467-4f30-be1e-2a2faf8ea918"
      },
      "execution_count": null,
      "outputs": [
        {
          "output_type": "stream",
          "name": "stdout",
          "text": [
            "Enter your number for logarithmic calculation : 7\n",
            "Your calculation of natural Logarithm for number 7 is : 1.9459101490553132\n"
          ]
        }
      ]
    },
    {
      "cell_type": "markdown",
      "source": [
        "---------------------------------------------------------------"
      ],
      "metadata": {
        "id": "aYMvk5NU9Pmk"
      }
    },
    {
      "cell_type": "markdown",
      "source": [
        "##Q.5) Write a Python Program for cube sum of first n natural numbers ?"
      ],
      "metadata": {
        "id": "yz6sKOtP9R8h"
      }
    },
    {
      "cell_type": "code",
      "source": [
        "nat = int(input(\"Enter how many natural numbers you want the cube sum of : \"))\n",
        "a = 0\n",
        "temp = 0\n",
        "for i in range(0,nat+1):\n",
        "  print(i, end = \" \")\n",
        "  a = i**3\n",
        "  temp = temp + a\n",
        "print(f\"\\nCube Sum of first {nat} natural numbers is : {temp}\")"
      ],
      "metadata": {
        "id": "_ACvkB8f9U_3",
        "colab": {
          "base_uri": "https://localhost:8080/"
        },
        "outputId": "95bfe9c7-f766-419c-a619-ee8f090404e3"
      },
      "execution_count": 16,
      "outputs": [
        {
          "output_type": "stream",
          "name": "stdout",
          "text": [
            "Enter how many natural numbers you want the cube sum of : 7\n",
            "0 1 2 3 4 5 6 7 \n",
            "Cube Sum of first 7 natural numbers is : 784\n"
          ]
        }
      ]
    },
    {
      "cell_type": "markdown",
      "source": [
        "------------------------------------------------------------End------------------------------------------------------------"
      ],
      "metadata": {
        "id": "LTNEqhI69Vej"
      }
    }
  ]
}