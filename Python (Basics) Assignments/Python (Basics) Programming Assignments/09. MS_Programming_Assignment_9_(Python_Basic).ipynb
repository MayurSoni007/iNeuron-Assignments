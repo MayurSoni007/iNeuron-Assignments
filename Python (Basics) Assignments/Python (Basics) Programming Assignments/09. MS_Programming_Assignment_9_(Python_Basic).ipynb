{
  "nbformat": 4,
  "nbformat_minor": 0,
  "metadata": {
    "colab": {
      "provenance": []
    },
    "kernelspec": {
      "name": "python3",
      "display_name": "Python 3"
    },
    "language_info": {
      "name": "python"
    }
  },
  "cells": [
    {
      "cell_type": "markdown",
      "source": [
        "#**iNeuron**\n",
        "## Programming Assignment - 9 (Python Basic)\n",
        "\n",
        "- Batch - Full Stack Data Science Bootcamp 2.0\n",
        "- Name - **Mayur Soni**\n",
        "- Email ID - **mayurssoni007@gmail.com**"
      ],
      "metadata": {
        "id": "CooLDtQzPuCO"
      }
    },
    {
      "cell_type": "markdown",
      "source": [
        "--------------------------------------------------------------------"
      ],
      "metadata": {
        "id": "dBuah8XXPx0k"
      }
    },
    {
      "cell_type": "markdown",
      "source": [
        "#Q1.) Write a Python program to check if the given number is a Disarium Number ?"
      ],
      "metadata": {
        "id": "ibSAob-HP540"
      }
    },
    {
      "cell_type": "markdown",
      "source": [
        "##**Answer -** A number whose sum of its digits powered with its respective position equals to the number itself is called a disarium number."
      ],
      "metadata": {
        "id": "IUCVJ7_3hITe"
      }
    },
    {
      "cell_type": "code",
      "execution_count": null,
      "metadata": {
        "id": "UDf65rOiPfrC",
        "colab": {
          "base_uri": "https://localhost:8080/"
        },
        "outputId": "82c3ae70-ccdb-47da-e7a9-482bec937ebd"
      },
      "outputs": [
        {
          "output_type": "stream",
          "name": "stdout",
          "text": [
            "Enter your number to check whether it's Disarium or not : 175\n",
            "Your Entered no. is : 175\n",
            "This is a Disarium Number.\n"
          ]
        }
      ],
      "source": [
        "no = input(\"Enter your number to check whether it's Disarium or not : \")\n",
        "result = 0\n",
        "print(f\"Your Entered no. is : {no}\")\n",
        "\n",
        "for j, i in enumerate(no):\n",
        "  result += int(i) ** (j+1)\n",
        "\n",
        "if result == int(no):\n",
        "  print(\"This is a Disarium Number.\")\n",
        "else:\n",
        "  print(\"This is not a Disarium Number.\")"
      ]
    },
    {
      "cell_type": "markdown",
      "source": [
        "---------------------------------------------------------"
      ],
      "metadata": {
        "id": "u044ozazQJYj"
      }
    },
    {
      "cell_type": "markdown",
      "source": [
        "#Q.2) Write a Python program to print all disarium numbers between 1 to 100?"
      ],
      "metadata": {
        "id": "6ietkFPLQKxd"
      }
    },
    {
      "cell_type": "code",
      "source": [
        "def no(start=0,end=100):\n",
        "\n",
        "    output_num = []\n",
        "\n",
        "    for i in range(start,end+1):\n",
        "        sum = 0\n",
        "        for j in range(len(str(i))):\n",
        "            sum += int(str(i)[j])**(j+1)\n",
        "        if sum == i:\n",
        "            output_num.append(i)\n",
        "            \n",
        "    return print(\"Disarium Numbers b/w 1 to 100 is : \", output_num)\n",
        "            \n",
        "        \n",
        "no(1,100)"
      ],
      "metadata": {
        "colab": {
          "base_uri": "https://localhost:8080/"
        },
        "id": "Yuyt3qLDLBih",
        "outputId": "74012481-0ae9-40e0-a1f2-a91f8e86a3d7"
      },
      "execution_count": 39,
      "outputs": [
        {
          "output_type": "stream",
          "name": "stdout",
          "text": [
            "Disarium Numbers b/w 1 to 100 is :  [1, 2, 3, 4, 5, 6, 7, 8, 9, 89]\n"
          ]
        }
      ]
    },
    {
      "cell_type": "markdown",
      "source": [
        "--------------------------------------------------------------"
      ],
      "metadata": {
        "id": "poh21d7XQQ1c"
      }
    },
    {
      "cell_type": "markdown",
      "source": [
        "#Q.3) Write a Python program to check if the given number is Happy Number ?"
      ],
      "metadata": {
        "id": "oz38REz9QSIr"
      }
    },
    {
      "cell_type": "markdown",
      "source": [
        "##**Answer -** A happy number is defined as a number that can be replaced by the sum of the squares of its digit repeatedly and after some repetitions, it will yield the number 1."
      ],
      "metadata": {
        "id": "PIhmMxnehXZO"
      }
    },
    {
      "cell_type": "code",
      "source": [
        "def Happy(num):\n",
        "    sum = 0\n",
        "    while(num>0):\n",
        "        digit = num % 10\n",
        "        sum = sum + digit**2        \n",
        "        num = num//10\n",
        "    return sum\n",
        "\n",
        "num = int(input(\"Enter your no to check whether it is a Happy No. or Not : \"))\n",
        "result = num\n",
        "\n",
        "while (result != 1 and result != 4):\n",
        "    result = Happy(result)\n",
        "\n",
        "if result == 1:\n",
        "    print(num,\"is a Happy Number.\")\n",
        "else:\n",
        "    print(num,\" is an Unhappy Number.\")"
      ],
      "metadata": {
        "id": "drv9nSUgQRuJ",
        "colab": {
          "base_uri": "https://localhost:8080/"
        },
        "outputId": "6d11e7c3-f5f8-498b-abdc-d1005ac18920"
      },
      "execution_count": 42,
      "outputs": [
        {
          "output_type": "stream",
          "name": "stdout",
          "text": [
            "Enter your no to check whether it is a Happy No. or Not : 13\n",
            "13 is a Happy Number.\n"
          ]
        }
      ]
    },
    {
      "cell_type": "markdown",
      "source": [
        "----------------------------------------------------------"
      ],
      "metadata": {
        "id": "OjQ18Q5jQW2r"
      }
    },
    {
      "cell_type": "markdown",
      "source": [
        "#Q.4) Write a Python program to print all happy numbers between 1 and 100 ?"
      ],
      "metadata": {
        "id": "dtYu_8euQYub"
      }
    },
    {
      "cell_type": "code",
      "source": [
        "def Happy(num):\n",
        "    sum = 0\n",
        "    while(num>0):\n",
        "        digit = num % 10\n",
        "        sum = sum + (digit**2)        \n",
        "        num = num//10\n",
        "    return sum\n",
        "\n",
        "print(\"Happy numbers in range of 1 to 100 is : \")\n",
        "\n",
        "result = num = i = 0\n",
        "\n",
        "happyNo = []\n",
        "\n",
        "for i in range(1,101):\n",
        "    result = i\n",
        "    while (result != 1 and result != 4):\n",
        "        result = Happy(result) \n",
        "    if result == 1:\n",
        "        happyNo.append(i)\n",
        "print(happyNo)"
      ],
      "metadata": {
        "id": "U5ZUP34cQYN4",
        "colab": {
          "base_uri": "https://localhost:8080/"
        },
        "outputId": "b37b52f6-5765-417b-e124-3dd3dd249d7f"
      },
      "execution_count": 17,
      "outputs": [
        {
          "output_type": "stream",
          "name": "stdout",
          "text": [
            "Happy numbers in range of 1 to 100 is : \n",
            "[1, 7, 10, 13, 19, 23, 28, 31, 32, 44, 49, 68, 70, 79, 82, 86, 91, 94, 97, 100]\n"
          ]
        }
      ]
    },
    {
      "cell_type": "markdown",
      "source": [
        "----------------------------------------------------------------"
      ],
      "metadata": {
        "id": "hwIqaxJ7QdM7"
      }
    },
    {
      "cell_type": "markdown",
      "source": [
        "#Q.5) Write a Python program to determine whether the given number is a Harshad Number ?"
      ],
      "metadata": {
        "id": "gmcovSNgQe_W"
      }
    },
    {
      "cell_type": "markdown",
      "source": [
        "##**Answer -** A Harshad Number (also known as a Niven number) is an integer that is divisible by the sum of its digits in a given base. A harshad number in base n is called an n-harshad number."
      ],
      "metadata": {
        "id": "JWYW5NHdhldK"
      }
    },
    {
      "cell_type": "code",
      "source": [
        "num = int(input(\"Enter your no to check whether it is a Harshad No. or Not : \"))\n",
        "x = num\n",
        "sum = 0\n",
        "\n",
        "while x>0:\n",
        "  rem = x % 10\n",
        "  sum = sum + rem\n",
        "  x = x // 10\n",
        "  \n",
        "if num % sum == 0:\n",
        "  print(num, \"is a Harshad Number.\")\n",
        "else:\n",
        "  print(num, \"is not a Harshad Number.\")"
      ],
      "metadata": {
        "id": "TFCwyxsrQeKQ",
        "colab": {
          "base_uri": "https://localhost:8080/"
        },
        "outputId": "1572a52c-aab9-4d93-9cfe-3460d208b2e9"
      },
      "execution_count": 33,
      "outputs": [
        {
          "output_type": "stream",
          "name": "stdout",
          "text": [
            "Enter your no to check whether it is a Harshad No. or Not : 18\n",
            "18 is a Harshad Number.\n"
          ]
        }
      ]
    },
    {
      "cell_type": "markdown",
      "source": [
        "-------------------------------------------------------------------------"
      ],
      "metadata": {
        "id": "SpPU3mnwQjZK"
      }
    },
    {
      "cell_type": "markdown",
      "source": [
        "#Q.6) Write a Python program to print all pronic numbers between 1 and 100 ?"
      ],
      "metadata": {
        "id": "8dfhPDdOQk2L"
      }
    },
    {
      "cell_type": "markdown",
      "source": [
        "##**Answer -** A Pronic Number is a number which is the product of two consecutive integers, that is, a number of the form n(n + 1)."
      ],
      "metadata": {
        "id": "1P3mv8tvh2cZ"
      }
    },
    {
      "cell_type": "code",
      "source": [
        "def Pronic(num):\n",
        "  flag = 0\n",
        "  for i in range(1, num+1):\n",
        "    if (i*(i+1)==num):\n",
        "      flag = 1\n",
        "      break\n",
        "  return flag\n",
        "\n",
        "\n",
        "print(\"Pronic Numbers b/w range 1 to 100 is : \")\n",
        "\n",
        "pronicno = []\n",
        "\n",
        "for i in range(1,101):\n",
        "    if Pronic(i):\n",
        "        pronicno.append(i)\n",
        "print(pronicno)"
      ],
      "metadata": {
        "id": "3-2hWXXJQkdo",
        "colab": {
          "base_uri": "https://localhost:8080/"
        },
        "outputId": "2350b508-0ec1-4ddc-ebf4-43580b5d1668"
      },
      "execution_count": 37,
      "outputs": [
        {
          "output_type": "stream",
          "name": "stdout",
          "text": [
            "Pronic Numbers b/w range 1 to 100 is : \n",
            "[2, 6, 12, 20, 30, 42, 56, 72, 90]\n"
          ]
        }
      ]
    },
    {
      "cell_type": "markdown",
      "source": [
        "------------------------------------------------------------End------------------------------------------------------------"
      ],
      "metadata": {
        "id": "qs2URMwpQp7j"
      }
    }
  ]
}