{
  "nbformat": 4,
  "nbformat_minor": 0,
  "metadata": {
    "colab": {
      "provenance": []
    },
    "kernelspec": {
      "name": "python3",
      "display_name": "Python 3"
    },
    "language_info": {
      "name": "python"
    }
  },
  "cells": [
    {
      "cell_type": "markdown",
      "source": [
        "#**iNeuron**\n",
        "## Programming Assignment - 11 (Python Basic)\n",
        "\n",
        "- Batch - Full Stack Data Science Bootcamp 2.0\n",
        "- Name - **Mayur Soni**\n",
        "- Email ID - **mayurssoni007@gmail.com**"
      ],
      "metadata": {
        "id": "avey8nL4sXDT"
      }
    },
    {
      "cell_type": "markdown",
      "source": [
        "--------------------------------------------------------------"
      ],
      "metadata": {
        "id": "iH3p74v9sZLZ"
      }
    },
    {
      "cell_type": "markdown",
      "source": [
        "#Q.1) Write a Python program to find words which are greater than given length k ?"
      ],
      "metadata": {
        "id": "boZUw1YUsapS"
      }
    },
    {
      "cell_type": "code",
      "execution_count": 19,
      "metadata": {
        "colab": {
          "base_uri": "https://localhost:8080/"
        },
        "id": "ApsxLwjOsRtN",
        "outputId": "259ca989-2a14-44dc-8610-a02fab95121a"
      },
      "outputs": [
        {
          "output_type": "stream",
          "name": "stdout",
          "text": [
            "Enter how many words you want to enter : 5\n",
            "Enter your words : ram\n",
            "Enter your words : sita\n",
            "Enter your words : laxman\n",
            "Enter your words : hanuman\n",
            "Enter your words : bharat\n",
            "Your Entered words are : ['ram', 'sita', 'laxman', 'hanuman', 'bharat']\n",
            "Enter the length of the words you want to find : 4\n",
            "Words that are greater than given length 4 : ['laxman', 'hanuman', 'bharat']\n"
          ]
        }
      ],
      "source": [
        "def word_length():\n",
        "\n",
        "  rang = int(input(\"Enter how many words you want to enter : \"))\n",
        "\n",
        "  w_list = []\n",
        "  for i in range(rang):\n",
        "    words = input(\"Enter your words : \")\n",
        "    w_list.append(words)\n",
        "  print(f\"Your Entered words are : {w_list}\")\n",
        "\n",
        "  w_length = int(input(\"Enter the length of the words you want to find : \"))\n",
        "\n",
        "  new_list = []\n",
        "  for j in w_list:\n",
        "    if len(j)> w_length:\n",
        "      new_list.append(j)\n",
        "  print(f\"Words that are greater than given length {w_length} : {new_list}\")\n",
        "\n",
        "word_length()"
      ]
    },
    {
      "cell_type": "markdown",
      "source": [
        "-------------------------------------------------------------------"
      ],
      "metadata": {
        "id": "WEH15jX_seHJ"
      }
    },
    {
      "cell_type": "markdown",
      "source": [
        "#Q.2) Write a Python program for removing i-th character from a string ?"
      ],
      "metadata": {
        "id": "hFqTATHNsgHR"
      }
    },
    {
      "cell_type": "code",
      "source": [
        "my_str = input(\"Enter your string : \")\n",
        "print(f\"Your String is : {my_str}\")\n",
        "\n",
        "str_remove = int(input(\"Enter the i-th number of character you want to remove from the string : \"))\n",
        "out_string = ''\n",
        "\n",
        "for i in range(len(my_str)):\n",
        "  if i != str_remove:\n",
        "    out_string = out_string + my_str[i]\n",
        "print(f\"Your new string after removing {str_remove} no. of character, is : {out_string}\")"
      ],
      "metadata": {
        "colab": {
          "base_uri": "https://localhost:8080/"
        },
        "id": "PKXI7cJxM6fD",
        "outputId": "746cff91-f69e-4b9e-e9de-03313c72a88e"
      },
      "execution_count": 51,
      "outputs": [
        {
          "output_type": "stream",
          "name": "stdout",
          "text": [
            "Enter your string : mayur\n",
            "Your String is : mayur\n",
            "Enter the i-th number of character you want to remove from the string : 3\n",
            "Your new string after removing 3 no. of character, is : mayr\n"
          ]
        }
      ]
    },
    {
      "cell_type": "markdown",
      "source": [
        "----------------------------------------------------------------"
      ],
      "metadata": {
        "id": "bV4FU_eMsiKK"
      }
    },
    {
      "cell_type": "markdown",
      "source": [
        "#Q.3) Write a Python program to split and join a string ?"
      ],
      "metadata": {
        "id": "UkvzVyZvsk8p"
      }
    },
    {
      "cell_type": "code",
      "source": [
        "def joinsplitstring():\n",
        "\n",
        "  string = input(\"Enter your string : \")\n",
        "  print(f\"Split String: {string.split(' ')}\")\n",
        "  print(f\"Join String: {'@'.join(string.split(' '))}\")\n",
        "\n",
        "joinsplitstring()"
      ],
      "metadata": {
        "colab": {
          "base_uri": "https://localhost:8080/"
        },
        "id": "EtuxedtHskc8",
        "outputId": "905cbd2c-40c2-4637-d9f3-b4e320a70874"
      },
      "execution_count": 56,
      "outputs": [
        {
          "output_type": "stream",
          "name": "stdout",
          "text": [
            "Enter your string : Ineuron Full Stack Data Science Bootcamp 2.0\n",
            "Split String: ['Ineuron', 'Full', 'Stack', 'Data', 'Science', 'Bootcamp', '2.0']\n",
            "Join String: Ineuron@Full@Stack@Data@Science@Bootcamp@2.0\n"
          ]
        }
      ]
    },
    {
      "cell_type": "markdown",
      "source": [
        "----------------------------------------------------------------"
      ],
      "metadata": {
        "id": "uGBNcnQ1snGS"
      }
    },
    {
      "cell_type": "markdown",
      "source": [
        "#Q.4) Write a Python to check if a given string is binary string or not ?"
      ],
      "metadata": {
        "id": "Eo0XXsSBsn3B"
      }
    },
    {
      "cell_type": "code",
      "source": [
        "def checkBinary():\n",
        "  in_string = input('Enter the string : ')\n",
        "  bin = 0\n",
        "  for ele in in_string:\n",
        "    if ele in ['0','1']:\n",
        "      bin = 1\n",
        "      continue\n",
        "    else:\n",
        "      bin = 0\n",
        "      break\n",
        "\n",
        "  statement = 'is a Binary String' if bin == 1 else 'is not a Binary String'\n",
        "  print(f'{in_string} {statement}')\n",
        "\n",
        "checkBinary()\n",
        "checkBinary()"
      ],
      "metadata": {
        "colab": {
          "base_uri": "https://localhost:8080/"
        },
        "id": "mAWr2HoGsneE",
        "outputId": "5477dd55-b486-4e7f-d7c0-ef39523adfdd"
      },
      "execution_count": 60,
      "outputs": [
        {
          "output_type": "stream",
          "name": "stdout",
          "text": [
            "Enter the string : 012345\n",
            "012345 is not a Binary String\n",
            "Enter the string : 010110\n",
            "010110 is a Binary String\n"
          ]
        }
      ]
    },
    {
      "cell_type": "markdown",
      "source": [
        "----------------------------------------------------------------"
      ],
      "metadata": {
        "id": "JZFo-L0AsrYh"
      }
    },
    {
      "cell_type": "markdown",
      "source": [
        "#Q.5) Write a Python program to find uncommon words from two Strings ?"
      ],
      "metadata": {
        "id": "NkLeQhb7ssoQ"
      }
    },
    {
      "cell_type": "code",
      "source": [
        "def UncommonWords():\n",
        "\n",
        "  str1 = set(input(\"Enter 1st string : \").split(' '))\n",
        "  str2 = set(input(\"Enter 2nd string : \").split(' '))\n",
        "\n",
        "  out_string = (str1.union(str2)).difference(str1.intersection(str2))\n",
        "\n",
        "  print(f\"Uncommon Words are : {out_string}\")\n",
        "\n",
        "UncommonWords()"
      ],
      "metadata": {
        "colab": {
          "base_uri": "https://localhost:8080/"
        },
        "id": "UvFBwEwLssHE",
        "outputId": "7d16b99f-ce2a-4321-d883-a5eb69d8683e"
      },
      "execution_count": 3,
      "outputs": [
        {
          "output_type": "stream",
          "name": "stdout",
          "text": [
            "Enter 1st string : Common Words\n",
            "Enter 2nd string : Uncommon Words\n",
            "Uncommon Words are : {'Common', 'Uncommon'}\n"
          ]
        }
      ]
    },
    {
      "cell_type": "markdown",
      "source": [
        "----------------------------------------------------------------"
      ],
      "metadata": {
        "id": "RLFl6TcCsuvo"
      }
    },
    {
      "cell_type": "markdown",
      "source": [
        "#Q.6) Write a Python to find all duplicate characters in string ?"
      ],
      "metadata": {
        "id": "l25F-SmYsvqg"
      }
    },
    {
      "cell_type": "code",
      "source": [
        "def duplicate_chr():\n",
        "  str = input(\"Enter your string : \")\n",
        "  non_duplicate = []\n",
        "  duplicate = []\n",
        "\n",
        "  for ele in str:\n",
        "    if ele not in non_duplicate:\n",
        "      non_duplicate.append(ele)\n",
        "    else:\n",
        "      duplicate.append(ele)\n",
        "\n",
        "  print(\"Duplicate Found !!\")\n",
        "  print(f\"Duplicate Characters are : {list(set(duplicate))}\")\n",
        "\n",
        "duplicate_chr()"
      ],
      "metadata": {
        "colab": {
          "base_uri": "https://localhost:8080/"
        },
        "id": "OOcu9PoAsvHc",
        "outputId": "69e35eb3-f0bd-4699-9677-7b4dfb020d55"
      },
      "execution_count": 16,
      "outputs": [
        {
          "output_type": "stream",
          "name": "stdout",
          "text": [
            "Enter your string : Narendra Modi is the Prime Minister of India.\n",
            "Duplicate Found !!\n",
            "Duplicate Characters are : ['e', 'r', 'n', 'd', 'M', 'o', 't', 's', ' ', 'a', 'i']\n"
          ]
        }
      ]
    },
    {
      "cell_type": "markdown",
      "source": [
        "----------------------------------------------------------------"
      ],
      "metadata": {
        "id": "tJVoZRPjsx-U"
      }
    },
    {
      "cell_type": "markdown",
      "source": [
        "#Q.7) Write a Python Program to check if a string contains any special character ?"
      ],
      "metadata": {
        "id": "jpajwovRs2Bq"
      }
    },
    {
      "cell_type": "code",
      "source": [
        "def chk_special_chr():\n",
        "\n",
        "  spl_chars = \"[@_!#$%^&*()<>?/\\|}{~:]\"\n",
        "  inp_num = input(\"Enter the string : \")\n",
        "\n",
        "  count = 0\n",
        "  char_list = []\n",
        "\n",
        "  for ele in inp_num:\n",
        "    if ele in spl_chars:\n",
        "      char_list.append(ele)\n",
        "      count = count+1\n",
        "  print(f\"\"\"There are {count} Speical Characters in \" {inp_num} \"\n",
        "which is : {char_list}\"\"\")\n",
        "\n",
        "\n",
        "chk_special_chr()"
      ],
      "metadata": {
        "colab": {
          "base_uri": "https://localhost:8080/"
        },
        "id": "xMacpLJusyYc",
        "outputId": "ee3a57de-4bae-4abd-f176-521c8e40209b"
      },
      "execution_count": 22,
      "outputs": [
        {
          "output_type": "stream",
          "name": "stdout",
          "text": [
            "Enter the string : FSDS 2.0 by Sudhanshu Sir / Krish Naik Sir & Sunny Savita Sir @ iNeuron / in India.\n",
            "There are 4 Speical Characters in \" FSDS 2.0 by Sudhanshu Sir / Krish Naik Sir & Sunny Savita Sir @ iNeuron / in India. \" \n",
            "which is : ['/', '&', '@', '/']\n"
          ]
        }
      ]
    },
    {
      "cell_type": "markdown",
      "source": [
        "------------------------------------------------------------End------------------------------------------------------------"
      ],
      "metadata": {
        "id": "exxraCRDs30o"
      }
    }
  ]
}