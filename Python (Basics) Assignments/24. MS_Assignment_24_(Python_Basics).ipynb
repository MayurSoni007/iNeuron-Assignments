{
  "nbformat": 4,
  "nbformat_minor": 0,
  "metadata": {
    "colab": {
      "provenance": []
    },
    "kernelspec": {
      "name": "python3",
      "display_name": "Python 3"
    },
    "language_info": {
      "name": "python"
    }
  },
  "cells": [
    {
      "cell_type": "markdown",
      "source": [
        "#**iNeuron**\n",
        "## Python (Basics) Assignment No. 24\n",
        "\n",
        "- Batch - Full Stack Data Science Bootcamp 2.0\n",
        "- Name - **Mayur Soni**\n",
        "- email id - **mayurssoni007@gmail.com**"
      ],
      "metadata": {
        "id": "V2QpwW_SgCSf"
      }
    },
    {
      "cell_type": "markdown",
      "source": [
        "-----------------------------------------------------------------------------"
      ],
      "metadata": {
        "id": "EqUcIMzigF_F"
      }
    },
    {
      "cell_type": "markdown",
      "source": [
        "##Q.1) What is the relationship between def statements and lambda expressions ?"
      ],
      "metadata": {
        "id": "qJUdK5HFgLRe"
      }
    },
    {
      "cell_type": "markdown",
      "source": [
        "###**Answer -** The ```def``` keyword is used **to define normal functions,** while the ```lambda``` keyword is used **to define anonymous functions.** They are, however, limited to a single line of expression. They, like regular functions, can accept several parameters.\n",
        "### Lambda's body is a single expression and not a block of statements like def statement. The lambda expression's body is similar to what we'd put in a def body's return statement. We simply type the result as an expression instead of explicitly returning it. Because it is limited to an expression, a lambda is less general than a def statement."
      ],
      "metadata": {
        "id": "kq9JXTgTgLKg"
      }
    },
    {
      "cell_type": "markdown",
      "source": [
        "-------------------------------------------------------------------------------"
      ],
      "metadata": {
        "id": "nCK2MLYBgLEA"
      }
    },
    {
      "cell_type": "markdown",
      "source": [
        "##Q.2) What is the benefit of lambda ?"
      ],
      "metadata": {
        "id": "N1WwXIh3gK9i"
      }
    },
    {
      "cell_type": "markdown",
      "source": [
        "###**Answer -** The following are some of the benefits of lambda expressions:\n",
        "\n",
        "####1.) It can be used to create Nameless/Anonymous functions inside some complex functions if we are planning to use it only once.\n",
        "\n",
        "####2.) Moderate to small functions can be created in a single line.\n",
        "\n",
        "####3.) Fuctions created using lambda expressions can be assigned to a variable and can be used by simply calling the variable."
      ],
      "metadata": {
        "id": "Nu2rBN00gK3-"
      }
    },
    {
      "cell_type": "markdown",
      "source": [
        "-------------------------------------------------------------------------"
      ],
      "metadata": {
        "id": "wMHhZhGmgKwh"
      }
    },
    {
      "cell_type": "markdown",
      "source": [
        "##Q.3) Compare and contrast map, filter, and reduce ?"
      ],
      "metadata": {
        "id": "WfFSH2ULgKrH"
      }
    },
    {
      "cell_type": "markdown",
      "source": [
        "###**Answer -** The differences between map, filter and reduce are :\n",
        "\n",
        "1. **```map()```**: The ```map()``` function is a type of higher-order. This function takes another function as a parameter along with a sequence of iterables and returns an output after applying the function to each iterable present in the sequence. \n",
        "2. **```filter()```**: The ```filter()``` function is used to create an output list consisting of values for which the function returns true. \n",
        "3. **```reduce()```**: The ```reduce()``` function, as the name describes, applies a given function to the iterables and returns a single value."
      ],
      "metadata": {
        "id": "eCjvMstsgKkX"
      }
    },
    {
      "cell_type": "code",
      "source": [
        "from functools import reduce\n",
        "\n",
        "# map function\n",
        "print('Map -->',list(map(lambda x:x+x, [1,2,3,4])))\n",
        "\n",
        "# fitler function\n",
        "print('Filter -->',list(filter(lambda x:x%2 !=0, [1,2,3,4])))\n",
        "\n",
        "# reduce function\n",
        "print('Reduce -->',reduce(lambda x,y:x+y, [1,2,3,4,5,6]))"
      ],
      "metadata": {
        "colab": {
          "base_uri": "https://localhost:8080/"
        },
        "id": "xRVS5ETVjbEo",
        "outputId": "d907b4b6-2ec8-4d02-8ac8-2560a8db03d0"
      },
      "execution_count": 4,
      "outputs": [
        {
          "output_type": "stream",
          "name": "stdout",
          "text": [
            "Map --> [2, 4, 6, 8]\n",
            "Filter --> [1, 3]\n",
            "Reduce --> 21\n"
          ]
        }
      ]
    },
    {
      "cell_type": "markdown",
      "source": [
        "-----------------------------------------------------------------------"
      ],
      "metadata": {
        "id": "mJVPMoQ3gKd0"
      }
    },
    {
      "cell_type": "markdown",
      "source": [
        "##Q.4) What are function annotations, and how are they used ?"
      ],
      "metadata": {
        "id": "RcHbkuvzgKYE"
      }
    },
    {
      "cell_type": "markdown",
      "source": [
        "###**Answer -** Function annotations are some random expressions which are written with the functions, and they are evaluated at compile time. They do not exist at run time, and there is no meaning of these expressions to python. They are used and interpreted by a third party or external python libraries.\n",
        "\n",
        "###- Annotations of simple parameters are ```def func(x: expression, y: expression = 20):```\n",
        "\n",
        "####- Whereas the annotations for excess parameters are as ```def func (**args: expression, **kwargs: expression):```\n"
      ],
      "metadata": {
        "id": "Iyez6U7qgKS2"
      }
    },
    {
      "cell_type": "markdown",
      "source": [
        "-----------------------------------------------------------------------"
      ],
      "metadata": {
        "id": "XhhKJomRgKNI"
      }
    },
    {
      "cell_type": "markdown",
      "source": [
        "##Q.5) What are recursive functions, and how are they used ?"
      ],
      "metadata": {
        "id": "twt2KD7HgKIJ"
      }
    },
    {
      "cell_type": "markdown",
      "source": [
        "###**Answer -** A recursive function is a function that calls itself during its execution. The process may repeat several times, outputting the result and the end of each iteration."
      ],
      "metadata": {
        "id": "alf0kfzWgKBs"
      }
    },
    {
      "cell_type": "code",
      "source": [
        "def tri_recursion(k):\n",
        "  if(k>0):\n",
        "    result = k+tri_recursion(k-1)\n",
        "    print(result)\n",
        "  else:\n",
        "    result = 0\n",
        "  return result\n",
        "\n",
        "print(\"\\n\\nRecursion Example Results\")\n",
        "tri_recursion(10)"
      ],
      "metadata": {
        "colab": {
          "base_uri": "https://localhost:8080/"
        },
        "id": "DxGGC4X_mJf-",
        "outputId": "702ebea7-941c-42b0-d8cd-be207f734d8b"
      },
      "execution_count": 7,
      "outputs": [
        {
          "output_type": "stream",
          "name": "stdout",
          "text": [
            "\n",
            "\n",
            "Recursion Example Results\n",
            "1\n",
            "3\n",
            "6\n",
            "10\n",
            "15\n",
            "21\n",
            "28\n",
            "36\n",
            "45\n",
            "55\n"
          ]
        },
        {
          "output_type": "execute_result",
          "data": {
            "text/plain": [
              "55"
            ]
          },
          "metadata": {},
          "execution_count": 7
        }
      ]
    },
    {
      "cell_type": "markdown",
      "source": [
        "------------------------------------------------------------------------"
      ],
      "metadata": {
        "id": "QF7brAi2gJ8H"
      }
    },
    {
      "cell_type": "markdown",
      "source": [
        "##Q.6) What are some general design guidelines for coding functions ?"
      ],
      "metadata": {
        "id": "LTLRqNhAgJ2G"
      }
    },
    {
      "cell_type": "markdown",
      "source": [
        "###**Answer -** Some of the general design guidelines for coding functions are:\n",
        "\n",
        "1. Always use a docstring to explain the functionality of the function.\n",
        "2. Avoid using or limited use of global variables.\n",
        "3. Proper Identation to increase the code readability.\n",
        "4. Try to follow a naming convention for function names (pascalCase or camelCase) and stick with the same convention throughout the application.\n",
        "5. Avoid using digits while choosing a variable name.\n",
        "6. Try to use a name for the function which conveys the purpose of the function.\n",
        "7. Local variables should be named using camelCase format ```(ex: localVariable)``` whereas Global variables names should be using PascalCase ```(ex:GlobalVariable)```.\n",
        "8. Constant should be represented in allcaps ```(ex:CONSTANT)```."
      ],
      "metadata": {
        "id": "avP-dMFNgJv9"
      }
    },
    {
      "cell_type": "markdown",
      "source": [
        "------------------------------------------------------------------------------"
      ],
      "metadata": {
        "id": "h5wmU0hRgJpY"
      }
    },
    {
      "cell_type": "markdown",
      "source": [
        "##Q.7) Name three or more ways that functions can communicate results to a caller ?"
      ],
      "metadata": {
        "id": "ab-XbhYJgJis"
      }
    },
    {
      "cell_type": "markdown",
      "source": [
        "###**Answer -** Some of the ways in which a function can communicate with the calling function are :\n",
        "\n",
        "####1. **```print```**\n",
        "####2. **```return```**\n",
        "####3. **```yield```**"
      ],
      "metadata": {
        "id": "Fn_4wBHZgJdY"
      }
    },
    {
      "cell_type": "markdown",
      "source": [
        "------------------------------------------------------------End------------------------------------------------------------"
      ],
      "metadata": {
        "id": "bakEqTxZgI1e"
      }
    }
  ]
}