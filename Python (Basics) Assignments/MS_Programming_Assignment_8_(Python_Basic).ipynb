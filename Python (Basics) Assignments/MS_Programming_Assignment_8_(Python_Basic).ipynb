{
  "nbformat": 4,
  "nbformat_minor": 0,
  "metadata": {
    "colab": {
      "provenance": []
    },
    "kernelspec": {
      "name": "python3",
      "display_name": "Python 3"
    },
    "language_info": {
      "name": "python"
    }
  },
  "cells": [
    {
      "cell_type": "markdown",
      "source": [
        "#**iNeuron**\n",
        "## Programming Assignment - 8 (Python Basic)\n",
        "\n",
        "- Batch - Full Stack Data Science Bootcamp 2.0\n",
        "- Name - **Mayur Soni**\n",
        "- Email ID - **mayurssoni007@gmail.com**"
      ],
      "metadata": {
        "id": "hFkpT43ZNB1W"
      }
    },
    {
      "cell_type": "markdown",
      "source": [
        "------------------------------------------------"
      ],
      "metadata": {
        "id": "CNyA9xgENDYD"
      }
    },
    {
      "cell_type": "markdown",
      "source": [
        "#Q1.) Write a Python Program to Add Two Matrices ?"
      ],
      "metadata": {
        "id": "XMWaBrAGOJCR"
      }
    },
    {
      "cell_type": "code",
      "execution_count": 27,
      "metadata": {
        "id": "ND5lVeBqM_aS",
        "colab": {
          "base_uri": "https://localhost:8080/"
        },
        "outputId": "f093957e-dde8-463e-f15e-9e11d4f28c95"
      },
      "outputs": [
        {
          "output_type": "stream",
          "name": "stdout",
          "text": [
            "1st Matrix is : [[1, 2, 3], [4, 5, 6], [7, 8, 9]]\n",
            "2nd Matrix is : [[9, 8, 7], [6, 5, 4], [3, 2, 1]]\n",
            "\n",
            "Addition of 2 Matrices is : \n",
            "[[10 10 10]\n",
            " [10 10 10]\n",
            " [10 10 10]]\n"
          ]
        }
      ],
      "source": [
        "import numpy as np\n",
        "\n",
        "m1 = [[1,2,3],\n",
        "      [4,5,6],\n",
        "      [7,8,9]\n",
        "      ]\n",
        "m2 = [[9,8,7],\n",
        "      [6,5,4],\n",
        "      [3,2,1]\n",
        "      ]\n",
        "\n",
        "print(f\"1st Matrix is : {m1}\")\n",
        "print(f\"2nd Matrix is : {m2}\")\n",
        "\n",
        "a1 = np.array(m1)\n",
        "a2 = np.array(m2)\n",
        "\n",
        "addition = a1 + a2\n",
        "\n",
        "print(\"\\nAddition of 2 Matrices is : \")\n",
        "print(addition)"
      ]
    },
    {
      "cell_type": "markdown",
      "source": [
        "------------------------------------------------"
      ],
      "metadata": {
        "id": "HnTOw3u7OYb3"
      }
    },
    {
      "cell_type": "markdown",
      "source": [
        "#Q2.) Write a Python Program to Multiply Two Matrices ?"
      ],
      "metadata": {
        "id": "64_Xv5cnOaGZ"
      }
    },
    {
      "cell_type": "code",
      "source": [
        "import numpy as np\n",
        "\n",
        "m1 = [[1,2,3],\n",
        "      [4,5,6],\n",
        "      [7,8,9]\n",
        "      ]\n",
        "m2 = [[9,8,7],\n",
        "      [6,5,4],\n",
        "      [3,2,1]\n",
        "      ]\n",
        "\n",
        "print(f\"1st Matrix is : {m1}\")\n",
        "print(f\"2nd Matrix is : {m2}\")\n",
        "\n",
        "a1 = np.array(m1)\n",
        "a2 = np.array(m2)\n",
        "\n",
        "multiplication = a1 * a2\n",
        "\n",
        "print(\"\\nMultiplication of 2 Matrices is : \")\n",
        "print(multiplication)"
      ],
      "metadata": {
        "id": "9XL6a-cVOZk7",
        "colab": {
          "base_uri": "https://localhost:8080/"
        },
        "outputId": "2dd78966-0ae3-43b2-8354-e4522b9fdee3"
      },
      "execution_count": 26,
      "outputs": [
        {
          "output_type": "stream",
          "name": "stdout",
          "text": [
            "1st Matrix is : [[1, 2, 3], [4, 5, 6], [7, 8, 9]]\n",
            "2nd Matrix is : [[9, 8, 7], [6, 5, 4], [3, 2, 1]]\n",
            "\n",
            "Multiplication of 2 Matrices is : \n",
            "[[ 9 16 21]\n",
            " [24 25 24]\n",
            " [21 16  9]]\n"
          ]
        }
      ]
    },
    {
      "cell_type": "markdown",
      "source": [
        "--------------------------------------------------------"
      ],
      "metadata": {
        "id": "gapLIR1sOf-I"
      }
    },
    {
      "cell_type": "markdown",
      "source": [
        "#Q.3) Write a Python Program to Transpose a Matrix ?"
      ],
      "metadata": {
        "id": "bv1oKGv3OhJ3"
      }
    },
    {
      "cell_type": "code",
      "source": [
        "import numpy as np\n",
        "\n",
        "m1 = [[1,2,3],\n",
        "      [4,5,6],\n",
        "      [7,8,9]\n",
        "      ]\n",
        "\n",
        "print(f\"Matrix is : {m1}\")\n",
        "\n",
        "a1 = np.transpose(m1)\n",
        "\n",
        "print(f\"\\nTransposed Matrix is : \")\n",
        "print(a1)"
      ],
      "metadata": {
        "id": "YUVVTqj6Ogvj",
        "colab": {
          "base_uri": "https://localhost:8080/"
        },
        "outputId": "45cdd1ec-c183-43db-e8fd-8963dc530597"
      },
      "execution_count": 28,
      "outputs": [
        {
          "output_type": "stream",
          "name": "stdout",
          "text": [
            "Matrix is : [[1, 2, 3], [4, 5, 6], [7, 8, 9]]\n",
            "\n",
            "Transposed Matrix is : \n",
            "[[1 4 7]\n",
            " [2 5 8]\n",
            " [3 6 9]]\n"
          ]
        }
      ]
    },
    {
      "cell_type": "markdown",
      "source": [
        "-----------------------------------------------"
      ],
      "metadata": {
        "id": "QaYO3EbyOlzv"
      }
    },
    {
      "cell_type": "markdown",
      "source": [
        "#Q.4) Write a Python Program to Sort Words in Alphabetic Order ?"
      ],
      "metadata": {
        "id": "TLggw8e2OyKP"
      }
    },
    {
      "cell_type": "code",
      "source": [
        "import numpy as np\n",
        "\n",
        "alpha = ['Mayur','Anand','Yuzvendra','Uttam','Robin']\n",
        "\n",
        "print(f\"Unsorted Words are : {alpha}\")\n",
        "\n",
        "sort = np.sort(alpha)\n",
        "\n",
        "print(\"\\nSorted Words in Alphabetic Order are : \")\n",
        "print(sort)"
      ],
      "metadata": {
        "id": "mhEpVzPZOmmC",
        "colab": {
          "base_uri": "https://localhost:8080/"
        },
        "outputId": "61b5d161-dcb3-4936-dc32-4c596dc457fb"
      },
      "execution_count": 30,
      "outputs": [
        {
          "output_type": "stream",
          "name": "stdout",
          "text": [
            "Unsorted Words are : ['Mayur', 'Anand', 'Yuzvendra', 'Uttam', 'Robin']\n",
            "\n",
            "Sorted Words in Alphabetic Order are : \n",
            "['Anand' 'Mayur' 'Robin' 'Uttam' 'Yuzvendra']\n"
          ]
        }
      ]
    },
    {
      "cell_type": "markdown",
      "source": [
        "----------------------------------------------------------"
      ],
      "metadata": {
        "id": "VleRY8YUO5uY"
      }
    },
    {
      "cell_type": "markdown",
      "source": [
        "#Q.5) Write a Python Program to Remove Punctuation From a String ?"
      ],
      "metadata": {
        "id": "-OVgq8BWO7PA"
      }
    },
    {
      "cell_type": "code",
      "source": [
        "test_string = \"My@ name: is ! Mayur'; Soni.\"\n",
        "\n",
        "print(f\"The Original String is : {test_string}\")\n",
        "\n",
        "punc = '''!()-[]{};:'\"\\,<>./?@#$%^&*_~'''\n",
        "\n",
        "for ele in test_string:\n",
        "  if ele in punc:\n",
        "    test_string = test_string.replace(ele, \"\")\n",
        "\n",
        "print(f\"\\nThe String after Punctuation Removal is : {test_string}\")"
      ],
      "metadata": {
        "id": "iCNLmtj8O6gK",
        "colab": {
          "base_uri": "https://localhost:8080/"
        },
        "outputId": "65a2fd3a-fa26-4d5f-cdbc-f0ae7269f99b"
      },
      "execution_count": 34,
      "outputs": [
        {
          "output_type": "stream",
          "name": "stdout",
          "text": [
            "The Original String is : My@ name: is ! Mayur'; Soni.\n",
            "\n",
            "The String after Punctuation Removal is : My name is  Mayur Soni\n"
          ]
        }
      ]
    },
    {
      "cell_type": "markdown",
      "source": [
        "------------------------------------------------------------End------------------------------------------------------------"
      ],
      "metadata": {
        "id": "yQDSw4TiPBEO"
      }
    }
  ]
}