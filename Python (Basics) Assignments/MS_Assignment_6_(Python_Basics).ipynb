{
  "nbformat": 4,
  "nbformat_minor": 0,
  "metadata": {
    "colab": {
      "provenance": []
    },
    "kernelspec": {
      "name": "python3",
      "display_name": "Python 3"
    },
    "language_info": {
      "name": "python"
    }
  },
  "cells": [
    {
      "cell_type": "markdown",
      "source": [
        "#**iNeuron**\n",
        "## Python (Basics) Assignment No. 6\n",
        "\n",
        "- Batch - Full Stack Data Science Bootcamp 2.0\n",
        "- Name - **Mayur Soni**\n",
        "- email id - **mayurssoni007@gmail.com**"
      ],
      "metadata": {
        "id": "Z9pnjMLgLA8P"
      }
    },
    {
      "cell_type": "markdown",
      "source": [
        "----------------------------------------------------"
      ],
      "metadata": {
        "id": "RJPnFMC9LC9t"
      }
    },
    {
      "cell_type": "markdown",
      "source": [
        "##Q.1) What are escape characters, and how do you use them ?"
      ],
      "metadata": {
        "id": "3T8vvZZiLEGt"
      }
    },
    {
      "cell_type": "markdown",
      "source": [
        "###**Answer -** \n",
        "- Escape characters are therefore in Python **to insert characters that are illegal to use in a string.**\n",
        "- Some Escape characters in Python are - \n",
        "  - ```\\'``` (Single quotation mark)\n",
        "  - ```\\\"``` (Double quotation mark)\n",
        "  - ```\\\\``` (Backslash)\n",
        "  - ```\\n``` (New Line)\n",
        "  - ```\\t``` (Tab)\n",
        "  - ```\\b``` (Backspace)  etc.\n",
        "- To use them in our code, **we use \\ (backslash)** and then the character we want to insert. For example.... ``` \\\"``` will insert  **\" (double quotation mark)** in our code."
      ],
      "metadata": {
        "id": "uTyEblLDUeON"
      }
    },
    {
      "cell_type": "code",
      "source": [
        "print(\"Ranbir is a \\\"Good Looking\\\" Man.\")"
      ],
      "metadata": {
        "colab": {
          "base_uri": "https://localhost:8080/"
        },
        "id": "zM1QCSAHW8Dg",
        "outputId": "35a50fab-2a1f-4a5d-d5a5-47eebae15e8d"
      },
      "execution_count": 3,
      "outputs": [
        {
          "output_type": "stream",
          "name": "stdout",
          "text": [
            "Ranbir is a \"Good Looking\" Man.\n"
          ]
        }
      ]
    },
    {
      "cell_type": "markdown",
      "source": [
        "-----------------------------------------------------------"
      ],
      "metadata": {
        "id": "eHd3FlSHLGSN"
      }
    },
    {
      "cell_type": "markdown",
      "source": [
        "##Q.2) What do the escape characters n and t stand for ?"
      ],
      "metadata": {
        "id": "m9ITnpJKLH-V"
      }
    },
    {
      "cell_type": "markdown",
      "source": [
        "###**Answer -**\n",
        "- Escape character **```\\n```** is used **to Enter a New Line** in a string.\n",
        "- Escape character **```\\t```** is used **to Enter a Tab** in a string."
      ],
      "metadata": {
        "id": "oR2ltK9tZFMl"
      }
    },
    {
      "cell_type": "code",
      "source": [
        "# Example of \\n escape character...\n",
        "\n",
        "print(\"India won the Cricket ODI World Cup in 2011.\" \"\\nMS Dhoni was the Hero of that Final Match.\")"
      ],
      "metadata": {
        "colab": {
          "base_uri": "https://localhost:8080/"
        },
        "id": "HPn96V3BZeBq",
        "outputId": "293b5bb9-f7c9-48c5-aeab-7a5ba980b12a"
      },
      "execution_count": 8,
      "outputs": [
        {
          "output_type": "stream",
          "name": "stdout",
          "text": [
            "India won the Cricket ODI World Cup in 2011.\n",
            "MS Dhoni was the Hero of that Final Match.\n"
          ]
        }
      ]
    },
    {
      "cell_type": "code",
      "source": [
        "# Example of \\t escape character...\n",
        "\n",
        "print(\"Yuvraj Singh was declared and given :\" \"\\tPlayer of the Series Award\" \"\\tin 2011 Cricket ODI World Cup.\")"
      ],
      "metadata": {
        "colab": {
          "base_uri": "https://localhost:8080/"
        },
        "id": "BvO6X7UkaAO5",
        "outputId": "cb4aaca5-0814-4265-ca50-4521a0986f6f"
      },
      "execution_count": 9,
      "outputs": [
        {
          "output_type": "stream",
          "name": "stdout",
          "text": [
            "Yuvraj Singh was declared and given :\tPlayer of the Series Award\tin 2011 Cricket ODI World Cup.\n"
          ]
        }
      ]
    },
    {
      "cell_type": "markdown",
      "source": [
        "----------------------------------------------"
      ],
      "metadata": {
        "id": "kfy8-I-oLJu9"
      }
    },
    {
      "cell_type": "markdown",
      "source": [
        "##Q.3) What is the way to include backslash characters in a string ?"
      ],
      "metadata": {
        "id": "Izz3JFdlLL6V"
      }
    },
    {
      "cell_type": "markdown",
      "source": [
        "###**Answer -** To include a backslash charater in a string.... we use **```\\\\```** (Double backslash)."
      ],
      "metadata": {
        "id": "WS9nw3VNbBdJ"
      }
    },
    {
      "cell_type": "code",
      "source": [
        "# Example of including a backslash character \\ in a string...\n",
        "\n",
        "print(\"Cricket is the most Famous\\\\Rich Sports in India.\")"
      ],
      "metadata": {
        "colab": {
          "base_uri": "https://localhost:8080/"
        },
        "id": "YzWR_kCRbTgB",
        "outputId": "5aef66ce-aea3-4d4d-b0a5-52fad03f833a"
      },
      "execution_count": 11,
      "outputs": [
        {
          "output_type": "stream",
          "name": "stdout",
          "text": [
            "Cricket is the most Famous\\Rich Sports in India.\n"
          ]
        }
      ]
    },
    {
      "cell_type": "markdown",
      "source": [
        "-----------------------------------------"
      ],
      "metadata": {
        "id": "fvbvx9eWLo_8"
      }
    },
    {
      "cell_type": "markdown",
      "source": [
        "##Q.4) The string \"Howl's Moving Castle\" is a correct value. Why isn't the single quote character in the word Howl's not escaped a problem ?"
      ],
      "metadata": {
        "id": "r27Z1NF-Lqpz"
      }
    },
    {
      "cell_type": "markdown",
      "source": [
        "###**Answer -** The single quote in Howl's is fine because **we've used double quotes to mark the beginning and the ending of the string.**"
      ],
      "metadata": {
        "id": "VnVIWKkob1L-"
      }
    },
    {
      "cell_type": "markdown",
      "source": [
        "----------------------------------------------------"
      ],
      "metadata": {
        "id": "cwn5DY_7LudS"
      }
    },
    {
      "cell_type": "markdown",
      "source": [
        "##Q.5) How do you write a string of newlines if you don't want to use the n character ?"
      ],
      "metadata": {
        "id": "a0J1EVorLxpc"
      }
    },
    {
      "cell_type": "markdown",
      "source": [
        "###**Answer -** We will use ```\"\"\"``` (3 times double quotation marks) or ```'''``` (3 times single quotation mark) at the beginning and at the ending of our string. For example..."
      ],
      "metadata": {
        "id": "my9pQeAGcgPU"
      }
    },
    {
      "cell_type": "code",
      "source": [
        "print(\"\"\"\n",
        "A stands for Apple in School.\n",
        "B stands for Boy in school.\n",
        "\"\"\")"
      ],
      "metadata": {
        "colab": {
          "base_uri": "https://localhost:8080/"
        },
        "id": "m9DCF7Mudlk-",
        "outputId": "8fcc9bcb-23ea-4f1c-f0b1-35a789e455d0"
      },
      "execution_count": 87,
      "outputs": [
        {
          "output_type": "stream",
          "name": "stdout",
          "text": [
            "\n",
            "A stands for Apple in School.\n",
            "B stands for Boy in school.\n",
            "\n"
          ]
        }
      ]
    },
    {
      "cell_type": "code",
      "source": [
        "print('''\n",
        "C stands for Cat in school.\n",
        "D stands for Dog in school.\n",
        "''')"
      ],
      "metadata": {
        "colab": {
          "base_uri": "https://localhost:8080/"
        },
        "id": "9TijzDM3dzp1",
        "outputId": "d5304869-61db-44d7-8e3c-730c70ce1db6"
      },
      "execution_count": 14,
      "outputs": [
        {
          "output_type": "stream",
          "name": "stdout",
          "text": [
            "\n",
            "C stands for Cat in school.\n",
            "D stands for Dog in school.\n",
            "\n"
          ]
        }
      ]
    },
    {
      "cell_type": "markdown",
      "source": [
        "-------------------------------------------------"
      ],
      "metadata": {
        "id": "mQbuCZxcL13T"
      }
    },
    {
      "cell_type": "markdown",
      "source": [
        "##Q.6) What are the values of the given expressions ?\n",
        "```\n",
        "'Hello, world!'[1]\n",
        "'Hello, world!'[0:5]\n",
        "'Hello, world!'[:5]\n",
        "'Hello, world!'[3:]\n",
        "```"
      ],
      "metadata": {
        "id": "UTJYdgraL3D0"
      }
    },
    {
      "cell_type": "markdown",
      "source": [
        "###**Answer -**"
      ],
      "metadata": {
        "id": "RnvkG3bHeQKQ"
      }
    },
    {
      "cell_type": "code",
      "source": [
        "# [1] Prints the 1st index position of the given string.\n",
        "\n",
        "'Hello, world!'[1]"
      ],
      "metadata": {
        "id": "0C5hmlWIL7lT",
        "colab": {
          "base_uri": "https://localhost:8080/",
          "height": 35
        },
        "outputId": "bd98e538-d77e-4cc3-b019-fce87571908c"
      },
      "execution_count": 26,
      "outputs": [
        {
          "output_type": "execute_result",
          "data": {
            "text/plain": [
              "'e'"
            ],
            "application/vnd.google.colaboratory.intrinsic+json": {
              "type": "string"
            }
          },
          "metadata": {},
          "execution_count": 26
        }
      ]
    },
    {
      "cell_type": "code",
      "source": [
        "# [0:5] prints from the 0th to the (5 - 1) = 4th index position of the string.\n",
        "\n",
        "'Hello, world!'[0:5]"
      ],
      "metadata": {
        "colab": {
          "base_uri": "https://localhost:8080/",
          "height": 35
        },
        "id": "rNHvj6wWeNJI",
        "outputId": "6390e9d3-b489-467f-ce3c-7e09f95de8c1"
      },
      "execution_count": 24,
      "outputs": [
        {
          "output_type": "execute_result",
          "data": {
            "text/plain": [
              "'Hello'"
            ],
            "application/vnd.google.colaboratory.intrinsic+json": {
              "type": "string"
            }
          },
          "metadata": {},
          "execution_count": 24
        }
      ]
    },
    {
      "cell_type": "code",
      "source": [
        "# [:5] also prints from the 0th to the (5 - 1) = 4th index position of the string, no matter we have given the starting index postion or not.\n",
        "\n",
        "'Hello, world!'[:5]"
      ],
      "metadata": {
        "colab": {
          "base_uri": "https://localhost:8080/",
          "height": 35
        },
        "id": "-JVILNYkeUoa",
        "outputId": "025fdccc-ac42-469d-ac70-4cdc863317dc"
      },
      "execution_count": 23,
      "outputs": [
        {
          "output_type": "execute_result",
          "data": {
            "text/plain": [
              "'Hello'"
            ],
            "application/vnd.google.colaboratory.intrinsic+json": {
              "type": "string"
            }
          },
          "metadata": {},
          "execution_count": 23
        }
      ]
    },
    {
      "cell_type": "code",
      "source": [
        "# [3:] starts printing the string from the 3rd index position to the last index position.\n",
        "\n",
        "'Hello, world!'[3:]"
      ],
      "metadata": {
        "colab": {
          "base_uri": "https://localhost:8080/",
          "height": 35
        },
        "id": "9IO6lOmgeYEw",
        "outputId": "7e550ea5-e9b6-465b-a4b2-4e377ba2bd48"
      },
      "execution_count": 27,
      "outputs": [
        {
          "output_type": "execute_result",
          "data": {
            "text/plain": [
              "'lo, world!'"
            ],
            "application/vnd.google.colaboratory.intrinsic+json": {
              "type": "string"
            }
          },
          "metadata": {},
          "execution_count": 27
        }
      ]
    },
    {
      "cell_type": "markdown",
      "source": [
        "--------------------------------------------"
      ],
      "metadata": {
        "id": "E3MnR8sdL8dq"
      }
    },
    {
      "cell_type": "markdown",
      "source": [
        "##Q.7) What are the values of the following expressions ?\n",
        "```\n",
        "'Hello'.upper()\n",
        "'Hello'.upper().isupper()\n",
        "'Hello'.upper().lower()\n",
        "```\n"
      ],
      "metadata": {
        "id": "O2qmaWacL9qS"
      }
    },
    {
      "cell_type": "markdown",
      "source": [
        "###**Answer -**"
      ],
      "metadata": {
        "id": "xdgEYhcNkSgP"
      }
    },
    {
      "cell_type": "code",
      "source": [
        "# upper() converts the string into UPPER Case.\n",
        "\n",
        "'Hello'.upper()"
      ],
      "metadata": {
        "id": "Kq60me64MF3C",
        "colab": {
          "base_uri": "https://localhost:8080/",
          "height": 35
        },
        "outputId": "3d39487d-b68b-428a-a21a-555eff381cb1"
      },
      "execution_count": 28,
      "outputs": [
        {
          "output_type": "execute_result",
          "data": {
            "text/plain": [
              "'HELLO'"
            ],
            "application/vnd.google.colaboratory.intrinsic+json": {
              "type": "string"
            }
          },
          "metadata": {},
          "execution_count": 28
        }
      ]
    },
    {
      "cell_type": "code",
      "source": [
        "# .upper() is converting the string in upper case and then .isupper() is checking whether the string is in upper case or not, if it is... then returns as True.\n",
        "\n",
        "'Hello'.upper().isupper()"
      ],
      "metadata": {
        "colab": {
          "base_uri": "https://localhost:8080/"
        },
        "id": "e0ttM8E6heoE",
        "outputId": "ec6bdc00-f28d-47c3-b870-caa1eb9ffcf6"
      },
      "execution_count": 30,
      "outputs": [
        {
          "output_type": "execute_result",
          "data": {
            "text/plain": [
              "True"
            ]
          },
          "metadata": {},
          "execution_count": 30
        }
      ]
    },
    {
      "cell_type": "code",
      "source": [
        "# .upper() is converting the string in upper case and then .lower() is again converting the already converted upper case string into lower case.\n",
        "\n",
        "'Hello'.upper().lower()"
      ],
      "metadata": {
        "colab": {
          "base_uri": "https://localhost:8080/",
          "height": 35
        },
        "id": "7k0CNwjeh3Gc",
        "outputId": "93b43b39-c434-447c-8c2a-837c2020ecbd"
      },
      "execution_count": 33,
      "outputs": [
        {
          "output_type": "execute_result",
          "data": {
            "text/plain": [
              "'hello'"
            ],
            "application/vnd.google.colaboratory.intrinsic+json": {
              "type": "string"
            }
          },
          "metadata": {},
          "execution_count": 33
        }
      ]
    },
    {
      "cell_type": "markdown",
      "source": [
        "-----------------------------------------"
      ],
      "metadata": {
        "id": "pqB7xD5xMGKc"
      }
    },
    {
      "cell_type": "markdown",
      "source": [
        "##Q.8) What are the values of the following expressions ?\n",
        "```\n",
        "'Remember, remember, the fifth of July.'.split()\n",
        "'-'.join('There can only one.'.split())\n",
        "```\n"
      ],
      "metadata": {
        "id": "UVY_8gscMHMC"
      }
    },
    {
      "cell_type": "markdown",
      "source": [
        "###**Answer -**"
      ],
      "metadata": {
        "id": "GLa-nMqSkOFl"
      }
    },
    {
      "cell_type": "code",
      "source": [
        "# .split() is splitting or dividing the whole string into an ordered list of substrings.\n",
        "\n",
        "'Remember, remember, the fifth of July.'.split()"
      ],
      "metadata": {
        "id": "ecSOPsjaMQry",
        "colab": {
          "base_uri": "https://localhost:8080/"
        },
        "outputId": "12577b04-0740-4faa-acb4-abc7695eda16"
      },
      "execution_count": 35,
      "outputs": [
        {
          "output_type": "execute_result",
          "data": {
            "text/plain": [
              "['Remember,', 'remember,', 'the', 'fifth', 'of', 'July.']"
            ]
          },
          "metadata": {},
          "execution_count": 35
        }
      ]
    },
    {
      "cell_type": "code",
      "source": [
        "# 1st of all the .split() function divides the whole string into an ordered list.\n",
        "# and then the '-'.join() function is adding hyphen in between every word of the divided string.\n",
        "\n",
        "'-'.join('There can only one.'.split())"
      ],
      "metadata": {
        "colab": {
          "base_uri": "https://localhost:8080/",
          "height": 35
        },
        "id": "UXjUigVkjBA4",
        "outputId": "324d4c23-81a1-4e71-ec6a-ab5ca901fb9c"
      },
      "execution_count": 88,
      "outputs": [
        {
          "output_type": "execute_result",
          "data": {
            "text/plain": [
              "'There-can-only-one.'"
            ],
            "application/vnd.google.colaboratory.intrinsic+json": {
              "type": "string"
            }
          },
          "metadata": {},
          "execution_count": 88
        }
      ]
    },
    {
      "cell_type": "markdown",
      "source": [
        "-------------------------------------------------"
      ],
      "metadata": {
        "id": "I8uSe5f0MQ-h"
      }
    },
    {
      "cell_type": "markdown",
      "source": [
        "##Q.9) What are the methods for right-justifying, left-justifying, and centering a string ?"
      ],
      "metadata": {
        "id": "jHhOFYfkMSTC"
      }
    },
    {
      "cell_type": "markdown",
      "source": [
        "###**Answer -** The methods are...\n",
        "- For right-justifying, we use ```rjust()```.\n",
        "- For left-justifying, we use ```ljust()```.\n",
        "- For centering, we use ```center()```. "
      ],
      "metadata": {
        "id": "7SlRpY67kjc0"
      }
    },
    {
      "cell_type": "code",
      "source": [
        "# Example of right justifying...\n",
        "\n",
        "a = \"Cricket is my favourite sport.\"\n",
        "print(f\"Normal String is : {a}\")\n",
        "\n",
        "print(f\"String after Right justifying : {a.rjust(50, '-')}\")"
      ],
      "metadata": {
        "colab": {
          "base_uri": "https://localhost:8080/"
        },
        "id": "m060qOEVlLxf",
        "outputId": "a636ab3c-c038-44d8-9d09-2a2e89e5192f"
      },
      "execution_count": 55,
      "outputs": [
        {
          "output_type": "stream",
          "name": "stdout",
          "text": [
            "Normal String is : Cricket is my favourite sport.\n",
            "String after Right justifying : --------------------Cricket is my favourite sport.\n"
          ]
        }
      ]
    },
    {
      "cell_type": "code",
      "source": [
        "# Example of left justifying...\n",
        "\n",
        "a = \"Cricket is my favourite sport.\"\n",
        "print(f\"Normal String is : {a}\")\n",
        "\n",
        "print(f\"String after Left justifying : {a.ljust(50, '-')}\")"
      ],
      "metadata": {
        "colab": {
          "base_uri": "https://localhost:8080/"
        },
        "id": "dQVKsILQmLBr",
        "outputId": "6f724c66-99d7-475c-a5dc-62e0323ef94e"
      },
      "execution_count": 56,
      "outputs": [
        {
          "output_type": "stream",
          "name": "stdout",
          "text": [
            "Normal String is : Cricket is my favourite sport.\n",
            "String after Left justifying : Cricket is my favourite sport.--------------------\n"
          ]
        }
      ]
    },
    {
      "cell_type": "code",
      "source": [
        "# Example of centering...\n",
        "\n",
        "a = \"Cricket is my favourite sport.\"\n",
        "print(f\"Normal String is : {a}\")\n",
        "\n",
        "print(f\"String after Centering : {a.center(50, '-')}\")"
      ],
      "metadata": {
        "colab": {
          "base_uri": "https://localhost:8080/"
        },
        "id": "yGno2KmxmeFK",
        "outputId": "6d696e8b-6752-4efb-b7cc-c7e493d44739"
      },
      "execution_count": 57,
      "outputs": [
        {
          "output_type": "stream",
          "name": "stdout",
          "text": [
            "Normal String is : Cricket is my favourite sport.\n",
            "String after Centering : ----------Cricket is my favourite sport.----------\n"
          ]
        }
      ]
    },
    {
      "cell_type": "markdown",
      "source": [
        "-------------------------------------------------------------"
      ],
      "metadata": {
        "id": "Xf-AImsFMWzB"
      }
    },
    {
      "cell_type": "markdown",
      "source": [
        "##Q.10) What is the best way to remove whitespace characters from the start or end ?"
      ],
      "metadata": {
        "id": "4TwSBPczMYBo"
      }
    },
    {
      "cell_type": "markdown",
      "source": [
        "###**Answer -** \n",
        "- To **remove** whitespace characters **from starting and ending** of the string, we **use ```.strip()```** function in our string.\n",
        "- To **remove** whitespace characters only **from beginning** of the string, we **use ```.lstrip()```** function in our string.\n",
        "- To **remove** whitespace characters only **from ending** of the string, we **use ```.rstrip()```** function in our string.\n"
      ],
      "metadata": {
        "id": "0_W4GOBqnvU5"
      }
    },
    {
      "cell_type": "code",
      "source": [
        "# Example of removing whitespace characters from our string.\n",
        "\n",
        "s = \"     Hello World     \"\n",
        "\n",
        "print(f\"Normal String is: {s} Example\")\n",
        "\n",
        "print(f\"String after removing whitespace characters: {s.strip()} Example\")"
      ],
      "metadata": {
        "colab": {
          "base_uri": "https://localhost:8080/"
        },
        "id": "9CWb16YZpKDT",
        "outputId": "5a5802ca-408c-49e3-9a59-509d710a50a0"
      },
      "execution_count": 76,
      "outputs": [
        {
          "output_type": "stream",
          "name": "stdout",
          "text": [
            "Normal String is:      Hello World      Example\n",
            "String after removing whitespace characters: Hello World Example\n"
          ]
        }
      ]
    },
    {
      "cell_type": "code",
      "source": [
        "# Example of removing left whitespace characters from our string.\n",
        "\n",
        "s = \"     Hello World     \"\n",
        "\n",
        "print(f\"Normal String is: {s} Example.\")\n",
        "\n",
        "print(f\"String after removing whitespace characters from left:{s.lstrip()} Example.\")"
      ],
      "metadata": {
        "colab": {
          "base_uri": "https://localhost:8080/"
        },
        "id": "Cg3x-5GusUtv",
        "outputId": "44f1a614-023d-4c0a-ebf1-89e59a21945a"
      },
      "execution_count": 89,
      "outputs": [
        {
          "output_type": "stream",
          "name": "stdout",
          "text": [
            "Normal String is:      Hello World      Example.\n",
            "String after removing whitespace characters from left:Hello World      Example.\n"
          ]
        }
      ]
    },
    {
      "cell_type": "code",
      "source": [
        "# Example of removing right whitespace characters from our string.\n",
        "\n",
        "s = \"     Hello World     \"\n",
        "\n",
        "print(f\"Normal String is: {s} Example.\")\n",
        "\n",
        "print(f\"String after removing whitespace characters from right:{s.rstrip()} Example.\")"
      ],
      "metadata": {
        "colab": {
          "base_uri": "https://localhost:8080/"
        },
        "id": "Uz0MFwbasgO8",
        "outputId": "cdde1fb8-cd9e-4f4b-995b-22280904cc1d"
      },
      "execution_count": 83,
      "outputs": [
        {
          "output_type": "stream",
          "name": "stdout",
          "text": [
            "Normal String is:      Hello World      Example.\n",
            "String after removing whitespace characters from right:     Hello World Example.\n"
          ]
        }
      ]
    },
    {
      "cell_type": "markdown",
      "source": [
        "------------------------------------------------------------End------------------------------------------------------------"
      ],
      "metadata": {
        "id": "mk9mCr18LNyF"
      }
    }
  ]
}