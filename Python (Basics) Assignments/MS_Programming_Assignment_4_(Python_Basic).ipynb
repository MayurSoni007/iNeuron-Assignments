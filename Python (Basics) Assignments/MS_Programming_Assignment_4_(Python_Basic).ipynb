{
  "nbformat": 4,
  "nbformat_minor": 0,
  "metadata": {
    "colab": {
      "provenance": []
    },
    "kernelspec": {
      "name": "python3",
      "display_name": "Python 3"
    },
    "language_info": {
      "name": "python"
    }
  },
  "cells": [
    {
      "cell_type": "markdown",
      "source": [
        "#**iNeuron**\n",
        "## Programming Assignment - 4 (Python Basic)\n",
        "\n",
        "- Batch - Full Stack Data Science Bootcamp 2.0\n",
        "- Name - **Mayur Soni**\n",
        "- Email ID - **mayurssoni007@gmail.com**"
      ],
      "metadata": {
        "id": "Eik5qJwAwaon"
      }
    },
    {
      "cell_type": "markdown",
      "source": [
        "------------------------------------------------------------------------"
      ],
      "metadata": {
        "id": "BD3BcnVZwevg"
      }
    },
    {
      "cell_type": "markdown",
      "source": [
        "##Q.1) Write a Python Program to Find the Factorial of a Number ?"
      ],
      "metadata": {
        "id": "U56C_CDawu08"
      }
    },
    {
      "cell_type": "code",
      "execution_count": null,
      "metadata": {
        "id": "o4RHik9_wYpm",
        "colab": {
          "base_uri": "https://localhost:8080/"
        },
        "outputId": "4c8ec020-84a1-41e7-e70a-eacef6961c12"
      },
      "outputs": [
        {
          "output_type": "stream",
          "name": "stdout",
          "text": [
            "Enter number : 5\n",
            "Factorial is : 120\n"
          ]
        }
      ],
      "source": [
        "i = int(input(\"Enter number : \"))\n",
        "fact = 1\n",
        "while (i>0):\n",
        "  fact = fact*i\n",
        "  i = i-1\n",
        "print(f\"Factorial is : {fact}\")"
      ]
    },
    {
      "cell_type": "markdown",
      "source": [
        "---------------------------------------------------------"
      ],
      "metadata": {
        "id": "Skscnum0wyer"
      }
    },
    {
      "cell_type": "markdown",
      "source": [
        "##Q.2) Write a Python Program to Display the multiplication Table ?"
      ],
      "metadata": {
        "id": "6yuu7Jonw6Ar"
      }
    },
    {
      "cell_type": "code",
      "source": [
        "m = int(input(\"Enter the number you want the table of : \"))\n",
        "k = 1\n",
        "print(f\"Table of {m} is : \")\n",
        "while k<=10:\n",
        "  print(f\"{m} * {k} = {m*k}\")\n",
        "  k=k+1"
      ],
      "metadata": {
        "id": "TYi0DngOw5lz",
        "colab": {
          "base_uri": "https://localhost:8080/"
        },
        "outputId": "aac9bdb7-b0b8-416f-d203-7845c74cd8f5"
      },
      "execution_count": 45,
      "outputs": [
        {
          "output_type": "stream",
          "name": "stdout",
          "text": [
            "Enter the number you want the table of : 7\n",
            "Table of 7 is : \n",
            "7 * 1 = 7\n",
            "7 * 2 = 14\n",
            "7 * 3 = 21\n",
            "7 * 4 = 28\n",
            "7 * 5 = 35\n",
            "7 * 6 = 42\n",
            "7 * 7 = 49\n",
            "7 * 8 = 56\n",
            "7 * 9 = 63\n",
            "7 * 10 = 70\n"
          ]
        }
      ]
    },
    {
      "cell_type": "markdown",
      "source": [
        "----------------------------------------------"
      ],
      "metadata": {
        "id": "vxt6z8IIxoTC"
      }
    },
    {
      "cell_type": "markdown",
      "source": [
        "##Q.3) Write a Python Program to Print the Fibonacci sequence ?"
      ],
      "metadata": {
        "id": "jn3qUJ4vxvFx"
      }
    },
    {
      "cell_type": "code",
      "source": [
        "first = int(input(\"Enter how many terms you want : \"))\n",
        "f1 = 0\n",
        "f2 = 1\n",
        "fth = 0\n",
        "\n",
        "if first<=0:\n",
        "  print(\"Please Enter positive number!\")\n",
        "elif first==1:\n",
        "  print(f\"Fibonacci Series till {first} terms is : \")\n",
        "  print(f1)\n",
        "else:\n",
        "  print(\"Fibonacci Sequence is : \")\n",
        "  while fth < first:\n",
        "    print(f1, end = \" \")\n",
        "    total = f1 + f2\n",
        "    f1 = f2\n",
        "    f2 = total\n",
        "    fth += 1"
      ],
      "metadata": {
        "colab": {
          "base_uri": "https://localhost:8080/"
        },
        "id": "SxWpNYC7xpmx",
        "outputId": "d6691247-221b-4c77-fcc7-c5c82490afae"
      },
      "execution_count": 53,
      "outputs": [
        {
          "output_type": "stream",
          "name": "stdout",
          "text": [
            "Enter how many terms you want : 10\n",
            "Fibonacci Sequence is : \n",
            "0 1 1 2 3 5 8 13 21 34 "
          ]
        }
      ]
    },
    {
      "cell_type": "markdown",
      "source": [
        "---------------------------------------------------"
      ],
      "metadata": {
        "id": "rHqQRmjyxqGJ"
      }
    },
    {
      "cell_type": "markdown",
      "source": [
        "##Q.4) Write a Python Program to Check Armstrong Number ?"
      ],
      "metadata": {
        "id": "IyY5AZGvx27I"
      }
    },
    {
      "cell_type": "code",
      "source": [
        "arm = int(input(\"Enter your no. to check if it is Armstrong no. or not  : \"))\n",
        "sum = 0\n",
        "order = len(str(arm))\n",
        "copy_no = arm\n",
        "\n",
        "while (arm>0) :\n",
        "  digit = arm % 10\n",
        "  sum += digit ** order\n",
        "  arm = arm//10\n",
        "\n",
        "if sum == copy_no:\n",
        "  print(f\"{copy_no} is an Armstrong No.\")\n",
        "else:\n",
        "  print(f\"{copy_no} is Not an Armstrong No.\")"
      ],
      "metadata": {
        "id": "i3MZ6eUnxria",
        "colab": {
          "base_uri": "https://localhost:8080/"
        },
        "outputId": "8a30fcd0-38a2-4f25-bf15-e3af04e3b159"
      },
      "execution_count": 10,
      "outputs": [
        {
          "output_type": "stream",
          "name": "stdout",
          "text": [
            "Enter your no. to check if it is Armstrong no. or not  : 1634\n",
            "1634 is an Armstrong No.\n"
          ]
        }
      ]
    },
    {
      "cell_type": "markdown",
      "source": [
        "-------------------------------------------------------------"
      ],
      "metadata": {
        "id": "8gTCmSN_xr1I"
      }
    },
    {
      "cell_type": "markdown",
      "source": [
        "##Q.5) Write a Python Program to Find Armstrong Number in an Interval ?"
      ],
      "metadata": {
        "id": "KwxqGdd8x7_C"
      }
    },
    {
      "cell_type": "code",
      "source": [
        "lower = int(input(\"Enter lower limit of natural no. : \"))\n",
        "upper = int(input(\"Enter upper limit of natural no. : \"))\n",
        "\n",
        "for num in range(lower,upper+1):\n",
        "  order = len(str(num))\n",
        "  sum = 0\n",
        "  temp = num\n",
        "  while (temp>0) :\n",
        "    digit = temp % 10\n",
        "    sum += digit ** order\n",
        "    temp = temp//10\n",
        "  if num == sum:\n",
        "    print(num)"
      ],
      "metadata": {
        "id": "v_gueaTZxtGZ",
        "colab": {
          "base_uri": "https://localhost:8080/"
        },
        "outputId": "c72a0b75-b6db-4322-a902-3094d76fb95d"
      },
      "execution_count": 54,
      "outputs": [
        {
          "output_type": "stream",
          "name": "stdout",
          "text": [
            "Enter lower limit of natural no. : 100\n",
            "Enter upper limit of natural no. : 2000\n",
            "153\n",
            "370\n",
            "371\n",
            "407\n",
            "1634\n"
          ]
        }
      ]
    },
    {
      "cell_type": "markdown",
      "source": [
        "-------------------------------------"
      ],
      "metadata": {
        "id": "QRaruNjUyCCD"
      }
    },
    {
      "cell_type": "markdown",
      "source": [
        "##Q.6) Write a Python Program to Find the Sum of Natural Numbers ?"
      ],
      "metadata": {
        "id": "3enhLgPKyDZq"
      }
    },
    {
      "cell_type": "code",
      "source": [
        "low = int(input(\"Enter lower limit : \"))\n",
        "up = int(input(\"Enter upper limit : \"))\n",
        "\n",
        "temp = 0\n",
        "\n",
        "for i in range(low, up+1):\n",
        "  total = i + temp\n",
        "  temp = total\n",
        "\n",
        "print(f\"Sum of Natural Nos. from {low} to {up} is : {total}\")"
      ],
      "metadata": {
        "id": "9RTkjbOtyJYI",
        "colab": {
          "base_uri": "https://localhost:8080/"
        },
        "outputId": "09fc6034-702d-4a63-93c9-23b21e50ada8"
      },
      "execution_count": 50,
      "outputs": [
        {
          "output_type": "stream",
          "name": "stdout",
          "text": [
            "Enter lower limit : 1\n",
            "Enter upper limit : 100\n",
            "Sum of Natural Nos. from 1 to 100 is : 5050\n"
          ]
        }
      ]
    },
    {
      "cell_type": "markdown",
      "source": [
        "------------------------------------------------------------End------------------------------------------------------------"
      ],
      "metadata": {
        "id": "qK1ECETew0t7"
      }
    }
  ]
}
