{
  "nbformat": 4,
  "nbformat_minor": 0,
  "metadata": {
    "colab": {
      "provenance": []
    },
    "kernelspec": {
      "name": "python3",
      "display_name": "Python 3"
    },
    "language_info": {
      "name": "python"
    }
  },
  "cells": [
    {
      "cell_type": "markdown",
      "source": [
        "#**iNeuron**\n",
        "## Python (Basics) Assignment No. 14\n",
        "\n",
        "- Batch - Full Stack Data Science Bootcamp 2.0\n",
        "- Name - **Mayur Soni**\n",
        "- email id - **mayurssoni007@gmail.com**"
      ],
      "metadata": {
        "id": "a7Zo9K_hG2hd"
      }
    },
    {
      "cell_type": "markdown",
      "source": [
        "---------------------------------------------------------------------"
      ],
      "metadata": {
        "id": "PT4GWQriG5WC"
      }
    },
    {
      "cell_type": "markdown",
      "source": [
        "##Q.1) What does RGBA stand for ?"
      ],
      "metadata": {
        "id": "mnZOPPGuG8ej"
      }
    },
    {
      "cell_type": "markdown",
      "source": [
        "###**Answer -** **RGBA (Red-Green-Blue-Alpha)**\n",
        "###The RGB color model is extended in this specification to include **“alpha”** to allow specification of the opacity of a color."
      ],
      "metadata": {
        "id": "59pFcczxG8Z3"
      }
    },
    {
      "cell_type": "markdown",
      "source": [
        "----------------------------------------------------------------------------"
      ],
      "metadata": {
        "id": "c6XI0BmJG8WH"
      }
    },
    {
      "cell_type": "markdown",
      "source": [
        "##Q.2) From the Pillow module, how do you get the RGBA value of any images ?"
      ],
      "metadata": {
        "id": "Qf0F37frG8Sa"
      }
    },
    {
      "cell_type": "markdown",
      "source": [
        "###**Answer -** **```ImageColor.getcolor()```** gives RGBA value of any image"
      ],
      "metadata": {
        "id": "fKXEJyeyG8Or"
      }
    },
    {
      "cell_type": "markdown",
      "source": [
        "-------------------------------------------------------------------"
      ],
      "metadata": {
        "id": "R9nHzhsYG8LL"
      }
    },
    {
      "cell_type": "markdown",
      "source": [
        "##Q.3) What is a box tuple, and how does it work ?"
      ],
      "metadata": {
        "id": "G3qpD7rkG8HE"
      }
    },
    {
      "cell_type": "markdown",
      "source": [
        "###**Answer -**  A box tuple is a tuple value of four integers : \n",
        "- 1) the left-edge x-coordinate\n",
        "- 2) the top-edge y-coordinate\n",
        "- 3) the width \n",
        "- 4) the height."
      ],
      "metadata": {
        "id": "EoS2UWK1G8De"
      }
    },
    {
      "cell_type": "markdown",
      "source": [
        "------------------------------------------------------------------------------"
      ],
      "metadata": {
        "id": "eeh7_EK-G7_3"
      }
    },
    {
      "cell_type": "markdown",
      "source": [
        "##Q.4) Use your image and load in notebook then, How can you find out the width and height of an Image object ?"
      ],
      "metadata": {
        "id": "i1ahvsLFG78b"
      }
    },
    {
      "cell_type": "markdown",
      "source": [
        "###**Answer -**"
      ],
      "metadata": {
        "id": "SBk4Dv-_G76D"
      }
    },
    {
      "cell_type": "code",
      "source": [
        "#Example Program\n",
        "\n",
        "from PIL import Image\n",
        "pic = Image.open('K89E4N.jpg')\n",
        "print(f'Width, Height -> {pic.size}')                 # Approach 1\n",
        "print(f'Width, Height -> {pic.width},{pic.height}')   # Approach 2\n",
        "width,height = pic.size\n",
        "print(f'Width, Height -> {width},{height}')           # Approach 3"
      ],
      "metadata": {
        "colab": {
          "base_uri": "https://localhost:8080/"
        },
        "id": "t1MmP-g5JyCt",
        "outputId": "a4ccc40b-cc34-4cee-bc8b-7c06f4b5ecd9"
      },
      "execution_count": 5,
      "outputs": [
        {
          "output_type": "stream",
          "name": "stdout",
          "text": [
            "Width, Height -> (2560, 1700)\n",
            "Width, Height -> 2560,1700\n",
            "Width, Height -> 2560,1700\n"
          ]
        }
      ]
    },
    {
      "cell_type": "markdown",
      "source": [
        "-----------------------------------------------------------------"
      ],
      "metadata": {
        "id": "bNMkukVFG73g"
      }
    },
    {
      "cell_type": "markdown",
      "source": [
        "##Q.5) What method would you call to get Image object for a 100×100 image, excluding the lower-left quarter of it ?"
      ],
      "metadata": {
        "id": "vyDnVFghG70v"
      }
    },
    {
      "cell_type": "markdown",
      "source": [
        "###**Answer -**"
      ],
      "metadata": {
        "id": "Xoiw1RsaG7ts"
      }
    },
    {
      "cell_type": "code",
      "source": [
        "from PIL import Image\n",
        "img = Image.open('K89E4N.jpg')\n",
        "new_img = img.crop((0,50,50,50))"
      ],
      "metadata": {
        "id": "oHpIzenNLGSW"
      },
      "execution_count": 6,
      "outputs": []
    },
    {
      "cell_type": "markdown",
      "source": [
        "-------------------------------------------------------------------------"
      ],
      "metadata": {
        "id": "R5lSbA8jG7ps"
      }
    },
    {
      "cell_type": "markdown",
      "source": [
        "##Q.6) After making changes to an Image object, how could you save it as an image file ?"
      ],
      "metadata": {
        "id": "s960EChLG7ly"
      }
    },
    {
      "cell_type": "markdown",
      "source": [
        "###**Answer -** "
      ],
      "metadata": {
        "id": "ys9BHqLmG7h6"
      }
    },
    {
      "cell_type": "code",
      "source": [
        "#Example Program\n",
        "\n",
        "from PIL import Image\n",
        "pic = Image.open('K89E4N.jpg')\n",
        "pic.save('pic2.jpg')"
      ],
      "metadata": {
        "id": "xGYuC-poLRcp"
      },
      "execution_count": 7,
      "outputs": []
    },
    {
      "cell_type": "markdown",
      "source": [
        "----------------------------------------------------------------------------"
      ],
      "metadata": {
        "id": "ylWON_-cG7d-"
      }
    },
    {
      "cell_type": "markdown",
      "source": [
        "##Q.7) What module contains Pillow’s shape-drawing code ?"
      ],
      "metadata": {
        "id": "vypkEVmqG7aj"
      }
    },
    {
      "cell_type": "markdown",
      "source": [
        "###**Answer -**  Pillow's **```ImageDraw```** module contains Shape drawing methods. The **'ImageDraw'** module provides simple 2D graphics support for Image Object. Generally, we use this module to create new images, annotate or retouch existing images and to generate graphics on the fly for web use. The graphics commands support the drawing of shapes and annotation of text."
      ],
      "metadata": {
        "id": "ClpnIBn5G7XD"
      }
    },
    {
      "cell_type": "markdown",
      "source": [
        "----------------------------------------------------------------------"
      ],
      "metadata": {
        "id": "ykakxhSzG7Tq"
      }
    },
    {
      "cell_type": "markdown",
      "source": [
        "##Q.8) Image objects do not have drawing methods. What kind of object does? How do you get this kind of object ?"
      ],
      "metadata": {
        "id": "kT5Gt6o4G7Qr"
      }
    },
    {
      "cell_type": "markdown",
      "source": [
        "###**Answer -** ImageDraw objects have shape-drawing methods such as ```point(), line(), or rectangle().``` They are returned by passing the Image object to the **```ImageDraw.Draw()```** function."
      ],
      "metadata": {
        "id": "8tO2X1lWG7NT"
      }
    },
    {
      "cell_type": "markdown",
      "source": [
        "------------------------------------------------------------End------------------------------------------------------------"
      ],
      "metadata": {
        "id": "wxDTYptLG7Kg"
      }
    }
  ]
}